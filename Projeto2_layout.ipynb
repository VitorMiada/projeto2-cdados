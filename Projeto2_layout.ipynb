{
 "cells": [
  {
   "cell_type": "markdown",
   "metadata": {},
   "source": [
    "# Projeto 2 - Ciência dos Dados"
   ]
  },
  {
   "cell_type": "markdown",
   "metadata": {},
   "source": [
    "Nome: Pedro Henrique Menezes de Oliveira\n",
    "\n",
    "Nome: Vitor Kenzo Fujiwara Miada\n",
    "\n",
    "Nome:___\n",
    "\n"
   ]
  },
  {
   "cell_type": "markdown",
   "metadata": {},
   "source": [
    "Serão permitidos grupos de três pessoas, mas com uma rubrica mais exigente. Grupos deste tamanho precisarão fazer um questionário de avaliação de trabalho em equipe"
   ]
  },
  {
   "cell_type": "markdown",
   "metadata": {},
   "source": [
    "___\n",
    "# Classificador automático de sentimento\n"
   ]
  },
  {
   "cell_type": "markdown",
   "metadata": {},
   "source": [
    "## Preparando o ambiente no jupyter:"
   ]
  },
  {
   "cell_type": "code",
<<<<<<< HEAD
   "execution_count": 37,
=======
   "execution_count": 1,
>>>>>>> d2036bb286eac8339a544e4f10101545ccb2c112
   "metadata": {},
   "outputs": [],
   "source": [
    "%%capture\n",
    "\n",
    "#Instalando o tweepy\n",
    "!pip install tweepy"
   ]
  },
  {
   "cell_type": "code",
<<<<<<< HEAD
   "execution_count": 38,
=======
   "execution_count": 2,
>>>>>>> d2036bb286eac8339a544e4f10101545ccb2c112
   "metadata": {
    "jupyter": {
     "outputs_hidden": true
    }
   },
   "outputs": [],
   "source": [
    "import tweepy\n",
    "import math\n",
    "import os.path\n",
    "import pandas as pd\n",
    "import json\n",
    "from random import shuffle"
   ]
  },
  {
   "cell_type": "markdown",
   "metadata": {},
   "source": [
    "___\n",
    "## Autenticando no  Twitter\n",
    "\n",
    "* Conta: @pedrohmenezeso"
   ]
  },
  {
   "cell_type": "code",
<<<<<<< HEAD
   "execution_count": 39,
=======
   "execution_count": 3,
>>>>>>> d2036bb286eac8339a544e4f10101545ccb2c112
   "metadata": {
    "jupyter": {
     "outputs_hidden": true
    }
   },
   "outputs": [
    {
     "ename": "FileNotFoundError",
     "evalue": "[Errno 2] No such file or directory: 'auth.pass'",
     "output_type": "error",
     "traceback": [
      "\u001b[1;31m---------------------------------------------------------------------------\u001b[0m",
      "\u001b[1;31mFileNotFoundError\u001b[0m                         Traceback (most recent call last)",
      "\u001b[1;32m<ipython-input-3-4f10b0217a7f>\u001b[0m in \u001b[0;36m<module>\u001b[1;34m\u001b[0m\n\u001b[0;32m      4\u001b[0m \u001b[1;33m\u001b[0m\u001b[0m\n\u001b[0;32m      5\u001b[0m \u001b[1;31m#leitura do arquivo no formato JSON\u001b[0m\u001b[1;33m\u001b[0m\u001b[1;33m\u001b[0m\u001b[1;33m\u001b[0m\u001b[0m\n\u001b[1;32m----> 6\u001b[1;33m \u001b[1;32mwith\u001b[0m \u001b[0mopen\u001b[0m\u001b[1;33m(\u001b[0m\u001b[1;34m'auth.pass'\u001b[0m\u001b[1;33m)\u001b[0m \u001b[1;32mas\u001b[0m \u001b[0mfp\u001b[0m\u001b[1;33m:\u001b[0m\u001b[1;33m\u001b[0m\u001b[1;33m\u001b[0m\u001b[0m\n\u001b[0m\u001b[0;32m      7\u001b[0m     \u001b[0mdata\u001b[0m \u001b[1;33m=\u001b[0m \u001b[0mjson\u001b[0m\u001b[1;33m.\u001b[0m\u001b[0mload\u001b[0m\u001b[1;33m(\u001b[0m\u001b[0mfp\u001b[0m\u001b[1;33m)\u001b[0m\u001b[1;33m\u001b[0m\u001b[1;33m\u001b[0m\u001b[0m\n\u001b[0;32m      8\u001b[0m \u001b[1;33m\u001b[0m\u001b[0m\n",
      "\u001b[1;31mFileNotFoundError\u001b[0m: [Errno 2] No such file or directory: 'auth.pass'"
     ]
    }
   ],
   "source": [
    "#Dados de autenticação do twitter:\n",
    "\n",
    "#Coloque aqui o identificador da conta no twitter: @pedrohmenezeso\n",
    "\n",
    "#leitura do arquivo no formato JSON\n",
    "with open('auth.pass') as fp:    \n",
    "    data = json.load(fp)\n",
    "\n",
    "#Configurando a biblioteca. Não modificar\n",
    "auth = tweepy.OAuthHandler(data['consumer_key'], data['consumer_secret'])\n",
    "auth.set_access_token(data['access_token'], data['access_token_secret'])"
   ]
  },
  {
   "cell_type": "markdown",
   "metadata": {},
   "source": [
    "___\n",
    "## Etapas do projeto:"
   ]
  },
  {
   "cell_type": "markdown",
   "metadata": {},
   "source": [
    "### Escolha de um produto e coleta das mensagens\n"
   ]
  },
  {
   "cell_type": "code",
<<<<<<< HEAD
   "execution_count": null,
=======
<<<<<<< HEAD
   "execution_count": 40,
=======
   "execution_count": 4,
>>>>>>> d2036bb286eac8339a544e4f10101545ccb2c112
>>>>>>> a09d5634404389f2d051effbd43e30dd3ada3fd6
   "metadata": {
    "jupyter": {
     "outputs_hidden": true
    }
   },
   "outputs": [],
   "source": [
    "#Produto escolhido:\n",
    "produto = 'Netflix'\n",
    "\n",
    "#Quantidade mínima de mensagens capturadas:\n",
    "n = 1050\n",
    "#Quantidade mínima de mensagens para a base de treinamento:\n",
    "t = 800\n",
    "\n",
    "#Filtro de língua, escolha uma na tabela ISO 639-1.\n",
    "lang = 'pt'"
   ]
  },
  {
   "cell_type": "markdown",
   "metadata": {},
   "source": [
    "Capturando os dados do twitter:"
   ]
  },
  {
   "cell_type": "code",
<<<<<<< HEAD
   "execution_count": null,
=======
<<<<<<< HEAD
   "execution_count": 41,
=======
   "execution_count": 5,
>>>>>>> d2036bb286eac8339a544e4f10101545ccb2c112
>>>>>>> a09d5634404389f2d051effbd43e30dd3ada3fd6
   "metadata": {
    "jupyter": {
     "outputs_hidden": true
    }
   },
   "outputs": [
    {
     "ename": "TweepError",
     "evalue": "Twitter error response: status code = 429",
     "output_type": "error",
     "traceback": [
      "\u001b[1;31m---------------------------------------------------------------------------\u001b[0m",
      "\u001b[1;31mTweepError\u001b[0m                                Traceback (most recent call last)",
      "\u001b[1;32m<ipython-input-41-bc686ea7bd5d>\u001b[0m in \u001b[0;36m<module>\u001b[1;34m\u001b[0m\n\u001b[0;32m      6\u001b[0m \u001b[0mmsgs\u001b[0m \u001b[1;33m=\u001b[0m \u001b[1;33m[\u001b[0m\u001b[1;33m]\u001b[0m\u001b[1;33m\u001b[0m\u001b[1;33m\u001b[0m\u001b[0m\n\u001b[0;32m      7\u001b[0m \u001b[1;32mwhile\u001b[0m \u001b[0mlen\u001b[0m\u001b[1;33m(\u001b[0m\u001b[0mmsgs\u001b[0m\u001b[1;33m)\u001b[0m\u001b[1;33m<\u001b[0m\u001b[0mn\u001b[0m\u001b[1;33m:\u001b[0m\u001b[1;33m\u001b[0m\u001b[1;33m\u001b[0m\u001b[0m\n\u001b[1;32m----> 8\u001b[1;33m     \u001b[1;32mfor\u001b[0m \u001b[0mmsg\u001b[0m \u001b[1;32min\u001b[0m \u001b[0mtweepy\u001b[0m\u001b[1;33m.\u001b[0m\u001b[0mCursor\u001b[0m\u001b[1;33m(\u001b[0m\u001b[0mapi\u001b[0m\u001b[1;33m.\u001b[0m\u001b[0msearch\u001b[0m\u001b[1;33m,\u001b[0m \u001b[0mq\u001b[0m\u001b[1;33m=\u001b[0m\u001b[0mproduto\u001b[0m\u001b[1;33m,\u001b[0m \u001b[0mlang\u001b[0m\u001b[1;33m=\u001b[0m\u001b[0mlang\u001b[0m\u001b[1;33m,\u001b[0m \u001b[0mtweet_mode\u001b[0m\u001b[1;33m=\u001b[0m\u001b[1;34m\"extended\"\u001b[0m\u001b[1;33m)\u001b[0m\u001b[1;33m.\u001b[0m\u001b[0mitems\u001b[0m\u001b[1;33m(\u001b[0m\u001b[1;33m)\u001b[0m\u001b[1;33m:\u001b[0m\u001b[1;33m\u001b[0m\u001b[1;33m\u001b[0m\u001b[0m\n\u001b[0m\u001b[0;32m      9\u001b[0m         \u001b[0mmsgs\u001b[0m\u001b[1;33m.\u001b[0m\u001b[0mappend\u001b[0m\u001b[1;33m(\u001b[0m\u001b[0mmsg\u001b[0m\u001b[1;33m.\u001b[0m\u001b[0mfull_text\u001b[0m\u001b[1;33m.\u001b[0m\u001b[0mlower\u001b[0m\u001b[1;33m(\u001b[0m\u001b[1;33m)\u001b[0m\u001b[1;33m)\u001b[0m\u001b[1;33m\u001b[0m\u001b[1;33m\u001b[0m\u001b[0m\n\u001b[0;32m     10\u001b[0m         \u001b[0mi\u001b[0m \u001b[1;33m+=\u001b[0m \u001b[1;36m1\u001b[0m\u001b[1;33m\u001b[0m\u001b[1;33m\u001b[0m\u001b[0m\n",
      "\u001b[1;32m~\\Anaconda3\\lib\\site-packages\\tweepy\\cursor.py\u001b[0m in \u001b[0;36m__next__\u001b[1;34m(self)\u001b[0m\n\u001b[0;32m     45\u001b[0m \u001b[1;33m\u001b[0m\u001b[0m\n\u001b[0;32m     46\u001b[0m     \u001b[1;32mdef\u001b[0m \u001b[0m__next__\u001b[0m\u001b[1;33m(\u001b[0m\u001b[0mself\u001b[0m\u001b[1;33m)\u001b[0m\u001b[1;33m:\u001b[0m\u001b[1;33m\u001b[0m\u001b[1;33m\u001b[0m\u001b[0m\n\u001b[1;32m---> 47\u001b[1;33m         \u001b[1;32mreturn\u001b[0m \u001b[0mself\u001b[0m\u001b[1;33m.\u001b[0m\u001b[0mnext\u001b[0m\u001b[1;33m(\u001b[0m\u001b[1;33m)\u001b[0m\u001b[1;33m\u001b[0m\u001b[1;33m\u001b[0m\u001b[0m\n\u001b[0m\u001b[0;32m     48\u001b[0m \u001b[1;33m\u001b[0m\u001b[0m\n\u001b[0;32m     49\u001b[0m     \u001b[1;32mdef\u001b[0m \u001b[0mnext\u001b[0m\u001b[1;33m(\u001b[0m\u001b[0mself\u001b[0m\u001b[1;33m)\u001b[0m\u001b[1;33m:\u001b[0m\u001b[1;33m\u001b[0m\u001b[1;33m\u001b[0m\u001b[0m\n",
      "\u001b[1;32m~\\Anaconda3\\lib\\site-packages\\tweepy\\cursor.py\u001b[0m in \u001b[0;36mnext\u001b[1;34m(self)\u001b[0m\n\u001b[0;32m    193\u001b[0m         \u001b[1;32mif\u001b[0m \u001b[0mself\u001b[0m\u001b[1;33m.\u001b[0m\u001b[0mcurrent_page\u001b[0m \u001b[1;32mis\u001b[0m \u001b[1;32mNone\u001b[0m \u001b[1;32mor\u001b[0m \u001b[0mself\u001b[0m\u001b[1;33m.\u001b[0m\u001b[0mpage_index\u001b[0m \u001b[1;33m==\u001b[0m \u001b[0mlen\u001b[0m\u001b[1;33m(\u001b[0m\u001b[0mself\u001b[0m\u001b[1;33m.\u001b[0m\u001b[0mcurrent_page\u001b[0m\u001b[1;33m)\u001b[0m \u001b[1;33m-\u001b[0m \u001b[1;36m1\u001b[0m\u001b[1;33m:\u001b[0m\u001b[1;33m\u001b[0m\u001b[1;33m\u001b[0m\u001b[0m\n\u001b[0;32m    194\u001b[0m             \u001b[1;31m# Reached end of current page, get the next page...\u001b[0m\u001b[1;33m\u001b[0m\u001b[1;33m\u001b[0m\u001b[1;33m\u001b[0m\u001b[0m\n\u001b[1;32m--> 195\u001b[1;33m             \u001b[0mself\u001b[0m\u001b[1;33m.\u001b[0m\u001b[0mcurrent_page\u001b[0m \u001b[1;33m=\u001b[0m \u001b[0mself\u001b[0m\u001b[1;33m.\u001b[0m\u001b[0mpage_iterator\u001b[0m\u001b[1;33m.\u001b[0m\u001b[0mnext\u001b[0m\u001b[1;33m(\u001b[0m\u001b[1;33m)\u001b[0m\u001b[1;33m\u001b[0m\u001b[1;33m\u001b[0m\u001b[0m\n\u001b[0m\u001b[0;32m    196\u001b[0m             \u001b[0mself\u001b[0m\u001b[1;33m.\u001b[0m\u001b[0mpage_index\u001b[0m \u001b[1;33m=\u001b[0m \u001b[1;33m-\u001b[0m\u001b[1;36m1\u001b[0m\u001b[1;33m\u001b[0m\u001b[1;33m\u001b[0m\u001b[0m\n\u001b[0;32m    197\u001b[0m         \u001b[0mself\u001b[0m\u001b[1;33m.\u001b[0m\u001b[0mpage_index\u001b[0m \u001b[1;33m+=\u001b[0m \u001b[1;36m1\u001b[0m\u001b[1;33m\u001b[0m\u001b[1;33m\u001b[0m\u001b[0m\n",
      "\u001b[1;32m~\\Anaconda3\\lib\\site-packages\\tweepy\\cursor.py\u001b[0m in \u001b[0;36mnext\u001b[1;34m(self)\u001b[0m\n\u001b[0;32m    104\u001b[0m \u001b[1;33m\u001b[0m\u001b[0m\n\u001b[0;32m    105\u001b[0m         \u001b[1;32mif\u001b[0m \u001b[0mself\u001b[0m\u001b[1;33m.\u001b[0m\u001b[0mindex\u001b[0m \u001b[1;33m>=\u001b[0m \u001b[0mlen\u001b[0m\u001b[1;33m(\u001b[0m\u001b[0mself\u001b[0m\u001b[1;33m.\u001b[0m\u001b[0mresults\u001b[0m\u001b[1;33m)\u001b[0m \u001b[1;33m-\u001b[0m \u001b[1;36m1\u001b[0m\u001b[1;33m:\u001b[0m\u001b[1;33m\u001b[0m\u001b[1;33m\u001b[0m\u001b[0m\n\u001b[1;32m--> 106\u001b[1;33m             \u001b[0mdata\u001b[0m \u001b[1;33m=\u001b[0m \u001b[0mself\u001b[0m\u001b[1;33m.\u001b[0m\u001b[0mmethod\u001b[0m\u001b[1;33m(\u001b[0m\u001b[0mmax_id\u001b[0m\u001b[1;33m=\u001b[0m\u001b[0mself\u001b[0m\u001b[1;33m.\u001b[0m\u001b[0mmax_id\u001b[0m\u001b[1;33m,\u001b[0m \u001b[0mparser\u001b[0m\u001b[1;33m=\u001b[0m\u001b[0mRawParser\u001b[0m\u001b[1;33m(\u001b[0m\u001b[1;33m)\u001b[0m\u001b[1;33m,\u001b[0m \u001b[1;33m*\u001b[0m\u001b[0mself\u001b[0m\u001b[1;33m.\u001b[0m\u001b[0margs\u001b[0m\u001b[1;33m,\u001b[0m \u001b[1;33m**\u001b[0m\u001b[0mself\u001b[0m\u001b[1;33m.\u001b[0m\u001b[0mkargs\u001b[0m\u001b[1;33m)\u001b[0m\u001b[1;33m\u001b[0m\u001b[1;33m\u001b[0m\u001b[0m\n\u001b[0m\u001b[0;32m    107\u001b[0m \u001b[1;33m\u001b[0m\u001b[0m\n\u001b[0;32m    108\u001b[0m             \u001b[1;32mif\u001b[0m \u001b[0mhasattr\u001b[0m\u001b[1;33m(\u001b[0m\u001b[0mself\u001b[0m\u001b[1;33m.\u001b[0m\u001b[0mmethod\u001b[0m\u001b[1;33m,\u001b[0m \u001b[1;34m'__self__'\u001b[0m\u001b[1;33m)\u001b[0m\u001b[1;33m:\u001b[0m\u001b[1;33m\u001b[0m\u001b[1;33m\u001b[0m\u001b[0m\n",
      "\u001b[1;32m~\\Anaconda3\\lib\\site-packages\\tweepy\\binder.py\u001b[0m in \u001b[0;36m_call\u001b[1;34m(*args, **kwargs)\u001b[0m\n\u001b[0;32m    248\u001b[0m                 \u001b[1;32mreturn\u001b[0m \u001b[0mmethod\u001b[0m\u001b[1;33m\u001b[0m\u001b[1;33m\u001b[0m\u001b[0m\n\u001b[0;32m    249\u001b[0m             \u001b[1;32melse\u001b[0m\u001b[1;33m:\u001b[0m\u001b[1;33m\u001b[0m\u001b[1;33m\u001b[0m\u001b[0m\n\u001b[1;32m--> 250\u001b[1;33m                 \u001b[1;32mreturn\u001b[0m \u001b[0mmethod\u001b[0m\u001b[1;33m.\u001b[0m\u001b[0mexecute\u001b[0m\u001b[1;33m(\u001b[0m\u001b[1;33m)\u001b[0m\u001b[1;33m\u001b[0m\u001b[1;33m\u001b[0m\u001b[0m\n\u001b[0m\u001b[0;32m    251\u001b[0m         \u001b[1;32mfinally\u001b[0m\u001b[1;33m:\u001b[0m\u001b[1;33m\u001b[0m\u001b[1;33m\u001b[0m\u001b[0m\n\u001b[0;32m    252\u001b[0m             \u001b[0mmethod\u001b[0m\u001b[1;33m.\u001b[0m\u001b[0msession\u001b[0m\u001b[1;33m.\u001b[0m\u001b[0mclose\u001b[0m\u001b[1;33m(\u001b[0m\u001b[1;33m)\u001b[0m\u001b[1;33m\u001b[0m\u001b[1;33m\u001b[0m\u001b[0m\n",
      "\u001b[1;32m~\\Anaconda3\\lib\\site-packages\\tweepy\\binder.py\u001b[0m in \u001b[0;36mexecute\u001b[1;34m(self)\u001b[0m\n\u001b[0;32m    231\u001b[0m                     \u001b[1;32mraise\u001b[0m \u001b[0mRateLimitError\u001b[0m\u001b[1;33m(\u001b[0m\u001b[0merror_msg\u001b[0m\u001b[1;33m,\u001b[0m \u001b[0mresp\u001b[0m\u001b[1;33m)\u001b[0m\u001b[1;33m\u001b[0m\u001b[1;33m\u001b[0m\u001b[0m\n\u001b[0;32m    232\u001b[0m                 \u001b[1;32melse\u001b[0m\u001b[1;33m:\u001b[0m\u001b[1;33m\u001b[0m\u001b[1;33m\u001b[0m\u001b[0m\n\u001b[1;32m--> 233\u001b[1;33m                     \u001b[1;32mraise\u001b[0m \u001b[0mTweepError\u001b[0m\u001b[1;33m(\u001b[0m\u001b[0merror_msg\u001b[0m\u001b[1;33m,\u001b[0m \u001b[0mresp\u001b[0m\u001b[1;33m,\u001b[0m \u001b[0mapi_code\u001b[0m\u001b[1;33m=\u001b[0m\u001b[0mapi_error_code\u001b[0m\u001b[1;33m)\u001b[0m\u001b[1;33m\u001b[0m\u001b[1;33m\u001b[0m\u001b[0m\n\u001b[0m\u001b[0;32m    234\u001b[0m \u001b[1;33m\u001b[0m\u001b[0m\n\u001b[0;32m    235\u001b[0m             \u001b[1;31m# Parse the response payload\u001b[0m\u001b[1;33m\u001b[0m\u001b[1;33m\u001b[0m\u001b[1;33m\u001b[0m\u001b[0m\n",
      "\u001b[1;31mTweepError\u001b[0m: Twitter error response: status code = 429"
     ]
    }
   ],
   "source": [
    "#Cria um objeto para a captura\n",
    "api = tweepy.API(auth)\n",
    "\n",
    "#Inicia a captura, para mais detalhes: ver a documentação do tweepy\n",
    "i = 1\n",
    "msgs = []\n",
<<<<<<< HEAD
    "while len(msgs)<n:\n",
    "    for msg in tweepy.Cursor(api.search, q=produto, lang=lang, tweet_mode=\"extended\").items():    \n",
    "        msgs.append(msg.full_text.lower())\n",
    "        i += 1\n",
    "        if i > n:\n",
    "            break\n",
    "        #msgs=set(msgs)\n",
    "#msgs=set(msgs)\n",
=======
    "for msg in tweepy.Cursor(api.search, q=produto, lang=lang, tweet_mode='extended').items():  \n",
    "    if (not msg.retweeted) and ('RT' not in msg.full_text): \n",
    "        msgs.append(msg.full_text.lower())\n",
    "        i += 1\n",
    "    if i > n:\n",
    "        break\n",
    "\n",
    "\n",
    "\n",
>>>>>>> d2036bb286eac8339a544e4f10101545ccb2c112
    "#Embaralhando as mensagens para reduzir um possível viés\n",
    "shuffle(msgs)"
   ]
  },
  {
   "cell_type": "markdown",
   "metadata": {},
   "source": [
    "Salvando os dados em uma planilha Excel:"
   ]
  },
  {
   "cell_type": "code",
<<<<<<< HEAD
   "execution_count": null,
=======
<<<<<<< HEAD
   "execution_count": null,
=======
   "execution_count": 6,
>>>>>>> d2036bb286eac8339a544e4f10101545ccb2c112
>>>>>>> a09d5634404389f2d051effbd43e30dd3ada3fd6
   "metadata": {
    "jupyter": {
     "outputs_hidden": true
    }
   },
   "outputs": [],
   "source": [
    "#Verifica se o arquivo não existe para não substituir um conjunto pronto\n",
    "if not os.path.isfile('./{0}Nrt.xlsx'.format(produto)):\n",
    "    \n",
    "    #Abre o arquivo para escrita\n",
    "    writer = pd.ExcelWriter('{0}Nrt.xlsx'.format(produto))\n",
    "\n",
    "    #divide o conjunto de mensagens em duas planilhas\n",
    "    dft = pd.DataFrame({'Treinamento' : pd.Series(msgs[:t])})\n",
    "    dft.to_excel(excel_writer = writer, sheet_name = 'Treinamento', index = False)\n",
    "\n",
    "    dfc = pd.DataFrame({'Teste' : pd.Series(msgs[t:])})\n",
    "    dfc.to_excel(excel_writer = writer, sheet_name = 'Teste', index = False)\n",
    "\n",
    "    #fecha o arquivo\n",
    "    writer.save()"
   ]
  },
  {
   "cell_type": "markdown",
   "metadata": {},
   "source": [
    "___\n",
    "### Classificando as mensagens na coragem\n",
    "\n",
    "Esta etapa é manual. Faça a mesma pelo Excel."
   ]
  },
  {
   "cell_type": "code",
<<<<<<< HEAD
   "execution_count": null,
   "metadata": {},
   "outputs": [],
=======
<<<<<<< HEAD
   "execution_count": null,
   "metadata": {},
   "outputs": [],
=======
   "execution_count": 13,
   "metadata": {},
   "outputs": [
    {
     "data": {
      "text/html": [
       "<div>\n",
       "<style scoped>\n",
       "    .dataframe tbody tr th:only-of-type {\n",
       "        vertical-align: middle;\n",
       "    }\n",
       "\n",
       "    .dataframe tbody tr th {\n",
       "        vertical-align: top;\n",
       "    }\n",
       "\n",
       "    .dataframe thead th {\n",
       "        text-align: right;\n",
       "    }\n",
       "</style>\n",
       "<table border=\"1\" class=\"dataframe\">\n",
       "  <thead>\n",
       "    <tr style=\"text-align: right;\">\n",
       "      <th></th>\n",
       "    </tr>\n",
       "    <tr>\n",
       "      <th>Treinamento</th>\n",
       "    </tr>\n",
       "  </thead>\n",
       "  <tbody>\n",
       "    <tr>\n",
       "      <th>milhões de séries disponíveis na netflix,mas minha preferência é sempre #glee!!!</th>\n",
       "    </tr>\n",
       "    <tr>\n",
       "      <th>@buriedslive vai se fuder e me empresta sua netflix</th>\n",
       "    </tr>\n",
       "    <tr>\n",
       "      <th>eu assisti 5 episódios de uma série na netflix e percebi que tava no 4g vsf</th>\n",
       "    </tr>\n",
       "    <tr>\n",
       "      <th>estou assistindo as telefonistas, stranger things e how to get away with murder, além de ter vis a vis no backlog. daí vem a netflix e me lança nova temporada de elite! não to preparada!</th>\n",
       "    </tr>\n",
       "    <tr>\n",
       "      <th>50 tons mais escuros vai ta na netflix nen adoro😅</th>\n",
       "    </tr>\n",
       "    <tr>\n",
       "      <th>to tão por fora de tudo que eu vi hoje que saiu greys na netflix</th>\n",
       "    </tr>\n",
       "    <tr>\n",
       "      <th>malta digam ai séries para ver na netflix</th>\n",
       "    </tr>\n",
       "    <tr>\n",
       "      <th>@jcarloscr todas as séries originais amazon que eu assisti tinham uma qualidade superior na parte técnica. e gosto bastante dos roteiros mais diferenciados. é bem menos óbvio que a netflix</th>\n",
       "    </tr>\n",
       "    <tr>\n",
       "      <th>e minha netflix q aparece que lancou a 15 temporada de greys e a 2 de elite e nada delas la</th>\n",
       "    </tr>\n",
       "    <tr>\n",
       "      <th>@felipeneto @vislompo @thiagopinheiro2 @cardoso @abbondanzaisa @cristiano_m_g @youpix a tv a cabo está sobrevivendo com ajuda de aparelhos. já tem operadora fazendo parceria com a netflix, pra que sua assinatura seja descontada na fatura e você acesse a netflix a partir dos equipamentos dela. como eu disse, sobrevivendo com ajuda de aparelhos.</th>\n",
       "    </tr>\n",
       "    <tr>\n",
       "      <th>sonhei que tinha saído o filme que a demi vai participar na netflix</th>\n",
       "    </tr>\n",
       "    <tr>\n",
       "      <th>2 vzs foram assisitindo finding dory (que chegou na netflix) e 1 ouvindo orange juice 🤧🤧🤧</th>\n",
       "    </tr>\n",
       "    <tr>\n",
       "      <th>fui mostrar pros meus pais o show do @whindersson na netflix\\n\\nmano começou a cantar \"pega, pega, pega, pega no meu pau\" eu me rachando de rir por dentro, mas mantendo a pose, até pq meus pais são pastores kkkkkkkkkkkjj</th>\n",
       "    </tr>\n",
       "    <tr>\n",
       "      <th>colocaram meu filme fav na netflix aaaaaaa é hoje que eu vou assistir o mesmo filme 2763 vezes</th>\n",
       "    </tr>\n",
       "    <tr>\n",
       "      <th>minha mãe começou a ver uma série coreana na netflix\\nmeu pai ficou zuando mas foi assistir junto\\nela dormiu\\nele assistiu 8 episódios enquanto ela dormia e começou a segunda temporada sem ela\\nkkkkkjjjjj ela n tá menos q mto puta nao</th>\n",
       "    </tr>\n",
       "    <tr>\n",
       "      <th>tive que assinar a telecine só pra assistir amélie poulain pq a netflix simplesmente tirou essa obra de arte do catálogo 😩 https://t.co/c3ouyeffbl</th>\n",
       "    </tr>\n",
       "    <tr>\n",
       "      <th>@devanil me empresta uma conta na netflix, devanil. nunca te pedi nada.</th>\n",
       "    </tr>\n",
       "    <tr>\n",
       "      <th>alguém indica algo p assistir na netflix</th>\n",
       "    </tr>\n",
       "    <tr>\n",
       "      <th>esse mês saí a quinta temporada de b99 e a última de arthdral chronicles amém netflix</th>\n",
       "    </tr>\n",
       "    <tr>\n",
       "      <th>assisti rápido demais elite 2, quero a terceira temp pra ontem netflix</th>\n",
       "    </tr>\n",
       "    <tr>\n",
       "      <th>gente!\\nacho que tô apaixonado mesmo!\\n\\nvcs acreditam que tive um pesadelo hoje onde a netflix tinha lançado a 2° temporada de sintonia e tinha trocado o ator do mc doni, daí eu tava triste chorando?¿\\n\\nkkkkkkkkkkkkkkkkkkk</th>\n",
       "    </tr>\n",
       "    <tr>\n",
       "      <th>que filme lindo, parabéns @bethanyhamilton pela força de vontade e batalha pela vida, és uma vencedora! assista na netflix!🙏🏽🌊🦈🏄🏼‍♀️⛰☀️ #coragemdeviver em sup surf conserto https://t.co/87xubzhcpu</th>\n",
       "    </tr>\n",
       "    <tr>\n",
       "      <th>com mean girls no catálogo da netflix eu agora vou ficar sem costume mesmo aaaaaa</th>\n",
       "    </tr>\n",
       "    <tr>\n",
       "      <th>@haddad_fernando bom dia brimo,  a coisa é mais em baixo. tem um documentário no netflix chamado the family a democracia ameaçada, sobre os pentecostais e a política americana.\\nali você vai entender do que se trata essa foto.</th>\n",
       "    </tr>\n",
       "    <tr>\n",
       "      <th>ai velho só queria ver meu rin okumura de volta mas a netflix tirou blue exorcist do catálogo e eu sou a pessoa mais triste do mundo, vou ter que ver algum site pra assistir online https://t.co/v4a5mdsqvz</th>\n",
       "    </tr>\n",
       "    <tr>\n",
       "      <th>@chbljh lindo belíssimo cheiroso gostoso exuberante pizza pornhub netflix</th>\n",
       "    </tr>\n",
       "    <tr>\n",
       "      <th>acho que vou assinar a amazon prime.. tô sem netflix (tem a do meu irmão, caso eu queira muito). sinto que vi quase todo o catálogo bom de lá.</th>\n",
       "    </tr>\n",
       "    <tr>\n",
       "      <th>peço perdão por sempre surtar com a netflix por não ter liberado nada da terceira temporada de atypical i'm such a clown</th>\n",
       "    </tr>\n",
       "    <tr>\n",
       "      <th>a tarde vai ter que ser de netflix e pipoquinha, a noite é cana, gela e corote!</th>\n",
       "    </tr>\n",
       "    <tr>\n",
       "      <th>achei q the crown nao ia passar dessa s3 nao do jeito q a netflix ta sendo e ela sendonuma das series mais caras da história</th>\n",
       "    </tr>\n",
       "    <tr>\n",
       "      <th>...</th>\n",
       "    </tr>\n",
       "    <tr>\n",
       "      <th>chegou diário de uma paixão na netflix, esse momento é todinho meeeuuu</th>\n",
       "    </tr>\n",
       "    <tr>\n",
       "      <th>a @netflix relançou a terceira parte de la casa de papel com o @neymarjr  só para mostrar como a participação dele foi inútil para o andamento da série :v foi apenas para aparecer mesmo, pois a narrativa não muda em nada com ou sem ele.</th>\n",
       "    </tr>\n",
       "    <tr>\n",
       "      <th>@fabiorbto vamos assistir um netflix?</th>\n",
       "    </tr>\n",
       "    <tr>\n",
       "      <th>nao aguento mais a netflix tirando as coisas boas do catálogo</th>\n",
       "    </tr>\n",
       "    <tr>\n",
       "      <th>a lu e o valerio são irmãos e se pegam (????????) sério isso netflix</th>\n",
       "    </tr>\n",
       "    <tr>\n",
       "      <th>passar o dia vendo netflix nesse friozin e pensando nele kk melhor forma🤯</th>\n",
       "    </tr>\n",
       "    <tr>\n",
       "      <th>assisto netflix quase nunca, mas quando vou assistir já tem atualizar o pagamento 🤬</th>\n",
       "    </tr>\n",
       "    <tr>\n",
       "      <th>@etfumante melhor série atual da netflix</th>\n",
       "    </tr>\n",
       "    <tr>\n",
       "      <th>vou fazer meus 300 exercicios que eu tenho pq mais tarde so quero netflix e nada mais</th>\n",
       "    </tr>\n",
       "    <tr>\n",
       "      <th>@maricampos73 obrigado pra vc também bom feriado, vou passar o meu feriado em casa com minha esposa assistindo a série vis a vis da netflix</th>\n",
       "    </tr>\n",
       "    <tr>\n",
       "      <th>queria ver elite mas a minha netflix acabou e nem sabia</th>\n",
       "    </tr>\n",
       "    <tr>\n",
       "      <th>eu só queria que ainda tivesse o meu filme na netflix</th>\n",
       "    </tr>\n",
       "    <tr>\n",
       "      <th>só queria a 2 temp de titãs na netflix</th>\n",
       "    </tr>\n",
       "    <tr>\n",
       "      <th>até o @globoplay tem harry potter e a netflix não https://t.co/tsbwsujatc</th>\n",
       "    </tr>\n",
       "    <tr>\n",
       "      <th>feriadou e o papai ficou tanto me apressando pela minha parte da fatura do cartão pra ele deixar pra pagar só segunda e eu ficar sem netflix tnc meu patrão</th>\n",
       "    </tr>\n",
       "    <tr>\n",
       "      <th>injusto a netflix lançar temporadas novas das minhas séries favoritas e eu ter trabalho pra fazer</th>\n",
       "    </tr>\n",
       "    <tr>\n",
       "      <th>quem nunca assistiu 👇🏻\\nhttps://t.co/zpybx5qfl3</th>\n",
       "    </tr>\n",
       "    <tr>\n",
       "      <th>eu procurando algo novo p ver na netflix \\nmean girls: a\\neu: bom eh isto</th>\n",
       "    </tr>\n",
       "    <tr>\n",
       "      <th>@martinslucas027 caça aos gângster ... na netflix msm fml</th>\n",
       "    </tr>\n",
       "    <tr>\n",
       "      <th>@thaynvictoria6 assisti a voz do silêncio na netflix, uma animação que oh um soco na cara</th>\n",
       "    </tr>\n",
       "    <tr>\n",
       "      <th>@casperdiogo da outra vez demorou pra ir pra netflix?</th>\n",
       "    </tr>\n",
       "    <tr>\n",
       "      <th>netflix ja pode colocar a terceira temp de elite já mo</th>\n",
       "    </tr>\n",
       "    <tr>\n",
       "      <th>só qria passar a tarde deitadinha com ele vendo netflix</th>\n",
       "    </tr>\n",
       "    <tr>\n",
       "      <th>passar o dia todo vendo netflix</th>\n",
       "    </tr>\n",
       "    <tr>\n",
       "      <th>hoje eu só queria um programinha de casal, netflix e uns dengo 😔</th>\n",
       "    </tr>\n",
       "    <tr>\n",
       "      <th>perdi minha conta no netflix logo quando to querendo ver um filme</th>\n",
       "    </tr>\n",
       "    <tr>\n",
       "      <th>netflix espero q essas season atypical seja perfeita, nn aceito menos</th>\n",
       "    </tr>\n",
       "    <tr>\n",
       "      <th>todas as séries podiam ser igual vis a vis na netflix, temporada nova saindo rapidinho</th>\n",
       "    </tr>\n",
       "    <tr>\n",
       "      <th>o governo liberal que vocês disseram aí kkk https://t.co/gq7xajdpug</th>\n",
       "    </tr>\n",
       "    <tr>\n",
       "      <th>quase me convidei pra ir assistir netflix com ela, eu só não fiz isso pq eu vou sair hj namoral</th>\n",
       "    </tr>\n",
       "  </tbody>\n",
       "</table>\n",
       "<p>500 rows × 0 columns</p>\n",
       "</div>"
      ],
      "text/plain": [
       "Empty DataFrame\n",
       "Columns: []\n",
       "Index: [milhões de séries disponíveis na netflix,mas minha preferência é sempre #glee!!!, @buriedslive vai se fuder e me empresta sua netflix, eu assisti 5 episódios de uma série na netflix e percebi que tava no 4g vsf, estou assistindo as telefonistas, stranger things e how to get away with murder, além de ter vis a vis no backlog. daí vem a netflix e me lança nova temporada de elite! não to preparada!, 50 tons mais escuros vai ta na netflix nen adoro😅, to tão por fora de tudo que eu vi hoje que saiu greys na netflix, malta digam ai séries para ver na netflix, @jcarloscr todas as séries originais amazon que eu assisti tinham uma qualidade superior na parte técnica. e gosto bastante dos roteiros mais diferenciados. é bem menos óbvio que a netflix, e minha netflix q aparece que lancou a 15 temporada de greys e a 2 de elite e nada delas la, @felipeneto @vislompo @thiagopinheiro2 @cardoso @abbondanzaisa @cristiano_m_g @youpix a tv a cabo está sobrevivendo com ajuda de aparelhos. já tem operadora fazendo parceria com a netflix, pra que sua assinatura seja descontada na fatura e você acesse a netflix a partir dos equipamentos dela. como eu disse, sobrevivendo com ajuda de aparelhos., sonhei que tinha saído o filme que a demi vai participar na netflix, 2 vzs foram assisitindo finding dory (que chegou na netflix) e 1 ouvindo orange juice 🤧🤧🤧, fui mostrar pros meus pais o show do @whindersson na netflix\n",
       "\n",
       "mano começou a cantar \"pega, pega, pega, pega no meu pau\" eu me rachando de rir por dentro, mas mantendo a pose, até pq meus pais são pastores kkkkkkkkkkkjj, colocaram meu filme fav na netflix aaaaaaa é hoje que eu vou assistir o mesmo filme 2763 vezes, minha mãe começou a ver uma série coreana na netflix\n",
       "meu pai ficou zuando mas foi assistir junto\n",
       "ela dormiu\n",
       "ele assistiu 8 episódios enquanto ela dormia e começou a segunda temporada sem ela\n",
       "kkkkkjjjjj ela n tá menos q mto puta nao, tive que assinar a telecine só pra assistir amélie poulain pq a netflix simplesmente tirou essa obra de arte do catálogo 😩 https://t.co/c3ouyeffbl, @devanil me empresta uma conta na netflix, devanil. nunca te pedi nada., alguém indica algo p assistir na netflix, esse mês saí a quinta temporada de b99 e a última de arthdral chronicles amém netflix, assisti rápido demais elite 2, quero a terceira temp pra ontem netflix, gente!\n",
       "acho que tô apaixonado mesmo!\n",
       "\n",
       "vcs acreditam que tive um pesadelo hoje onde a netflix tinha lançado a 2° temporada de sintonia e tinha trocado o ator do mc doni, daí eu tava triste chorando?¿\n",
       "\n",
       "kkkkkkkkkkkkkkkkkkk, que filme lindo, parabéns @bethanyhamilton pela força de vontade e batalha pela vida, és uma vencedora! assista na netflix!🙏🏽🌊🦈🏄🏼‍♀️⛰☀️ #coragemdeviver em sup surf conserto https://t.co/87xubzhcpu, com mean girls no catálogo da netflix eu agora vou ficar sem costume mesmo aaaaaa, @haddad_fernando bom dia brimo,  a coisa é mais em baixo. tem um documentário no netflix chamado the family a democracia ameaçada, sobre os pentecostais e a política americana.\n",
       "ali você vai entender do que se trata essa foto., ai velho só queria ver meu rin okumura de volta mas a netflix tirou blue exorcist do catálogo e eu sou a pessoa mais triste do mundo, vou ter que ver algum site pra assistir online https://t.co/v4a5mdsqvz, @chbljh lindo belíssimo cheiroso gostoso exuberante pizza pornhub netflix, acho que vou assinar a amazon prime.. tô sem netflix (tem a do meu irmão, caso eu queira muito). sinto que vi quase todo o catálogo bom de lá., peço perdão por sempre surtar com a netflix por não ter liberado nada da terceira temporada de atypical i'm such a clown, a tarde vai ter que ser de netflix e pipoquinha, a noite é cana, gela e corote!, achei q the crown nao ia passar dessa s3 nao do jeito q a netflix ta sendo e ela sendonuma das series mais caras da história, so to bem deitada com o babe a ver netflix com esse tempo d merda, @handsomevill nem precisa anunciar.. netflix capitalista renova tudo até 13rw para mais uma temporada, @barbarakq tem sim. é original netflix inclusive, bom dia galera 🌞\n",
       "\n",
       "me indiquem uma série boa?\n",
       "\n",
       "#netflix #sabadou #pipoca #tv, @netflix_adicted ya já soube, @maripoppins_ @maahbrunetto eita não sei dizer, eu baixei ele e tenho na minha coleção de filmes guardado. mas da uma pesquisada na netflix e no now., so queria alguma coisinha legal pra ver na netflix, @sphywk tem no gshow eu acho as temporadas, na netflix só tem na us :(, alguém poderia por obséquio me dar a senha da netflix? :(, juro que por mim eu só pediria uma pizza, passaria o feriado assistindo netflix e me embriagando em casa, mas sla o jeito que a paula não aguenta ficar em casa é diferente, eu só queria minha netflix de volta pra assistir a t2 de elite, @giyuurs eu to assistindo black butler e devil man na netflix, n sei se vou terminar devil man todo ne mas...\n",
       "\n",
       "vou te passar uns filmes de anime bom q tem la pra tu ver la no zap, é sensacional quando a gente no tempo livre troca assistir netflix pra ler um livro, só eu tenho problemas com a netflix?\n",
       "\n",
       "nunca sei se quero terminar as séries pendentes ou se começo novas. é um ciclo sem fim., o que dizer dessa geração netflix? só baixaria., só queria ter uma netflix pra poder olhar  minhas séries, essa série é tão boa... certeza que a netflix vai cancelar 😭, eu acho que se algum dia tirarem itazura na kiss da netflix eu morro desidratada de tanto chorar, minha assinatura no netflix termina daqui uns dias. e agr ela resolve atualizar as minhas séries. mais direta que isso,impossível, nada de role hj, só spotify, netflix e youtube deitadin no barraco suave, irei assistir esse filme todos os dias até sair da netflix https://t.co/bsobu1nvji, @laubaylao nunca ouvi falar, tem na netflix?, sábado chuvoso com netflix ❤️, melhor filme ou série/desenho q vc assistiu na netflix ? — difícil,já assisti tanta coisa boa https://t.co/raxjqrpfqq, alguém que me empreste netflix para ver a nova temporada de elite por favor🙏🙏, aumentou essa porra de netflix dnv pqp, @netatende será que nunca vai chegar uma fatura com valor certo? dessa vez estão cobrando uma assinatura da @netflixbrasil que não fiz com vcs. meu pagamento da netflix é direto no cartão de crédito há anos. favor corrigir., bom dia pra quem descobriu que tem o show do kygo na netflix, eu preciso de uma conta na netflix pra poder assistir elite 😭, tive um sonho muito loco irmão vou até escrever um roteiro é mandar pra netflix., nunca vou superar que the vampire diaries saiu do netflix, 29 graus hj só se for no sofá com o combo netflix+edredom, enquanto uns estao preocupados com a temporada de elite eu estou com a s5 de htgawm que acabou de chegar na netflix obrigada senhor eu sei que tu me sondas, bem vou mas é cancelar a netflix para ver se me começo a concentrar na escola, @talifnn uma série maravilhosa da netflix, apenas veja, @marvelnotices o prêmio tem q ser a conta na netflix rs, @hihearteu não tem no netflix 😔, mas conheço uns sites e apps que tem se quiser..., @jeffersonapg olá! por gentileza, entre em contato com a nossa central de atendimento através do número 0800 892 5063 ou através desse link: https://t.co/wupdwe0ldq para verificarmos isto, ok?  *mp, música e coral? já adorei #sabadodetremurasdv\n",
       "\n",
       "já assistiu a \"a escolha perfeita\" na netflix?\n",
       "\n",
       "https://t.co/ntcoy4fezd, acho q hoje vai ser eu, pote de sorvete e netflix, netflix fechou contrato com andrucha waddington, da conspiração filmes, para o cineasta coordenar a segunda temporada da série vai anitta, em torno de @anitta. uma equipe de mais de cinquenta pessoas está envolvida na produção, a ser exibida pela plataforma em 190 países. https://t.co/od47vaycbd, e a netflix não faz nada https://t.co/cirgjwcgmj, @camilaserratr brigada, amiga... netflix me sugeriu e não quis procurar no google pra não ler demais :), @amandarch aí, vamos marcar um role de fondue vinha e netflix por favor, fui abençoada com esse feriado no sábado, não precisei ir pro curso é esse tempinho chuvosa só resta uma coisa: ficar deitada na minha cama e assistir uma netflix, bom dia, eu dormi ontem só tentando escolher filme na netflix, recomendo., bazem netflix e vejam a ressaca 1 e a ressaca 2 melhores filmes do mundo, deem uma sacada em telefonistas (las chicas del cable) na netflix, @luizzasouto quem fala o netflix??, atenção\n",
       "meninas malvadas voltou para netflix\n",
       "repito\n",
       "meninas malvadas voltou para netflix, sad or happy i don't even know🤷‍♀️vou mas é ver netflix aí nem me lembro onde estou, enquanto eu tiver internet.\n",
       "netflix.\n",
       "amazon.\n",
       "tv do jeff.\n",
       "vcs não me verão socializando...\n",
       "😅 https://t.co/voyjl0se7n, 2 temp de the end of the f***ing world chegando e netflix fazendo nada além que sua obrigação pois estou esperando sedenta há mt tempo, só por assistir um xis e comer uma netflix, pqp a netflix tirou orgulho e preconceito do catálogo oq vou fazer da minha vida agr, e a netflix e umas cerva?, elite só é a melhor série da netflix pq tem um mishlawi gay, @bogusgabriel @claudetema1 @cruzeiro feriado está tudo fechado.\n",
       "o jeito é assistir filmes no netflix., depois desse desfile todo cagado só por assistir uma netflix com a @, mas só falta a @, saiu a poha da tp nova lá e eu aqui com minha netflix bugado....ai ódio, só acho que a netflix deveria acelerar as produções de séries já confirmadas., netflix fechou contrato com andrucha waddington, da conspiração filmes, para o cineasta coodenar a segunda temporada documentário vai anitta,  está envolvida na produção uma equipe de mais de 50 pessoas, para ser exibida pela plataforma em 190 países. https://t.co/v1ziivtq7p, era só the vampire diaries voltando pra netflix hein, porra netflix para de atualizar as séries que eu gosto bem na minha época de provas, assim n da, eu coloquei elite para ver né 2 temporada e voltou pra primeira kkkkkkkkk to lá no 2 ep sem perceber que é a primeira kkkkkk por isso a netflix não pode demorar muito pra lançar @netflixbrasil  pfvvvv, elite melhor serie latina da netflix pq choras la casa de papel, quando a s5 de b99 entrar na netflix vou ser obrigada a assistir dnv pq amo demais, @this_mendes @sonypicturesbr agora assisti, jovem mestre, graças à netflix. realmente sensacional!, procurando dory entrou na netflix e eu sou a criança mais feliz nesse momento, uma parte dos meus amgs vão fzr alguma coisa q eu n fui chamada e a outra parte vai no saara, o jeito é ficar em casa vendo netflix, ...]\n",
       "\n",
       "[500 rows x 0 columns]"
      ]
     },
     "execution_count": 13,
     "metadata": {},
     "output_type": "execute_result"
    }
   ],
>>>>>>> d2036bb286eac8339a544e4f10101545ccb2c112
>>>>>>> a09d5634404389f2d051effbd43e30dd3ada3fd6
   "source": [
    "data = pd.read_excel('NetflixNrt.xlsx')\n",
    "data_indexado=data.set_index('Treinamento')\n",
    "data_indexado"
   ]
  },
  {
   "cell_type": "code",
<<<<<<< HEAD
   "execution_count": null,
   "metadata": {},
   "outputs": [],
=======
<<<<<<< HEAD
   "execution_count": null,
   "metadata": {},
   "outputs": [],
=======
   "execution_count": 8,
   "metadata": {},
   "outputs": [
    {
     "data": {
      "text/plain": [
       "Index(['sorry pra quem prefere os outros, mas o guzman é o mais gato dessa série sim, e um dos atores mais bonitos da netflix https://t.co/gepjmvtkcw',\n",
       "       '@tozierberkman e a netflix não faz nada !',\n",
       "       'rt @craiskc: mo galera ai pela timeline falando de como começaram a namorar \\n\\ndepois de um vakuo\\nou depois de ter ido parar no hospital\\ndep…',\n",
       "       '@sadiewolfhar assiste po, melhor coisa que tem na netflix',\n",
       "       'sintonia, da netflix, é boa?',\n",
       "       '@sarahreisx assiste o documentário dele na netflix que tu vai se pilhar pro show kkkkk',\n",
       "       '@bruxacomunista @pappifigliollo certeza é distúrbio. tem um filme muito bom na netflix, chamado toc toc que mostra um encontro de pessoas assim num consultório psiquiátrico. hilário e educativo. vale muito a pena assistir.',\n",
       "       'o mundo era um lugar melhor quando tinha how i met your mother na netflix...',\n",
       "       'rt @popzonebr: sedenta! netflix postou em seu instagram esta imagem pra nos avisar que está trabalhando em novas temporadas de sex educatio…',\n",
       "       'netflix não tem mais nada legal da até vontade de cancelar',\n",
       "       ...\n",
       "       'netflix colocou de novo diário de uma paixão, vou ter que chorar hj',\n",
       "       'ah não como que vai pro estágio c esse tempinho a cara do netflix o dia todo',\n",
       "       'rt @craiskc: mo galera ai pela timeline falando de como começaram a namorar \\n\\ndepois de um vakuo\\nou depois de ter ido parar no hospital\\ndep…',\n",
       "       'rt @craiskc: mo galera ai pela timeline falando de como começaram a namorar \\n\\ndepois de um vakuo\\nou depois de ter ido parar no hospital\\ndep…',\n",
       "       'essas série nova da netflix que ensina as crianças fala gíria pra caralho coitada das professora kkkkkkkkk',\n",
       "       'friozinho desse acho que nao vou na aula não, vou ficar em casa vendo netflix kk',\n",
       "       'indiquem sugestões de #séries, pode ser dentro ou fora da #netflix!\\n\\n@netflixbrasil',\n",
       "       'rt @srluan02: falta 01 dia para a segunda temporada de elite na netflix.\\n\\n#netflix \\n#elitenetflix https://t.co/8mefr4uaia',\n",
       "       'esse tempinho tá bom p ficar deitado com morena vendo netflix...',\n",
       "       'deitadin, vou chamar na netflix agr'],\n",
       "      dtype='object', name='Treinamento', length=500)"
      ]
     },
     "execution_count": 8,
     "metadata": {},
     "output_type": "execute_result"
    }
   ],
>>>>>>> d2036bb286eac8339a544e4f10101545ccb2c112
>>>>>>> a09d5634404389f2d051effbd43e30dd3ada3fd6
   "source": [
    "data_indexado.index"
   ]
  },
  {
   "cell_type": "code",
   "execution_count": null,
   "metadata": {},
   "outputs": [],
   "source": []
  },
  {
   "cell_type": "markdown",
   "metadata": {},
   "source": [
    "___\n",
    "### Montando o Classificador Naive-Bayes\n",
    "\n",
    "Considerando apenas as mensagens da planilha Treinamento, ensine  seu classificador."
   ]
  },
  {
   "cell_type": "code",
<<<<<<< HEAD
   "execution_count": null,
=======
<<<<<<< HEAD
   "execution_count": null,
=======
   "execution_count": 9,
>>>>>>> d2036bb286eac8339a544e4f10101545ccb2c112
>>>>>>> a09d5634404389f2d051effbd43e30dd3ada3fd6
   "metadata": {},
   "outputs": [],
   "source": [
    "import re \n",
    "\n",
    "def cleanup(text):\n",
    "    \"\"\"\n",
    "        Função de limpeza muito simples que troca alguns sinais básicos por espaços\n",
    "    \"\"\"\n",
    "    punctuation = '[!\\-.:?;\\n]' # Note que os sinais [] são delimitadores de um conjunto.\n",
    "    pattern = re.compile(punctuation)\n",
    "    text_subbed = re.sub(pattern, ' ', text)\n",
    "    return text_subbed    "
   ]
  },
  {
   "cell_type": "code",
<<<<<<< HEAD
   "execution_count": null,
=======
<<<<<<< HEAD
   "execution_count": null,
=======
   "execution_count": 10,
>>>>>>> d2036bb286eac8339a544e4f10101545ccb2c112
>>>>>>> a09d5634404389f2d051effbd43e30dd3ada3fd6
   "metadata": {},
   "outputs": [],
   "source": [
    "data_clean=[]\n",
    "for i in data_indexado.index:\n",
    "    c= cleanup(i.lower())\n",
    "    data_clean.append(c)\n",
    "print(data_clean)\n"
   ]
  },
  {
   "cell_type": "code",
<<<<<<< HEAD
   "execution_count": null,
=======
<<<<<<< HEAD
   "execution_count": null,
=======
   "execution_count": 11,
>>>>>>> d2036bb286eac8339a544e4f10101545ccb2c112
>>>>>>> a09d5634404389f2d051effbd43e30dd3ada3fd6
   "metadata": {},
   "outputs": [],
   "source": [
    "df_wie={'Frases':data_clean,\n",
    "        'Relevância':data_indexado['Relevância']\n",
    "       }\n"
   ]
  },
  {
   "cell_type": "code",
<<<<<<< HEAD
   "execution_count": null,
   "metadata": {},
   "outputs": [],
=======
<<<<<<< HEAD
   "execution_count": null,
   "metadata": {},
   "outputs": [],
=======
   "execution_count": 12,
   "metadata": {},
   "outputs": [
    {
     "data": {
      "text/html": [
       "<div>\n",
       "<style scoped>\n",
       "    .dataframe tbody tr th:only-of-type {\n",
       "        vertical-align: middle;\n",
       "    }\n",
       "\n",
       "    .dataframe tbody tr th {\n",
       "        vertical-align: top;\n",
       "    }\n",
       "\n",
       "    .dataframe thead th {\n",
       "        text-align: right;\n",
       "    }\n",
       "</style>\n",
       "<table border=\"1\" class=\"dataframe\">\n",
       "  <thead>\n",
       "    <tr style=\"text-align: right;\">\n",
       "      <th></th>\n",
       "      <th>Frases</th>\n",
       "      <th>Relevância</th>\n",
       "    </tr>\n",
       "    <tr>\n",
       "      <th>Treinamento</th>\n",
       "      <th></th>\n",
       "      <th></th>\n",
       "    </tr>\n",
       "  </thead>\n",
       "  <tbody>\n",
       "    <tr>\n",
       "      <th>sorry pra quem prefere os outros, mas o guzman é o mais gato dessa série sim, e um dos atores mais bonitos da netflix https://t.co/gepjmvtkcw</th>\n",
       "      <td>sorry pra quem prefere os outros, mas o guzman...</td>\n",
       "      <td>2</td>\n",
       "    </tr>\n",
       "    <tr>\n",
       "      <th>@tozierberkman e a netflix não faz nada !</th>\n",
       "      <td>@tozierberkman e a netflix não faz nada</td>\n",
       "      <td>0</td>\n",
       "    </tr>\n",
       "    <tr>\n",
       "      <th>rt @craiskc: mo galera ai pela timeline falando de como começaram a namorar \\n\\ndepois de um vakuo\\nou depois de ter ido parar no hospital\\ndep…</th>\n",
       "      <td>rt @craiskc  mo galera ai pela timeline faland...</td>\n",
       "      <td>0</td>\n",
       "    </tr>\n",
       "    <tr>\n",
       "      <th>@sadiewolfhar assiste po, melhor coisa que tem na netflix</th>\n",
       "      <td>@sadiewolfhar assiste po, melhor coisa que tem...</td>\n",
       "      <td>2</td>\n",
       "    </tr>\n",
       "    <tr>\n",
       "      <th>sintonia, da netflix, é boa?</th>\n",
       "      <td>sintonia, da netflix, é boa</td>\n",
       "      <td>2</td>\n",
       "    </tr>\n",
       "    <tr>\n",
       "      <th>@sarahreisx assiste o documentário dele na netflix que tu vai se pilhar pro show kkkkk</th>\n",
       "      <td>@sarahreisx assiste o documentário dele na net...</td>\n",
       "      <td>0</td>\n",
       "    </tr>\n",
       "    <tr>\n",
       "      <th>@bruxacomunista @pappifigliollo certeza é distúrbio. tem um filme muito bom na netflix, chamado toc toc que mostra um encontro de pessoas assim num consultório psiquiátrico. hilário e educativo. vale muito a pena assistir.</th>\n",
       "      <td>@bruxacomunista @pappifigliollo certeza é dist...</td>\n",
       "      <td>1</td>\n",
       "    </tr>\n",
       "    <tr>\n",
       "      <th>o mundo era um lugar melhor quando tinha how i met your mother na netflix...</th>\n",
       "      <td>o mundo era um lugar melhor quando tinha how i...</td>\n",
       "      <td>1</td>\n",
       "    </tr>\n",
       "    <tr>\n",
       "      <th>rt @popzonebr: sedenta! netflix postou em seu instagram esta imagem pra nos avisar que está trabalhando em novas temporadas de sex educatio…</th>\n",
       "      <td>rt @popzonebr  sedenta  netflix postou em seu ...</td>\n",
       "      <td>0</td>\n",
       "    </tr>\n",
       "    <tr>\n",
       "      <th>netflix não tem mais nada legal da até vontade de cancelar</th>\n",
       "      <td>netflix não tem mais nada legal da até vontade...</td>\n",
       "      <td>2</td>\n",
       "    </tr>\n",
       "    <tr>\n",
       "      <th>saiu quatro vidas de um cachorro na netflix e eu sou a pessoa mais feliz do mundo por isso</th>\n",
       "      <td>saiu quatro vidas de um cachorro na netflix e ...</td>\n",
       "      <td>1</td>\n",
       "    </tr>\n",
       "    <tr>\n",
       "      <th>rt @ju_omb: nesse tempinho era só o gato,uma pipoquinha e netflix</th>\n",
       "      <td>rt @ju_omb  nesse tempinho era só o gato,uma p...</td>\n",
       "      <td>1</td>\n",
       "    </tr>\n",
       "    <tr>\n",
       "      <th>rt @craiskc: mo galera ai pela timeline falando de como começaram a namorar \\n\\ndepois de um vakuo\\nou depois de ter ido parar no hospital\\ndep…</th>\n",
       "      <td>rt @craiskc  mo galera ai pela timeline faland...</td>\n",
       "      <td>0</td>\n",
       "    </tr>\n",
       "    <tr>\n",
       "      <th>rt @crlhstrange: @netflixbrasil pessoas que estão lendo os comentários, assistam anne with an e, é uma série linda que trata sobre amizade,…</th>\n",
       "      <td>rt @crlhstrange  @netflixbrasil pessoas que es...</td>\n",
       "      <td>0</td>\n",
       "    </tr>\n",
       "    <tr>\n",
       "      <th>netflix eu só sei te amar! https://t.co/7fo7sygsbm</th>\n",
       "      <td>netflix eu só sei te amar  https //t co/7fo7sy...</td>\n",
       "      <td>1</td>\n",
       "    </tr>\n",
       "    <tr>\n",
       "      <th>rt @alexmonteiro93: ‘grace and frankie’ é renovada para 7ª e última temporada com recorde da netflix\\n\\ntrama foi a série original do streami…</th>\n",
       "      <td>rt @alexmonteiro93  ‘grace and frankie’ é reno...</td>\n",
       "      <td>0</td>\n",
       "    </tr>\n",
       "    <tr>\n",
       "      <th>rt @craiskc: mo galera ai pela timeline falando de como começaram a namorar \\n\\ndepois de um vakuo\\nou depois de ter ido parar no hospital\\ndep…</th>\n",
       "      <td>rt @craiskc  mo galera ai pela timeline faland...</td>\n",
       "      <td>0</td>\n",
       "    </tr>\n",
       "    <tr>\n",
       "      <th>hackearam a conta do meu netflix, cambada de filho da puta</th>\n",
       "      <td>hackearam a conta do meu netflix, cambada de f...</td>\n",
       "      <td>0</td>\n",
       "    </tr>\n",
       "    <tr>\n",
       "      <th>@adobehitlerr @hipsometria @tiaho9 @mjnezns @floratuitando @meio_veela e no caso de netflix, prime e hbo (e qd tiver hulu vou assinar tb):\\n\\nimagina uma videolocadora q empresta os filmes, sem cobrar nada, só a tx de entrega do motoboy. ia ser mais caro q a mensalidade da netflix.\\n\\nmas ainda assim, tem uma cacetaralhada de filme q baixo por torrent.</th>\n",
       "      <td>@adobehitlerr @hipsometria @tiaho9 @mjnezns @f...</td>\n",
       "      <td>0</td>\n",
       "    </tr>\n",
       "    <tr>\n",
       "      <th>netflix tá de volta graças a deus kkkkkk</th>\n",
       "      <td>netflix tá de volta graças a deus kkkkkk</td>\n",
       "      <td>1</td>\n",
       "    </tr>\n",
       "    <tr>\n",
       "      <th>chuva não para, é eu tô como vendo netflix e da melhor forma com mozão 👩‍❤️‍💋‍👨💘</th>\n",
       "      <td>chuva não para, é eu tô como vendo netflix e d...</td>\n",
       "      <td>1</td>\n",
       "    </tr>\n",
       "    <tr>\n",
       "      <th>rt @portalrapmais: travis scott colocou filha stormi como produtora executiva de seu documentário na netflix - https://t.co/52sz1coxwx http…</th>\n",
       "      <td>rt @portalrapmais  travis scott colocou filha ...</td>\n",
       "      <td>0</td>\n",
       "    </tr>\n",
       "    <tr>\n",
       "      <th>rt @eu_carol23: hoje o tempo tá pedindo netflix, pipoca e coca</th>\n",
       "      <td>rt @eu_carol23  hoje o tempo tá pedindo netfli...</td>\n",
       "      <td>1</td>\n",
       "    </tr>\n",
       "    <tr>\n",
       "      <th>não estou conseguindo nem carregar o netflix, q odio dessa internet!</th>\n",
       "      <td>não estou conseguindo nem carregar o netflix, ...</td>\n",
       "      <td>1</td>\n",
       "    </tr>\n",
       "    <tr>\n",
       "      <th>rt @elnacionalweb: #enentretenimiento kevin james protagonizará serie de comedia para netflix https://t.co/mtu8dondtx https://t.co/gmcgubib…</th>\n",
       "      <td>rt @elnacionalweb  #enentretenimiento kevin ja...</td>\n",
       "      <td>0</td>\n",
       "    </tr>\n",
       "    <tr>\n",
       "      <th>rt @eu_carol23: hoje o tempo tá pedindo netflix, pipoca e coca</th>\n",
       "      <td>rt @eu_carol23  hoje o tempo tá pedindo netfli...</td>\n",
       "      <td>1</td>\n",
       "    </tr>\n",
       "    <tr>\n",
       "      <th>rt @craiskc: mo galera ai pela timeline falando de como começaram a namorar \\n\\ndepois de um vakuo\\nou depois de ter ido parar no hospital\\ndep…</th>\n",
       "      <td>rt @craiskc  mo galera ai pela timeline faland...</td>\n",
       "      <td>0</td>\n",
       "    </tr>\n",
       "    <tr>\n",
       "      <th>tempinho bom pra ficar agarradinho assistindo netflix 💏🥰🤭</th>\n",
       "      <td>tempinho bom pra ficar agarradinho assistindo ...</td>\n",
       "      <td>1</td>\n",
       "    </tr>\n",
       "    <tr>\n",
       "      <th>a netflix nunca solta nova temporada de nada, mas quando solta uma solta todassss!! inferno</th>\n",
       "      <td>a netflix nunca solta nova temporada de nada, ...</td>\n",
       "      <td>1</td>\n",
       "    </tr>\n",
       "    <tr>\n",
       "      <th>rt @michaeicrf: minha fama no trabalho é dividido entre muito fofo ou muito viado. minha chefe juntou o setor todo e começou a contar como…</th>\n",
       "      <td>rt @michaeicrf  minha fama no trabalho é divid...</td>\n",
       "      <td>0</td>\n",
       "    </tr>\n",
       "    <tr>\n",
       "      <th>...</th>\n",
       "      <td>...</td>\n",
       "      <td>...</td>\n",
       "    </tr>\n",
       "    <tr>\n",
       "      <th>graças a deus a netflix vai colocar episódio novo de the ranch</th>\n",
       "      <td>graças a deus a netflix vai colocar episódio n...</td>\n",
       "      <td>0</td>\n",
       "    </tr>\n",
       "    <tr>\n",
       "      <th>sozinha em casa, de baixo da coberta assistindo netflix e me entupindo de doces. tudo que eu queria! minha tpm estava chorando por isso kkkkkkk</th>\n",
       "      <td>sozinha em casa, de baixo da coberta assistind...</td>\n",
       "      <td>1</td>\n",
       "    </tr>\n",
       "    <tr>\n",
       "      <th>rt @craiskc: mo galera ai pela timeline falando de como começaram a namorar \\n\\ndepois de um vakuo\\nou depois de ter ido parar no hospital\\ndep…</th>\n",
       "      <td>rt @craiskc  mo galera ai pela timeline faland...</td>\n",
       "      <td>0</td>\n",
       "    </tr>\n",
       "    <tr>\n",
       "      <th>rt @craiskc: mo galera ai pela timeline falando de como começaram a namorar \\n\\ndepois de um vakuo\\nou depois de ter ido parar no hospital\\ndep…</th>\n",
       "      <td>rt @craiskc  mo galera ai pela timeline faland...</td>\n",
       "      <td>0</td>\n",
       "    </tr>\n",
       "    <tr>\n",
       "      <th>rt @craiskc: mo galera ai pela timeline falando de como começaram a namorar \\n\\ndepois de um vakuo\\nou depois de ter ido parar no hospital\\ndep…</th>\n",
       "      <td>rt @craiskc  mo galera ai pela timeline faland...</td>\n",
       "      <td>0</td>\n",
       "    </tr>\n",
       "    <tr>\n",
       "      <th>a mais nova série nacional da @netflixbrasil ganha data de lançamento. irmandade estreia dia 25 de outrobro na plataforma https://t.co/etkaezeslw https://t.co/34ldgnqih8</th>\n",
       "      <td>a mais nova série nacional da @netflixbrasil g...</td>\n",
       "      <td>0</td>\n",
       "    </tr>\n",
       "    <tr>\n",
       "      <th>quando tentaram assinar a netflix e passar 800 reais no meu cartão kkkkkkkkkkkk https://t.co/gtrldlyncl</th>\n",
       "      <td>quando tentaram assinar a netflix e passar 800...</td>\n",
       "      <td>0</td>\n",
       "    </tr>\n",
       "    <tr>\n",
       "      <th>tem dirty dancing na netflix agora caralho meu deus</th>\n",
       "      <td>tem dirty dancing na netflix agora caralho meu...</td>\n",
       "      <td>1</td>\n",
       "    </tr>\n",
       "    <tr>\n",
       "      <th>pipoca netflix e tudo mais</th>\n",
       "      <td>pipoca netflix e tudo mais</td>\n",
       "      <td>1</td>\n",
       "    </tr>\n",
       "    <tr>\n",
       "      <th>rt @craiskc: mo galera ai pela timeline falando de como começaram a namorar \\n\\ndepois de um vakuo\\nou depois de ter ido parar no hospital\\ndep…</th>\n",
       "      <td>rt @craiskc  mo galera ai pela timeline faland...</td>\n",
       "      <td>0</td>\n",
       "    </tr>\n",
       "    <tr>\n",
       "      <th>@artcabewo me dá uma conta da netflix pra tu ver se eu não assisto</th>\n",
       "      <td>@artcabewo me dá uma conta da netflix pra tu v...</td>\n",
       "      <td>1</td>\n",
       "    </tr>\n",
       "    <tr>\n",
       "      <th>rt @aldeia_noticias: netflix teve pico de audiência e rpc queda brusca durante a transmissão de athletico x grêmio, diz datafolha</th>\n",
       "      <td>rt @aldeia_noticias  netflix teve pico de audi...</td>\n",
       "      <td>0</td>\n",
       "    </tr>\n",
       "    <tr>\n",
       "      <th>@claraportto ou então netflix e delivery! rs</th>\n",
       "      <td>@claraportto ou então netflix e delivery  rs</td>\n",
       "      <td>0</td>\n",
       "    </tr>\n",
       "    <tr>\n",
       "      <th>rt @shifterpt: pesquisar na web, fazer stories ou ver séries no netflix são actividades prejudiciais ao meio ambiente. mas há formas de red…</th>\n",
       "      <td>rt @shifterpt  pesquisar na web, fazer stories...</td>\n",
       "      <td>0</td>\n",
       "    </tr>\n",
       "    <tr>\n",
       "      <th>@netflixbrasil e sabrina em netflix?</th>\n",
       "      <td>@netflixbrasil e sabrina em netflix</td>\n",
       "      <td>0</td>\n",
       "    </tr>\n",
       "    <tr>\n",
       "      <th>netflix do ces tb tá parada?</th>\n",
       "      <td>netflix do ces tb tá parada</td>\n",
       "      <td>0</td>\n",
       "    </tr>\n",
       "    <tr>\n",
       "      <th>amanhã tem #elite2 e eu estou sem netflix, tem como ficar mais triste que isso?</th>\n",
       "      <td>amanhã tem #elite2 e eu estou sem netflix, tem...</td>\n",
       "      <td>1</td>\n",
       "    </tr>\n",
       "    <tr>\n",
       "      <th>@srdvei quando terminar a série assiste oprah apresenta olhos que condenam tá no netflix a entrevista com os atores e com eles</th>\n",
       "      <td>@srdvei quando terminar a série assiste oprah ...</td>\n",
       "      <td>0</td>\n",
       "    </tr>\n",
       "    <tr>\n",
       "      <th>alguem indica um filme bom q tenha na netflix</th>\n",
       "      <td>alguem indica um filme bom q tenha na netflix</td>\n",
       "      <td>0</td>\n",
       "    </tr>\n",
       "    <tr>\n",
       "      <th>rt @craiskc: mo galera ai pela timeline falando de como começaram a namorar \\n\\ndepois de um vakuo\\nou depois de ter ido parar no hospital\\ndep…</th>\n",
       "      <td>rt @craiskc  mo galera ai pela timeline faland...</td>\n",
       "      <td>0</td>\n",
       "    </tr>\n",
       "    <tr>\n",
       "      <th>netflix colocou de novo diário de uma paixão, vou ter que chorar hj</th>\n",
       "      <td>netflix colocou de novo diário de uma paixão, ...</td>\n",
       "      <td>1</td>\n",
       "    </tr>\n",
       "    <tr>\n",
       "      <th>ah não como que vai pro estágio c esse tempinho a cara do netflix o dia todo</th>\n",
       "      <td>ah não como que vai pro estágio c esse tempinh...</td>\n",
       "      <td>1</td>\n",
       "    </tr>\n",
       "    <tr>\n",
       "      <th>rt @craiskc: mo galera ai pela timeline falando de como começaram a namorar \\n\\ndepois de um vakuo\\nou depois de ter ido parar no hospital\\ndep…</th>\n",
       "      <td>rt @craiskc  mo galera ai pela timeline faland...</td>\n",
       "      <td>0</td>\n",
       "    </tr>\n",
       "    <tr>\n",
       "      <th>rt @craiskc: mo galera ai pela timeline falando de como começaram a namorar \\n\\ndepois de um vakuo\\nou depois de ter ido parar no hospital\\ndep…</th>\n",
       "      <td>rt @craiskc  mo galera ai pela timeline faland...</td>\n",
       "      <td>0</td>\n",
       "    </tr>\n",
       "    <tr>\n",
       "      <th>essas série nova da netflix que ensina as crianças fala gíria pra caralho coitada das professora kkkkkkkkk</th>\n",
       "      <td>essas série nova da netflix que ensina as cria...</td>\n",
       "      <td>0</td>\n",
       "    </tr>\n",
       "    <tr>\n",
       "      <th>friozinho desse acho que nao vou na aula não, vou ficar em casa vendo netflix kk</th>\n",
       "      <td>friozinho desse acho que nao vou na aula não, ...</td>\n",
       "      <td>1</td>\n",
       "    </tr>\n",
       "    <tr>\n",
       "      <th>indiquem sugestões de #séries, pode ser dentro ou fora da #netflix!\\n\\n@netflixbrasil</th>\n",
       "      <td>indiquem sugestões de #séries, pode ser dentro...</td>\n",
       "      <td>0</td>\n",
       "    </tr>\n",
       "    <tr>\n",
       "      <th>rt @srluan02: falta 01 dia para a segunda temporada de elite na netflix.\\n\\n#netflix \\n#elitenetflix https://t.co/8mefr4uaia</th>\n",
       "      <td>rt @srluan02  falta 01 dia para a segunda temp...</td>\n",
       "      <td>0</td>\n",
       "    </tr>\n",
       "    <tr>\n",
       "      <th>esse tempinho tá bom p ficar deitado com morena vendo netflix...</th>\n",
       "      <td>esse tempinho tá bom p ficar deitado com moren...</td>\n",
       "      <td>1</td>\n",
       "    </tr>\n",
       "    <tr>\n",
       "      <th>deitadin, vou chamar na netflix agr</th>\n",
       "      <td>deitadin, vou chamar na netflix agr</td>\n",
       "      <td>1</td>\n",
       "    </tr>\n",
       "  </tbody>\n",
       "</table>\n",
       "<p>500 rows × 2 columns</p>\n",
       "</div>"
      ],
      "text/plain": [
       "                                                                                               Frases  \\\n",
       "Treinamento                                                                                             \n",
       "sorry pra quem prefere os outros, mas o guzman ...  sorry pra quem prefere os outros, mas o guzman...   \n",
       "@tozierberkman e a netflix não faz nada !                   @tozierberkman e a netflix não faz nada     \n",
       "rt @craiskc: mo galera ai pela timeline falando...  rt @craiskc  mo galera ai pela timeline faland...   \n",
       "@sadiewolfhar assiste po, melhor coisa que tem ...  @sadiewolfhar assiste po, melhor coisa que tem...   \n",
       "sintonia, da netflix, é boa?                                             sintonia, da netflix, é boa    \n",
       "@sarahreisx assiste o documentário dele na netf...  @sarahreisx assiste o documentário dele na net...   \n",
       "@bruxacomunista @pappifigliollo certeza é distú...  @bruxacomunista @pappifigliollo certeza é dist...   \n",
       "o mundo era um lugar melhor quando tinha how i ...  o mundo era um lugar melhor quando tinha how i...   \n",
       "rt @popzonebr: sedenta! netflix postou em seu i...  rt @popzonebr  sedenta  netflix postou em seu ...   \n",
       "netflix não tem mais nada legal da até vontade ...  netflix não tem mais nada legal da até vontade...   \n",
       "saiu quatro vidas de um cachorro na netflix e e...  saiu quatro vidas de um cachorro na netflix e ...   \n",
       "rt @ju_omb: nesse tempinho era só o gato,uma pi...  rt @ju_omb  nesse tempinho era só o gato,uma p...   \n",
       "rt @craiskc: mo galera ai pela timeline falando...  rt @craiskc  mo galera ai pela timeline faland...   \n",
       "rt @crlhstrange: @netflixbrasil pessoas que est...  rt @crlhstrange  @netflixbrasil pessoas que es...   \n",
       "netflix eu só sei te amar! https://t.co/7fo7sygsbm  netflix eu só sei te amar  https //t co/7fo7sy...   \n",
       "rt @alexmonteiro93: ‘grace and frankie’ é renov...  rt @alexmonteiro93  ‘grace and frankie’ é reno...   \n",
       "rt @craiskc: mo galera ai pela timeline falando...  rt @craiskc  mo galera ai pela timeline faland...   \n",
       "hackearam a conta do meu netflix, cambada de fi...  hackearam a conta do meu netflix, cambada de f...   \n",
       "@adobehitlerr @hipsometria @tiaho9 @mjnezns @fl...  @adobehitlerr @hipsometria @tiaho9 @mjnezns @f...   \n",
       "netflix tá de volta graças a deus kkkkkk                     netflix tá de volta graças a deus kkkkkk   \n",
       "chuva não para, é eu tô como vendo netflix e da...  chuva não para, é eu tô como vendo netflix e d...   \n",
       "rt @portalrapmais: travis scott colocou filha s...  rt @portalrapmais  travis scott colocou filha ...   \n",
       "rt @eu_carol23: hoje o tempo tá pedindo netflix...  rt @eu_carol23  hoje o tempo tá pedindo netfli...   \n",
       "não estou conseguindo nem carregar o netflix, q...  não estou conseguindo nem carregar o netflix, ...   \n",
       "rt @elnacionalweb: #enentretenimiento kevin jam...  rt @elnacionalweb  #enentretenimiento kevin ja...   \n",
       "rt @eu_carol23: hoje o tempo tá pedindo netflix...  rt @eu_carol23  hoje o tempo tá pedindo netfli...   \n",
       "rt @craiskc: mo galera ai pela timeline falando...  rt @craiskc  mo galera ai pela timeline faland...   \n",
       "tempinho bom pra ficar agarradinho assistindo n...  tempinho bom pra ficar agarradinho assistindo ...   \n",
       "a netflix nunca solta nova temporada de nada, m...  a netflix nunca solta nova temporada de nada, ...   \n",
       "rt @michaeicrf: minha fama no trabalho é dividi...  rt @michaeicrf  minha fama no trabalho é divid...   \n",
       "...                                                                                               ...   \n",
       "graças a deus a netflix vai colocar episódio no...  graças a deus a netflix vai colocar episódio n...   \n",
       "sozinha em casa, de baixo da coberta assistindo...  sozinha em casa, de baixo da coberta assistind...   \n",
       "rt @craiskc: mo galera ai pela timeline falando...  rt @craiskc  mo galera ai pela timeline faland...   \n",
       "rt @craiskc: mo galera ai pela timeline falando...  rt @craiskc  mo galera ai pela timeline faland...   \n",
       "rt @craiskc: mo galera ai pela timeline falando...  rt @craiskc  mo galera ai pela timeline faland...   \n",
       "a mais nova série nacional da @netflixbrasil ga...  a mais nova série nacional da @netflixbrasil g...   \n",
       "quando tentaram assinar a netflix e passar 800 ...  quando tentaram assinar a netflix e passar 800...   \n",
       "tem dirty dancing na netflix agora caralho meu ...  tem dirty dancing na netflix agora caralho meu...   \n",
       "pipoca netflix e tudo mais                                                 pipoca netflix e tudo mais   \n",
       "rt @craiskc: mo galera ai pela timeline falando...  rt @craiskc  mo galera ai pela timeline faland...   \n",
       "@artcabewo me dá uma conta da netflix pra tu ve...  @artcabewo me dá uma conta da netflix pra tu v...   \n",
       "rt @aldeia_noticias: netflix teve pico de audiê...  rt @aldeia_noticias  netflix teve pico de audi...   \n",
       "@claraportto ou então netflix e delivery! rs             @claraportto ou então netflix e delivery  rs   \n",
       "rt @shifterpt: pesquisar na web, fazer stories ...  rt @shifterpt  pesquisar na web, fazer stories...   \n",
       "@netflixbrasil e sabrina em netflix?                             @netflixbrasil e sabrina em netflix    \n",
       "netflix do ces tb tá parada?                                             netflix do ces tb tá parada    \n",
       "amanhã tem #elite2 e eu estou sem netflix, tem ...  amanhã tem #elite2 e eu estou sem netflix, tem...   \n",
       "@srdvei quando terminar a série assiste oprah a...  @srdvei quando terminar a série assiste oprah ...   \n",
       "alguem indica um filme bom q tenha na netflix           alguem indica um filme bom q tenha na netflix   \n",
       "rt @craiskc: mo galera ai pela timeline falando...  rt @craiskc  mo galera ai pela timeline faland...   \n",
       "netflix colocou de novo diário de uma paixão, v...  netflix colocou de novo diário de uma paixão, ...   \n",
       "ah não como que vai pro estágio c esse tempinho...  ah não como que vai pro estágio c esse tempinh...   \n",
       "rt @craiskc: mo galera ai pela timeline falando...  rt @craiskc  mo galera ai pela timeline faland...   \n",
       "rt @craiskc: mo galera ai pela timeline falando...  rt @craiskc  mo galera ai pela timeline faland...   \n",
       "essas série nova da netflix que ensina as crian...  essas série nova da netflix que ensina as cria...   \n",
       "friozinho desse acho que nao vou na aula não, v...  friozinho desse acho que nao vou na aula não, ...   \n",
       "indiquem sugestões de #séries, pode ser dentro ...  indiquem sugestões de #séries, pode ser dentro...   \n",
       "rt @srluan02: falta 01 dia para a segunda tempo...  rt @srluan02  falta 01 dia para a segunda temp...   \n",
       "esse tempinho tá bom p ficar deitado com morena...  esse tempinho tá bom p ficar deitado com moren...   \n",
       "deitadin, vou chamar na netflix agr                               deitadin, vou chamar na netflix agr   \n",
       "\n",
       "                                                    Relevância  \n",
       "Treinamento                                                     \n",
       "sorry pra quem prefere os outros, mas o guzman ...           2  \n",
       "@tozierberkman e a netflix não faz nada !                    0  \n",
       "rt @craiskc: mo galera ai pela timeline falando...           0  \n",
       "@sadiewolfhar assiste po, melhor coisa que tem ...           2  \n",
       "sintonia, da netflix, é boa?                                 2  \n",
       "@sarahreisx assiste o documentário dele na netf...           0  \n",
       "@bruxacomunista @pappifigliollo certeza é distú...           1  \n",
       "o mundo era um lugar melhor quando tinha how i ...           1  \n",
       "rt @popzonebr: sedenta! netflix postou em seu i...           0  \n",
       "netflix não tem mais nada legal da até vontade ...           2  \n",
       "saiu quatro vidas de um cachorro na netflix e e...           1  \n",
       "rt @ju_omb: nesse tempinho era só o gato,uma pi...           1  \n",
       "rt @craiskc: mo galera ai pela timeline falando...           0  \n",
       "rt @crlhstrange: @netflixbrasil pessoas que est...           0  \n",
       "netflix eu só sei te amar! https://t.co/7fo7sygsbm           1  \n",
       "rt @alexmonteiro93: ‘grace and frankie’ é renov...           0  \n",
       "rt @craiskc: mo galera ai pela timeline falando...           0  \n",
       "hackearam a conta do meu netflix, cambada de fi...           0  \n",
       "@adobehitlerr @hipsometria @tiaho9 @mjnezns @fl...           0  \n",
       "netflix tá de volta graças a deus kkkkkk                     1  \n",
       "chuva não para, é eu tô como vendo netflix e da...           1  \n",
       "rt @portalrapmais: travis scott colocou filha s...           0  \n",
       "rt @eu_carol23: hoje o tempo tá pedindo netflix...           1  \n",
       "não estou conseguindo nem carregar o netflix, q...           1  \n",
       "rt @elnacionalweb: #enentretenimiento kevin jam...           0  \n",
       "rt @eu_carol23: hoje o tempo tá pedindo netflix...           1  \n",
       "rt @craiskc: mo galera ai pela timeline falando...           0  \n",
       "tempinho bom pra ficar agarradinho assistindo n...           1  \n",
       "a netflix nunca solta nova temporada de nada, m...           1  \n",
       "rt @michaeicrf: minha fama no trabalho é dividi...           0  \n",
       "...                                                        ...  \n",
       "graças a deus a netflix vai colocar episódio no...           0  \n",
       "sozinha em casa, de baixo da coberta assistindo...           1  \n",
       "rt @craiskc: mo galera ai pela timeline falando...           0  \n",
       "rt @craiskc: mo galera ai pela timeline falando...           0  \n",
       "rt @craiskc: mo galera ai pela timeline falando...           0  \n",
       "a mais nova série nacional da @netflixbrasil ga...           0  \n",
       "quando tentaram assinar a netflix e passar 800 ...           0  \n",
       "tem dirty dancing na netflix agora caralho meu ...           1  \n",
       "pipoca netflix e tudo mais                                   1  \n",
       "rt @craiskc: mo galera ai pela timeline falando...           0  \n",
       "@artcabewo me dá uma conta da netflix pra tu ve...           1  \n",
       "rt @aldeia_noticias: netflix teve pico de audiê...           0  \n",
       "@claraportto ou então netflix e delivery! rs                 0  \n",
       "rt @shifterpt: pesquisar na web, fazer stories ...           0  \n",
       "@netflixbrasil e sabrina em netflix?                         0  \n",
       "netflix do ces tb tá parada?                                 0  \n",
       "amanhã tem #elite2 e eu estou sem netflix, tem ...           1  \n",
       "@srdvei quando terminar a série assiste oprah a...           0  \n",
       "alguem indica um filme bom q tenha na netflix                0  \n",
       "rt @craiskc: mo galera ai pela timeline falando...           0  \n",
       "netflix colocou de novo diário de uma paixão, v...           1  \n",
       "ah não como que vai pro estágio c esse tempinho...           1  \n",
       "rt @craiskc: mo galera ai pela timeline falando...           0  \n",
       "rt @craiskc: mo galera ai pela timeline falando...           0  \n",
       "essas série nova da netflix que ensina as crian...           0  \n",
       "friozinho desse acho que nao vou na aula não, v...           1  \n",
       "indiquem sugestões de #séries, pode ser dentro ...           0  \n",
       "rt @srluan02: falta 01 dia para a segunda tempo...           0  \n",
       "esse tempinho tá bom p ficar deitado com morena...           1  \n",
       "deitadin, vou chamar na netflix agr                          1  \n",
       "\n",
       "[500 rows x 2 columns]"
      ]
     },
     "execution_count": 12,
     "metadata": {},
     "output_type": "execute_result"
    }
   ],
>>>>>>> d2036bb286eac8339a544e4f10101545ccb2c112
>>>>>>> a09d5634404389f2d051effbd43e30dd3ada3fd6
   "source": [
    "df_clean = pd.DataFrame(df_wie)\n",
    "df_clean"
   ]
  },
  {
   "cell_type": "markdown",
   "metadata": {},
   "source": [
    "___\n",
    "### Verificando a performance\n",
    "\n",
    "Agora você deve testar o seu classificador com a base de Testes."
   ]
  },
  {
   "cell_type": "code",
   "execution_count": null,
   "metadata": {},
   "outputs": [],
   "source": []
  },
  {
   "cell_type": "code",
   "execution_count": null,
   "metadata": {},
   "outputs": [],
   "source": []
  },
  {
   "cell_type": "code",
   "execution_count": null,
   "metadata": {},
   "outputs": [],
   "source": []
  },
  {
   "cell_type": "markdown",
   "metadata": {},
   "source": [
    "___\n",
    "### Concluindo"
   ]
  },
  {
   "cell_type": "code",
   "execution_count": null,
   "metadata": {},
   "outputs": [],
   "source": []
  },
  {
   "cell_type": "code",
   "execution_count": null,
   "metadata": {},
   "outputs": [],
   "source": []
  },
  {
   "cell_type": "markdown",
   "metadata": {},
   "source": [
    "## Aperfeiçoamento:\n",
    "\n",
    "Os trabalhos vão evoluir em conceito dependendo da quantidade de itens avançados:\n",
    "\n",
    "* Limpar: \\n, :, \", ', (, ), etc SEM remover emojis\n",
    "* Corrigir separação de espaços entre palavras e emojis ou emojis e emojis\n",
    "* Propor outras limpezas e transformações que não afetem a qualidade da informação ou classificação\n",
    "* Criar categorias intermediárias de relevância baseadas na probabilidade: ex.: muito relevante, relevante, neutro, irrelevante, muito irrelevante (3 categorias: C, mais categorias conta para B)\n",
    "* Explicar por que não posso usar o próprio classificador para gerar mais amostras de treinamento\n",
    "* Propor diferentes cenários para Naïve Bayes fora do contexto do projeto\n",
    "* Sugerir e explicar melhorias reais com indicações concretas de como implementar (indicar como fazer e indicar material de pesquisa)\n",
    "* Montar um dashboard que periodicamente realiza análise de sentimento e visualiza estes dados"
   ]
  },
  {
   "cell_type": "markdown",
   "metadata": {},
   "source": [
    "# Referências"
   ]
  },
  {
   "cell_type": "markdown",
   "metadata": {},
   "source": [
    "[Naive Bayes and Text Classification](https://arxiv.org/pdf/1410.5329.pdf)  **Mais completo**\n",
    "\n",
    "[A practical explanation of a Naive Bayes Classifier](https://monkeylearn.com/blog/practical-explanation-naive-bayes-classifier/) **Mais simples**"
   ]
  },
  {
   "cell_type": "code",
   "execution_count": null,
   "metadata": {},
   "outputs": [],
   "source": []
  }
 ],
 "metadata": {
  "kernelspec": {
   "display_name": "Python 3",
   "language": "python",
   "name": "python3"
  },
  "language_info": {
   "codemirror_mode": {
    "name": "ipython",
    "version": 3
   },
   "file_extension": ".py",
   "mimetype": "text/x-python",
   "name": "python",
   "nbconvert_exporter": "python",
   "pygments_lexer": "ipython3",
   "version": "3.7.1"
  }
 },
 "nbformat": 4,
 "nbformat_minor": 4
}
