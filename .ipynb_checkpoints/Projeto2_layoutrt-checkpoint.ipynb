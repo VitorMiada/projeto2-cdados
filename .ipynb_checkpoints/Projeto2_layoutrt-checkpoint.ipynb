{
 "cells": [
  {
   "cell_type": "markdown",
   "metadata": {},
   "source": [
    "# Projeto 2 - Ciência dos Dados"
   ]
  },
  {
   "cell_type": "markdown",
   "metadata": {},
   "source": [
    "Nome: Pedro Henrique Menezes de Oliveira\n",
    "\n",
    "Nome: Lucio Hallage\n",
    "\n",
    "Nome: Vitor Miada"
   ]
  },
  {
   "cell_type": "markdown",
   "metadata": {},
   "source": [
    "Serão permitidos grupos de três pessoas, mas com uma rubrica mais exigente. Grupos deste tamanho precisarão fazer um questionário de avaliação de trabalho em equipe"
   ]
  },
  {
   "cell_type": "markdown",
   "metadata": {},
   "source": [
    "___\n",
    "# Classificador automático de sentimento\n"
   ]
  },
  {
   "cell_type": "markdown",
   "metadata": {},
   "source": [
    "## Preparando o ambiente no jupyter:"
   ]
  },
  {
   "cell_type": "raw",
   "metadata": {},
   "source": [
    "%%capture\n",
    "\n",
    "#Instalando o tweepy\n",
    "!pip install tweepy"
   ]
  },
  {
   "cell_type": "code",
   "execution_count": 226,
   "metadata": {
    "jupyter": {
     "outputs_hidden": true
    }
   },
   "outputs": [],
   "source": [
    "import tweepy\n",
    "import math\n",
    "import os.path\n",
    "import pandas as pd\n",
    "import json\n",
    "import numpy as np\n",
    "from random import shuffle"
   ]
  },
  {
   "cell_type": "markdown",
   "metadata": {},
   "source": [
    "___\n",
    "## Autenticando no  Twitter\n",
    "\n",
    "* Conta: @pedrohmenezeso"
   ]
  },
  {
   "cell_type": "raw",
   "metadata": {
    "jupyter": {
     "outputs_hidden": true
    }
   },
   "source": [
    "#Dados de autenticação do twitter:\n",
    "\n",
    "#Coloque aqui o identificador da conta no twitter: @pedrohmenezeso\n",
    "\n",
    "#leitura do arquivo no formato JSON\n",
    "with open('auth.pass') as fp:    \n",
    "    data = json.load(fp)\n",
    "\n",
    "#Configurando a biblioteca. Não modificar\n",
    "auth = tweepy.OAuthHandler(data['consumer_key'], data['consumer_secret'])\n",
    "auth.set_access_token(data['access_token'], data['access_token_secret'])"
   ]
  },
  {
   "cell_type": "markdown",
   "metadata": {},
   "source": [
    "___\n",
    "## Etapas do projeto:"
   ]
  },
  {
   "cell_type": "markdown",
   "metadata": {},
   "source": [
    "### Escolha de um produto e coleta das mensagens\n"
   ]
  },
  {
   "cell_type": "raw",
   "metadata": {
    "jupyter": {
     "outputs_hidden": true
    }
   },
   "source": [
    "#Produto escolhido:\n",
    "produto = 'Netflix'\n",
    "\n",
    "#Quantidade mínima de mensagens capturadas:\n",
    "n = 650\n",
    "#Quantidade mínima de mensagens para a base de treinamento:\n",
    "t = 250\n",
    "\n",
    "#Filtro de língua, escolha uma na tabela ISO 639-1.\n",
    "lang = 'pt'"
   ]
  },
  {
   "cell_type": "markdown",
   "metadata": {},
   "source": [
    "Capturando os dados do twitter:"
   ]
  },
  {
   "cell_type": "raw",
   "metadata": {
    "jupyter": {
     "outputs_hidden": true
    }
   },
   "source": [
    "#Cria um objeto para a captura\n",
    "api = tweepy.API(auth)\n",
    "\n",
    "#Inicia a captura, para mais detalhes: ver a documentação do tweepy\n",
    "i = 1\n",
    "msgs = []\n",
    "for msg in tweepy.Cursor(api.search, q=produto, lang=lang, tweet_mode='extended').items():  \n",
    "    if (not msg.retweeted) and ('RT' not in msg.full_text): \n",
    "        msgs.append(msg.full_text.lower())\n",
    "        i += 1\n",
    "    if i > n:\n",
    "        break\n",
    "\n",
    "\n",
    "\n",
    "#Embaralhando as mensagens para reduzir um possível viés\n",
    "shuffle(msgs)"
   ]
  },
  {
   "cell_type": "markdown",
   "metadata": {},
   "source": [
    "Salvando os dados em uma planilha Excel:"
   ]
  },
  {
   "cell_type": "raw",
   "metadata": {
    "jupyter": {
     "outputs_hidden": true
    }
   },
   "source": [
    "#Verifica se o arquivo não existe para não substituir um conjunto pronto\n",
    "if not os.path.isfile('./{0}Nrt.xlsx'.format(produto)):\n",
    "    \n",
    "    #Abre o arquivo para escrita\n",
    "    writer = pd.ExcelWriter('{0}Nrt.xlsx'.format(produto))\n",
    "\n",
    "    #divide o conjunto de mensagens em duas planilhas\n",
    "    dft = pd.DataFrame({'Treinamento' : pd.Series(msgs[:t])})\n",
    "    dft.to_excel(excel_writer = writer, sheet_name = 'Treinamento', index = False)\n",
    "\n",
    "    dfc = pd.DataFrame({'Teste' : pd.Series(msgs[t:])})\n",
    "    dfc.to_excel(excel_writer = writer, sheet_name = 'Teste', index = False)\n",
    "\n",
    "    #fecha o arquivo\n",
    "    writer.save()"
   ]
  },
  {
   "cell_type": "markdown",
   "metadata": {},
   "source": [
    "___\n",
    "### Classificando as mensagens na coragem\n",
    "\n",
    "Esta etapa é manual. Faça a mesma pelo Excel."
   ]
  },
  {
   "cell_type": "markdown",
   "metadata": {},
   "source": [
    "**Irrelevante - 0:** Tweets que não estão relacionados diretamente com a Netflix. Ex.: \"*malta digam ai séries para ver na netflix*\"\n",
    "\n",
    "**Relevante - 1:** Tweets que estão relacionados diretamente com a Netflix e que dizem algo a respeito que expresse opinião. Ex.: \"*50 tons mais escuros vai ta na netflix nen adoro😅*\"\n",
    "\n",
    "**Neutros - 2:** Tweets que estão relacionados diretamente com a Netflix porém não expressam opinião. Ex.: \"*milhões de séries disponíveis na netflix,mas minha preferência é sempre #glee!!!*\""
   ]
  },
  {
   "cell_type": "code",
   "execution_count": 227,
   "metadata": {},
   "outputs": [
    {
     "data": {
      "text/html": [
       "<div>\n",
       "<style scoped>\n",
       "    .dataframe tbody tr th:only-of-type {\n",
       "        vertical-align: middle;\n",
       "    }\n",
       "\n",
       "    .dataframe tbody tr th {\n",
       "        vertical-align: top;\n",
       "    }\n",
       "\n",
       "    .dataframe thead th {\n",
       "        text-align: right;\n",
       "    }\n",
       "</style>\n",
       "<table border=\"1\" class=\"dataframe\">\n",
       "  <thead>\n",
       "    <tr style=\"text-align: right;\">\n",
       "      <th></th>\n",
       "      <th>Relevância</th>\n",
       "      <th>Unnamed: 2</th>\n",
       "      <th>Unnamed: 3</th>\n",
       "    </tr>\n",
       "    <tr>\n",
       "      <th>Treinamento</th>\n",
       "      <th></th>\n",
       "      <th></th>\n",
       "      <th></th>\n",
       "    </tr>\n",
       "  </thead>\n",
       "  <tbody>\n",
       "    <tr>\n",
       "      <th>milhões de séries disponíveis na netflix,mas minha preferência é sempre #glee!!!</th>\n",
       "      <td>2</td>\n",
       "      <td>NaN</td>\n",
       "      <td>NaN</td>\n",
       "    </tr>\n",
       "    <tr>\n",
       "      <th>@buriedslive vai se fuder e me empresta sua netflix</th>\n",
       "      <td>0</td>\n",
       "      <td>NaN</td>\n",
       "      <td>NaN</td>\n",
       "    </tr>\n",
       "    <tr>\n",
       "      <th>eu assisti 5 episódios de uma série na netflix e percebi que tava no 4g vsf</th>\n",
       "      <td>0</td>\n",
       "      <td>NaN</td>\n",
       "      <td>NaN</td>\n",
       "    </tr>\n",
       "    <tr>\n",
       "      <th>estou assistindo as telefonistas, stranger things e how to get away with murder, além de ter vis a vis no backlog. daí vem a netflix e me lança nova temporada de elite! não to preparada!</th>\n",
       "      <td>1</td>\n",
       "      <td>NaN</td>\n",
       "      <td>NaN</td>\n",
       "    </tr>\n",
       "    <tr>\n",
       "      <th>50 tons mais escuros vai ta na netflix nen adoro😅</th>\n",
       "      <td>1</td>\n",
       "      <td>NaN</td>\n",
       "      <td>NaN</td>\n",
       "    </tr>\n",
       "    <tr>\n",
       "      <th>to tão por fora de tudo que eu vi hoje que saiu greys na netflix</th>\n",
       "      <td>2</td>\n",
       "      <td>NaN</td>\n",
       "      <td>NaN</td>\n",
       "    </tr>\n",
       "    <tr>\n",
       "      <th>malta digam ai séries para ver na netflix</th>\n",
       "      <td>0</td>\n",
       "      <td>NaN</td>\n",
       "      <td>NaN</td>\n",
       "    </tr>\n",
       "    <tr>\n",
       "      <th>@jcarloscr todas as séries originais amazon que eu assisti tinham uma qualidade superior na parte técnica. e gosto bastante dos roteiros mais diferenciados. é bem menos óbvio que a netflix</th>\n",
       "      <td>0</td>\n",
       "      <td>NaN</td>\n",
       "      <td>NaN</td>\n",
       "    </tr>\n",
       "    <tr>\n",
       "      <th>e minha netflix q aparece que lancou a 15 temporada de greys e a 2 de elite e nada delas la</th>\n",
       "      <td>2</td>\n",
       "      <td>NaN</td>\n",
       "      <td>NaN</td>\n",
       "    </tr>\n",
       "    <tr>\n",
       "      <th>@felipeneto @vislompo @thiagopinheiro2 @cardoso @abbondanzaisa @cristiano_m_g @youpix a tv a cabo está sobrevivendo com ajuda de aparelhos. já tem operadora fazendo parceria com a netflix, pra que sua assinatura seja descontada na fatura e você acesse a netflix a partir dos equipamentos dela. como eu disse, sobrevivendo com ajuda de aparelhos.</th>\n",
       "      <td>0</td>\n",
       "      <td>NaN</td>\n",
       "      <td>NaN</td>\n",
       "    </tr>\n",
       "    <tr>\n",
       "      <th>sonhei que tinha saído o filme que a demi vai participar na netflix</th>\n",
       "      <td>0</td>\n",
       "      <td>NaN</td>\n",
       "      <td>NaN</td>\n",
       "    </tr>\n",
       "    <tr>\n",
       "      <th>2 vzs foram assisitindo finding dory (que chegou na netflix) e 1 ouvindo orange juice 🤧🤧🤧</th>\n",
       "      <td>1</td>\n",
       "      <td>NaN</td>\n",
       "      <td>NaN</td>\n",
       "    </tr>\n",
       "    <tr>\n",
       "      <th>fui mostrar pros meus pais o show do @whindersson na netflix\\n\\nmano começou a cantar \"pega, pega, pega, pega no meu pau\" eu me rachando de rir por dentro, mas mantendo a pose, até pq meus pais são pastores kkkkkkkkkkkjj</th>\n",
       "      <td>0</td>\n",
       "      <td>NaN</td>\n",
       "      <td>NaN</td>\n",
       "    </tr>\n",
       "    <tr>\n",
       "      <th>colocaram meu filme fav na netflix aaaaaaa é hoje que eu vou assistir o mesmo filme 2763 vezes</th>\n",
       "      <td>1</td>\n",
       "      <td>NaN</td>\n",
       "      <td>NaN</td>\n",
       "    </tr>\n",
       "    <tr>\n",
       "      <th>minha mãe começou a ver uma série coreana na netflix\\nmeu pai ficou zuando mas foi assistir junto\\nela dormiu\\nele assistiu 8 episódios enquanto ela dormia e começou a segunda temporada sem ela\\nkkkkkjjjjj ela n tá menos q mto puta nao</th>\n",
       "      <td>2</td>\n",
       "      <td>NaN</td>\n",
       "      <td>NaN</td>\n",
       "    </tr>\n",
       "    <tr>\n",
       "      <th>tive que assinar a telecine só pra assistir amélie poulain pq a netflix simplesmente tirou essa obra de arte do catálogo 😩 https://t.co/c3ouyeffbl</th>\n",
       "      <td>1</td>\n",
       "      <td>NaN</td>\n",
       "      <td>NaN</td>\n",
       "    </tr>\n",
       "    <tr>\n",
       "      <th>@devanil me empresta uma conta na netflix, devanil. nunca te pedi nada.</th>\n",
       "      <td>0</td>\n",
       "      <td>NaN</td>\n",
       "      <td>NaN</td>\n",
       "    </tr>\n",
       "    <tr>\n",
       "      <th>alguém indica algo p assistir na netflix</th>\n",
       "      <td>0</td>\n",
       "      <td>NaN</td>\n",
       "      <td>NaN</td>\n",
       "    </tr>\n",
       "    <tr>\n",
       "      <th>esse mês saí a quinta temporada de b99 e a última de arthdral chronicles amém netflix</th>\n",
       "      <td>1</td>\n",
       "      <td>NaN</td>\n",
       "      <td>NaN</td>\n",
       "    </tr>\n",
       "    <tr>\n",
       "      <th>assisti rápido demais elite 2, quero a terceira temp pra ontem netflix</th>\n",
       "      <td>1</td>\n",
       "      <td>NaN</td>\n",
       "      <td>NaN</td>\n",
       "    </tr>\n",
       "    <tr>\n",
       "      <th>gente!\\nacho que tô apaixonado mesmo!\\n\\nvcs acreditam que tive um pesadelo hoje onde a netflix tinha lançado a 2° temporada de sintonia e tinha trocado o ator do mc doni, daí eu tava triste chorando?¿\\n\\nkkkkkkkkkkkkkkkkkkk</th>\n",
       "      <td>1</td>\n",
       "      <td>NaN</td>\n",
       "      <td>NaN</td>\n",
       "    </tr>\n",
       "    <tr>\n",
       "      <th>que filme lindo, parabéns @bethanyhamilton pela força de vontade e batalha pela vida, és uma vencedora! assista na netflix!🙏🏽🌊🦈🏄🏼‍♀️⛰☀️ #coragemdeviver em sup surf conserto https://t.co/87xubzhcpu</th>\n",
       "      <td>0</td>\n",
       "      <td>NaN</td>\n",
       "      <td>NaN</td>\n",
       "    </tr>\n",
       "    <tr>\n",
       "      <th>com mean girls no catálogo da netflix eu agora vou ficar sem costume mesmo aaaaaa</th>\n",
       "      <td>1</td>\n",
       "      <td>NaN</td>\n",
       "      <td>NaN</td>\n",
       "    </tr>\n",
       "    <tr>\n",
       "      <th>@haddad_fernando bom dia brimo,  a coisa é mais em baixo. tem um documentário no netflix chamado the family a democracia ameaçada, sobre os pentecostais e a política americana.\\nali você vai entender do que se trata essa foto.</th>\n",
       "      <td>0</td>\n",
       "      <td>NaN</td>\n",
       "      <td>NaN</td>\n",
       "    </tr>\n",
       "    <tr>\n",
       "      <th>ai velho só queria ver meu rin okumura de volta mas a netflix tirou blue exorcist do catálogo e eu sou a pessoa mais triste do mundo, vou ter que ver algum site pra assistir online https://t.co/v4a5mdsqvz</th>\n",
       "      <td>1</td>\n",
       "      <td>NaN</td>\n",
       "      <td>NaN</td>\n",
       "    </tr>\n",
       "    <tr>\n",
       "      <th>@chbljh lindo belíssimo cheiroso gostoso exuberante pizza pornhub netflix</th>\n",
       "      <td>0</td>\n",
       "      <td>NaN</td>\n",
       "      <td>NaN</td>\n",
       "    </tr>\n",
       "    <tr>\n",
       "      <th>acho que vou assinar a amazon prime.. tô sem netflix (tem a do meu irmão, caso eu queira muito). sinto que vi quase todo o catálogo bom de lá.</th>\n",
       "      <td>0</td>\n",
       "      <td>NaN</td>\n",
       "      <td>NaN</td>\n",
       "    </tr>\n",
       "    <tr>\n",
       "      <th>peço perdão por sempre surtar com a netflix por não ter liberado nada da terceira temporada de atypical i'm such a clown</th>\n",
       "      <td>1</td>\n",
       "      <td>NaN</td>\n",
       "      <td>NaN</td>\n",
       "    </tr>\n",
       "    <tr>\n",
       "      <th>a tarde vai ter que ser de netflix e pipoquinha, a noite é cana, gela e corote!</th>\n",
       "      <td>1</td>\n",
       "      <td>NaN</td>\n",
       "      <td>NaN</td>\n",
       "    </tr>\n",
       "    <tr>\n",
       "      <th>achei q the crown nao ia passar dessa s3 nao do jeito q a netflix ta sendo e ela sendonuma das series mais caras da história</th>\n",
       "      <td>1</td>\n",
       "      <td>NaN</td>\n",
       "      <td>NaN</td>\n",
       "    </tr>\n",
       "    <tr>\n",
       "      <th>...</th>\n",
       "      <td>...</td>\n",
       "      <td>...</td>\n",
       "      <td>...</td>\n",
       "    </tr>\n",
       "    <tr>\n",
       "      <th>chegou diário de uma paixão na netflix, esse momento é todinho meeeuuu</th>\n",
       "      <td>1</td>\n",
       "      <td>NaN</td>\n",
       "      <td>NaN</td>\n",
       "    </tr>\n",
       "    <tr>\n",
       "      <th>a @netflix relançou a terceira parte de la casa de papel com o @neymarjr  só para mostrar como a participação dele foi inútil para o andamento da série :v foi apenas para aparecer mesmo, pois a narrativa não muda em nada com ou sem ele.</th>\n",
       "      <td>1</td>\n",
       "      <td>NaN</td>\n",
       "      <td>NaN</td>\n",
       "    </tr>\n",
       "    <tr>\n",
       "      <th>@fabiorbto vamos assistir um netflix?</th>\n",
       "      <td>2</td>\n",
       "      <td>NaN</td>\n",
       "      <td>NaN</td>\n",
       "    </tr>\n",
       "    <tr>\n",
       "      <th>nao aguento mais a netflix tirando as coisas boas do catálogo</th>\n",
       "      <td>1</td>\n",
       "      <td>NaN</td>\n",
       "      <td>NaN</td>\n",
       "    </tr>\n",
       "    <tr>\n",
       "      <th>a lu e o valerio são irmãos e se pegam (????????) sério isso netflix</th>\n",
       "      <td>0</td>\n",
       "      <td>NaN</td>\n",
       "      <td>NaN</td>\n",
       "    </tr>\n",
       "    <tr>\n",
       "      <th>passar o dia vendo netflix nesse friozin e pensando nele kk melhor forma🤯</th>\n",
       "      <td>2</td>\n",
       "      <td>NaN</td>\n",
       "      <td>NaN</td>\n",
       "    </tr>\n",
       "    <tr>\n",
       "      <th>assisto netflix quase nunca, mas quando vou assistir já tem atualizar o pagamento 🤬</th>\n",
       "      <td>1</td>\n",
       "      <td>NaN</td>\n",
       "      <td>NaN</td>\n",
       "    </tr>\n",
       "    <tr>\n",
       "      <th>@etfumante melhor série atual da netflix</th>\n",
       "      <td>2</td>\n",
       "      <td>NaN</td>\n",
       "      <td>NaN</td>\n",
       "    </tr>\n",
       "    <tr>\n",
       "      <th>vou fazer meus 300 exercicios que eu tenho pq mais tarde so quero netflix e nada mais</th>\n",
       "      <td>2</td>\n",
       "      <td>NaN</td>\n",
       "      <td>NaN</td>\n",
       "    </tr>\n",
       "    <tr>\n",
       "      <th>@maricampos73 obrigado pra vc também bom feriado, vou passar o meu feriado em casa com minha esposa assistindo a série vis a vis da netflix</th>\n",
       "      <td>1</td>\n",
       "      <td>NaN</td>\n",
       "      <td>NaN</td>\n",
       "    </tr>\n",
       "    <tr>\n",
       "      <th>queria ver elite mas a minha netflix acabou e nem sabia</th>\n",
       "      <td>0</td>\n",
       "      <td>NaN</td>\n",
       "      <td>NaN</td>\n",
       "    </tr>\n",
       "    <tr>\n",
       "      <th>eu só queria que ainda tivesse o meu filme na netflix</th>\n",
       "      <td>0</td>\n",
       "      <td>NaN</td>\n",
       "      <td>NaN</td>\n",
       "    </tr>\n",
       "    <tr>\n",
       "      <th>só queria a 2 temp de titãs na netflix</th>\n",
       "      <td>1</td>\n",
       "      <td>NaN</td>\n",
       "      <td>NaN</td>\n",
       "    </tr>\n",
       "    <tr>\n",
       "      <th>até o @globoplay tem harry potter e a netflix não https://t.co/tsbwsujatc</th>\n",
       "      <td>1</td>\n",
       "      <td>NaN</td>\n",
       "      <td>NaN</td>\n",
       "    </tr>\n",
       "    <tr>\n",
       "      <th>feriadou e o papai ficou tanto me apressando pela minha parte da fatura do cartão pra ele deixar pra pagar só segunda e eu ficar sem netflix tnc meu patrão</th>\n",
       "      <td>1</td>\n",
       "      <td>NaN</td>\n",
       "      <td>NaN</td>\n",
       "    </tr>\n",
       "    <tr>\n",
       "      <th>injusto a netflix lançar temporadas novas das minhas séries favoritas e eu ter trabalho pra fazer</th>\n",
       "      <td>1</td>\n",
       "      <td>NaN</td>\n",
       "      <td>NaN</td>\n",
       "    </tr>\n",
       "    <tr>\n",
       "      <th>quem nunca assistiu 👇🏻\\nhttps://t.co/zpybx5qfl3</th>\n",
       "      <td>0</td>\n",
       "      <td>NaN</td>\n",
       "      <td>NaN</td>\n",
       "    </tr>\n",
       "    <tr>\n",
       "      <th>eu procurando algo novo p ver na netflix \\nmean girls: a\\neu: bom eh isto</th>\n",
       "      <td>2</td>\n",
       "      <td>NaN</td>\n",
       "      <td>NaN</td>\n",
       "    </tr>\n",
       "    <tr>\n",
       "      <th>@martinslucas027 caça aos gângster ... na netflix msm fml</th>\n",
       "      <td>1</td>\n",
       "      <td>NaN</td>\n",
       "      <td>NaN</td>\n",
       "    </tr>\n",
       "    <tr>\n",
       "      <th>@thaynvictoria6 assisti a voz do silêncio na netflix, uma animação que oh um soco na cara</th>\n",
       "      <td>1</td>\n",
       "      <td>NaN</td>\n",
       "      <td>NaN</td>\n",
       "    </tr>\n",
       "    <tr>\n",
       "      <th>@casperdiogo da outra vez demorou pra ir pra netflix?</th>\n",
       "      <td>1</td>\n",
       "      <td>NaN</td>\n",
       "      <td>NaN</td>\n",
       "    </tr>\n",
       "    <tr>\n",
       "      <th>netflix ja pode colocar a terceira temp de elite já mo</th>\n",
       "      <td>1</td>\n",
       "      <td>NaN</td>\n",
       "      <td>NaN</td>\n",
       "    </tr>\n",
       "    <tr>\n",
       "      <th>só qria passar a tarde deitadinha com ele vendo netflix</th>\n",
       "      <td>2</td>\n",
       "      <td>NaN</td>\n",
       "      <td>NaN</td>\n",
       "    </tr>\n",
       "    <tr>\n",
       "      <th>passar o dia todo vendo netflix</th>\n",
       "      <td>2</td>\n",
       "      <td>NaN</td>\n",
       "      <td>NaN</td>\n",
       "    </tr>\n",
       "    <tr>\n",
       "      <th>hoje eu só queria um programinha de casal, netflix e uns dengo 😔</th>\n",
       "      <td>2</td>\n",
       "      <td>NaN</td>\n",
       "      <td>NaN</td>\n",
       "    </tr>\n",
       "    <tr>\n",
       "      <th>perdi minha conta no netflix logo quando to querendo ver um filme</th>\n",
       "      <td>0</td>\n",
       "      <td>NaN</td>\n",
       "      <td>NaN</td>\n",
       "    </tr>\n",
       "    <tr>\n",
       "      <th>netflix espero q essas season atypical seja perfeita, nn aceito menos</th>\n",
       "      <td>1</td>\n",
       "      <td>NaN</td>\n",
       "      <td>NaN</td>\n",
       "    </tr>\n",
       "    <tr>\n",
       "      <th>todas as séries podiam ser igual vis a vis na netflix, temporada nova saindo rapidinho</th>\n",
       "      <td>1</td>\n",
       "      <td>NaN</td>\n",
       "      <td>NaN</td>\n",
       "    </tr>\n",
       "    <tr>\n",
       "      <th>o governo liberal que vocês disseram aí kkk https://t.co/gq7xajdpug</th>\n",
       "      <td>0</td>\n",
       "      <td>NaN</td>\n",
       "      <td>NaN</td>\n",
       "    </tr>\n",
       "    <tr>\n",
       "      <th>quase me convidei pra ir assistir netflix com ela, eu só não fiz isso pq eu vou sair hj namoral</th>\n",
       "      <td>2</td>\n",
       "      <td>NaN</td>\n",
       "      <td>NaN</td>\n",
       "    </tr>\n",
       "  </tbody>\n",
       "</table>\n",
       "<p>500 rows × 3 columns</p>\n",
       "</div>"
      ],
      "text/plain": [
       "                                                    Relevância  Unnamed: 2  \\\n",
       "Treinamento                                                                  \n",
       "milhões de séries disponíveis na netflix,mas mi...           2         NaN   \n",
       "@buriedslive vai se fuder e me empresta sua net...           0         NaN   \n",
       "eu assisti 5 episódios de uma série na netflix ...           0         NaN   \n",
       "estou assistindo as telefonistas, stranger thin...           1         NaN   \n",
       "50 tons mais escuros vai ta na netflix nen adoro😅            1         NaN   \n",
       "to tão por fora de tudo que eu vi hoje que saiu...           2         NaN   \n",
       "malta digam ai séries para ver na netflix                    0         NaN   \n",
       "@jcarloscr todas as séries originais amazon que...           0         NaN   \n",
       "e minha netflix q aparece que lancou a 15 tempo...           2         NaN   \n",
       "@felipeneto @vislompo @thiagopinheiro2 @cardoso...           0         NaN   \n",
       "sonhei que tinha saído o filme que a demi vai p...           0         NaN   \n",
       "2 vzs foram assisitindo finding dory (que chego...           1         NaN   \n",
       "fui mostrar pros meus pais o show do @whinderss...           0         NaN   \n",
       "colocaram meu filme fav na netflix aaaaaaa é ho...           1         NaN   \n",
       "minha mãe começou a ver uma série coreana na ne...           2         NaN   \n",
       "tive que assinar a telecine só pra assistir amé...           1         NaN   \n",
       "@devanil me empresta uma conta na netflix, deva...           0         NaN   \n",
       "alguém indica algo p assistir na netflix                     0         NaN   \n",
       "esse mês saí a quinta temporada de b99 e a últi...           1         NaN   \n",
       "assisti rápido demais elite 2, quero a terceira...           1         NaN   \n",
       "gente!\\nacho que tô apaixonado mesmo!\\n\\nvcs ac...           1         NaN   \n",
       "que filme lindo, parabéns @bethanyhamilton pela...           0         NaN   \n",
       "com mean girls no catálogo da netflix eu agora ...           1         NaN   \n",
       "@haddad_fernando bom dia brimo,  a coisa é mais...           0         NaN   \n",
       "ai velho só queria ver meu rin okumura de volta...           1         NaN   \n",
       "@chbljh lindo belíssimo cheiroso gostoso exuber...           0         NaN   \n",
       "acho que vou assinar a amazon prime.. tô sem ne...           0         NaN   \n",
       "peço perdão por sempre surtar com a netflix por...           1         NaN   \n",
       "a tarde vai ter que ser de netflix e pipoquinha...           1         NaN   \n",
       "achei q the crown nao ia passar dessa s3 nao do...           1         NaN   \n",
       "...                                                        ...         ...   \n",
       "chegou diário de uma paixão na netflix, esse mo...           1         NaN   \n",
       "a @netflix relançou a terceira parte de la casa...           1         NaN   \n",
       "@fabiorbto vamos assistir um netflix?                        2         NaN   \n",
       "nao aguento mais a netflix tirando as coisas bo...           1         NaN   \n",
       "a lu e o valerio são irmãos e se pegam (???????...           0         NaN   \n",
       "passar o dia vendo netflix nesse friozin e pens...           2         NaN   \n",
       "assisto netflix quase nunca, mas quando vou ass...           1         NaN   \n",
       "@etfumante melhor série atual da netflix                     2         NaN   \n",
       "vou fazer meus 300 exercicios que eu tenho pq m...           2         NaN   \n",
       "@maricampos73 obrigado pra vc também bom feriad...           1         NaN   \n",
       "queria ver elite mas a minha netflix acabou e n...           0         NaN   \n",
       "eu só queria que ainda tivesse o meu filme na n...           0         NaN   \n",
       "só queria a 2 temp de titãs na netflix                       1         NaN   \n",
       "até o @globoplay tem harry potter e a netflix n...           1         NaN   \n",
       "feriadou e o papai ficou tanto me apressando pe...           1         NaN   \n",
       "injusto a netflix lançar temporadas novas das m...           1         NaN   \n",
       "quem nunca assistiu 👇🏻\\nhttps://t.co/zpybx5qfl3              0         NaN   \n",
       "eu procurando algo novo p ver na netflix \\nmean...           2         NaN   \n",
       "@martinslucas027 caça aos gângster ... na netfl...           1         NaN   \n",
       "@thaynvictoria6 assisti a voz do silêncio na ne...           1         NaN   \n",
       "@casperdiogo da outra vez demorou pra ir pra ne...           1         NaN   \n",
       "netflix ja pode colocar a terceira temp de elit...           1         NaN   \n",
       "só qria passar a tarde deitadinha com ele vendo...           2         NaN   \n",
       "passar o dia todo vendo netflix                              2         NaN   \n",
       "hoje eu só queria um programinha de casal, netf...           2         NaN   \n",
       "perdi minha conta no netflix logo quando to que...           0         NaN   \n",
       "netflix espero q essas season atypical seja per...           1         NaN   \n",
       "todas as séries podiam ser igual vis a vis na n...           1         NaN   \n",
       "o governo liberal que vocês disseram aí kkk htt...           0         NaN   \n",
       "quase me convidei pra ir assistir netflix com e...           2         NaN   \n",
       "\n",
       "                                                   Unnamed: 3  \n",
       "Treinamento                                                    \n",
       "milhões de séries disponíveis na netflix,mas mi...        NaN  \n",
       "@buriedslive vai se fuder e me empresta sua net...        NaN  \n",
       "eu assisti 5 episódios de uma série na netflix ...        NaN  \n",
       "estou assistindo as telefonistas, stranger thin...        NaN  \n",
       "50 tons mais escuros vai ta na netflix nen adoro😅         NaN  \n",
       "to tão por fora de tudo que eu vi hoje que saiu...        NaN  \n",
       "malta digam ai séries para ver na netflix                 NaN  \n",
       "@jcarloscr todas as séries originais amazon que...        NaN  \n",
       "e minha netflix q aparece que lancou a 15 tempo...        NaN  \n",
       "@felipeneto @vislompo @thiagopinheiro2 @cardoso...        NaN  \n",
       "sonhei que tinha saído o filme que a demi vai p...        NaN  \n",
       "2 vzs foram assisitindo finding dory (que chego...        NaN  \n",
       "fui mostrar pros meus pais o show do @whinderss...        NaN  \n",
       "colocaram meu filme fav na netflix aaaaaaa é ho...        NaN  \n",
       "minha mãe começou a ver uma série coreana na ne...        NaN  \n",
       "tive que assinar a telecine só pra assistir amé...        NaN  \n",
       "@devanil me empresta uma conta na netflix, deva...        NaN  \n",
       "alguém indica algo p assistir na netflix                  NaN  \n",
       "esse mês saí a quinta temporada de b99 e a últi...        NaN  \n",
       "assisti rápido demais elite 2, quero a terceira...        NaN  \n",
       "gente!\\nacho que tô apaixonado mesmo!\\n\\nvcs ac...        NaN  \n",
       "que filme lindo, parabéns @bethanyhamilton pela...        NaN  \n",
       "com mean girls no catálogo da netflix eu agora ...        NaN  \n",
       "@haddad_fernando bom dia brimo,  a coisa é mais...        NaN  \n",
       "ai velho só queria ver meu rin okumura de volta...        NaN  \n",
       "@chbljh lindo belíssimo cheiroso gostoso exuber...        NaN  \n",
       "acho que vou assinar a amazon prime.. tô sem ne...        NaN  \n",
       "peço perdão por sempre surtar com a netflix por...        NaN  \n",
       "a tarde vai ter que ser de netflix e pipoquinha...        NaN  \n",
       "achei q the crown nao ia passar dessa s3 nao do...        NaN  \n",
       "...                                                       ...  \n",
       "chegou diário de uma paixão na netflix, esse mo...        NaN  \n",
       "a @netflix relançou a terceira parte de la casa...        NaN  \n",
       "@fabiorbto vamos assistir um netflix?                     NaN  \n",
       "nao aguento mais a netflix tirando as coisas bo...        NaN  \n",
       "a lu e o valerio são irmãos e se pegam (???????...        NaN  \n",
       "passar o dia vendo netflix nesse friozin e pens...        NaN  \n",
       "assisto netflix quase nunca, mas quando vou ass...        NaN  \n",
       "@etfumante melhor série atual da netflix                  NaN  \n",
       "vou fazer meus 300 exercicios que eu tenho pq m...        NaN  \n",
       "@maricampos73 obrigado pra vc também bom feriad...        NaN  \n",
       "queria ver elite mas a minha netflix acabou e n...        NaN  \n",
       "eu só queria que ainda tivesse o meu filme na n...        NaN  \n",
       "só queria a 2 temp de titãs na netflix                    NaN  \n",
       "até o @globoplay tem harry potter e a netflix n...        NaN  \n",
       "feriadou e o papai ficou tanto me apressando pe...        NaN  \n",
       "injusto a netflix lançar temporadas novas das m...        NaN  \n",
       "quem nunca assistiu 👇🏻\\nhttps://t.co/zpybx5qfl3           NaN  \n",
       "eu procurando algo novo p ver na netflix \\nmean...        NaN  \n",
       "@martinslucas027 caça aos gângster ... na netfl...        NaN  \n",
       "@thaynvictoria6 assisti a voz do silêncio na ne...        NaN  \n",
       "@casperdiogo da outra vez demorou pra ir pra ne...        NaN  \n",
       "netflix ja pode colocar a terceira temp de elit...        NaN  \n",
       "só qria passar a tarde deitadinha com ele vendo...        NaN  \n",
       "passar o dia todo vendo netflix                           NaN  \n",
       "hoje eu só queria um programinha de casal, netf...        NaN  \n",
       "perdi minha conta no netflix logo quando to que...        NaN  \n",
       "netflix espero q essas season atypical seja per...        NaN  \n",
       "todas as séries podiam ser igual vis a vis na n...        NaN  \n",
       "o governo liberal que vocês disseram aí kkk htt...        NaN  \n",
       "quase me convidei pra ir assistir netflix com e...        NaN  \n",
       "\n",
       "[500 rows x 3 columns]"
      ]
     },
     "execution_count": 227,
     "metadata": {},
     "output_type": "execute_result"
    }
   ],
   "source": [
    "base=pd.ExcelFile('NetflixNrt.xlsx')\n",
    "data=pd.read_excel(base,'Treinamento')\n",
    "data_indexado=data.set_index('Treinamento')\n",
    "data_indexado"
   ]
  },
  {
   "cell_type": "code",
   "execution_count": 228,
   "metadata": {},
   "outputs": [
    {
     "data": {
      "text/plain": [
       "Index(['milhões de séries disponíveis na netflix,mas minha preferência é sempre #glee!!!',\n",
       "       '@buriedslive vai se fuder e me empresta sua netflix',\n",
       "       'eu assisti 5 episódios de uma série na netflix e percebi que tava no 4g vsf',\n",
       "       'estou assistindo as telefonistas, stranger things e how to get away with murder, além de ter vis a vis no backlog. daí vem a netflix e me lança nova temporada de elite! não to preparada!',\n",
       "       '50 tons mais escuros vai ta na netflix nen adoro😅',\n",
       "       'to tão por fora de tudo que eu vi hoje que saiu greys na netflix',\n",
       "       'malta digam ai séries para ver na netflix',\n",
       "       '@jcarloscr todas as séries originais amazon que eu assisti tinham uma qualidade superior na parte técnica. e gosto bastante dos roteiros mais diferenciados. é bem menos óbvio que a netflix',\n",
       "       'e minha netflix q aparece que lancou a 15 temporada de greys e a 2 de elite e nada delas la',\n",
       "       '@felipeneto @vislompo @thiagopinheiro2 @cardoso @abbondanzaisa @cristiano_m_g @youpix a tv a cabo está sobrevivendo com ajuda de aparelhos. já tem operadora fazendo parceria com a netflix, pra que sua assinatura seja descontada na fatura e você acesse a netflix a partir dos equipamentos dela. como eu disse, sobrevivendo com ajuda de aparelhos.',\n",
       "       ...\n",
       "       '@casperdiogo da outra vez demorou pra ir pra netflix?',\n",
       "       'netflix ja pode colocar a terceira temp de elite já mo',\n",
       "       'só qria passar a tarde deitadinha com ele vendo netflix',\n",
       "       'passar o dia todo vendo netflix',\n",
       "       'hoje eu só queria um programinha de casal, netflix e uns dengo 😔',\n",
       "       'perdi minha conta no netflix logo quando to querendo ver um filme',\n",
       "       'netflix espero q essas season atypical seja perfeita, nn aceito menos',\n",
       "       'todas as séries podiam ser igual vis a vis na netflix, temporada nova saindo rapidinho',\n",
       "       'o governo liberal que vocês disseram aí kkk https://t.co/gq7xajdpug',\n",
       "       'quase me convidei pra ir assistir netflix com ela, eu só não fiz isso pq eu vou sair hj namoral'],\n",
       "      dtype='object', name='Treinamento', length=500)"
      ]
     },
     "execution_count": 228,
     "metadata": {},
     "output_type": "execute_result"
    }
   ],
   "source": [
    "data_indexado.index"
   ]
  },
  {
   "cell_type": "code",
   "execution_count": null,
   "metadata": {},
   "outputs": [],
   "source": []
  },
  {
   "cell_type": "markdown",
   "metadata": {},
   "source": [
    "___\n",
    "### Montando o Classificador Naive-Bayes\n",
    "\n",
    "Considerando apenas as mensagens da planilha Treinamento, ensine  seu classificador."
   ]
  },
  {
   "cell_type": "code",
   "execution_count": 229,
   "metadata": {},
   "outputs": [],
   "source": [
    "import re \n",
    "\n",
    "def cleanup(text):\n",
    "    \"\"\"\n",
    "        Função de limpeza muito simples que troca alguns sinais básicos por espaços\n",
    "    \"\"\"\n",
    "    punctuation = '[!\\-.:?;\\n#@]' # Note que os sinais [] são delimitadores de um conjunto.\n",
    "    pattern = re.compile(punctuation)\n",
    "    text_subbed = re.sub(pattern, ' ', text)\n",
    "    return text_subbed    "
   ]
  },
  {
   "cell_type": "code",
   "execution_count": 230,
   "metadata": {
    "scrolled": true
   },
   "outputs": [
    {
     "name": "stdout",
     "output_type": "stream",
     "text": [
      "['milhões de séries disponíveis na netflix,mas minha preferência é sempre  glee   ', ' buriedslive vai se fuder e me empresta sua netflix', 'eu assisti 5 episódios de uma série na netflix e percebi que tava no 4g vsf', 'estou assistindo as telefonistas, stranger things e how to get away with murder, além de ter vis a vis no backlog  daí vem a netflix e me lança nova temporada de elite  não to preparada ', '50 tons mais escuros vai ta na netflix nen adoro😅', 'to tão por fora de tudo que eu vi hoje que saiu greys na netflix', 'malta digam ai séries para ver na netflix', ' jcarloscr todas as séries originais amazon que eu assisti tinham uma qualidade superior na parte técnica  e gosto bastante dos roteiros mais diferenciados  é bem menos óbvio que a netflix', 'e minha netflix q aparece que lancou a 15 temporada de greys e a 2 de elite e nada delas la', ' felipeneto  vislompo  thiagopinheiro2  cardoso  abbondanzaisa  cristiano_m_g  youpix a tv a cabo está sobrevivendo com ajuda de aparelhos  já tem operadora fazendo parceria com a netflix, pra que sua assinatura seja descontada na fatura e você acesse a netflix a partir dos equipamentos dela  como eu disse, sobrevivendo com ajuda de aparelhos ', 'sonhei que tinha saído o filme que a demi vai participar na netflix', '2 vzs foram assisitindo finding dory (que chegou na netflix) e 1 ouvindo orange juice 🤧🤧🤧', 'fui mostrar pros meus pais o show do  whindersson na netflix  mano começou a cantar \"pega, pega, pega, pega no meu pau\" eu me rachando de rir por dentro, mas mantendo a pose, até pq meus pais são pastores kkkkkkkkkkkjj', 'colocaram meu filme fav na netflix aaaaaaa é hoje que eu vou assistir o mesmo filme 2763 vezes', 'minha mãe começou a ver uma série coreana na netflix meu pai ficou zuando mas foi assistir junto ela dormiu ele assistiu 8 episódios enquanto ela dormia e começou a segunda temporada sem ela kkkkkjjjjj ela n tá menos q mto puta nao', 'tive que assinar a telecine só pra assistir amélie poulain pq a netflix simplesmente tirou essa obra de arte do catálogo 😩 https //t co/c3ouyeffbl', ' devanil me empresta uma conta na netflix, devanil  nunca te pedi nada ', 'alguém indica algo p assistir na netflix', 'esse mês saí a quinta temporada de b99 e a última de arthdral chronicles amém netflix', 'assisti rápido demais elite 2, quero a terceira temp pra ontem netflix', 'gente  acho que tô apaixonado mesmo   vcs acreditam que tive um pesadelo hoje onde a netflix tinha lançado a 2° temporada de sintonia e tinha trocado o ator do mc doni, daí eu tava triste chorando ¿  kkkkkkkkkkkkkkkkkkk', 'que filme lindo, parabéns  bethanyhamilton pela força de vontade e batalha pela vida, és uma vencedora  assista na netflix 🙏🏽🌊🦈🏄🏼\\u200d♀️⛰☀️  coragemdeviver em sup surf conserto https //t co/87xubzhcpu', 'com mean girls no catálogo da netflix eu agora vou ficar sem costume mesmo aaaaaa', ' haddad_fernando bom dia brimo,  a coisa é mais em baixo  tem um documentário no netflix chamado the family a democracia ameaçada, sobre os pentecostais e a política americana  ali você vai entender do que se trata essa foto ', 'ai velho só queria ver meu rin okumura de volta mas a netflix tirou blue exorcist do catálogo e eu sou a pessoa mais triste do mundo, vou ter que ver algum site pra assistir online https //t co/v4a5mdsqvz', ' chbljh lindo belíssimo cheiroso gostoso exuberante pizza pornhub netflix', 'acho que vou assinar a amazon prime   tô sem netflix (tem a do meu irmão, caso eu queira muito)  sinto que vi quase todo o catálogo bom de lá ', \"peço perdão por sempre surtar com a netflix por não ter liberado nada da terceira temporada de atypical i'm such a clown\", 'a tarde vai ter que ser de netflix e pipoquinha, a noite é cana, gela e corote ', 'achei q the crown nao ia passar dessa s3 nao do jeito q a netflix ta sendo e ela sendonuma das series mais caras da história', 'so to bem deitada com o babe a ver netflix com esse tempo d merda', ' handsomevill nem precisa anunciar   netflix capitalista renova tudo até 13rw para mais uma temporada', ' barbarakq tem sim  é original netflix inclusive', 'bom dia galera 🌞  me indiquem uma série boa    netflix  sabadou  pipoca  tv', ' netflix_adicted ya já soube', ' maripoppins_  maahbrunetto eita não sei dizer, eu baixei ele e tenho na minha coleção de filmes guardado  mas da uma pesquisada na netflix e no now ', 'so queria alguma coisinha legal pra ver na netflix', ' sphywk tem no gshow eu acho as temporadas, na netflix só tem na us  (', 'alguém poderia por obséquio me dar a senha da netflix   (', 'juro que por mim eu só pediria uma pizza, passaria o feriado assistindo netflix e me embriagando em casa, mas sla o jeito que a paula não aguenta ficar em casa é diferente', 'eu só queria minha netflix de volta pra assistir a t2 de elite', ' giyuurs eu to assistindo black butler e devil man na netflix, n sei se vou terminar devil man todo ne mas     vou te passar uns filmes de anime bom q tem la pra tu ver la no zap', 'é sensacional quando a gente no tempo livre troca assistir netflix pra ler um livro', 'só eu tenho problemas com a netflix   nunca sei se quero terminar as séries pendentes ou se começo novas  é um ciclo sem fim ', 'o que dizer dessa geração netflix  só baixaria ', 'só queria ter uma netflix pra poder olhar  minhas séries', 'essa série é tão boa    certeza que a netflix vai cancelar 😭', 'eu acho que se algum dia tirarem itazura na kiss da netflix eu morro desidratada de tanto chorar', 'minha assinatura no netflix termina daqui uns dias  e agr ela resolve atualizar as minhas séries  mais direta que isso,impossível', 'nada de role hj, só spotify, netflix e youtube deitadin no barraco suave', 'irei assistir esse filme todos os dias até sair da netflix https //t co/bsobu1nvji', ' laubaylao nunca ouvi falar, tem na netflix ', 'sábado chuvoso com netflix ❤️', 'melhor filme ou série/desenho q vc assistiu na netflix   — difícil,já assisti tanta coisa boa https //t co/raxjqrpfqq', 'alguém que me empreste netflix para ver a nova temporada de elite por favor🙏🙏', 'aumentou essa porra de netflix dnv pqp', ' netatende será que nunca vai chegar uma fatura com valor certo  dessa vez estão cobrando uma assinatura da  netflixbrasil que não fiz com vcs  meu pagamento da netflix é direto no cartão de crédito há anos  favor corrigir ', 'bom dia pra quem descobriu que tem o show do kygo na netflix', 'eu preciso de uma conta na netflix pra poder assistir elite 😭', 'tive um sonho muito loco irmão vou até escrever um roteiro é mandar pra netflix ', 'nunca vou superar que the vampire diaries saiu do netflix', '29 graus hj só se for no sofá com o combo netflix+edredom', 'enquanto uns estao preocupados com a temporada de elite eu estou com a s5 de htgawm que acabou de chegar na netflix obrigada senhor eu sei que tu me sondas', 'bem vou mas é cancelar a netflix para ver se me começo a concentrar na escola', ' talifnn uma série maravilhosa da netflix, apenas veja', ' marvelnotices o prêmio tem q ser a conta na netflix rs', ' hihearteu não tem no netflix 😔, mas conheço uns sites e apps que tem se quiser   ', ' jeffersonapg olá  por gentileza, entre em contato com a nossa central de atendimento através do número 0800 892 5063 ou através desse link  https //t co/wupdwe0ldq para verificarmos isto, ok   *mp', 'música e coral  já adorei  sabadodetremurasdv  já assistiu a \"a escolha perfeita\" na netflix   https //t co/ntcoy4fezd', 'acho q hoje vai ser eu, pote de sorvete e netflix', 'netflix fechou contrato com andrucha waddington, da conspiração filmes, para o cineasta coordenar a segunda temporada da série\\xa0vai anitta,\\xa0em torno de\\xa0 anitta \\xa0uma equipe de mais de cinquenta pessoas está envolvida na produção, a ser exibida pela plataforma em 190 países  https //t co/od47vaycbd', 'e a netflix não faz nada https //t co/cirgjwcgmj', ' camilaserratr brigada, amiga    netflix me sugeriu e não quis procurar no google pra não ler demais  )', ' amandarch aí, vamos marcar um role de fondue vinha e netflix por favor', 'fui abençoada com esse feriado no sábado, não precisei ir pro curso é esse tempinho chuvosa só resta uma coisa  ficar deitada na minha cama e assistir uma netflix', 'bom dia, eu dormi ontem só tentando escolher filme na netflix, recomendo ', 'bazem netflix e vejam a ressaca 1 e a ressaca 2 melhores filmes do mundo', 'deem uma sacada em telefonistas (las chicas del cable) na netflix', ' luizzasouto quem fala o netflix  ', 'atenção meninas malvadas voltou para netflix repito meninas malvadas voltou para netflix', \"sad or happy i don't even know🤷\\u200d♀️vou mas é ver netflix aí nem me lembro onde estou\", 'enquanto eu tiver internet  netflix  amazon  tv do jeff  vcs não me verão socializando    😅 https //t co/voyjl0se7n', '2 temp de the end of the f***ing world chegando e netflix fazendo nada além que sua obrigação pois estou esperando sedenta há mt tempo', 'só por assistir um xis e comer uma netflix', 'pqp a netflix tirou orgulho e preconceito do catálogo oq vou fazer da minha vida agr', 'e a netflix e umas cerva ', 'elite só é a melhor série da netflix pq tem um mishlawi gay', ' bogusgabriel  claudetema1  cruzeiro feriado está tudo fechado  o jeito é assistir filmes no netflix ', 'depois desse desfile todo cagado só por assistir uma netflix com a  , mas só falta a  ', 'saiu a poha da tp nova lá e eu aqui com minha netflix bugado    ai ódio', 'só acho que a netflix deveria acelerar as produções de séries já confirmadas ', 'netflix fechou contrato com andrucha waddington, da conspiração filmes, para o cineasta coodenar a segunda temporada documentário\\xa0vai anitta,\\xa0 está envolvida na produção uma equipe de mais de 50 pessoas, para ser exibida pela plataforma em 190 países  https //t co/v1ziivtq7p', 'era só the vampire diaries voltando pra netflix hein', 'porra netflix para de atualizar as séries que eu gosto bem na minha época de provas, assim n da', 'eu coloquei elite para ver né 2 temporada e voltou pra primeira kkkkkkkkk to lá no 2 ep sem perceber que é a primeira kkkkkk por isso a netflix não pode demorar muito pra lançar  netflixbrasil  pfvvvv', 'elite melhor serie latina da netflix pq choras la casa de papel', 'quando a s5 de b99 entrar na netflix vou ser obrigada a assistir dnv pq amo demais', ' this_mendes  sonypicturesbr agora assisti, jovem mestre, graças à netflix  realmente sensacional ', 'procurando dory entrou na netflix e eu sou a criança mais feliz nesse momento', 'uma parte dos meus amgs vão fzr alguma coisa q eu n fui chamada e a outra parte vai no saara, o jeito é ficar em casa vendo netflix', 'saudades minha netflix', 'gente assistam lascados na netflix eh mto bom', 'demorei tanto pra terminar a quinta temporada de htgawm que ja tem na netflix e so fui descobrir ontem', 'eu to um nojo com a mh netflix de volta, ngm me tira de casa mais, so a duda, thais, giu, leandro, yv e n sei mais quem, q eu ja combinei de sair hj  sofroh  quero ficar em casa e n quero, n sei, to confusa', '[7/9 10 14] melhor amigo  ontem não consegui acessar [7/9 10 15] melhor amigo  muita gente na netflix [7/9 10 15] melhor amigo  o auge nega [7/9 10 15] melhor amigo  o dono ficar barrado da festa', 'nesses últimos dias eu aprendi que para você se sentir bem a única solução é ficar sozinha em casa e  assistir netflix ', 'da cela para a tela  ex detento vira ator em série da netflix https //t co/nf2cikcpjm', 'da cela para a tela  ex detento vira ator em série da netflix https //t co/cyamutziur', 'netflix *lança uma série*  vocês um minuto depois do lançamento    ja assisti tuuudooo  spoiler spoiler  spoiler', 'acordar e olhar procurando dory na netflix foi a melhor coisa', 'aí minha netflix tá travando  tô muito chateado  tô achando que é o computador ', 'só hoje hackearam duas vezes a minha conta na netflix', 'vi aslam nos trends e ja corri pra clicar achando q a netflix tinha confirmado adaptaçao', '💯🔞biografia🔞💯 😈 não lembro 😊    📆10/08 ✨um amor ☁️ dentista 😜 taci 🍃role  🍁infelizmente  🍻sim 👮🏻no 🤥não   🍿 netflix  🌝ficar sério  😐sim 🤫 sim 🥰    😉sou suave 😁já  🤤pizza 👻 no 🤨 no 🤡no  fav que te mando', ' igormota1999 simm, a netflix poderia ir botando os eps lá também 😔 tenho maior preguiça de baixar', 'emprestem aí netflix', 'todas as minhas séries atualizaram e eu to sem netflix', 'vemmmm ❤️  “cem anos de solidão”, de gabriel garcía márquez, vai virar série na netflix https //t co/zgfyf2eemk via  revista prosa verso e arte', 'algum homem feminista afim de me emprestar a netflix rapidao p eu ver as novidades', 'o foda da vida d boy é quando vc ta d ressaca e decide ver algum filme na netflix, ai junta a droga da noite passada c o romance q tem em todo filme e boom bate sdss d alguém, mas passa rapidin quando vc lembra q tem outra resenha kkkkk', 'uma pesquisa rápida  alguém que tenha amazon prime sabe me dizer se é bom quanto a netflix ', 'podias estar a ver netflix cmg', 'princesa salvou ontem cm a conta netflix 💘', 'diária de uma paixão na netflix aaaa   tudo pra mim', ' netflixbrasil bom dia netflix tdo bem  por gentileza será que vc poderia colocar novamente os filmes  o dia depois de amanhã, 2012, o diabo veste prada, hitch conselheiro amoroso, transformers, e colocar também a era do gelo por gentileza  gratidão 👏🙌🏼', ' mannymontana  nbcgoodgirls  netflix 2 temporadas assistidas em pouco mais de 24h com sucesso  goodgirls 😄😍', 'esta triste😭😭😍😋   durma 31 horas🎯💝💝 coma 999 pedacos de pizza🍕🍕😋😔 beba 83 litros de refri 🍷🍷😖😖 assista 76 horas de netflix 💔🌱🛏 fume 38 maços de cigarro🤗🤗  não funcionou 😋😋🌷 junte 😉 todos esses numeros 😄🤔🤓 e me chame😝👉👉 no zap😥😱', ' netflixbrasil cuidado com o  mcrivella ele vai proibir a netflix no rio de janeiro', 'bem q alguém podia me emprestar a netflix só por hj pra eu ver a série q eu quero', 'esse tempinho ta pedindo um netflix o dia todo', 'nem de preto, nem de verde e amarelo  tô de rosa, pijama rosa no conforto de minha cama com meu netflix e minhas guloseimas (͡° ͜ʖ ͡°) obg, feriadão  (mesmo sendo sábado)   dia7depretonarua', 'nessa chuvinha era só eu sozinha em casa, elx e netflix poxa', ' gogobxy quero te fazer ver um filme comigo, mas você não tem netflix   ', ' eldergm_ o globoplay já é mais barato que netflix, a globo já tá preparando pra continuar existindo no futuro e os cara torcendo pra tv acabar só pra ela talvez falir, patético', 'minha gente assistam o stand up de whindersson na netflix eu tô chorando de rir isso pq eu não gosto de stand up  reizinho do humor que não precisa ofender ninguém nem fazer piada preconceituosa pra ser engraçado', 'os clichês que eu quero assistir a netflix tirou, que tristeza', 'eu vou zerar os filmes romanticos e de colegial da netflix esse fim de semana kkkkk', 'e tem a versão  em filme também   \"com amor, simom\", tá  no netflix e é  lindo  assistam    leiacomorgulho', 'quero a segunda temporada de the a list na minha mesa  netflixbrasil  netflix', 'alguém indica um filme de comédia bom no netflix ', 'alguém me indica uma serieeeeee mas tem que ta na netflix', 'corri pra assisti elite, agr a st netflix vai demorar uma vida pra s3', 'me recomende algum filme/série que tenha na netflix  porrr favorrr', ' vivieira_crf ação tem shaft2      jonh wicky 1 e 2    eu particularmente uso mais o kodi que o netflix      mas', 'nessas horas tudo q eu precisava era uma maratona de house mas saiu da netflix', ' maisa netflix poderia criar uma série assim   maísa e tetê, inseparáveis até que um dia super nanny vem e rouba a tetê de maisinha, maisinha começa a procurar sua tetê e vive varias aventuras    achei digno de oscar kkkkkk', 'meu irmão falou q tinha pago a netflix mas o fdp pagou foi nd', ' anneshriey porque tipo, praticamente todo mundo passa raiva com a netflix porque ela queria cancelar amiga mas aí de acordo com a pessoa/série eles colocam outra coisa', 'procurando dory na netflix foda se ótimo dia', 'não acreditando que ontem nós tiramos lá casa de papel na netflix para ver o brasil empatar com a colômbia', 'o documentario gold stars que tem na netflix sobre copa do mundo eh perfeito', ' netflix melhor app de séries   ❤️🙏', 'só queria dizer que ritmo quente tá no catálogo da netflix e é muito bommm', ' buzzfeedbrasil sugiro também derry girls, no netflix ', 'so queria uma amizade que viesse em casa pra assistir netflix cmg, nao preciso de bebida ou role o jeito que eu to       ', 'vou fzr um bolo de cenoura com cobertura de chocolate, e passar a tarde toda na netflix, espero q dê bom pq amanhã tem cachu', 'alguém do elenco mandou e mail para a leigh e assinou \"sem luto\"  libera o elenco logo,  netflix 👀 https //t co/zq31f8ivtk', 'silêncio  netflix tá divulgando vis a vis  https //t co/xhahlczlu4', 'hoje vou passar o dia todo assistindo filme, netflix que me aguarde', ' sheeriomess ahhhhh isso tbm aconteceu cmg, mas eu acho q é algum bug da netflix, pq ela tem feito isso c outras series tbm   massss aquela da mulher é antes da situação do menino enttt n sei explicarrr', 'só queria uma netflix pra poder assistir elite', 'falta 3 episódios pra eu acabar elite e a minha conta na netflix foi suspensa pq esqueceram de pagar   olha esse white girl problem aaaaaaa', 'tão mau que a netflix deu erro e parou isto sozinho, vou interpretar isto como um sinal', ' renatacabritaj carnival row, problema que não tem na netflix, só em site online', ' cavalnes  netflix amo muito um prof de inglês', 'resolvi maratonar os filmes do batman de 1989 até o último já lançado e pra minha surpresa não tem nem um único filme sequer na  netflix  o catálogo tá ficando cada vez mais merda ', 'netflix esforçou se em setembro 💗💓💖 só falta la casa de papel e tá perfeito', ' lara_carolina98 os meus tão assistindo netflix com certeza e chorando demais', 'fui procurar uma comédia romântica na netflix e uma das primeiras que apareceu foi when we first met e embora eu saiba que tem um monte de filme bom do gênero que eu nunca assisti, a vontade que eu tenho é de assistir o mesmo filme pela 917291728363 vez', 'vou tentar ter um sábado produtivo sério tô cansada de netflix', 'bom dia alguem poderia por obséquio dividir netflix comigo só pra eu ver a segunda temporada de elite rapidinho kk pfv poxa', ' robinrulex e só na netflix que tá com essa palhaçada 🙄', 'sábado , cedinho , fazer café + netflix, mas eh tão boooooom🥰 https //t co/pryzhxwtz0', 'terceira temporada de elipe na netflix, ufa', '\"cem anos de solidão\", de gabriel garcía márquez, vai virar série na netflix   revista prosa verso e arte https //t co/duy2aczzl8', ' cecicanto12 tem a 4° ainda  mas não tem na netflix 🙄', 'foi só ver um filme do nicholas sparks que a netflix tá colocando de sugestão todos os outros  não vai ter jeito, vou ter que fazer uma maratona e ver todos eles neste belo sábado chuvoso', 'queria saber pq logo o two towers não tá na netflix https //t co/gxephrhelp', 'procurando dory entrou na netflix  se tem filme que é melhor que procurando nemo, é esse  e ainda tem os barbixas dublando as focas pra me fazer amar o filme mais ainda', 'hj meu dia vai ser resumido em   cama+pipoca+netflix=dia   perfeito 🌧️💕', ' eldergm_ a globo vai continuar o monopólio dela até o fim não tem turma anti globo que acabe com a audiência dela  no dia que a gente chegar num ponto que toda a população tiver acesso a netflix é que a globo vai falir e os outros canais vão pro cacete msm', 'netflix e pipoca logo cedo, boa p nois', 'mano o bruno me deu a netflix dele pra mim assistir elite e caralho eu amo muito um menino', 'netflix colocou mean girls dnv no catálogo, agora está conseguindo ter meu respeito de volta', 'para curtir no fim de semana  ‘falling inn love’, novo filme da netflix que já tem uma verdadeira legião de fãs https //t co/iiwwjcinug https //t co/abtkxkmfdg', ' ikmpoa entendemos  só acontece com o aplicativo netflix  siga esses passos  tire o chromecast e o roteador da energia por 2 minutos  limpe o cache e os dados do netflix  desinstale e volte a baixar o aplicativo  atualize todos os aplicativos e o seu celular  reinicie o celular ', 'preparem os lenços e papel, para quem gosta de chorar é só começar 🤣 https //t co/gxrsennsic', 'sabadão tranquilo só vou assistir netflix e comer', 'hj é só água p ficar hidratada cama e netflix', 'tem creed na netflix     pq eu n to achando 🤦🏽\\u200d♂️', ' backstagetv2 mas essa série já não tem segunda temporada   uma vez alguém me disse que estava na netflix', 'surreal o nível que dirty dancing me emociona, sério  nem parece que eu já assisti trocentas vezes  que filme maravilhoso   dirtydancing  netflix', 'meus amigos não agitam nada pra hj ja vi q vou ficar assistindo netflix o dia todo', ' lauravhm  carlazambelli17  felipeneto você tem noção da comparação que você fez  a disney, netflix, youtube, google e outras bilionárias seguem uma agenda  as únicas pessoas capazes de censurar são os consumidores  hoje em dia a gente é praticamente obrigado a ver essas bobagens ', 'o daora eh q p coisas q envolvem minha familia (meu perfil na netflix por exemplo) q são controladas pela minha irmã, eu posso usr o apelido q ela me deu ja q ele eh neutro   ', ' babyhalliwell sim, pior q a série nem tem fãs suficientes p pedir divulgação e cm a netflix é assim, só dando mt audiência p investir em divulgação  mas ainda bem que é renovada smp kkkkkkk', 'já acordei abrindo a netflix p terminar kkkkkk', 'pelo amor de deus netflix, solta a season 3 de dark', 'hoje eh dia de netflix', 'há três anos eu tava assistindo lost pela segunda vez, agora já tô na terceira  to numa mágoa que vai sair da netflix próximo mês 😭😭😭😭', 'quero companhia para ver netflix agora', ' aliceagonc me empresta sua netflix p eu ver', ' loisbvb painho se deixar passa o dia todo vendo filme, passa o dia falando \"esse negócio de netflix é muito bom\"', 'já to vendo christian voltando pra derrubar a carla, por mim ele ficava por lá mesmo e nem voltava  nos poupe netflix', 'tem minha saga preferida de livros ai dona netflix     percy jackson e varios outros volumes https //t co/68awhd574r', 'hoje é o dia todo deitado assistindo netflix', 'meu irmão passou a senha do netflix pra alguém, não sou eu que pago mas alterei a senha agora ninguém mais tem acesso, só eu kkkkk', ' _ferrinho_ alcobaça', 'nova cpmf enquadraria até netflix e uber, diz paulo guedes https //t co/erxl8kya1a https //t co/hc1apptzdv', 'hoje eu to igual às séries boas da netflix  c a n c e l a d a', 'dona netflix se o christian está acidentado e vai fazer fisioterapia, como é que ele vai transar com a carla e o polo  pqp quero meu trisal  elite2', 'eu amo a netflix mas esse negócio de ficar fazendo a série no presente e no passado, é insuportável  https //t co/j4jn6q8pgn', 'a nem falta 3 ep pra acabar a elite e certeza que a netflix vai demorar um ano pra lançar outra temporada aaaa', 'ontem eu e dudinha fizemos um role muito de festa de pijama de filme  tinha pizza, cerveja e filme na netflix 🥰🥰🥰', 'netflix lançou tanta novas temporadas de series que n consigo me organizar p assitir', 'ou os caras acham q a record tem pau pra contratar o fagundes  é perigoso o ator ir pra netflix e fazer um carga pesada shuppuden', 'estou numa cadeira de massagens e a ver netflix, melhor não há 😎', 'esse tempinho ta bom pra um netflix e uns baseado com a morena', 'sabadou chuvoso, vendo netflix ❤️', ' mrlnns o murro na netflix esse amazon eh quanto por mês ', 'sem netflix e eu queria assistir elite hoje, que saco ', ' igormota1999 não na netflix ainda, acredito eu tá passando num canal aí e como passou ontem, já tem o download', '2 dias que quero ficar deitada vendo netflix', 'meu deusss eu odeio a netflix por lançar só 8 episodios da serie', 'eu quero esse casal juntos na season 3, se vira netflix https //t co/chhr3ulu0e', 'netflix quer acabar comigo liberando temporadas de várias series que eu assisto juntas', '💯🔞biografia🔞💯 😈 ontem 😊 i  📆 15/12 ✨um amor  💭 delegada 😜 luh 🍃ficar em casa 🍁sim 🍻sim 👮🏻não  🤥 não  🍿 netflix 🌝 namorar  😐 sim 🤫 não  🥰 talvez 😉 depende  😁 não  🤤 yakisoba 👻 sim, 3 🤨 não  🤡 não   n vou mandar', '💯🔞biografia🔞💯 😈 ja faz 84 anos 😊 não tenho eu acho 📆 13/07 ✨ um amor  💭 alta  😜 belbs 🍃 ficar em casa 🍁nunca 🍻 água e tals 👮🏻 nunca   🤥ja   🍿 netflix  🌝 namorar 😐 ja 🤫 nunca 🥰 espero q nao 😉suavassa 😁já 🤤pizza 👻 tenho 3 hahah 🤨já  🤡nao  fav que te mando', 'agora que vi que tem senhor dos aneis na netflix e com a 5 de htgawm eh esse fds que eu não estudo  n a d a ainda mais com essa chuvinha só faltou um mo', 'quem compôs as músicas dos beatles todo mundo sabe que foi o algoritmo do netflix', ' dhorta8 vi a série de f1 sobre a época passada no netflix e agora quero bué ver f1 😅', ' felipe_assis2 queria ver porém minha mãe esqueceu de trocar o cartão que tava a conta do netflix e agora tá bloqueada k', 'pra hj eu só queria uma netflix e um xose com o problema kkkkk', 'melanie martinez lança um filme ótimo fora de qualquer plataforma monetizada, o filme é melhor que muitos outros aii ein     netflix  📉   kthrough12  k12  k12film', 'eu do muito valor aos comentários das instituições no tt  netflix, nubanx, inter e etc    tão de parabéns kkkkkk', 'como eu queria ta agr comendo chocolate netflix  e a pessoa que eu gosto como eu to  arrumando a casa kkkkk aff', 'oq dizer da minha cv com meu cunhado [7/9 09 31] babi  tava com sdds de conviver com vc, tenho q confessar [7/9 09 31] babi  vou te deixar parasitar minha netflix de nv [7/9 09 32] matias  aaah [7/9 09 32] matias  eu tbm estava 👀 [7/9 09 33] matias  não se gabe por eu falar isso', 'hoje ninguém me tira do meu quarto,vou passar o dia deitada assistindo netflix 🌩💙', 'queria assistir um filme de romance mas eu já assisti quase todos da netflix', 'o ruim de dividir a netflix eq as vezes tu n consegue fazer uns downloads ', 'caralho ia assistir o penúltimo ep e a netflix ta c pagamento atrasado, oh vida', ' whoisthiefcarti trocaram a pass q tinha netflix , filhos da puta', 'bebi demais ontem a noite assistindo o show do whindersson na netflix  esse cara é foda 😂', 'n creio que cancelei netflix dias antes de sair elite', ' smedinasz meu irmão tá com netflix agr, e tá amando ver stranger things', 'me recomendem um dorama incrível, por favor        (pode ser fora da netflix, mas se for nela eh melhor)  vo coloca os q eu ja vi e recomendo ai embaixo   stray_kids   straykids  스트레이키즈', '《netflix fechou contrato com andrucha waddington, da conspiração filmes, para o cineasta coordenar a segunda temporada da série\\xa0vai anitta,\\xa0em torno de\\xa0anitta \\xa0uma equipe de mais de cinquenta pessoas está envolvida na produção, a ser exibida pela plataforma em 190 países 》 https //t co/vv8zxesqmt', 'vai lá pow, censura a disney, censura hollywood toda, censura a netflix, censura a porra toda mesmo, conteúdo lgbtqi+ não pode, meus filhos vão virar gays  ta na hora de censurar o macho hétero tbm, tomar no cu ', 'ódio da netflix por toda vez fazer isso com elite, achei que a segunda temporada iria ser dez ep e foi oito, me iludi todo', 'esse menino parece mto um ator da netflix alguém me ajuda a lembrar do nome https //t co/0ogzuflri0', 'me digam coisas boas pra ver no netflix pois minha mãe tóxica cancelou e só tenho até dia 15 pra assistir', 'só queria companhia pra maratonar netflix hj   😥🤣', 'vendo conta de netflix, mais info dm', ' licio fiz isso fazem 3 meses    agora só youtube, netflix e cruchyroll ', ' netflix encomenda episódios extras para a última temporada de  lucifer  https //t co/dqppih9hjg', ' backstagetv2 seria a terceira então porque a segunda já tem na netflix', 'vamo com calma netflix eu to acabando a primeira temporada ainda mo https //t co/g2gwdetoxe', 'gente vcs sabem se o popcorntime tá funcionando bem ainda  pq tipo, a netflix tá tirando muita coisa q tá me deixando disappointed', ' drunktostyles tbm fiquei assim, te entendo completamente  isso que eu te indiquei é um filme (tem na netflix, a duração é 2h — mas se fosse 5 não me importaria) e acho que vais amar  assim que assistir me avisa 💛', ' jypepiz vai esperar sair no netflix ou vai assistir em outro lugar ', 'ufaa, fiz uma conta da netflix', 'meninas malvadas voltou pra netflix aaaaa https //t co/hqzqgvprla', 'parece um pôster do elenco de uma série mexicana do netflix https //t co/subbx8dmmg', 'faltam 7 episódios p eu acabar a quinta temporada de b99 e não chagaa na netflix', ' netflixbrasil falando em inferno, cadê a outra temporada de sabrina, dona netflix   ', 'queria rever reign mas tiraram todas as temporadas da netflix e deixaram só a 4ª wtf qual é o sentido disso', 'sou tão apaixonada com ele que pago o lanche que ele quiser sorrindo de orelha a orelha   chantageio ele  passo a senha e usuário da minha netflix só se ele voltar pra ca de novo pra ficar cmg (pq ele foi pra carmo hj 💔)   na verdade eu amo ele pra caralho  ', 'a nossa vida é original, mas não é um netflix ', 'fui toda feliz assistir tvd na netflix e descobri que tiraram do catálogo pqp eu odeioooo issooo', 'hoje tá a cara do edredom e netflix, até queria sair mas ninguém agita nada', 'alguém me indica um desenho pra assistir na netflix  (', 'tao falando bem da segunda temp de elite, espero q eu nao perca tempo   a netflix ta pecando mt em series esses tempos', 'e eu que jurava que titans ia estrear a season 2 ontem na netflix só pra ficar arrasada ao descobrir que estreou só num streaming da dc e só nos eua  😭😭😭', 'alguém pra assistir procurando o nemo comigo na netflix', 'já viram o documentário dele na netflix muiiittooo loko https //t co/m1zvdh6bm5', ' isa_bela04 aiii eu ainda n vi esse filme quando tiver na netflix vamo ver juntass', 'ansiosa demais pra ver peaky blinders mas a netflix só vacila', 'dormir o seguir viendo netflix', ' rbcferreir e vai sair da netflix entao não tem erro', ' thaynvictoria6 só não tem na netflix, uma pena, mas se quiser eu te indico filmes da netflix', 'agora que minha amiga lisandra pagou o netflix eu posso assistir glee', 'tirei um tempo pra relaxar, vi tanto filme aleatório no netflix que nem sei', ' vnsxnts mkkkkkkkk eu achei q n tinha saído da netflix kkkkkkkkkkkkk', 'o conforto que a netflix traz é uma coisa misteriosa, né  estou levemente atrasado em htgawm mas estava com preguiça de baixar os episódios e tal, acabaram de lançar a quinta temporada na netflix e eu estou vendo numa boa ', 'eu não aguento mais ficar sem netflix aaaaaaa q saco', 'não dá pra matar a saudade mas eu tenho que achar algo pra fazer  tomara que tenha algo legal na netflix', 'q preguiça na moral pra hj eu só queria uma massagem nas costa e uma netflix', 'eu simpsmente estou ignorando a casa e colocando um drama romântico na netflix porém pensando  “as 15h eu limpo tudo   ” https //t co/u3ibxn1jgy', 'tempo propício p ficar agarradin vendo netflix comendo besteira', ' melolynnara aaaaaaaaa eu to sem netflix, lascou eu quero ver elite', 'só uma netflix nesse frio —  https //t co/v1snuqecay', 'queria alguém pra dividir a netflix', ' cleititan olá  não se preocupa, temos um artigo em nosso centro de ajuda para este erro  ) segue esse passo a passo  https //t co/xjvelou486 que tudo dará certo  *em', 'a netflix que vai me consolar hj 😑😂', 'na moral como que vocês conseguem esperar tanto pra assistir greys na netflix  mdssssssss    ', ' julianadesuu eu tenho amazon e netflix', \"netflix forçou lançando grey's anatomy, elite e station 19 no mesmo mês, tô toda perdida\", 'eu não acredito que a netflix colocou dirty dancing ritmo quente e tirou dirty dancing noites de havana, custava deixar os 2 😣', 'chamou a gata pra assistir um netflix, tive q deixar né', 'apesar de que meus fins de semana nunca tiveram essa vibe ~ficar juntinhas vendo netflix e transando~  sempre estiveram mais para  ~se fuder de trabalhar~   mas o primeiro fim de semana sempre dá aquele negócio', ' ellasomners nossa, acho que ta todo mundo assim  o ponto positivo é que the crown é uma das melhores produções da netflix, então acho que vai ser menos difícil se acostumar com o novo elenco', 'no dia  7desetembro de 1822, dom pedro chegou nas margens do rio ipiranga, levantando sua espada e disse  cadê harry potter, netflix  ', 'o ator que faz justiceiro na netflix é simplesmente incrível', 'quando a netflix e o spotifire debita ao msm tempo https //t co/lbyynwboiu', 'eu passava minha netflix pra todo mundo hahahaha sou muito idiota mesmo', '15 temporada de greys no netflix e consigo assim finalmente assisti la  minha relação com essa série é muito maluca por mil motivos   15 temporadas (e agora com a 16 chegando) foram suficientes para que eu sentisse todos os tipos de sentimentos ', 'eu tenho q arrumar a casa mas a netflix não deixa socorro', 'queria indicação de filme ou série boa na netflix', 'hoje é o dia da ferrari ser filmada pela netflix   f1nosportv  italiangp', 'e meu pai que foi entrar na netflix pela tv, e logo no inicio tava elite e com a cena do omar e ander juntinhos, quase se beijando  meu coração saiu pelo buraco do cu socorrrro  elite', 'só quero um wi fi meu pai, e a senha da netflix que eu esqueci https //t co/kehw7tb64t', 'acho que nem lembro qual foi a última vez que eu deitei pra assistir uma netflix e relaxar ', 'já terminei euphoria  elite e 13rw     netflix libera aí baby pf', ' dhousewivesbr  hatchingchange  reallymarcia  evalongoria  netflixbrasil a melhor série saindo da netflix 💔💔 pq não fazem uma página no instagram eu tenho uma ❤️', 'crl trocaram a senha da netflix vou ficar puro pprt', 'diário de uma paixão ta na netflix eu ❤😍❤😍❤😍❤😍❤😍❤😍❤😍❤😍❤❤😍❤', ' danielcdant3  netoficial faz 6 anos que cancelei a tv por assinatura  desde então só netflix, youtube e livros ', 'não acredito que esqueci de pagar a netflix, pqp 💔 fds vai ser uma merdaaaa', 'acho que vou procurar final space pra ver hj cansei de esperar entrar na netflix', ' flavioamieiro  maribedran conheça carole &amp  tuesday, novo anime musical do criador de cowboy bebop https //t co/v2uxqy1xzd', 'não me creio que um dos meus filmes preferidos de adolescente ta no netflix e eu nao sabiaaaaa', 'porra camila paga o netflix ai cara q eu quero terminar elite', 'meninas malvadas voltou pra netflix sou feliz demais', 'eu quero saber quem tá assistindo dragões no meu perfil da netflix', ' maurohenriques_ eu tenho umas 40 na lista da netflix, mas resolvi terminar de ver as séries que nunca vi por completo primeiro', 'hip hip evolution foi a melhor coisa que eu já assisti na netflix até agora', 'hoje o dia é ficar de 🐚 assistindo uma netflix', ' felippevitor mas não chegou na netflix ainda né ', 'so vou pagar netflix quando sair a nova temp de arthdal chronicles', 'acordei todo feliz achando que ia ver a 2ª temp  de titãs mas só vai sair na netflix depois', 'crl,meu tt ta só \"que noite foda\" \"que rolê doido\" ,e eu em casa vendo netflix ,sou pra casar demais  ', 'finalmente poderiam né https //t co/7xeesh8bf3', ' jpvicentim  ilcaires não sei sobre oq é, mas é da netflix espanhola, deve ser bom  eles já produziram muita coisa boa', 'véi, é sempre assim  eu e gabriel chegamos ontem, e combinamos de ficar de boa em casa, offzada, dormir cedo, beber só uma corona e ver netflix  do nada brotamos bebados, na casa do amigo, eu bebendo vodka, gabriel já em bagdá   😂 nunca é 100% off', ' pxwerupp aí mo, esse w tem na netflix ', ' taprintado eu acho show aqueles resumos que q netflix faz antes das novas temporadas, pq as novas demoram muito a sair    o resumo antes da quarta temporada de lúcifer foi sensaaaaa  sobre elite, achei melhor que a primeira  muitaaaa baixaria amo', 'banner dedicado a nairobi  lacasadepapel3  lacasadepapel4  lacasadepapel  nairobilacasadepapel  netflix https //t co/0hnfw3mzcr', 'ai namoral, n vou esperar brooklyn nine nine chegar na netflix não    dia 26 tá mt longe', 'alguem me recomenda algo de bom na netflix, eu to com preguiça de rever dark pra tentar entender essa 2 temporada', \"confira o trailer da nova animação da netflix '4 contra o apocalipse' https //t co/8l848jqiv7\", ' ptzisa é incrivel de graça qnd se ta em casa vendo no yotube/netflix, quero só ver esse show ai 🤨', ' stvigma só tem no netflix   https //t co/nb0mhxcia9', 'eu assisti os ep que tem na netflix, só que no site de anime tem mais ep e mais uma temporada, vou ter que ver onde eu parei ', 'meu pai me acordou pra mostrar os animes que chegaram no netflix', 'lançamentos e novidades netflix para assistir neste final de semana https //t co/06lk3fsih4', ' santuchil mn vê o bglh do whindersson nunes na netflix vai se mijar mn juro', ' amandansdasilva  netflix pensei o mesmo    eu tenho que estudaaaar  ensaiar   ir pra aula aaaaa', ' 3porcento vai acabar na quarta temporada  saiba mais  https //t co/tsxcoynbjy', ' carolcuritiba queria isso também    sábado chuvoso e netflix pede isso ', ' thepreciouserie ai q pena, mas n vai demorar mt pra netflix disponibilizar dublado', ' isis31589283 fala que eu mandei ele tirar o dia hj só pra dormir e ver netflix', 'tava olhando alguma coisa aquí na netflix dai eu fui repara que nunca vi a 2 temporado de vis a vis😮😮', 'recomendação que ninguém pediu  assistam glow no netflix ', 'olha esse cast puta que pariuuuuuuu the crown maior feito da netflix', ' fernandocluiz nessa logica os shoppings tb estariam sujeitos a acabar  na minha opinião, o q leva as pessoas a https //t co/7szidvvf3o casa é a experiencia  por ex netflix e o streaming em geral nao acabou com os cinemas, por causa da experiência ', 'só queria uma netflix  😭', 'eu sei que eu to com a pessoa certa quando ela me fala toda empolgada a história de um domara todo romantiquinho e a gente debate sobre romances clichês da netflix', 'alguém que me empreste netflix para ver elite  sejam fofinhos 😢❤️', 'não consigo parar de assistir  visavis  netflix', 'como parar de assistir o documentário do travis no netflix   google pesquisar', 'que dia que entra fragmentado na netflix     só ai que minha vida vai ficar completa', ' laviniasilva__ poxann, essa conta da netflix tbm é emprestada kkkkk', '💯🔞biografia🔞💯 😈 sábado 😊 n de ninguém 📆 23/12 ✨ um amor 💭 prf 😜 paixão 🍃 qualquer um 🍁 nunca 🍻 sim 👮🏻 não 🤥 infelizmente 🍿 netflix 🌝 namorar 😐 que eu saiba não 🤫 demais 🥰 um pouco 😉 suave na nave 😁 não mas quero 🤤 batata 👻 sim 🤨 não 🤡 sim  fav que mando', 'não vejo a hora da netflix colocar 50 tons mais escuro  aaaaaaaah', 'diario de uma paixao na netflix, pão com requeijão e chocolate quente    bom dia ☀️❤', 'isso ou aquilo pra ajudar na votação  (estamos perdendo aaaa)  frio ou calor  doce ou salgado  livro ou filme  branco ou preto  churrasco ou sushi  praia ou piscina  role ou ficar em casa  dia ou noite  gato ou cachorro  youtube ou netflix     mpn  bts  boywithluv  army  bts_twt', 'necesito netflix para poder ver élite) ', 'lançou um filme clichê na netflix e fala sério, esse tipo de filme meloso que eu amo me faz acreditar em contos de fadas mexmooo, e n to nem ai 🥺🥰', 'alguem conversa cmg pq n da nem pra eu assistir netflix pq n posso fazer barulho', ' darkcrystalageofresistance 💎obra maestra   netflix  jimhenson https //t co/8d4zlv9w1w', 'quero voltar p essa vida d ficar em casa  a fumar txitxo e a ver netflix  (((', 'eu so queria ter como ver netflix na tv☹️', 'o q assistir na netflix essa hr da manha', 'eu deeeeitado na minha cama netflix na tv', 'eu ia ser tão feliz se houvesse morangos com açúcar ou floribella na netflix  netflixpt', ' fepupim hahahhaha comentei pq uns dois dias atras coloquei um episodio aleatorio na netflix enquanto estava enrolando em casa  era justamente o que o jess chegava na cidade', ' leonsouza7  anittadiosa comenta  netflix  netflixbrasil', 'vou finalmente ver a 3a temporada de hip hop evolution na netflix eheh', 'o que faz quando a dona  netflix não renova a temporada da série que estava acompanhando  😪', 'aaaa eu não to acreditando em diário de uma paixão na netflix passar os dias chorando agora', 'netflix tirou o meu filme do catálogo grrrrr coloca dnv porraaa https //t co/pz2wcqfib5', 'acordei com msg de três amigos meus me avisando que minha netflix não ta pegando kkkkjkkkk', 'netflix, edredom e alimentando o dragão faminto que existe em mim      hoje nada me tira de casa     ', ' mavi_vitvit tem nem mais série boa, já assisti o catálogo todo da netflix', 'hoje vai ser igual ontem, netflix e lanche, sossegueeeeei', 'novos pôsteres de arthdal chronicles  a 3ª temporada estará disponível na netflix a partir do dia 17/09  https //t co/44khylle7x', 'vim olhar netflix na casa do vô de um carinha aí  não tinha nem teve ', 'bem tumbir pra mostrar que hj nn farei nada alem de ver netflix e comer https //t co/omvodhdp0j', ' vhopejgk eu até assistiria, mas tô sem netflix ', 'a netflix não trabalha mais com débito automático   netflixbrasil', 'gente do céu, eu não faço outra coisa a não ser assistir as lives da  samiraclose, nem netflix eu assisto mais', 'agr eu pergunto    cadê a 4° temporada de outlander netflix    https //t co/uuy3vgqmwb', 'e eu que fui treinar e torci o pé, isso é god dizendo pra eu voltar pra netflix', 'o jovem de hoje quer é acordar no fds às 10h e comer pizza do dia anterior no café da manhã, com a parceirinha netflix ', 'netflix kids é tudo pra mim kk', '💯🔞biografia🔞💯 😈 agosto/setembro nao sei agr 😊nao tem 📆23/06 ✨euzinha 💭 medica  😜 lo 🍃depende 🍁ja 🍻 numca 👮🏻nao 🤥nao  🍿 netflix  🌝ficar 😐acho que nao 🤫 já 🥰nao 😉suave 😁já  🤤strogonoff 👻no 🤨já 🤡  nao', 'quero netflix para ver todas as novas temporadas que estão a sair e eu estou a perderrrr', 'quando eu chamo pro cinema ninguém vai   nova série da netflix estrelando eu', ' greggui_ alguém me diz um app ou site pra assistir esse filme  pq já procurei na netflix e no vizer mas não achei afffff', 'queria assistir algo bom na netflix, mas nada chama muito minha atenção   ', 'graças a deus n tem meu número se n pede netflix lkkkkkkkk https //t co/pcor2fbkst', 'a vontade é de assistir netflix o dia todo, porém preciso estudar para prova 😭', 'se tiverem que me chamar pra algo chamem agora pq c eu ligar a tv, colocar na netflix pra ver elite eu não saio daq até terminar 👍🏻', '3 40 da manhã eu acordei p ver netflix kkkkkkkkkk', 'netflix lançou a 2°temp de elite ontem e eu já assisti todos os episódios 😪', 'ainda bem que vi essa décima quinta tenporada de greys bem antes de lançar no netflix pq nossa senhora, ôh demora    eu num ia aguentar não viu', 'livraço    https //t co/xxlzzry5cs', ' netflix tirou os poucos episódios de criminais minds q estavam, na não vc não faz né', 'vou ficar o dia inteirinho deitada olhando netflix, só falto a concha aaaaaa', 'aii mano eu tô tão triste que eu não tenho mais netflix', 'entrou diário de uma paixão no netflix, vou sofrer horrores hoje', ' asabrinacarpent olá  não se preocupa, vamos te ajudar  ) temos um artigo em nosso centro de ajuda que vai te ajudar  https //t co/xjvelou486 ^^ *em', 'alguém já viu aquele \" eu vi \" na netflix ', 'só deus sabe quando a netflix vai lançar os episódios de titans, até lá tenho que tomar cuidado com a internet pra não levar spoiler', 'desde quando fui assaltada não pedi outro cartão de crédito e esqueci que minha netflix estava nele  o erro', 'man n sei pq sla eu esqueço q tenho netflix ai quando lembro ja to a mais de um mês sem ver crl nenhum', 'netflix pq vcs lançaram a 2 temporada de elite ontem eu tenho prova de mat terça e n sei nada aaaaaaaa', 'por que esses caras que não gostam do brasil simplesmente não aproveitem o feriado em paz  vá dormir, passear com o cachorro, ver netflix    mas não  ficam nessa onda antipatriota, como se tivesse ódio de que ama o país e sim, comemora a data de hoje  https //t co/o3okezdlnc', 'só queria uma conta da netflix', 'sera q vai demora mto pra netflix colocar a nova temporada de peaky blinders https //t co/uxiltsmrbe', 'uma série na netflix eu to muito feliz que vou conseguir ver fácil', '💯🔞biografia🔞💯 😈 ontem  😊g b 📆18/08/2019 ✨um amor  💭engenheira, dentista  😜 maju  🍃role  🍁ja sim  🍻já  👮🏻sim  🤥já 🍿 netflix  🌝namorar    😐já 🤫 ja 🥰estou  😉suave  😁já e me arrependo  🤤massas ao molho branco 👻 não  🤨quem nunca   🤡 uma por enquanto', 'bandidos na tv estreia na  netflix   nova docussérie trata de caso verídico de apresentador de tv https //t co/rfujd3ydxw  bandidosnatv', 'ribeira grande deem me casa com forno á tarde pra eu  por uma pizza ristorante, fumar uma, ouvir musica e ficar a ver alguma merda na netflix ouviram netflix va la deixo vos usar a conta', 'eu queria assistir a segunda temporada de elite mas tô sem netflix kk', ' pennaprado  nolargjr mas o emagrecimento sempre foi meu incentivo para qualquer tipo de exercício  gostar, a gente gosta é de comer deitado vendo netflix  🤷🏽\\u200d♀️', 'a netflix resolveu lançar as novas temporadas de várias séries de uma vez só, assim tbm não tem como', 'tá foda ein netflix, nada que de bom que eu já não tenha assistido', ' ealvim  cardoso eu tava assistindo ao documentário da netflix sobre os terraplanista e fiquei curioso sobre o pq de essas teorias florescerem nos eua ', 'as piores séries da netflix da\\xa0atualidade https //t co/ixttfp4yw0 https //t co/ebbwncoxa4', 'já acordo querendo ir pra netflix amoo muito 🥰❤', 'porra eu tenho que estudar nesse sábado e domingo aí a netflix vai e libera elite', 'até agora deitado vendo netflix, oh vida', \"alguém me empresta a netflix, por favorzinho  '(\", ' ericacost11  thecrownnetflix  gilliana ela tá muito metida com netflix um agora né 🌚🌚🌚', 'alguém podia fazer uma boa ação de me passar a conta da netflix', 'netflix ganhou me coração depois de ter colocado dirty dancing', 'tou me a passar com a puta da netflix', 'os sonhos do grupo da netflix hoje foram qualquer coisa de espetacular', 'minha mãe viajou c julia e parece que to c um adolescente em casa  meu pai tá maratonando na netflix desde 6 da manha', 'hoje é dia de netflix e pizza', 'totalmente triste por só ter 4 temporadas de b99 na netflix', ' penguinzito  fiischerleticia amigo que isso  eu baixo episódio de série na netflix e não acaba', \"coe alguem me da netflix paga  ')\", 'a netflix disponibilizou agora na sua plataforma de streaming o conjunto de 3 contos animados, modest heroes (heróis modestos), do studio ponoc, fundado pelo antigo produtor do studio ghibli, yoshiaki nishimura   netflix  netflixportugal  animeportugal https //t co/lguz432i6z', ' piscianoum nem me lembre de elite, to sem netflix só sei sofrer', 'netflix eu exijo a 4° temporada de vis a vis na minha mesa agora ', 'vou pedir ajuda a lora p trocar a senha da minha netflix', 'filme pra assistir diversas vezes  autêntica obra de arte  depois me respondam quem é o  \"fraco\" da história  chocado   animaisnoturnos  netflix  indicafilmes', 'lançou mais temp de um mte de série na netflix adeus vida social', 'fiquei vendo filme na netflix a madrugada toda', 'netflix vai produzir uma série sobre freud eh isso mesmo    ', 'tempinho pra estar baixadinho netflix pipoca e a morena 🙌🙏♥️', ' tozzafla  netflixbrasil creio q é transmitido no eua no stremen da dc e depois mandam pra cá pela netflix', 'netflix tem uns anime baunzaum estranhei até', 'tenho quase certeza que a minha vida só começou a desandar quando a netflix tirou tvd do catálogo', 'eu e a minha mãe dividimos netflix com minha vizinha e a filha dela, e aí eu coloquei um icon de fenneko de agretsuko a muito tempo e deixei, aí a filha da minha vizinha colocou tambem e parece que a gente ta combinando icon na netflix https //t co/qm9tdymb6b', ' vaputakepareyou  toodivaforyou já és daddy pra dar netflix', ' caioblinder por que esses caras que não gostam do brasil simplesmente não aproveitem o feriado em paz  vá dormir, passear com o cachorro, ver netflix    mas não  ficam nessa onda antipatriota, como se tivesse ódio de que ama o país e sim, comemora a data de hoje ', 'vivemos em uma época que tem que ser tudo rápido sem enrolação,já cansou essa novela da reforma do ap do zeca camargo,se alguma série na netflix se for chato e cansativo ,no terceiro episódio já não assisto mais   edecasa', 'público esqueceu as novelas e só fala dos filmes da netflix https //t co/pvbpxaqt9y', '~~ https //t co/8e0celzpcl  postar no instagram pelo pc  a maneira mais fácil     https //t co/pgffademz2   https //t co/8e0celzpcl  movimento tiny house  encararia mudar para este estilo de casa https //t co/sbxr6hxdwm', 'netflix, coloca essa série no catálogo dnv pelo amor da santa mãezinha das séries quero maratonar ela dnv 😍 https //t co/yl5m6tpe9p', ' kellendomingue2  alexsanspacheco exato, é irritante não há um único filme no netflix que não haja gays, colocam fora de contexto, sem qualquer relação com o filme , forçam demais, então não fica uma coisa natural', 'eu e as outras duas dcnautas q vão esperar a 2° tenporada de titans sair na netflix pra assistir tudo  https //t co/y5lfmopuk7', 'meu cabelo tá lindo demais, perfeito pra sabadar vendo netflix ', 'anão o omar ta mal e a lu apoiando ele,nem sei pq to chorando  netflix pq vc faz isso cmg ', 'heróis modestos na netflix https //t co/wv6jp68dru https //t co/5s8lzlwha7', 'amazon prime caga mole na boquinha da netflix só por ter no catálogo todas as temporadas de downton abbey', 'hoje o clima está propício pra ficar o dia todo agarradinho com o crush e vendo série na netflix, simbora 🥰', 'chegou diário de uma paixão na netflix, esse momento é todinho meeeuuu', 'a  netflix relançou a terceira parte de la casa de papel com o  neymarjr  só para mostrar como a participação dele foi inútil para o andamento da série  v foi apenas para aparecer mesmo, pois a narrativa não muda em nada com ou sem ele ', ' fabiorbto vamos assistir um netflix ', 'nao aguento mais a netflix tirando as coisas boas do catálogo', 'a lu e o valerio são irmãos e se pegam (        ) sério isso netflix', 'passar o dia vendo netflix nesse friozin e pensando nele kk melhor forma🤯', 'assisto netflix quase nunca, mas quando vou assistir já tem atualizar o pagamento 🤬', ' etfumante melhor série atual da netflix', 'vou fazer meus 300 exercicios que eu tenho pq mais tarde so quero netflix e nada mais', ' maricampos73 obrigado pra vc também bom feriado, vou passar o meu feriado em casa com minha esposa assistindo a série vis a vis da netflix', 'queria ver elite mas a minha netflix acabou e nem sabia', 'eu só queria que ainda tivesse o meu filme na netflix', 'só queria a 2 temp de titãs na netflix', 'até o  globoplay tem harry potter e a netflix não https //t co/tsbwsujatc', 'feriadou e o papai ficou tanto me apressando pela minha parte da fatura do cartão pra ele deixar pra pagar só segunda e eu ficar sem netflix tnc meu patrão', 'injusto a netflix lançar temporadas novas das minhas séries favoritas e eu ter trabalho pra fazer', 'quem nunca assistiu 👇🏻 https //t co/zpybx5qfl3', 'eu procurando algo novo p ver na netflix  mean girls  a eu  bom eh isto', ' martinslucas027 caça aos gângster     na netflix msm fml', ' thaynvictoria6 assisti a voz do silêncio na netflix, uma animação que oh um soco na cara', ' casperdiogo da outra vez demorou pra ir pra netflix ', 'netflix ja pode colocar a terceira temp de elite já mo', 'só qria passar a tarde deitadinha com ele vendo netflix', 'passar o dia todo vendo netflix', 'hoje eu só queria um programinha de casal, netflix e uns dengo 😔', 'perdi minha conta no netflix logo quando to querendo ver um filme', 'netflix espero q essas season atypical seja perfeita, nn aceito menos', 'todas as séries podiam ser igual vis a vis na netflix, temporada nova saindo rapidinho', 'o governo liberal que vocês disseram aí kkk https //t co/gq7xajdpug', 'quase me convidei pra ir assistir netflix com ela, eu só não fiz isso pq eu vou sair hj namoral']\n"
     ]
    }
   ],
   "source": [
    "\n",
    "data_clean=[]\n",
    "for i in data_indexado.index:\n",
    "    c= cleanup(i.lower())\n",
    "    data_clean.append(c)\n",
    "print(data_clean)\n"
   ]
  },
  {
   "cell_type": "code",
   "execution_count": 231,
   "metadata": {},
   "outputs": [],
   "source": [
    "data_rel=data_indexado.set_index('Relevância')\n",
    "df_wie={'Frases':data_clean,\n",
    "        'Relevância':data_rel.index\n",
    "       }\n"
   ]
  },
  {
   "cell_type": "code",
   "execution_count": 232,
   "metadata": {
    "scrolled": true
   },
   "outputs": [
    {
     "data": {
      "text/html": [
       "<div>\n",
       "<style scoped>\n",
       "    .dataframe tbody tr th:only-of-type {\n",
       "        vertical-align: middle;\n",
       "    }\n",
       "\n",
       "    .dataframe tbody tr th {\n",
       "        vertical-align: top;\n",
       "    }\n",
       "\n",
       "    .dataframe thead th {\n",
       "        text-align: right;\n",
       "    }\n",
       "</style>\n",
       "<table border=\"1\" class=\"dataframe\">\n",
       "  <thead>\n",
       "    <tr style=\"text-align: right;\">\n",
       "      <th></th>\n",
       "      <th>Relevância</th>\n",
       "    </tr>\n",
       "    <tr>\n",
       "      <th>Frases</th>\n",
       "      <th></th>\n",
       "    </tr>\n",
       "  </thead>\n",
       "  <tbody>\n",
       "    <tr>\n",
       "      <th>milhões de séries disponíveis na netflix,mas minha preferência é sempre  glee</th>\n",
       "      <td>2</td>\n",
       "    </tr>\n",
       "    <tr>\n",
       "      <th>buriedslive vai se fuder e me empresta sua netflix</th>\n",
       "      <td>0</td>\n",
       "    </tr>\n",
       "    <tr>\n",
       "      <th>eu assisti 5 episódios de uma série na netflix e percebi que tava no 4g vsf</th>\n",
       "      <td>0</td>\n",
       "    </tr>\n",
       "    <tr>\n",
       "      <th>estou assistindo as telefonistas, stranger things e how to get away with murder, além de ter vis a vis no backlog  daí vem a netflix e me lança nova temporada de elite  não to preparada</th>\n",
       "      <td>1</td>\n",
       "    </tr>\n",
       "    <tr>\n",
       "      <th>50 tons mais escuros vai ta na netflix nen adoro😅</th>\n",
       "      <td>1</td>\n",
       "    </tr>\n",
       "    <tr>\n",
       "      <th>to tão por fora de tudo que eu vi hoje que saiu greys na netflix</th>\n",
       "      <td>2</td>\n",
       "    </tr>\n",
       "    <tr>\n",
       "      <th>malta digam ai séries para ver na netflix</th>\n",
       "      <td>0</td>\n",
       "    </tr>\n",
       "    <tr>\n",
       "      <th>jcarloscr todas as séries originais amazon que eu assisti tinham uma qualidade superior na parte técnica  e gosto bastante dos roteiros mais diferenciados  é bem menos óbvio que a netflix</th>\n",
       "      <td>0</td>\n",
       "    </tr>\n",
       "    <tr>\n",
       "      <th>e minha netflix q aparece que lancou a 15 temporada de greys e a 2 de elite e nada delas la</th>\n",
       "      <td>2</td>\n",
       "    </tr>\n",
       "    <tr>\n",
       "      <th>felipeneto  vislompo  thiagopinheiro2  cardoso  abbondanzaisa  cristiano_m_g  youpix a tv a cabo está sobrevivendo com ajuda de aparelhos  já tem operadora fazendo parceria com a netflix, pra que sua assinatura seja descontada na fatura e você acesse a netflix a partir dos equipamentos dela  como eu disse, sobrevivendo com ajuda de aparelhos</th>\n",
       "      <td>0</td>\n",
       "    </tr>\n",
       "    <tr>\n",
       "      <th>sonhei que tinha saído o filme que a demi vai participar na netflix</th>\n",
       "      <td>0</td>\n",
       "    </tr>\n",
       "    <tr>\n",
       "      <th>2 vzs foram assisitindo finding dory (que chegou na netflix) e 1 ouvindo orange juice 🤧🤧🤧</th>\n",
       "      <td>1</td>\n",
       "    </tr>\n",
       "    <tr>\n",
       "      <th>fui mostrar pros meus pais o show do  whindersson na netflix  mano começou a cantar \"pega, pega, pega, pega no meu pau\" eu me rachando de rir por dentro, mas mantendo a pose, até pq meus pais são pastores kkkkkkkkkkkjj</th>\n",
       "      <td>0</td>\n",
       "    </tr>\n",
       "    <tr>\n",
       "      <th>colocaram meu filme fav na netflix aaaaaaa é hoje que eu vou assistir o mesmo filme 2763 vezes</th>\n",
       "      <td>1</td>\n",
       "    </tr>\n",
       "    <tr>\n",
       "      <th>minha mãe começou a ver uma série coreana na netflix meu pai ficou zuando mas foi assistir junto ela dormiu ele assistiu 8 episódios enquanto ela dormia e começou a segunda temporada sem ela kkkkkjjjjj ela n tá menos q mto puta nao</th>\n",
       "      <td>2</td>\n",
       "    </tr>\n",
       "    <tr>\n",
       "      <th>tive que assinar a telecine só pra assistir amélie poulain pq a netflix simplesmente tirou essa obra de arte do catálogo 😩 https //t co/c3ouyeffbl</th>\n",
       "      <td>1</td>\n",
       "    </tr>\n",
       "    <tr>\n",
       "      <th>devanil me empresta uma conta na netflix, devanil  nunca te pedi nada</th>\n",
       "      <td>0</td>\n",
       "    </tr>\n",
       "    <tr>\n",
       "      <th>alguém indica algo p assistir na netflix</th>\n",
       "      <td>0</td>\n",
       "    </tr>\n",
       "    <tr>\n",
       "      <th>esse mês saí a quinta temporada de b99 e a última de arthdral chronicles amém netflix</th>\n",
       "      <td>1</td>\n",
       "    </tr>\n",
       "    <tr>\n",
       "      <th>assisti rápido demais elite 2, quero a terceira temp pra ontem netflix</th>\n",
       "      <td>1</td>\n",
       "    </tr>\n",
       "    <tr>\n",
       "      <th>gente  acho que tô apaixonado mesmo   vcs acreditam que tive um pesadelo hoje onde a netflix tinha lançado a 2° temporada de sintonia e tinha trocado o ator do mc doni, daí eu tava triste chorando ¿  kkkkkkkkkkkkkkkkkkk</th>\n",
       "      <td>1</td>\n",
       "    </tr>\n",
       "    <tr>\n",
       "      <th>que filme lindo, parabéns  bethanyhamilton pela força de vontade e batalha pela vida, és uma vencedora  assista na netflix 🙏🏽🌊🦈🏄🏼‍♀️⛰☀️  coragemdeviver em sup surf conserto https //t co/87xubzhcpu</th>\n",
       "      <td>0</td>\n",
       "    </tr>\n",
       "    <tr>\n",
       "      <th>com mean girls no catálogo da netflix eu agora vou ficar sem costume mesmo aaaaaa</th>\n",
       "      <td>1</td>\n",
       "    </tr>\n",
       "    <tr>\n",
       "      <th>haddad_fernando bom dia brimo,  a coisa é mais em baixo  tem um documentário no netflix chamado the family a democracia ameaçada, sobre os pentecostais e a política americana  ali você vai entender do que se trata essa foto</th>\n",
       "      <td>0</td>\n",
       "    </tr>\n",
       "    <tr>\n",
       "      <th>ai velho só queria ver meu rin okumura de volta mas a netflix tirou blue exorcist do catálogo e eu sou a pessoa mais triste do mundo, vou ter que ver algum site pra assistir online https //t co/v4a5mdsqvz</th>\n",
       "      <td>1</td>\n",
       "    </tr>\n",
       "    <tr>\n",
       "      <th>chbljh lindo belíssimo cheiroso gostoso exuberante pizza pornhub netflix</th>\n",
       "      <td>0</td>\n",
       "    </tr>\n",
       "    <tr>\n",
       "      <th>acho que vou assinar a amazon prime   tô sem netflix (tem a do meu irmão, caso eu queira muito)  sinto que vi quase todo o catálogo bom de lá</th>\n",
       "      <td>0</td>\n",
       "    </tr>\n",
       "    <tr>\n",
       "      <th>peço perdão por sempre surtar com a netflix por não ter liberado nada da terceira temporada de atypical i'm such a clown</th>\n",
       "      <td>1</td>\n",
       "    </tr>\n",
       "    <tr>\n",
       "      <th>a tarde vai ter que ser de netflix e pipoquinha, a noite é cana, gela e corote</th>\n",
       "      <td>1</td>\n",
       "    </tr>\n",
       "    <tr>\n",
       "      <th>achei q the crown nao ia passar dessa s3 nao do jeito q a netflix ta sendo e ela sendonuma das series mais caras da história</th>\n",
       "      <td>1</td>\n",
       "    </tr>\n",
       "    <tr>\n",
       "      <th>...</th>\n",
       "      <td>...</td>\n",
       "    </tr>\n",
       "    <tr>\n",
       "      <th>chegou diário de uma paixão na netflix, esse momento é todinho meeeuuu</th>\n",
       "      <td>1</td>\n",
       "    </tr>\n",
       "    <tr>\n",
       "      <th>a  netflix relançou a terceira parte de la casa de papel com o  neymarjr  só para mostrar como a participação dele foi inútil para o andamento da série  v foi apenas para aparecer mesmo, pois a narrativa não muda em nada com ou sem ele</th>\n",
       "      <td>1</td>\n",
       "    </tr>\n",
       "    <tr>\n",
       "      <th>fabiorbto vamos assistir um netflix</th>\n",
       "      <td>2</td>\n",
       "    </tr>\n",
       "    <tr>\n",
       "      <th>nao aguento mais a netflix tirando as coisas boas do catálogo</th>\n",
       "      <td>1</td>\n",
       "    </tr>\n",
       "    <tr>\n",
       "      <th>a lu e o valerio são irmãos e se pegam (        ) sério isso netflix</th>\n",
       "      <td>0</td>\n",
       "    </tr>\n",
       "    <tr>\n",
       "      <th>passar o dia vendo netflix nesse friozin e pensando nele kk melhor forma🤯</th>\n",
       "      <td>2</td>\n",
       "    </tr>\n",
       "    <tr>\n",
       "      <th>assisto netflix quase nunca, mas quando vou assistir já tem atualizar o pagamento 🤬</th>\n",
       "      <td>1</td>\n",
       "    </tr>\n",
       "    <tr>\n",
       "      <th>etfumante melhor série atual da netflix</th>\n",
       "      <td>2</td>\n",
       "    </tr>\n",
       "    <tr>\n",
       "      <th>vou fazer meus 300 exercicios que eu tenho pq mais tarde so quero netflix e nada mais</th>\n",
       "      <td>2</td>\n",
       "    </tr>\n",
       "    <tr>\n",
       "      <th>maricampos73 obrigado pra vc também bom feriado, vou passar o meu feriado em casa com minha esposa assistindo a série vis a vis da netflix</th>\n",
       "      <td>1</td>\n",
       "    </tr>\n",
       "    <tr>\n",
       "      <th>queria ver elite mas a minha netflix acabou e nem sabia</th>\n",
       "      <td>0</td>\n",
       "    </tr>\n",
       "    <tr>\n",
       "      <th>eu só queria que ainda tivesse o meu filme na netflix</th>\n",
       "      <td>0</td>\n",
       "    </tr>\n",
       "    <tr>\n",
       "      <th>só queria a 2 temp de titãs na netflix</th>\n",
       "      <td>1</td>\n",
       "    </tr>\n",
       "    <tr>\n",
       "      <th>até o  globoplay tem harry potter e a netflix não https //t co/tsbwsujatc</th>\n",
       "      <td>1</td>\n",
       "    </tr>\n",
       "    <tr>\n",
       "      <th>feriadou e o papai ficou tanto me apressando pela minha parte da fatura do cartão pra ele deixar pra pagar só segunda e eu ficar sem netflix tnc meu patrão</th>\n",
       "      <td>1</td>\n",
       "    </tr>\n",
       "    <tr>\n",
       "      <th>injusto a netflix lançar temporadas novas das minhas séries favoritas e eu ter trabalho pra fazer</th>\n",
       "      <td>1</td>\n",
       "    </tr>\n",
       "    <tr>\n",
       "      <th>quem nunca assistiu 👇🏻 https //t co/zpybx5qfl3</th>\n",
       "      <td>0</td>\n",
       "    </tr>\n",
       "    <tr>\n",
       "      <th>eu procurando algo novo p ver na netflix  mean girls  a eu  bom eh isto</th>\n",
       "      <td>2</td>\n",
       "    </tr>\n",
       "    <tr>\n",
       "      <th>martinslucas027 caça aos gângster     na netflix msm fml</th>\n",
       "      <td>1</td>\n",
       "    </tr>\n",
       "    <tr>\n",
       "      <th>thaynvictoria6 assisti a voz do silêncio na netflix, uma animação que oh um soco na cara</th>\n",
       "      <td>1</td>\n",
       "    </tr>\n",
       "    <tr>\n",
       "      <th>casperdiogo da outra vez demorou pra ir pra netflix</th>\n",
       "      <td>1</td>\n",
       "    </tr>\n",
       "    <tr>\n",
       "      <th>netflix ja pode colocar a terceira temp de elite já mo</th>\n",
       "      <td>1</td>\n",
       "    </tr>\n",
       "    <tr>\n",
       "      <th>só qria passar a tarde deitadinha com ele vendo netflix</th>\n",
       "      <td>2</td>\n",
       "    </tr>\n",
       "    <tr>\n",
       "      <th>passar o dia todo vendo netflix</th>\n",
       "      <td>2</td>\n",
       "    </tr>\n",
       "    <tr>\n",
       "      <th>hoje eu só queria um programinha de casal, netflix e uns dengo 😔</th>\n",
       "      <td>2</td>\n",
       "    </tr>\n",
       "    <tr>\n",
       "      <th>perdi minha conta no netflix logo quando to querendo ver um filme</th>\n",
       "      <td>0</td>\n",
       "    </tr>\n",
       "    <tr>\n",
       "      <th>netflix espero q essas season atypical seja perfeita, nn aceito menos</th>\n",
       "      <td>1</td>\n",
       "    </tr>\n",
       "    <tr>\n",
       "      <th>todas as séries podiam ser igual vis a vis na netflix, temporada nova saindo rapidinho</th>\n",
       "      <td>1</td>\n",
       "    </tr>\n",
       "    <tr>\n",
       "      <th>o governo liberal que vocês disseram aí kkk https //t co/gq7xajdpug</th>\n",
       "      <td>0</td>\n",
       "    </tr>\n",
       "    <tr>\n",
       "      <th>quase me convidei pra ir assistir netflix com ela, eu só não fiz isso pq eu vou sair hj namoral</th>\n",
       "      <td>2</td>\n",
       "    </tr>\n",
       "  </tbody>\n",
       "</table>\n",
       "<p>500 rows × 1 columns</p>\n",
       "</div>"
      ],
      "text/plain": [
       "                                                    Relevância\n",
       "Frases                                                        \n",
       "milhões de séries disponíveis na netflix,mas mi...           2\n",
       " buriedslive vai se fuder e me empresta sua net...           0\n",
       "eu assisti 5 episódios de uma série na netflix ...           0\n",
       "estou assistindo as telefonistas, stranger thin...           1\n",
       "50 tons mais escuros vai ta na netflix nen adoro😅            1\n",
       "to tão por fora de tudo que eu vi hoje que saiu...           2\n",
       "malta digam ai séries para ver na netflix                    0\n",
       " jcarloscr todas as séries originais amazon que...           0\n",
       "e minha netflix q aparece que lancou a 15 tempo...           2\n",
       " felipeneto  vislompo  thiagopinheiro2  cardoso...           0\n",
       "sonhei que tinha saído o filme que a demi vai p...           0\n",
       "2 vzs foram assisitindo finding dory (que chego...           1\n",
       "fui mostrar pros meus pais o show do  whinderss...           0\n",
       "colocaram meu filme fav na netflix aaaaaaa é ho...           1\n",
       "minha mãe começou a ver uma série coreana na ne...           2\n",
       "tive que assinar a telecine só pra assistir amé...           1\n",
       " devanil me empresta uma conta na netflix, deva...           0\n",
       "alguém indica algo p assistir na netflix                     0\n",
       "esse mês saí a quinta temporada de b99 e a últi...           1\n",
       "assisti rápido demais elite 2, quero a terceira...           1\n",
       "gente  acho que tô apaixonado mesmo   vcs acred...           1\n",
       "que filme lindo, parabéns  bethanyhamilton pela...           0\n",
       "com mean girls no catálogo da netflix eu agora ...           1\n",
       " haddad_fernando bom dia brimo,  a coisa é mais...           0\n",
       "ai velho só queria ver meu rin okumura de volta...           1\n",
       " chbljh lindo belíssimo cheiroso gostoso exuber...           0\n",
       "acho que vou assinar a amazon prime   tô sem ne...           0\n",
       "peço perdão por sempre surtar com a netflix por...           1\n",
       "a tarde vai ter que ser de netflix e pipoquinha...           1\n",
       "achei q the crown nao ia passar dessa s3 nao do...           1\n",
       "...                                                        ...\n",
       "chegou diário de uma paixão na netflix, esse mo...           1\n",
       "a  netflix relançou a terceira parte de la casa...           1\n",
       " fabiorbto vamos assistir um netflix                         2\n",
       "nao aguento mais a netflix tirando as coisas bo...           1\n",
       "a lu e o valerio são irmãos e se pegam (       ...           0\n",
       "passar o dia vendo netflix nesse friozin e pens...           2\n",
       "assisto netflix quase nunca, mas quando vou ass...           1\n",
       " etfumante melhor série atual da netflix                     2\n",
       "vou fazer meus 300 exercicios que eu tenho pq m...           2\n",
       " maricampos73 obrigado pra vc também bom feriad...           1\n",
       "queria ver elite mas a minha netflix acabou e n...           0\n",
       "eu só queria que ainda tivesse o meu filme na n...           0\n",
       "só queria a 2 temp de titãs na netflix                       1\n",
       "até o  globoplay tem harry potter e a netflix n...           1\n",
       "feriadou e o papai ficou tanto me apressando pe...           1\n",
       "injusto a netflix lançar temporadas novas das m...           1\n",
       "quem nunca assistiu 👇🏻 https //t co/zpybx5qfl3               0\n",
       "eu procurando algo novo p ver na netflix  mean ...           2\n",
       " martinslucas027 caça aos gângster     na netfl...           1\n",
       " thaynvictoria6 assisti a voz do silêncio na ne...           1\n",
       " casperdiogo da outra vez demorou pra ir pra ne...           1\n",
       "netflix ja pode colocar a terceira temp de elit...           1\n",
       "só qria passar a tarde deitadinha com ele vendo...           2\n",
       "passar o dia todo vendo netflix                              2\n",
       "hoje eu só queria um programinha de casal, netf...           2\n",
       "perdi minha conta no netflix logo quando to que...           0\n",
       "netflix espero q essas season atypical seja per...           1\n",
       "todas as séries podiam ser igual vis a vis na n...           1\n",
       "o governo liberal que vocês disseram aí kkk htt...           0\n",
       "quase me convidei pra ir assistir netflix com e...           2\n",
       "\n",
       "[500 rows x 1 columns]"
      ]
     },
     "execution_count": 232,
     "metadata": {},
     "output_type": "execute_result"
    }
   ],
   "source": [
    "df_clean = pd.DataFrame(df_wie)\n",
    "df_clean_indexado=df_clean.set_index('Frases')\n",
    "df_clean_indexado"
   ]
  },
  {
   "cell_type": "code",
   "execution_count": 233,
   "metadata": {},
   "outputs": [
    {
     "name": "stdout",
     "output_type": "stream",
     "text": [
      "estou assistindo as telefonistas, stranger things e how to get away with murder, além de ter vis a v\n",
      " buriedslive vai se fuder e me empresta sua netflix eu assisti 5 episódios de uma série na netflix e\n",
      "milhões de séries disponíveis na netflix,mas minha preferência é sempre  glee    to tão por fora de \n"
     ]
    }
   ],
   "source": [
    "df_clean_indexado.Relevância.value_counts()\n",
    "relevantes=df_clean_indexado[df_clean_indexado.Relevância==1]\n",
    "irrelevantes=df_clean_indexado[df_clean_indexado.Relevância==0]\n",
    "neutros=df_clean_indexado[df_clean_indexado.Relevância==2]\n",
    "\n",
    "\n",
    "relevantes = ' '.join(relevantes.index)\n",
    "irrelevantes = ' '.join(irrelevantes.index)\n",
    "neutros = ' '.join(neutros.index)\n",
    "print(relevantes[0:100]) \n",
    "print(irrelevantes[0:100]) \n",
    "print(neutros[0:100]) \n"
   ]
  },
  {
   "cell_type": "code",
   "execution_count": 234,
   "metadata": {},
   "outputs": [
    {
     "name": "stdout",
     "output_type": "stream",
     "text": [
      "['😀', '👍', '😷']\n"
     ]
    }
   ],
   "source": [
    "#https://pypi.org/project/emoji/\n",
    "import functools\n",
    "import operator\n",
    "import re\n",
    "import emoji\n",
    "\n",
    "em = '😀👍😷'\n",
    "em_split_emoji = emoji.get_emoji_regexp().split(em)\n",
    "em_split_whitespace = [substr.split() for substr in em_split_emoji]\n",
    "em_split = functools.reduce(operator.concat, em_split_whitespace)\n",
    "#for oia in em_split:\n",
    "print(em_split)"
   ]
  },
  {
   "cell_type": "code",
   "execution_count": 235,
   "metadata": {},
   "outputs": [
    {
     "name": "stdout",
     "output_type": "stream",
     "text": [
      "['estou', 'assistindo', 'as', 'telefonistas,', 'stranger', 'things', 'e', 'how', 'to', 'get', 'away', 'with', 'murder,', 'além', 'de', 'ter', 'vis', 'a', 'vis', 'no', 'backlog', 'daí', 'vem', 'a', 'netflix', 'e', 'me', 'lança', 'nova', 'temporada', 'de', 'elite', 'não', 'to', 'preparada', '50', 'tons', 'mais', 'escuros', 'vai', 'ta', 'na', 'netflix', 'nen', 'adoro', '😅', '2', 'vzs', 'foram', 'assisitindo', 'finding', 'dory', '(que', 'chegou', 'na', 'netflix)', 'e', '1', 'ouvindo', 'orange', 'juice', '🤧', '🤧', '🤧', 'colocaram', 'meu', 'filme', 'fav', 'na', 'netflix', 'aaaaaaa', 'é', 'hoje', 'que', 'eu', 'vou', 'assistir', 'o', 'mesmo', 'filme', '2763', 'vezes', 'tive', 'que', 'assinar', 'a', 'telecine', 'só', 'pra', 'assistir', 'amélie', 'poulain', 'pq', 'a', 'netflix', 'simplesmente', 'tirou', 'essa', 'obra', 'de', 'arte', 'do', 'catálogo', '😩', 'https', '//t', 'co/c3ouyeffbl', 'esse', 'mês', 'saí', 'a', 'quinta', 'temporada', 'de', 'b99', 'e', 'a', 'última', 'de', 'arthdral', 'chronicles', 'amém', 'netflix', 'assisti', 'rápido', 'demais', 'elite', '2,', 'quero', 'a', 'terceira', 'temp', 'pra', 'ontem', 'netflix', 'gente', 'acho', 'que', 'tô', 'apaixonado', 'mesmo', 'vcs', 'acreditam', 'que', 'tive', 'um', 'pesadelo', 'hoje', 'onde', 'a', 'netflix', 'tinha', 'lançado', 'a', '2°', 'temporada', 'de', 'sintonia', 'e', 'tinha', 'trocado', 'o', 'ator', 'do', 'mc', 'doni,', 'daí', 'eu', 'tava', 'triste', 'chorando', '¿', 'kkkkkkkkkkkkkkkkkkk', 'com', 'mean', 'girls', 'no', 'catálogo', 'da', 'netflix', 'eu', 'agora', 'vou', 'ficar', 'sem', 'costume', 'mesmo', 'aaaaaa', 'ai', 'velho', 'só', 'queria', 'ver', 'meu', 'rin', 'okumura', 'de', 'volta', 'mas', 'a', 'netflix', 'tirou', 'blue', 'exorcist', 'do', 'catálogo', 'e', 'eu', 'sou', 'a', 'pessoa', 'mais', 'triste', 'do', 'mundo,', 'vou', 'ter', 'que', 'ver', 'algum', 'site', 'pra', 'assistir', 'online', 'https', '//t', 'co/v4a5mdsqvz', 'peço', 'perdão', 'por', 'sempre', 'surtar', 'com', 'a', 'netflix', 'por', 'não', 'ter', 'liberado', 'nada', 'da', 'terceira', 'temporada', 'de', 'atypical', \"i'm\", 'such', 'a', 'clown', 'a', 'tarde', 'vai', 'ter', 'que', 'ser', 'de', 'netflix', 'e', 'pipoquinha,', 'a', 'noite', 'é', 'cana,', 'gela', 'e', 'corote', 'achei', 'q', 'the', 'crown', 'nao', 'ia', 'passar', 'dessa', 's3', 'nao', 'do', 'jeito', 'q', 'a', 'netflix', 'ta', 'sendo', 'e', 'ela', 'sendonuma', 'das', 'series', 'mais', 'caras', 'da', 'história', 'so', 'to', 'bem', 'deitada', 'com', 'o', 'babe', 'a', 'ver', 'netflix', 'com', 'esse', 'tempo', 'd', 'merda', 'juro', 'que', 'por', 'mim', 'eu', 'só', 'pediria', 'uma', 'pizza,', 'passaria', 'o', 'feriado', 'assistindo', 'netflix', 'e', 'me', 'embriagando', 'em', 'casa,', 'mas', 'sla', 'o', 'jeito', 'que', 'a', 'paula', 'não', 'aguenta', 'ficar', 'em', 'casa', 'é', 'diferente', 'eu', 'só', 'queria', 'minha', 'netflix', 'de', 'volta', 'pra', 'assistir', 'a', 't2', 'de', 'elite', 'é', 'sensacional', 'quando', 'a', 'gente', 'no', 'tempo', 'livre', 'troca', 'assistir', 'netflix', 'pra', 'ler', 'um', 'livro', 'só', 'queria', 'ter', 'uma', 'netflix', 'pra', 'poder', 'olhar', 'minhas', 'séries', 'minha', 'assinatura', 'no', 'netflix', 'termina', 'daqui', 'uns', 'dias', 'e', 'agr', 'ela', 'resolve', 'atualizar', 'as', 'minhas', 'séries', 'mais', 'direta', 'que', 'isso,impossível', 'nada', 'de', 'role', 'hj,', 'só', 'spotify,', 'netflix', 'e', 'youtube', 'deitadin', 'no', 'barraco', 'suave', 'sábado', 'chuvoso', 'com', 'netflix', '❤', '️', 'alguém', 'que', 'me', 'empreste', 'netflix', 'para', 'ver', 'a', 'nova', 'temporada', 'de', 'elite', 'por', 'favor', '🙏', '🙏', 'eu', 'preciso', 'de', 'uma', 'conta', 'na', 'netflix', 'pra', 'poder', 'assistir', 'elite', '😭', '29', 'graus', 'hj', 'só', 'se', 'for', 'no', 'sofá', 'com', 'o', 'combo', 'netflix+edredom', 'enquanto', 'uns', 'estao', 'preocupados', 'com', 'a', 'temporada', 'de', 'elite', 'eu', 'estou', 'com', 'a', 's5', 'de', 'htgawm', 'que', 'acabou', 'de', 'chegar', 'na', 'netflix', 'obrigada', 'senhor', 'eu', 'sei', 'que', 'tu', 'me', 'sondas', 'bem', 'vou', 'mas', 'é', 'cancelar', 'a', 'netflix', 'para', 'ver', 'se', 'me', 'começo', 'a', 'concentrar', 'na', 'escola', 'acho', 'q', 'hoje', 'vai', 'ser', 'eu,', 'pote', 'de', 'sorvete', 'e', 'netflix', 'amandarch', 'aí,', 'vamos', 'marcar', 'um', 'role', 'de', 'fondue', 'vinha', 'e', 'netflix', 'por', 'favor', 'fui', 'abençoada', 'com', 'esse', 'feriado', 'no', 'sábado,', 'não', 'precisei', 'ir', 'pro', 'curso', 'é', 'esse', 'tempinho', 'chuvosa', 'só', 'resta', 'uma', 'coisa', 'ficar', 'deitada', 'na', 'minha', 'cama', 'e', 'assistir', 'uma', 'netflix', 'atenção', 'meninas', 'malvadas', 'voltou', 'para', 'netflix', 'repito', 'meninas', 'malvadas', 'voltou', 'para', 'netflix', 'sad', 'or', 'happy', 'i', \"don't\", 'even', 'know', '🤷\\u200d♀️', 'vou', 'mas', 'é', 'ver', 'netflix', 'aí', 'nem', 'me', 'lembro', 'onde', 'estou', 'só', 'por', 'assistir', 'um', 'xis', 'e', 'comer', 'uma', 'netflix', 'e', 'a', 'netflix', 'e', 'umas', 'cerva', 'bogusgabriel', 'claudetema1', 'cruzeiro', 'feriado', 'está', 'tudo', 'fechado', 'o', 'jeito', 'é', 'assistir', 'filmes', 'no', 'netflix', 'depois', 'desse', 'desfile', 'todo', 'cagado', 'só', 'por', 'assistir', 'uma', 'netflix', 'com', 'a', ',', 'mas', 'só', 'falta', 'a', 'era', 'só', 'the', 'vampire', 'diaries', 'voltando', 'pra', 'netflix', 'hein', 'porra', 'netflix', 'para', 'de', 'atualizar', 'as', 'séries', 'que', 'eu', 'gosto', 'bem', 'na', 'minha', 'época', 'de', 'provas,', 'assim', 'n', 'da', 'quando', 'a', 's5', 'de', 'b99', 'entrar', 'na', 'netflix', 'vou', 'ser', 'obrigada', 'a', 'assistir', 'dnv', 'pq', 'amo', 'demais', 'this_mendes', 'sonypicturesbr', 'agora', 'assisti,', 'jovem', 'mestre,', 'graças', 'à', 'netflix', 'realmente', 'sensacional', 'procurando', 'dory', 'entrou', 'na', 'netflix', 'e', 'eu', 'sou', 'a', 'criança', 'mais', 'feliz', 'nesse', 'momento', 'uma', 'parte', 'dos', 'meus', 'amgs', 'vão', 'fzr', 'alguma', 'coisa', 'q', 'eu', 'n', 'fui', 'chamada', 'e', 'a', 'outra', 'parte', 'vai', 'no', 'saara,', 'o', 'jeito', 'é', 'ficar', 'em', 'casa', 'vendo', 'netflix', 'demorei', 'tanto', 'pra', 'terminar', 'a', 'quinta', 'temporada', 'de', 'htgawm', 'que', 'ja', 'tem', 'na', 'netflix', 'e', 'so', 'fui', 'descobrir', 'ontem', 'nesses', 'últimos', 'dias', 'eu', 'aprendi', 'que', 'para', 'você', 'se', 'sentir', 'bem', 'a', 'única', 'solução', 'é', 'ficar', 'sozinha', 'em', 'casa', 'e', 'assistir', 'netflix', 'acordar', 'e', 'olhar', 'procurando', 'dory', 'na', 'netflix', 'foi', 'a', 'melhor', 'coisa', 'vi', 'aslam', 'nos', 'trends', 'e', 'ja', 'corri', 'pra', 'clicar', 'achando', 'q', 'a', 'netflix', 'tinha', 'confirmado', 'adaptaçao', 'podias', 'estar', 'a', 'ver', 'netflix', 'cmg', 'princesa', 'salvou', 'ontem', 'cm', 'a', 'conta', 'netflix', '💘', 'diária', 'de', 'uma', 'paixão', 'na', 'netflix', 'aaaa', 'tudo', 'pra', 'mim', 'esse', 'tempinho', 'ta', 'pedindo', 'um', 'netflix', 'o', 'dia', 'todo', 'nem', 'de', 'preto,', 'nem', 'de', 'verde', 'e', 'amarelo', 'tô', 'de', 'rosa,', 'pijama', 'rosa', 'no', 'conforto', 'de', 'minha', 'cama', 'com', 'meu', 'netflix', 'e', 'minhas', 'guloseimas', '(͡°', '͜ʖ', '͡°)', 'obg,', 'feriadão', '(mesmo', 'sendo', 'sábado)', 'dia7depretonarua', 'nessa', 'chuvinha', 'era', 'só', 'eu', 'sozinha', 'em', 'casa,', 'elx', 'e', 'netflix', 'poxa', 'eu', 'vou', 'zerar', 'os', 'filmes', 'romanticos', 'e', 'de', 'colegial', 'da', 'netflix', 'esse', 'fim', 'de', 'semana', 'kkkkk', 'corri', 'pra', 'assisti', 'elite,', 'agr', 'a', 'st', 'netflix', 'vai', 'demorar', 'uma', 'vida', 'pra', 's3', 'nessas', 'horas', 'tudo', 'q', 'eu', 'precisava', 'era', 'uma', 'maratona', 'de', 'house', 'mas', 'saiu', 'da', 'netflix', 'procurando', 'dory', 'na', 'netflix', 'foda', 'se', 'ótimo', 'dia', 'netflix', 'melhor', 'app', 'de', 'séries', '❤', '️', '🙏', 'só', 'queria', 'dizer', 'que', 'ritmo', 'quente', 'tá', 'no', 'catálogo', 'da', 'netflix', 'e', 'é', 'muito', 'bommm', 'vou', 'fzr', 'um', 'bolo', 'de', 'cenoura', 'com', 'cobertura', 'de', 'chocolate,', 'e', 'passar', 'a', 'tarde', 'toda', 'na', 'netflix,', 'espero', 'q', 'dê', 'bom', 'pq', 'amanhã', 'tem', 'cachu', 'hoje', 'vou', 'passar', 'o', 'dia', 'todo', 'assistindo', 'filme,', 'netflix', 'que', 'me', 'aguarde', 'só', 'queria', 'uma', 'netflix', 'pra', 'poder', 'assistir', 'elite', 'falta', '3', 'episódios', 'pra', 'eu', 'acabar', 'elite', 'e', 'a', 'minha', 'conta', 'na', 'netflix', 'foi', 'suspensa', 'pq', 'esqueceram', 'de', 'pagar', 'olha', 'esse', 'white', 'girl', 'problem', 'aaaaaaa', 'netflix', 'esforçou', 'se', 'em', 'setembro', '💗', '💓', '💖', 'só', 'falta', 'la', 'casa', 'de', 'papel', 'e', 'tá', 'perfeito', 'sábado', ',', 'cedinho', ',', 'fazer', 'café', '+', 'netflix,', 'mas', 'eh', 'tão', 'boooooom', '🥰', 'https', '//t', 'co/pryzhxwtz0', 'terceira', 'temporada', 'de', 'elipe', 'na', 'netflix,', 'ufa', 'hj', 'meu', 'dia', 'vai', 'ser', 'resumido', 'em', 'cama+pipoca+netflix=dia', 'perfeito', '🌧', '️', '💕', 'netflix', 'e', 'pipoca', 'logo', 'cedo,', 'boa', 'p', 'nois', 'mano', 'o', 'bruno', 'me', 'deu', 'a', 'netflix', 'dele', 'pra', 'mim', 'assistir', 'elite', 'e', 'caralho', 'eu', 'amo', 'muito', 'um', 'menino', 'netflix', 'colocou', 'mean', 'girls', 'dnv', 'no', 'catálogo,', 'agora', 'está', 'conseguindo', 'ter', 'meu', 'respeito', 'de', 'volta', 'sabadão', 'tranquilo', 'só', 'vou', 'assistir', 'netflix', 'e', 'comer', 'hj', 'é', 'só', 'água', 'p', 'ficar', 'hidratada', 'cama', 'e', 'netflix', 'meus', 'amigos', 'não', 'agitam', 'nada', 'pra', 'hj', 'ja', 'vi', 'q', 'vou', 'ficar', 'assistindo', 'netflix', 'o', 'dia', 'todo', 'pelo', 'amor', 'de', 'deus', 'netflix,', 'solta', 'a', 'season', '3', 'de', 'dark', 'hoje', 'eh', 'dia', 'de', 'netflix', 'quero', 'companhia', 'para', 'ver', 'netflix', 'agora', 'loisbvb', 'painho', 'se', 'deixar', 'passa', 'o', 'dia', 'todo', 'vendo', 'filme,', 'passa', 'o', 'dia', 'falando', '\"esse', 'negócio', 'de', 'netflix', 'é', 'muito', 'bom\"', 'hoje', 'é', 'o', 'dia', 'todo', 'deitado', 'assistindo', 'netflix', 'ontem', 'eu', 'e', 'dudinha', 'fizemos', 'um', 'role', 'muito', 'de', 'festa', 'de', 'pijama', 'de', 'filme', 'tinha', 'pizza,', 'cerveja', 'e', 'filme', 'na', 'netflix', '🥰', '🥰', '🥰', 'netflix', 'lançou', 'tanta', 'novas', 'temporadas', 'de', 'series', 'que', 'n', 'consigo', 'me', 'organizar', 'p', 'assitir', 'estou', 'numa', 'cadeira', 'de', 'massagens', 'e', 'a', 'ver', 'netflix,', 'melhor', 'não', 'há', '😎', 'esse', 'tempinho', 'ta', 'bom', 'pra', 'um', 'netflix', 'e', 'uns', 'baseado', 'com', 'a', 'morena', 'sabadou', 'chuvoso,', 'vendo', 'netflix', '❤', '️', 'sem', 'netflix', 'e', 'eu', 'queria', 'assistir', 'elite', 'hoje,', 'que', 'saco', '2', 'dias', 'que', 'quero', 'ficar', 'deitada', 'vendo', 'netflix', 'netflix', 'quer', 'acabar', 'comigo', 'liberando', 'temporadas', 'de', 'várias', 'series', 'que', 'eu', 'assisto', 'juntas', 'agora', 'que', 'vi', 'que', 'tem', 'senhor', 'dos', 'aneis', 'na', 'netflix', 'e', 'com', 'a', '5', 'de', 'htgawm', 'eh', 'esse', 'fds', 'que', 'eu', 'não', 'estudo', 'n', 'a', 'd', 'a', 'ainda', 'mais', 'com', 'essa', 'chuvinha', 'só', 'faltou', 'um', 'mo', 'quem', 'compôs', 'as', 'músicas', 'dos', 'beatles', 'todo', 'mundo', 'sabe', 'que', 'foi', 'o', 'algoritmo', 'do', 'netflix', 'pra', 'hj', 'eu', 'só', 'queria', 'uma', 'netflix', 'e', 'um', 'xose', 'com', 'o', 'problema', 'kkkkk', 'como', 'eu', 'queria', 'ta', 'agr', 'comendo', 'chocolate', 'netflix', 'e', 'a', 'pessoa', 'que', 'eu', 'gosto', 'como', 'eu', 'to', 'arrumando', 'a', 'casa', 'kkkkk', 'aff', 'hoje', 'ninguém', 'me', 'tira', 'do', 'meu', 'quarto,vou', 'passar', 'o', 'dia', 'deitada', 'assistindo', 'netflix', '🌩', '💙', 'smedinasz', 'meu', 'irmão', 'tá', 'com', 'netflix', 'agr,', 'e', 'tá', 'amando', 'ver', 'stranger', 'things', 'só', 'queria', 'companhia', 'pra', 'maratonar', 'netflix', 'hj', '😥', '🤣', 'ufaa,', 'fiz', 'uma', 'conta', 'da', 'netflix', 'meninas', 'malvadas', 'voltou', 'pra', 'netflix', 'aaaaa', 'https', '//t', 'co/hqzqgvprla', 'sou', 'tão', 'apaixonada', 'com', 'ele', 'que', 'pago', 'o', 'lanche', 'que', 'ele', 'quiser', 'sorrindo', 'de', 'orelha', 'a', 'orelha', 'chantageio', 'ele', 'passo', 'a', 'senha', 'e', 'usuário', 'da', 'minha', 'netflix', 'só', 'se', 'ele', 'voltar', 'pra', 'ca', 'de', 'novo', 'pra', 'ficar', 'cmg', '(pq', 'ele', 'foi', 'pra', 'carmo', 'hj', '💔', ')', 'na', 'verdade', 'eu', 'amo', 'ele', 'pra', 'caralho', 'a', 'nossa', 'vida', 'é', 'original,', 'mas', 'não', 'é', 'um', 'netflix', 'fui', 'toda', 'feliz', 'assistir', 'tvd', 'na', 'netflix', 'e', 'descobri', 'que', 'tiraram', 'do', 'catálogo', 'pqp', 'eu', 'odeioooo', 'issooo', 'hoje', 'tá', 'a', 'cara', 'do', 'edredom', 'e', 'netflix,', 'até', 'queria', 'sair', 'mas', 'ninguém', 'agita', 'nada', 'alguém', 'me', 'indica', 'um', 'desenho', 'pra', 'assistir', 'na', 'netflix', '(', 'dormir', 'o', 'seguir', 'viendo', 'netflix', 'rbcferreir', 'e', 'vai', 'sair', 'da', 'netflix', 'entao', 'não', 'tem', 'erro', 'tirei', 'um', 'tempo', 'pra', 'relaxar,', 'vi', 'tanto', 'filme', 'aleatório', 'no', 'netflix', 'que', 'nem', 'sei', 'o', 'conforto', 'que', 'a', 'netflix', 'traz', 'é', 'uma', 'coisa', 'misteriosa,', 'né', 'estou', 'levemente', 'atrasado', 'em', 'htgawm', 'mas', 'estava', 'com', 'preguiça', 'de', 'baixar', 'os', 'episódios', 'e', 'tal,', 'acabaram', 'de', 'lançar', 'a', 'quinta', 'temporada', 'na', 'netflix', 'e', 'eu', 'estou', 'vendo', 'numa', 'boa', 'eu', 'não', 'aguento', 'mais', 'ficar', 'sem', 'netflix', 'aaaaaaa', 'q', 'saco', 'não', 'dá', 'pra', 'matar', 'a', 'saudade', 'mas', 'eu', 'tenho', 'que', 'achar', 'algo', 'pra', 'fazer', 'tomara', 'que', 'tenha', 'algo', 'legal', 'na', 'netflix', 'q', 'preguiça', 'na', 'moral', 'pra', 'hj', 'eu', 'só', 'queria', 'uma', 'massagem', 'nas', 'costa', 'e', 'uma', 'netflix', 'eu', 'simpsmente', 'estou', 'ignorando', 'a', 'casa', 'e', 'colocando', 'um', 'drama', 'romântico', 'na', 'netflix', 'porém', 'pensando', '“as', '15h', 'eu', 'limpo', 'tudo', '”', 'https', '//t', 'co/u3ibxn1jgy', 'tempo', 'propício', 'p', 'ficar', 'agarradin', 'vendo', 'netflix', 'comendo', 'besteira', 'só', 'uma', 'netflix', 'nesse', 'frio', '—', 'https', '//t', 'co/v1snuqecay', 'queria', 'alguém', 'pra', 'dividir', 'a', 'netflix', 'julianadesuu', 'eu', 'tenho', 'amazon', 'e', 'netflix', 'netflix', 'forçou', 'lançando', \"grey's\", 'anatomy,', 'elite', 'e', 'station', '19', 'no', 'mesmo', 'mês,', 'tô', 'toda', 'perdida', 'quando', 'a', 'netflix', 'e', 'o', 'spotifire', 'debita', 'ao', 'msm', 'tempo', 'https', '//t', 'co/lbyynwboiu', '15', 'temporada', 'de', 'greys', 'no', 'netflix', 'e', 'consigo', 'assim', 'finalmente', 'assisti', 'la', 'minha', 'relação', 'com', 'essa', 'série', 'é', 'muito', 'maluca', 'por', 'mil', 'motivos', '15', 'temporadas', '(e', 'agora', 'com', 'a', '16', 'chegando)', 'foram', 'suficientes', 'para', 'que', 'eu', 'sentisse', 'todos', 'os', 'tipos', 'de', 'sentimentos', 'queria', 'indicação', 'de', 'filme', 'ou', 'série', 'boa', 'na', 'netflix', 'só', 'quero', 'um', 'wi', 'fi', 'meu', 'pai,', 'e', 'a', 'senha', 'da', 'netflix', 'que', 'eu', 'esqueci', 'https', '//t', 'co/kehw7tb64t', 'acho', 'que', 'nem', 'lembro', 'qual', 'foi', 'a', 'última', 'vez', 'que', 'eu', 'deitei', 'pra', 'assistir', 'uma', 'netflix', 'e', 'relaxar', 'já', 'terminei', 'euphoria', 'elite', 'e', '13rw', 'netflix', 'libera', 'aí', 'baby', 'pf', 'crl', 'trocaram', 'a', 'senha', 'da', 'netflix', 'vou', 'ficar', 'puro', 'pprt', 'danielcdant3', 'netoficial', 'faz', '6', 'anos', 'que', 'cancelei', 'a', 'tv', 'por', 'assinatura', 'desde', 'então', 'só', 'netflix,', 'youtube', 'e', 'livros', 'flavioamieiro', 'maribedran', 'conheça', 'carole', '&amp', 'tuesday,', 'novo', 'anime', 'musical', 'do', 'criador', 'de', 'cowboy', 'bebop', 'https', '//t', 'co/v2uxqy1xzd', 'não', 'me', 'creio', 'que', 'um', 'dos', 'meus', 'filmes', 'preferidos', 'de', 'adolescente', 'ta', 'no', 'netflix', 'e', 'eu', 'nao', 'sabiaaaaa', 'porra', 'camila', 'paga', 'o', 'netflix', 'ai', 'cara', 'q', 'eu', 'quero', 'terminar', 'elite', 'meninas', 'malvadas', 'voltou', 'pra', 'netflix', 'sou', 'feliz', 'demais', 'finalmente', 'poderiam', 'né', 'https', '//t', 'co/7xeesh8bf3', 'jpvicentim', 'ilcaires', 'não', 'sei', 'sobre', 'oq', 'é,', 'mas', 'é', 'da', 'netflix', 'espanhola,', 'deve', 'ser', 'bom', 'eles', 'já', 'produziram', 'muita', 'coisa', 'boa', 'pxwerupp', 'aí', 'mo,', 'esse', 'w', 'tem', 'na', 'netflix', 'ai', 'namoral,', 'n', 'vou', 'esperar', 'brooklyn', 'nine', 'nine', 'chegar', 'na', 'netflix', 'não', 'dia', '26', 'tá', 'mt', 'longe', 'ptzisa', 'é', 'incrivel', 'de', 'graça', 'qnd', 'se', 'ta', 'em', 'casa', 'vendo', 'no', 'yotube/netflix,', 'quero', 'só', 'ver', 'esse', 'show', 'ai', '🤨', 'stvigma', 'só', 'tem', 'no', 'netflix', 'https', '//t', 'co/nb0mhxcia9', 'lançamentos', 'e', 'novidades', 'netflix', 'para', 'assistir', 'neste', 'final', 'de', 'semana', 'https', '//t', 'co/06lk3fsih4', 'amandansdasilva', 'netflix', 'pensei', 'o', 'mesmo', 'eu', 'tenho', 'que', 'estudaaaar', 'ensaiar', 'ir', 'pra', 'aula', 'aaaaa', 'isis31589283', 'fala', 'que', 'eu', 'mandei', 'ele', 'tirar', 'o', 'dia', 'hj', 'só', 'pra', 'dormir', 'e', 'ver', 'netflix', 'olha', 'esse', 'cast', 'puta', 'que', 'pariuuuuuuu', 'the', 'crown', 'maior', 'feito', 'da', 'netflix', 'fernandocluiz', 'nessa', 'logica', 'os', 'shoppings', 'tb', 'estariam', 'sujeitos', 'a', 'acabar', 'na', 'minha', 'opinião,', 'o', 'q', 'leva', 'as', 'pessoas', 'a', 'https', '//t', 'co/7szidvvf3o', 'casa', 'é', 'a', 'experiencia', 'por', 'ex', 'netflix', 'e', 'o', 'streaming', 'em', 'geral', 'nao', 'acabou', 'com', 'os', 'cinemas,', 'por', 'causa', 'da', 'experiência', 'só', 'queria', 'uma', 'netflix', '😭', 'laviniasilva__', 'poxann,', 'essa', 'conta', 'da', 'netflix', 'tbm', 'é', 'emprestada', 'kkkkk', 'lançou', 'um', 'filme', 'clichê', 'na', 'netflix', 'e', 'fala', 'sério,', 'esse', 'tipo', 'de', 'filme', 'meloso', 'que', 'eu', 'amo', 'me', 'faz', 'acreditar', 'em', 'contos', 'de', 'fadas', 'mexmooo,', 'e', 'n', 'to', 'nem', 'ai', '🥺', '🥰', 'alguem', 'conversa', 'cmg', 'pq', 'n', 'da', 'nem', 'pra', 'eu', 'assistir', 'netflix', 'pq', 'n', 'posso', 'fazer', 'barulho', 'fepupim', 'hahahhaha', 'comentei', 'pq', 'uns', 'dois', 'dias', 'atras', 'coloquei', 'um', 'episodio', 'aleatorio', 'na', 'netflix', 'enquanto', 'estava', 'enrolando', 'em', 'casa', 'era', 'justamente', 'o', 'que', 'o', 'jess', 'chegava', 'na', 'cidade', 'vou', 'finalmente', 'ver', 'a', '3a', 'temporada', 'de', 'hip', 'hop', 'evolution', 'na', 'netflix', 'eheh', 'aaaa', 'eu', 'não', 'to', 'acreditando', 'em', 'diário', 'de', 'uma', 'paixão', 'na', 'netflix', 'passar', 'os', 'dias', 'chorando', 'agora', 'netflix,', 'edredom', 'e', 'alimentando', 'o', 'dragão', 'faminto', 'que', 'existe', 'em', 'mim', 'hoje', 'nada', 'me', 'tira', 'de', 'casa', 'mavi_vitvit', 'tem', 'nem', 'mais', 'série', 'boa,', 'já', 'assisti', 'o', 'catálogo', 'todo', 'da', 'netflix', 'hoje', 'vai', 'ser', 'igual', 'ontem,', 'netflix', 'e', 'lanche,', 'sossegueeeeei', 'vim', 'olhar', 'netflix', 'na', 'casa', 'do', 'vô', 'de', 'um', 'carinha', 'aí', 'não', 'tinha', 'nem', 'teve', 'vhopejgk', 'eu', 'até', 'assistiria,', 'mas', 'tô', 'sem', 'netflix', 'agr', 'eu', 'pergunto', 'cadê', 'a', '4°', 'temporada', 'de', 'outlander', 'netflix', 'https', '//t', 'co/uuy3vgqmwb', 'e', 'eu', 'que', 'fui', 'treinar', 'e', 'torci', 'o', 'pé,', 'isso', 'é', 'god', 'dizendo', 'pra', 'eu', 'voltar', 'pra', 'netflix', 'o', 'jovem', 'de', 'hoje', 'quer', 'é', 'acordar', 'no', 'fds', 'às', '10h', 'e', 'comer', 'pizza', 'do', 'dia', 'anterior', 'no', 'café', 'da', 'manhã,', 'com', 'a', 'parceirinha', 'netflix', 'netflix', 'kids', 'é', 'tudo', 'pra', 'mim', 'kk', 'greggui_', 'alguém', 'me', 'diz', 'um', 'app', 'ou', 'site', 'pra', 'assistir', 'esse', 'filme', 'pq', 'já', 'procurei', 'na', 'netflix', 'e', 'no', 'vizer', 'mas', 'não', 'achei', 'afffff', 'queria', 'assistir', 'algo', 'bom', 'na', 'netflix,', 'mas', 'nada', 'chama', 'muito', 'minha', 'atenção', 'netflix', 'lançou', 'a', '2°temp', 'de', 'elite', 'ontem', 'e', 'eu', 'já', 'assisti', 'todos', 'os', 'episódios', '😪', 'ainda', 'bem', 'que', 'vi', 'essa', 'décima', 'quinta', 'tenporada', 'de', 'greys', 'bem', 'antes', 'de', 'lançar', 'no', 'netflix', 'pq', 'nossa', 'senhora,', 'ôh', 'demora', 'eu', 'num', 'ia', 'aguentar', 'não', 'viu', 'netflix', 'tirou', 'os', 'poucos', 'episódios', 'de', 'criminais', 'minds', 'q', 'estavam,', 'na', 'não', 'vc', 'não', 'faz', 'né', 'entrou', 'diário', 'de', 'uma', 'paixão', 'no', 'netflix,', 'vou', 'sofrer', 'horrores', 'hoje', 'sera', 'q', 'vai', 'demora', 'mto', 'pra', 'netflix', 'colocar', 'a', 'nova', 'temporada', 'de', 'peaky', 'blinders', 'https', '//t', 'co/uxiltsmrbe', 'bandidos', 'na', 'tv', 'estreia', 'na', 'netflix', 'nova', 'docussérie', 'trata', 'de', 'caso', 'verídico', 'de', 'apresentador', 'de', 'tv', 'https', '//t', 'co/rfujd3ydxw', 'bandidosnatv', 'tá', 'foda', 'ein', 'netflix,', 'nada', 'que', 'de', 'bom', 'que', 'eu', 'já', 'não', 'tenha', 'assistido', 'ealvim', 'cardoso', 'eu', 'tava', 'assistindo', 'ao', 'documentário', 'da', 'netflix', 'sobre', 'os', 'terraplanista', 'e', 'fiquei', 'curioso', 'sobre', 'o', 'pq', 'de', 'essas', 'teorias', 'florescerem', 'nos', 'eua', 'as', 'piores', 'séries', 'da', 'netflix', 'da', 'atualidade', 'https', '//t', 'co/ixttfp4yw0', 'https', '//t', 'co/ebbwncoxa4', 'já', 'acordo', 'querendo', 'ir', 'pra', 'netflix', 'amoo', 'muito', '🥰', '❤', 'porra', 'eu', 'tenho', 'que', 'estudar', 'nesse', 'sábado', 'e', 'domingo', 'aí', 'a', 'netflix', 'vai', 'e', 'libera', 'elite', 'até', 'agora', 'deitado', 'vendo', 'netflix,', 'oh', 'vida', 'alguém', 'me', 'empresta', 'a', 'netflix,', 'por', 'favorzinho', \"'(\", 'netflix', 'ganhou', 'me', 'coração', 'depois', 'de', 'ter', 'colocado', 'dirty', 'dancing', 'os', 'sonhos', 'do', 'grupo', 'da', 'netflix', 'hoje', 'foram', 'qualquer', 'coisa', 'de', 'espetacular', 'hoje', 'é', 'dia', 'de', 'netflix', 'e', 'pizza', 'totalmente', 'triste', 'por', 'só', 'ter', '4', 'temporadas', 'de', 'b99', 'na', 'netflix', 'penguinzito', 'fiischerleticia', 'amigo', 'que', 'isso', 'eu', 'baixo', 'episódio', 'de', 'série', 'na', 'netflix', 'e', 'não', 'acaba', 'lançou', 'mais', 'temp', 'de', 'um', 'mte', 'de', 'série', 'na', 'netflix', 'adeus', 'vida', 'social', 'netflix', 'tem', 'uns', 'anime', 'baunzaum', 'estranhei', 'até', 'tenho', 'quase', 'certeza', 'que', 'a', 'minha', 'vida', 'só', 'começou', 'a', 'desandar', 'quando', 'a', 'netflix', 'tirou', 'tvd', 'do', 'catálogo', 'vaputakepareyou', 'toodivaforyou', 'já', 'és', 'daddy', 'pra', 'dar', 'netflix', 'netflix,', 'coloca', 'essa', 'série', 'no', 'catálogo', 'dnv', 'pelo', 'amor', 'da', 'santa', 'mãezinha', 'das', 'séries', 'quero', 'maratonar', 'ela', 'dnv', '😍', 'https', '//t', 'co/yl5m6tpe9p', 'kellendomingue2', 'alexsanspacheco', 'exato,', 'é', 'irritante', 'não', 'há', 'um', 'único', 'filme', 'no', 'netflix', 'que', 'não', 'haja', 'gays,', 'colocam', 'fora', 'de', 'contexto,', 'sem', 'qualquer', 'relação', 'com', 'o', 'filme', ',', 'forçam', 'demais,', 'então', 'não', 'fica', 'uma', 'coisa', 'natural', 'eu', 'e', 'as', 'outras', 'duas', 'dcnautas', 'q', 'vão', 'esperar', 'a', '2°', 'tenporada', 'de', 'titans', 'sair', 'na', 'netflix', 'pra', 'assistir', 'tudo', 'https', '//t', 'co/y5lfmopuk7', 'amazon', 'prime', 'caga', 'mole', 'na', 'boquinha', 'da', 'netflix', 'só', 'por', 'ter', 'no', 'catálogo', 'todas', 'as', 'temporadas', 'de', 'downton', 'abbey', 'chegou', 'diário', 'de', 'uma', 'paixão', 'na', 'netflix,', 'esse', 'momento', 'é', 'todinho', 'meeeuuu', 'a', 'netflix', 'relançou', 'a', 'terceira', 'parte', 'de', 'la', 'casa', 'de', 'papel', 'com', 'o', 'neymarjr', 'só', 'para', 'mostrar', 'como', 'a', 'participação', 'dele', 'foi', 'inútil', 'para', 'o', 'andamento', 'da', 'série', 'v', 'foi', 'apenas', 'para', 'aparecer', 'mesmo,', 'pois', 'a', 'narrativa', 'não', 'muda', 'em', 'nada', 'com', 'ou', 'sem', 'ele', 'nao', 'aguento', 'mais', 'a', 'netflix', 'tirando', 'as', 'coisas', 'boas', 'do', 'catálogo', 'assisto', 'netflix', 'quase', 'nunca,', 'mas', 'quando', 'vou', 'assistir', 'já', 'tem', 'atualizar', 'o', 'pagamento', '🤬', 'maricampos73', 'obrigado', 'pra', 'vc', 'também', 'bom', 'feriado,', 'vou', 'passar', 'o', 'meu', 'feriado', 'em', 'casa', 'com', 'minha', 'esposa', 'assistindo', 'a', 'série', 'vis', 'a', 'vis', 'da', 'netflix', 'só', 'queria', 'a', '2', 'temp', 'de', 'titãs', 'na', 'netflix', 'até', 'o', 'globoplay', 'tem', 'harry', 'potter', 'e', 'a', 'netflix', 'não', 'https', '//t', 'co/tsbwsujatc', 'feriadou', 'e', 'o', 'papai', 'ficou', 'tanto', 'me', 'apressando', 'pela', 'minha', 'parte', 'da', 'fatura', 'do', 'cartão', 'pra', 'ele', 'deixar', 'pra', 'pagar', 'só', 'segunda', 'e', 'eu', 'ficar', 'sem', 'netflix', 'tnc', 'meu', 'patrão', 'injusto', 'a', 'netflix', 'lançar', 'temporadas', 'novas', 'das', 'minhas', 'séries', 'favoritas', 'e', 'eu', 'ter', 'trabalho', 'pra', 'fazer', 'martinslucas027', 'caça', 'aos', 'gângster', 'na', 'netflix', 'msm', 'fml', 'thaynvictoria6', 'assisti', 'a', 'voz', 'do', 'silêncio', 'na', 'netflix,', 'uma', 'animação', 'que', 'oh', 'um', 'soco', 'na', 'cara', 'casperdiogo', 'da', 'outra', 'vez', 'demorou', 'pra', 'ir', 'pra', 'netflix', 'netflix', 'ja', 'pode', 'colocar', 'a', 'terceira', 'temp', 'de', 'elite', 'já', 'mo', 'netflix', 'espero', 'q', 'essas', 'season', 'atypical', 'seja', 'perfeita,', 'nn', 'aceito', 'menos', 'todas', 'as', 'séries', 'podiam', 'ser', 'igual', 'vis', 'a', 'vis', 'na', 'netflix,', 'temporada', 'nova', 'saindo', 'rapidinho']\n"
     ]
    },
    {
     "data": {
      "text/plain": [
       "netflix            172\n",
       "de                  94\n",
       "a                   92\n",
       "e                   84\n",
       "eu                  58\n",
       "que                 54\n",
       "na                  52\n",
       "pra                 50\n",
       "o                   41\n",
       "só                  36\n",
       "da                  29\n",
       "é                   28\n",
       "com                 27\n",
       "não                 27\n",
       "no                  26\n",
       "uma                 25\n",
       "assistir            25\n",
       "um                  24\n",
       "https               21\n",
       "//t                 21\n",
       "me                  18\n",
       "do                  17\n",
       "netflix,            17\n",
       "vou                 17\n",
       "em                  16\n",
       "mas                 16\n",
       "queria              16\n",
       "q                   16\n",
       "elite               16\n",
       "esse                15\n",
       "                  ... \n",
       "graças               1\n",
       "wi                   1\n",
       "prime                1\n",
       "coloquei             1\n",
       "romântico            1\n",
       "festa                1\n",
       "puta                 1\n",
       "spotify,             1\n",
       "sendonuma            1\n",
       "usuário              1\n",
       "anatomy,             1\n",
       "meeeuuu              1\n",
       "bebop                1\n",
       "moral                1\n",
       "debita               1\n",
       "sera                 1\n",
       "pela                 1\n",
       "estranhei            1\n",
       "harry                1\n",
       "titans               1\n",
       "ator                 1\n",
       "muda                 1\n",
       "okumura              1\n",
       "preparada            1\n",
       "legal                1\n",
       "casperdiogo          1\n",
       "aguarde              1\n",
       "isso,impossível      1\n",
       "💙                    1\n",
       "único                1\n",
       "Length: 1101, dtype: int64"
      ]
     },
     "execution_count": 235,
     "metadata": {},
     "output_type": "execute_result"
    }
   ],
   "source": [
    "import functools\n",
    "import operator\n",
    "import re\n",
    "import emoji\n",
    "\n",
    "relevantes_emojis=[]\n",
    "relevantes = pd.Series(relevantes)\n",
    "#print(relevantes)\n",
    "for em in relevantes:\n",
    "    em_split_emoji = emoji.get_emoji_regexp().split(em)\n",
    "    em_split_whitespace = [substr.split() for substr in em_split_emoji]\n",
    "    em_split = functools.reduce(operator.concat, em_split_whitespace)\n",
    "    for separated in em_split:\n",
    "        relevantes_emojis.append(separated)\n",
    "    #if len(em_split)==1:\n",
    "        #relevantes_emojis.append(em_split)\n",
    "    #else:\n",
    "        #for im in em_split:\n",
    "            #relevantes_emojis.append(im[0])\n",
    "print(relevantes_emojis)\n",
    "#relevantes_emojis_list=[]\n",
    "#for em in relevantes_emojis:\n",
    "#    if len(em)>1:\n",
    "#        for im in em_split:\n",
    "#            relevantes_emojis_list.append(im)\n",
    "#    else:\n",
    "#        relevantes_emojis_list.append(em)\n",
    "#print(relevantes_emojis_list)\n",
    "relevantes=pd.Series(relevantes_emojis)\n",
    "relevantes.value_counts()\n",
    "#relevantes_emojis_list[]"
   ]
  },
  {
   "cell_type": "code",
   "execution_count": 236,
   "metadata": {},
   "outputs": [
    {
     "data": {
      "text/plain": [
       "netflix            0.056747\n",
       "de                 0.031013\n",
       "a                  0.030353\n",
       "e                  0.027714\n",
       "eu                 0.019136\n",
       "que                0.017816\n",
       "na                 0.017156\n",
       "pra                0.016496\n",
       "o                  0.013527\n",
       "só                 0.011877\n",
       "da                 0.009568\n",
       "é                  0.009238\n",
       "com                0.008908\n",
       "não                0.008908\n",
       "no                 0.008578\n",
       "uma                0.008248\n",
       "assistir           0.008248\n",
       "um                 0.007918\n",
       "https              0.006928\n",
       "//t                0.006928\n",
       "me                 0.005939\n",
       "do                 0.005609\n",
       "netflix,           0.005609\n",
       "vou                0.005609\n",
       "em                 0.005279\n",
       "mas                0.005279\n",
       "queria             0.005279\n",
       "q                  0.005279\n",
       "elite              0.005279\n",
       "esse               0.004949\n",
       "                     ...   \n",
       "graças             0.000330\n",
       "wi                 0.000330\n",
       "prime              0.000330\n",
       "coloquei           0.000330\n",
       "romântico          0.000330\n",
       "festa              0.000330\n",
       "puta               0.000330\n",
       "spotify,           0.000330\n",
       "sendonuma          0.000330\n",
       "usuário            0.000330\n",
       "anatomy,           0.000330\n",
       "meeeuuu            0.000330\n",
       "bebop              0.000330\n",
       "moral              0.000330\n",
       "debita             0.000330\n",
       "sera               0.000330\n",
       "pela               0.000330\n",
       "estranhei          0.000330\n",
       "harry              0.000330\n",
       "titans             0.000330\n",
       "ator               0.000330\n",
       "muda               0.000330\n",
       "okumura            0.000330\n",
       "preparada          0.000330\n",
       "legal              0.000330\n",
       "casperdiogo        0.000330\n",
       "aguarde            0.000330\n",
       "isso,impossível    0.000330\n",
       "💙                  0.000330\n",
       "único              0.000330\n",
       "Length: 1101, dtype: float64"
      ]
     },
     "execution_count": 236,
     "metadata": {},
     "output_type": "execute_result"
    }
   ],
   "source": [
    "relevantes_relativos=relevantes.value_counts(True)\n",
    "relevantes_relativos"
   ]
  },
  {
   "cell_type": "code",
   "execution_count": 237,
   "metadata": {},
   "outputs": [
    {
     "data": {
      "text/plain": [
       "netflix          0.041176\n",
       "a                0.029657\n",
       "que              0.022059\n",
       "de               0.022059\n",
       "e                0.021569\n",
       "na               0.017647\n",
       "o                0.017402\n",
       "não              0.013480\n",
       "eu               0.013480\n",
       "da               0.009069\n",
       "tem              0.008578\n",
       "https            0.008088\n",
       "//t              0.008088\n",
       "é                0.007843\n",
       "no               0.007843\n",
       "do               0.007598\n",
       "uma              0.007598\n",
       "com              0.007598\n",
       "me               0.007353\n",
       "ver              0.006863\n",
       "em               0.006863\n",
       "um               0.006863\n",
       "vai              0.006373\n",
       "pra              0.006373\n",
       "mas              0.006127\n",
       "já               0.005882\n",
       "filme            0.005392\n",
       "q                0.005392\n",
       "minha            0.004902\n",
       "se               0.004657\n",
       "                   ...   \n",
       "praia            0.000245\n",
       "co/zpybx5qfl3    0.000245\n",
       "floribella       0.000245\n",
       "moral            0.000245\n",
       "poupe            0.000245\n",
       "apelido          0.000245\n",
       "mcrivella        0.000245\n",
       "co/v1ziivtq7p    0.000245\n",
       "mantendo         0.000245\n",
       "vemmmm           0.000245\n",
       "desinstale       0.000245\n",
       "🤓                0.000245\n",
       "amor,            0.000245\n",
       "caioblinder      0.000245\n",
       "turma            0.000245\n",
       "gays             0.000245\n",
       "mto              0.000245\n",
       "tons             0.000245\n",
       "co/o3okezdlnc    0.000245\n",
       "assinar          0.000245\n",
       "socorrrro        0.000245\n",
       "consegui         0.000245\n",
       "i                0.000245\n",
       "sucesso          0.000245\n",
       "space            0.000245\n",
       "kkkkjkkkk        0.000245\n",
       "bebi             0.000245\n",
       "g                0.000245\n",
       "derrubar         0.000245\n",
       "embaixo          0.000245\n",
       "Length: 1517, dtype: float64"
      ]
     },
     "execution_count": 237,
     "metadata": {},
     "output_type": "execute_result"
    }
   ],
   "source": [
    "irrelevantes = pd.Series(irrelevantes)\n",
    "irrelevantes_emojis=[]\n",
    "for em in irrelevantes:\n",
    "    em_split_emoji = emoji.get_emoji_regexp().split(em)\n",
    "    em_split_whitespace = [substr.split() for substr in em_split_emoji]\n",
    "    em_split = functools.reduce(operator.concat, em_split_whitespace)\n",
    "    for separated in em_split:\n",
    "        irrelevantes_emojis.append(separated)\n",
    "irrelevantes = pd.Series(irrelevantes_emojis)\n",
    "irrelevantes_relativos=irrelevantes.value_counts(True)\n",
    "irrelevantes_relativos"
   ]
  },
  {
   "cell_type": "code",
   "execution_count": 238,
   "metadata": {
    "scrolled": true
   },
   "outputs": [
    {
     "data": {
      "text/plain": [
       "netflix          0.052921\n",
       "a                0.032951\n",
       "eu               0.026960\n",
       "de               0.023465\n",
       "que              0.021468\n",
       "e                0.016975\n",
       "da               0.016475\n",
       "na               0.016475\n",
       "o                0.012481\n",
       "só               0.011982\n",
       "pra              0.010984\n",
       "https            0.009985\n",
       "//t              0.009985\n",
       "temporada        0.008487\n",
       "assistir         0.006990\n",
       "uma              0.006990\n",
       "com              0.006990\n",
       "ver              0.006990\n",
       "um               0.006990\n",
       "não              0.006990\n",
       "série            0.006490\n",
       "minha            0.006490\n",
       "to               0.006490\n",
       "é                0.005991\n",
       "do               0.005492\n",
       "q                0.005492\n",
       "me               0.005492\n",
       "dia              0.004993\n",
       "nao              0.004993\n",
       "vou              0.004993\n",
       "                   ...   \n",
       "mean             0.000499\n",
       "orgulho          0.000499\n",
       "🍿                0.000499\n",
       "omar             0.000499\n",
       "glow             0.000499\n",
       "lindo            0.000499\n",
       "graças           0.000499\n",
       "co/8l848jqiv7    0.000499\n",
       "jeito            0.000499\n",
       "🍁                0.000499\n",
       "co/lguz432i6z    0.000499\n",
       "estreou          0.000499\n",
       "plataforma       0.000499\n",
       "youtube,         0.000499\n",
       "pensando         0.000499\n",
       "friozin          0.000499\n",
       "ficou            0.000499\n",
       "season           0.000499\n",
       "programinha      0.000499\n",
       "chegando         0.000499\n",
       "lost             0.000499\n",
       "titans,          0.000499\n",
       "ericacost11      0.000499\n",
       "💭                0.000499\n",
       "apoiando         0.000499\n",
       "✨                0.000499\n",
       "loko             0.000499\n",
       "crush            0.000499\n",
       "titans           0.000499\n",
       "deitadinha       0.000499\n",
       "Length: 823, dtype: float64"
      ]
     },
     "execution_count": 238,
     "metadata": {},
     "output_type": "execute_result"
    }
   ],
   "source": [
    "neutros = pd.Series(neutros)\n",
    "neutros_emojis=[]\n",
    "for em in neutros:\n",
    "    em_split_emoji = emoji.get_emoji_regexp().split(em)\n",
    "    em_split_whitespace = [substr.split() for substr in em_split_emoji]\n",
    "    em_split = functools.reduce(operator.concat, em_split_whitespace)\n",
    "    for separated in em_split:\n",
    "        neutros_emojis.append(separated)\n",
    "neutros = pd.Series(neutros_emojis)\n",
    "neutros_relativos=neutros.value_counts(True)\n",
    "neutros_relativos"
   ]
  },
  {
   "cell_type": "code",
   "execution_count": 239,
   "metadata": {},
   "outputs": [
    {
     "name": "stdout",
     "output_type": "stream",
     "text": [
      "[' petitluannes 15 que lançou agora no netflix kk', ' mananabranco hahahahah * melhor coisa do sábado cedinho , falar com a ma +fazer café +netflix', 'eu  gente o ander é obviamente o ativo, nunca que o omar come ele netflix  ander senta no omar eu  só acredito vendo eu  *vejo ainda eu  não acredito', 'agr posso assistir netflix em paz', 'esse tempinho em pleno sabado de feriado, só queria ficar deitada vendo netflix ', ' m_vasconcellus aí não dá pra ficar em casa dormindo e vendo só netflix', 'eu quando vou assistir netflix   99,9% procurando alguma coisa pra assistir 00,1% assistindo e depois eu termino nem assistindo e durmo', 'lost vai sair do catálogo da netflix mês que vem por causa do disney+ e mais uma vez os gays perdendo', 'estou muito feliz porque a netflix voltou com garotas malvadas, vou assistir mais 1899 vezes', 'caraca a pegação da nádia e do guzman foi muito além de um beijo, netflix sem limite', 'alguém conhece um site seguro pra ver série  quero convencer 2 amigos a assistir himym e não tem na netflix  🥺', 'nova cpmf enquadraria até netflix e uber, diz paulo guedes   https //t co/uwscnmuggz', 'nem assisti a 3 temporada de 13rw e acho que nem vou pode jogar fora netflix', 'obg netflix pelos mimos o personagem novo de elite é um pitel', 'já estou no terceiro episódio da 5a temporada de  htgawm e já acho que a bonnie matou foi o investigador  suspense  netflix', ' fckjergui tem na netflix  é uma série de entrevistas com pessoas maravilhosas  de todas, acho que só não vi duas porque as pessoas não me interessavam  a do obama é a primeira  que homem, mds  que homem ', ' anygabrielly partiu  ficar em casa, vendo netflix alkakakakaka', 'tá ficando com alguém  — quem me dera passar o dia vendo netflix c a bandida nessa chuvinha kkk https //t co/uv1fnqhtil', 'é, hoje é jogar free fire e assistir netflix', 'os espiritos vendo a netflix chegando no cemitério pra gravar mais um enterro fake pra uma série teen nova deles https //t co/7bel2nzm5r', ' exowalks ansioso  eu torcia o nariz pra série, achava que era mais uma série besta da netflix nível 13rw, mas estava errado pois é muito boa  elite esmurra a bomba de cocô radiotivo que é 13rw', 'netflix anuncia início das gravações da última temporada de lucifer  https //t co/oqjyzy4ldl\\xa0  lucifer https //t co/mtmzwcsfba', 'procurando alguém para assinar netflix, alguém queira ', '\"ai amiga, ele é psicopata\" (depois de ver you na netflix) https //t co/yrnbma2qwc', ' glowschen olá  por gentileza, entre em contato com a nossa central de atendimento através do número 0800 892 5063 ou através desse link  https //t co/wupdwe0ldq para investigarmos melhor essa situação, ok  *mp', 'daqui a pouco é netflix e uma cerva, só eu e ela ', 'se não era pra eu estar assistindo um netflix agarradinha   ', '“deixa esse lance de se exercitar com caminhada pra mais tarde  vai, liga logo a netflix, só um pouquinho ” https //t co/odwzyridyk', '\"dinheiro não te faz feliz\" roupa nova  kkkkkkkkk tênis novo  kkkkkkkk netflix  kkkkkkkk intercâmbio  kkkkkkkk comida  kkkkkkkk', ' netflix a  globoplay  passou na frente  tanto se pediu, moscou, perdeu https //t co/2w2h81ne5k', ' peterjordan100  arthurmoledoval  mcrivella acho válido que todo material viesse com uma indicação de \"conteúdo lgbt\"  quem quer compra, quem não quer está avisado e não tem surpresas  como nas indicações de conteúdo das séries na netflix, por exemplo ', 'ainda bem q a netflix vai avisando quando estreia a próxima temporada de cada série q eu to assistindo, se n eu tava mais perdida q barata tonta', 'puts quero mt assistir elite mas to sem netflix', 'fui assistir um filme e minha mãe trocou a senha da netflix e nem me avisou', 'alguém me empresta a netflix na amizade msm só por 2 dias', ' cyykaablyat wow ficas linda dos 2 modos mas com cabelo curto fazes me lembrar a ramona de um filme da netflix chamado oh ramona', 'ficamos até tarde vendo netflix,  ainda pedimos pizza 🥰', 'diário de uma paixão voltou pro catálogo da netflix, pronto, acabou pra mim ', ' robertagueds se descobri me conta, quero ver rbd mas tem    netflix tóxica do caralho grrrr', ' oliveirabiancag miga assiste pelo supérflix, é o que me salva quando cancelam a netflix', ' vinybertoli vou fazer  tá afim de netflix mais tarde 🤪', 'já sei que não vou fazer nada hoje  vou ativar o modo netflix e ser feliz', 'ai gente eu amo os filmes da bridget jones d+ obg netflix por ter no catálogo', 'assisto american horror story desde que lançou, sabe minha tristeza  não poder ver na netflix', 'no momento me encontro na cama, no aguardo das 18h para colocar pijama, ligar netflix e comer salgadinho até explodir ❤️ sábado perfeito para uma taurus', 'gente mds, meu primo assiste luccas neto e eu to aq só olhando, que coisa mais boba o “filme” na netflix ensina só coisa errada é a babá roubando o adulto se fazendo de criança e os bobo destruindo a casa, plmds cancela isso', ' natalia_rego  netflix tô no episódio 15 da 15 tempo', 'e a resenha de ontem q até tiro rolo, 🙄😂 credo  ainda bem q deus mandou eu fica em casa vendo netflix', 'emprestem me netflix pfvvvv', 'vou pedir a duda em casamento gente, a linda me passou a conta da netflix dela é o amor da minha vida mesmo', 'us guri eram raiz  2019  \"só curtindo o feriadão assistindo netflix sem o  \" https //t co/nxcqyh1hwj', 'achei que era alguma coisa da série de as crônicas de nárnia da netflix, mas é só algum desconhecido mesmo', ' inveruus mas quando chegar na netflix vai ser tudo de uma vez', 'sabadou bem traquila sem ngm em casa, só eu e minha netflix 👍🏼', '\"dinheiro não traz felicidade\"  netflix kkkkkkkkkkk lanches kkkkkkkkkkk roupas novas kkkkkkkkkkk tênis novos kkkkkkkkkkkk viagens kkkkkkkkkkkkkkk cinema kkkkkkkkkkkkkkk rodízios kkkkkkkkkkkkkkk', ' bebadadisse  belaperogil netflix  a você ', 'as séries da hbo esmurram tanto as séries da netflix', 'a única coisa boa que ela fez por mim foi dar me netflix https //t co/1hvprsbn6h', 'eu empresto a netflix pra grace e ela ainda gasta a minha senha, sem condições', 'a parte ruim é saber que vou ter que esperar 1 ano até a chegar a 16°temp na netflix  um ano', 'outra recomendação  assistam crazyhead também e vamos fazer uma petição pro netflix trazer de volta  ', ' icmstrs tbm vou ver amigos, só que na netflix   ', 'meu pai assinou a netflix pra mim 😍', 'fico tanto tempo tentando decidir o que ver na netflix e sempre acabo assistindo enrolados de novo', 'um ótimo dia pra ficar na netflix o dia td, ae lembro q tenho q pagar kkkk', 'depender de netflix dos outros é foda viu', ' aliine_rcs não na netflix, mas eu te mando o link pra vc verr', ' kimtaehee22 o problema foi a netflix ter cancelado a serie', '\"sintonia\" é a melhor série a netflix poderia proporcionar👏👏🎬', 'amém meninas malvadas na netflix de novo', 'netflix do céu não separar o omar do ander por favor ', 'com essa chuva vou é assistir netflix  kkk', ' bisborriia olá, queremos investigar isso melhor, então entra em contato com a nossa central de atendimento no 0800 892 5063 ou via chat no link  https //t co/wupdwe0ldq , ok  *pc', 'até a bandidagem já sabe qual é a melhor série da netflix https //t co/oex6squxo6', 'to rindo mto com a minha mãe aprendendo a mexer na netflix', ' eu_jai tu acha que vai ser a última      se tratando se netflix    mas eu acho que como são só oito episódios, ficaram muitas coisas em aberto pra resolver  já assistiu todo  pq a 3 vai ser voltada pra resolução daquele final   ', ' stylwsftkley os que estão na netflix sim miga só falta a 4º temp mas da vontade de chorar de saber que vai ser a última  (', 'enquanto uns está com o   nesse feriado minha companhia é  netflix e cama💕 nada melhor que isso 🙆🏻\\u200d♀️', 'queria ver vis a vis pelo celular mas esqueci a senha da netflix e meus irmãos estão vendo televisão, ranço', 'só esperando a netflix postar a 5 passos de vc p chorar dnv vendo k', ' niimirandaa no caso ontem sextou kkkkkkkk mas hj sabadou c netflix tbm', ' greysanatombei  willianslanzara trate de pagar logo a netflix pra eu matar minha saudade', 'ah netflix de novo fazendo bosta no final vai toma no cu  a série é boa mas não precisava de outra temporada', 'que diazão pra se baixar com vinho e netflix', 'eu to mal, to sem netflix e eu só quero um colo', 'hj acordei happy ( ) só queria alguém p companhia e ver netflix', 'curando ressaca com uma comédia romântica b na netflix, jesus que fundo do poço foi esse', 'só queria irmão urso na netflix esse filme marcou minha infância todinha poxa', 'mainha não pagou a netflix bem no mês que lança a 2ª temporada de elite aaaaaaaaaa não', 'chuva  netflix  vc', 'mano eu só quero o ander e o omar felizes não é possível netflix', 'tô assistindo estrada sem lei, na netflix e comendo as minhas porcarias que comprei no mercado melhor 7 de setembro', ' ricardinhosr temos algumas instruções para ajudar todos vocês  caso ache que recebeu alguma mensagem de texto ou email fraudulento, siga as dicas do artigo a seguir para manter os dados bem seguros e denunciar o caso, https //t co/yccwlt1wkv  *mp', 'escola do rock entrou no catálogo da netflix e eu sou a pessoa mais feliz', 'tenho a cama, o chocolate, a netflix, falta só vc', ' carool_sooaress ah então és tu que estás a ver o sugar rush no netflix não é ahahaha', ' rodrigotorresb simmmmmm a arlequina    eu tô esperando pela versão das aves de rapina  tbm quero a starfire da versão da série da netflix, que eu espero que saia em breve', 'eu só queria que a ex do ruan pagasse a netflix dela 😭😭😭😭', 'netflix é muito estranho pq tem séries que eu vejo que não aparecem pra minha mãe', 'agr to brava pq acabei tudo em um dia e já quero a 3ªtemp, netflix tóxica 😫 https //t co/u1cxuzambm', 'q ele venha p lolla2020 pf        aliás assistam o documentário dele na netflix,  i n s a n o https //t co/mnls9tfeqk', 'meu cérebro  você tem que estudar, lindo    meu coração  bota a netflix oporra', 'da cela para a tela  ex detento vira ator em série da netflix https //t co/e7s3oyvivj', 'entrou na netflix  dois filmes catástrofe e mais 7 opções  https //t co/fjeb5d0atc', 'engraçado q as produções da netflix tem q ter uma abordagem social do país q a série foi produzida né aí eu tava vendo uma série adolescente espanhola e uma das abordagens eh uma meia irmã q gosta do meio irmão eu fiquei pita merda espanha vai te fode com teu incesto p lá oxe', 'vou ficar a tarde toda baixado em casa vendo uma netflix', ' arthurmoledoval  mcrivella acho válido que todo material viesse com uma indicação de \"conteúdo lgbt\"  quem quer compra, quem não quer está avisado e não tem surpresas  como nas indicações de conteúdo das séries na netflix, por exemplo ', 'ta com vontade de ver nemo mas minha netflix não ta funcionando odio', ' opa_kaue pela lógica não pode já que os direitos estão reservados pela netflix mas tudo bem scooby travis', ' milas_kano  vitorshallow mais oque poha é essa netflix ', ' kaillaineribei af, netflix ta sempre atrasada kkk', 'aleluia o  berrielmichael pagou a netflix né', 'karolzinha fortaleceu na conta da netflix 🥰', 'meu tiooo pagou a netflix,vou terminar minhas três séries  aaaaaaaah', 'esses 4 canais devem achar q vao abocanhar a audiencia da globo se ela cair mal sabem q quem vai sair ganhando é a netflix e suas concorrentes', 'sai prs beber com os amigos ou ficar em casa com uma pessoa e ver netflix  — eu só assisto netflix com quem eu gosto, então eu iria estar com meu amorzinho  p https //t co/nvqlwgcpsw', ' perola_cardoso  hellxxz ffc, essa hora     então te chamo pra ver netflix tô na intenção de te comer nada a ver kkkk seriado e mo bommmm', 'quero vê um netflix cara', 'alguem q me de netflix', 'preciso de uma netflix, alguém sabe como faz   😓', 'literalmente todas as series espanholas da netflix tem o mesmo elenco sera possivel que na espanha inteira nao tenha um ator novo pra botar nessas series', ' leonsouza7  netflixbrasil lê esse tt e faz a vontade da seus assinantes  netflix vai dominar o mundo', 'hj tá pedindo um xis e uma netflix bombandooo', 'a melhor série que a netflix pode nos dar https //t co/6bgwij16oj', 'basicamente um maze runner versão netflix e com um efeitos especiais aparentemente muito ruins https //t co/u3wscun6gi', 'e eu que acordei com saudade de rever a atuação do heath ledger como coringa   fui procurar na netflix e fiquei decepcionada por não ter  ainda não satisfeita, fui procurar na programação dos canais da tv, na esperança de passar em algum momento do final de semana   ', 'eu só queria um amorzin pra ver netflix comigo ', 'netflix salvou com essa segunda temporada de elite', 'tô morta que lançou a segunda temporada de elite e eu nem acabei 13rw  dá um segurada aí netflix', ' peiyneau quer outro murro na netflix    7,90/mês o catálogo não é impressionante mas tem varias coisas legais', 'oque que eu vim fazer na praia (a trabalho) se eu esqueci de pagar a netflix', 'pq a netflix n pega quando jogo do ipad pra tv  q saco', 'índios contratados pelo pt essa eh a fanfake news alo  netflix contrata esses fanfic sensacionalista', ' malununoli eu sou a gaivota e o beluga aí é a netflix, twitter, instagram 😅', ' targfobic um ap q da p ver serie da netflix ou coisa do ytb com os amigos e tem um chatzinho p vcs comentarem enquanto assistem https //t co/oqiidsd1dq', ' herichoff ata sei qual eh eu vi na netflix mas nao tem mais', 'viciada em séries da netflix    — acho que não https //t co/vdfauaqi8m', ' dessamore mas na verdade o que eu faria é netflix no ipad e illustrator no mac, e nada que umas tomadinhas extras não resolvam pra deixar todo mundo carregando hahahaha', ' ingrid81523577 es el rbd de  netflix', 'queria dicas de filmes (que tenham na netflix) pra assistir com mainha', 'ah nao \"ele sempre assiste ela, ta \" kkmmmmmmmmmkkkkkmkkkk netflix diferenciada https //t co/mdsvevim3h', 'dia perfeito pra não fazer absolutamente nada a não ser comer e ver netflix debaixo das cobertas', 'meus planos eram todos voltados à netflix e  tô sem internet  qq eu fiz de errado ', 'o povo da selfit é muito estranho  lotam a academia em dias inesperados, tipo hoje no feriado  vocês não têm nada melhor pra fazer não  viagem, folga, curtir o friozinho vendo netflix com   crush  eu tô aqui exatamente por isso, porque não tenho mesmo nada pra fazer 🤷\\u200d♂️', ' netflixbrasil olha netflix, se nessa temporada a maca não estiver usando frauda e a zulema linda estiver morta, vou reclamar lá no procon e vou te riscar do mapa', 'agora que descobri que a  netflix tem o  darkcrystal original  vou assistir com a esther   darkcrystal https //t co/t7j5csp22q', 'fãs de oitnb  queremos oitava temporada   netflix  https //t co/ald9s9oyel', ' goddamnpissoff to doida pra ver tudinho, to quase contratando netflix de novo só p ver', ' ghostin93  iittlebodyheart como é o nome do filme  e tem na netflix ', 'a netflix demora tanto para lançar uma temporada depois quando sai são bwe poucos episódios 🤦🏾\\u200d♂️', ' eltoxn olá, elton  temos um artigo no nosso centro de ajuda acerca do erro que está enfrentando, basta acessar o link  https //t co/pz76wmamuf   qualquer dúvida, entra em contato conosco no 0800 892 5063 ou via chat no link  https //t co/wupdwe0ldq    *pc', 'gente que dia bem bom pra ficar na cama vendo netflix', 'e agora que eu tô sem netflix p ver elite ai mds', 'sábado chuvoso nesta cidade propício pra ver uma netflix comendo algo gostoso e meu corpo simplesmente acordou super disposto a limpar o quarto e lavar banheiro', 'queria assistir elite mas celular tá sem espaço pra baixar netflix e to sem internet no computador que odiooooooooo', 'nan', 'ok acabei love alarm ontem eu to muito puta netflix', 'aff minha netflix tá pode, vou falar pro meu pai pagar pq to quase terminado elite falta 3 capítulos pra eu terminar', ' maryaraapareci1 já menina, n tenho mais nada pra assistir nessa netflix', ' netflixbrasil  mcrivella corre aqui amado, censura a netflix seu bosta ', 'segunda temporada de elite tá perfeita, amém netflix por salvar meu fds ', '  é stan de anne with an e     sim     passa raiva com a netflix       não    e é stan de anne with an e ', 'pra hj era só uma netflix off em cs', 'droga, cancelei netflix pra assinar globo play e agora quero assistir elite', 'mana mira marii dv https //t co/vhahfgujkv', 'alguém me ajuda como tira print da série na netflix', ' carolsc_30 você já tem netflix kkkķk', 'não consigo entender   porque não tem terceira temporada de rainha do sul na netflix ainda     queenofthesouth', 'fui procurar uns filmes da barbie na netflix, não tem nenhum af', 'esqueceram de pagar a netflix justo quando eu decidir parar de enrolar e terminar naruto', 'só queria que a netflix me desse mais uma comédia romântica novinha', ' paradeserdoido5 ficar comigo vendo netflix e comendo pipoca ou pizza ', 'esse tempinho só da vontade de fumar e fica deitada assistindo netflix kk', 'todo dia eu entro na netflix procurando alguma coisa nova e acabo vendo friends dnv kkkkkkkk', 'até parece, só quero ver minha netflix', 'a netflix não está deixando eu assistir em tela cheia, alguém sabe pq tá assim  que bosta ', ' wanderwaai  lovwato_ foi a primeira série que eu assisti na netflix kkk ainda tinha muito tempo livre 😂', ' ketycaroliine não mano vai vendo, isso que a netflix não aceitava meu cartão, aí do nada pá, descontou um pacote que nunca vi na vida kkkkkk', 'atualização de 07/09/2019  duas novidades chegaram hoje à  netflix  https //t co/avgng5l4jk', 'acordei cedo mas tava até agora na netflix', 'em elite eu queria ser o ander, porém descubri que eu sou a lu, egoista, auto estima altíssima, quer ser a melhor  obrigado netflix por me representar', ' bancodeseries vcs poderiam ter alguma opção de nos avisar das séries que serão removidas da netflix    ajudaria muito 😝 https //t co/tzgqj3yua9', 'eu quero netflix', 'cai dnv em fake news de hp na netflix 😔', 'alguma boa alma poderia por obséquio me emprestar uma conta da netflix nesse final de semana ', 'sem nexo nenhum o jeito que ele morreu netflix forçando dms', 'hj é só pipoca doce e netflix ta', 'como assim tem procurando dory na netflix aaaaaa', 'o meu problema em assistir filme na netflix é que eu assisto 1 filme de 1 horas em 6 dias', 'a mina que vê netflix junto cmg não gostou de sintonia 👀 parou no primeiro ep e eu vi todos em uma tarde 👀', 'fiscal do que os outros gostam na netflix', 'só queria que um amigo (a) meu chegasse e dissesse \"eu te empresto minha conta da netflix pra você olhar elite\"', ' niquecartoni senti a de vcs tbm open netflix  (', 'eu e meu irmão compartilhamos alguns streams tipo netflix e amazon prime, as senhas sempre são jutsus de algum personagem de naruto pra ficar fácil de lembrar kkkk', ' frantzzzzzz preparare se para o drama https //t co/g6hztmsa95', 'sábado de frio é sinônimo de comida &amp  netflix ', ' milalangone hahaha    fiquei curioso    não vou esperar chegar na netflix   rsrs vou assistir o primeiro episódio   pra poder comentar rsrs', ' layanenatalia netflix você me prometeu', ' lmjscuties nao minina to terminando agr que esta na netflix', 'se a netflix contratasse o crivella pra fazer divulgação não ia precisar cancelar nenhuma série https //t co/qkhn6gexyr', 'eu nao sabia q tinha procurando dory na netflix', 'tem uma série sobre terra plana no netflix  a que ponto chegamooos', 'climinha pra fica vendo netflix e comendo pa crl', 'eu tô esperando pra assistir suits na netflix então espero que essa temporada entre no catálogo tão rápido quanto a 8a', 'chuva tri boa pra fica em casa olhando netflix', 'não está mais nos cinemas, mas aproveite pra ver na netflix https //t co/wudjdwnlwn', 'a netflix disponibilizou na sua plataforma o conjunto de 3 contos animados, \"modest heroes\"    5hzanimes  news  netflix  filmeanime https //t co/4xjfzilw3w', ' df_porto e foi mesmo, maluco foi um dos primeiros a fazer material original pra netflix com aquele negócio do parafernalha', ' omachoalpha não tenho dúvidas  https //t co/h0fcmappvf', 'acordei agora, mas não tenho nada pra fazer, vou ver netflix', 'netflix eu nunca vou te perdoar por estragar meus casais de elite', 'quero saber qq a netflix tá pensando que não colocou \"garota veneno\" no catálogo ainda', 'elite uma das melhores séries da netflix e falo com tranquilidade', ' felipeneto  mcrivella acho válido que todo material viesse com uma indicação de \"conteúdo lgbt\"  quem quer compra, quem não quer está avisado e não tem surpresas  como nas indicações de conteúdo das séries na netflix, por exemplo ', 'to com netflix dnv agora,ninguem mais me ve na rua', \"se o crivella teve esse adp com hq's, imagine se ele descrobrir vis a vis, elite e oitnb na netflix   \", 'me indiquem filmes bons da netflix   por favor', ' iuribonfim não se esqueça de toda aquela comida que a eleven pega no mercado no começo de stranger things  se não me engano, product placement é o que dá mais dinheiro pra netflix ', 'a triste historia do menino que não pagou a netflix e por isso não vai ver elite e nem os mil filmes que ele tinha marcado pra ver no feriado vulgo eu', ' it_mendes98 siiiiiim  eu amoooooo, também achei que só tinha eu e a adm da página do br, porque ninguém fala, ninguém tweeta, a netflix não divulga ', 'obrigado netflix, por fuder o meu omander  elite2', ' isabeiiamasen já abri até o netflix pra ver o primeiro episódio', 'baile ou netflix — netflix, tenho um monte de série pra colocar em dia https //t co/zymftyd28g', ' luukaum empresta netflix pa eu ver tmb migo', 'hj o dia vai ser só netflix amém', 'eu so queria que minha netflix pegasse pra eu assistir elite, esperei horrores por essa série', 'parabéns pra pessoa que criou aqueles documentários/séries criminais e botou elas no netflix', 'preciso estudar e a netflix fica colocando coisa nova, aí me quebra', 'queria muito ver elite e to sem netflix ☹☹☹😔😔😔🤔🤔🤔🤔', ' tristesquentad o tio não pagou a netflix, mas vou assistir', 'finalmente eu não acredito obrigada netflix https //t co/iqx5wknfqm', ' uaidiih assiste no site seu seriado,lá eles disponibilizam séries da netflix tbm', 'perdi o sono  vou assistir friends to triste  vou assistir friends to feliz  vou assistir friends  netflix  eu não aguento mais menina, vai ver outra coisa  eu  vamos ver um maluco no pedaço pela 18ª vez então', 'pra hoje só quero uma netflix e umas besteiras pra comer', 'ontem rolou aquela cerveja com xixa, amigos e uma netflix', 'fui tombando achando que o ep de titans sairia na netflix     bts_twt   mpn  army  bts  boywithluv', 'amo adam sandler e irei protegê lo  netflix e o mistério do mediterrâneo o que tenho a ver', 'primeiro ela avisa a data do single na mesma semana coloca o album na pré venda, depois anuncia a data do doc na netflix e album um mês antes  e libera prévias do segundo single + clipe que será lançado uma semana antes do album  tudo bem planejado e divulgado ', ' robpereirareis assistir \"a gente se vê ontem\" na netflix e fazer uma análise do contexto histórico e tal é de sociologia o trabalho', 'não basta o rafael ficar jogando lol a manhã inteira, ele não quer que eu assista netflix pra não dar lag no jogo dele 🤦🏻\\u200d♀️ 😒', 'netflix podia fazer uma parceria com o viki, pq pagar os dois tá difícil ', 'netflix liberada, será que vou maratonar ', 'queria dizer que netflix investiu pesado na divulgação de  lovealarm  aqui em seul, você encontra banners eletrônicos e físicos em diferentes lugares e locais  https //t co/mp9bbonsf9', 'eu não começo assistir todas as séries da netflix porque tenho medo de ser um caminho sem volta ', ' goddamnpissoff realmentee hduahdjd netflix e uma cobertinha é tudo', 'eu acho de vdd um absurdo a netflix ter tirado supernatural do catálogo tudo que eu queria agora era assistir o primeiro ep e não posso 😠', 'para quem gosta, vai identificar de imediato essa famosa porta   friends marcou e ainda continua marcando muitas gerações, né   confira este produto no nosso site  https //t co/tioxit7i5c   poster  miithiloja  elo7br  friends  serie  nerd  netflix', ' wanessabrant aí a gente cancela a netflix por permitir uma coisa dessas', ' franmagano olá, queremos investigar isso melhor  entra em contato com a nossa central de atendimento no 0800 892 5063 ou via chat no link  https //t co/wupdwe0ldq , ok  *pc', 'estreias da netflix em setembro → https //t co/j2gwqxpqeh  adorocinema https //t co/s5xr7n7xhd', 'a gente não consegue decidir  😅📺 e vocês    via  netflix da zoeira    blog  resenhas  livros  leitura  series  filmes  book  ponteliterária  instaseries  netflix  bomdia  sabado https //t co/mtsskb5lvq', 'pra hj eu só queria um brigadeiro e netflix', 'a unica história que importa em elite é omar e ander e a netflix sabe disso', 'confesso que o  felipeneto  tinha uma pegada muito ruim no início    mas graças a deus as pessoas criam maturidade e evoluem   eu já passei o admirar pelo seu stand up na netflix vale a pena conferir    e venho acompanhando   o cara tá incrível como pessoa  parabéns     😍😍', ' gabrieldivan minha tática com voo longo é ficar acordada até a janta, e aí nesse período ouço um podcast ou vejo algum episódio que deixo baixado do netflix  depois é dramin e morte  morro de agonia de esperar tantas horas acordada ', 'cr elite e a melhor série da netflix pprt', 'nos momentos que eu mais preciso não consigo assistir simplesmente acontece porque a netflix tirou do catálogo valeu aí muito massa  netflixbrasil', 'imagina se o prefeito do rio assiste sense 8 ou elite, ele acaba com a netflix', 'toma todo meu queerbaiting netflix, omader tudo pra mim', 'só não saiu na netflix,poxa o tombo https //t co/dwnr3b5d7v', 'eu amei elite    netflix pq me matastes ', 'geral saindo , passar o feriadão em clube , parque ou algo do tipo é eu em casa assistindo netflix', 'vi aslam nos trends, pensei que tinha saído alguma coisa do live action de nárnia da netflix', ' gatosabado seria melhor se fosse  oi, tenho dois caes, um gato, adoro cinema e maratonar netflix, adoro uma baladinha com cadeira pra sentar, bebo de ki suco e wiskie, depende da balada, sou de boas ', 'vendo minhas opções pra sair hoje, acho que vou ficar exatamente como estou agora deitado vendo netflix', 'como q sai de uma conta do netflix no ps3      alguém ajuda nós aqui pfv', 'aí sua wi fi para de funcionar e você tem a ideia de ir na barbearia fazer a sobrancelha, e nesse tempo baixar series na netflix pra assistir offline', 'por mim eu ficaria o dia todin na minha cama deitada vendo alguma coisa na netflix', 'o jeito é mudar a senha da netflix já que tem alguém logando na minha tela 🤦\\u200d♂️✌🤫', 'netflix no vídeo cassete enquanto cê me pede  mete em mim', ' mrlnns cara      muito barato ok que eu divido netflix e fica baratinho    mas dps darei una olhada no catálogo da amazon', 'assistindo netflix e tomando café da manhã na cama, se essa não é a vida que pedi eu não sei qual é ', 'netflix sua fudida se vc renovar 13rw eu te meto a porrada', 'eu e a jacobi marcando de ver um netflix sem a luana &gt &gt &gt &gt ', 'meu deus,a netflix lançou novas temporadas das 2 séries que eu gosto e eu nem sabia 🙀🙀🙀❤️', ' marlonhero hj eu vou ficar só de netflix pq amanhã tenho rolê ķkkk', 'só queria entender pq não tá aparecendo elite na porra da minha netflix', 'a netflix podia fazer uma serie sobre anne frank , seria incrivel', ' namichan_zinha kkkkkk boa q pena q minha conta da netflix foi pro saco', ' guerreirooou sensacional né, pensa agora uma noite fria, netflix e um vinho top pqp', 'duda ta fazendo brigadeiro pra nós assistir algo na netflix', ' netflixpt mas porque é que a última temporada de the vampire diaries não está na netflix      🥺', 'queria assistir netflix antes de ir trabalhar, mas pegou fogo na minha provedora de internet  estou bem contente ', 'queria mesmo era tá dando play no feriadão, mas o único play que eu vou dar vai ser o da minha netflix', 'a quinta temporada de htgawm chegou no netflix   obg deus 🙌🏻', 'tudo pela netflix hoje, de lei', 'bom dia minha mãe me acordou 10h num sábado q eu n tenho prova pra saber a senha da netflix  ', 'acordei, tomei café e agora vou sabadar limpando meu quarto enquanto vejo o show da reputation stadium tour na netflix', 'a nova temporada do drive survive do netflix vai ser demais  f1  netflix  f1naglobo  f1xfox  f1nosportv', 'minha mae resolvendo derivada e vendo netflix ao mesmo tempo cara     ', \" willtuber aconteceu com grey's tinha acabado na netflix ficamos com preguiça de baixar  paramos de ver  voltou agora estou vendo novamente\", 'fãs da anne with an e  netflix cade a divulgação da nova temporada   netflix    https //t co/berypdv1w3', 'ta chovendo muito e tenho role mas fico em casa na netflix e nas cobertas ou saiu no meio de um toró da poxa', 'ainda tô usando a netflix da ju kkkkk ai meu paih', 'agora que eu vi que chegou a 15° temporada de greys na netflix      eu vou chorar meu deus do ceu', 'eu só queria uma conta da netflix pra eu ver elite 😭', 'vou tomar café e ficar vendo netflix 😉', ' netflix produz a 3 temporada de elite logo ', 'bem que a netflix podia colocar rebelde no catálogo né 😅', 'nova temporada de grey’s anatomy e htgawm na netflix, meu coração não aguenta']\n"
     ]
    }
   ],
   "source": [
    "frases_treinamento=pd.read_excel(base,'Teste')\n",
    "frase_indexado=frases_treinamento.set_index('Teste')\n",
    "a=frase_indexado.index\n",
    "frase_clean=[]\n",
    "for i in a:\n",
    "    c= cleanup(str(i).lower())\n",
    "    frase_clean.append(c)\n",
    "print(frase_clean)"
   ]
  },
  {
   "cell_type": "code",
   "execution_count": 240,
   "metadata": {},
   "outputs": [
    {
     "name": "stdout",
     "output_type": "stream",
     "text": [
      "{'milhões de séries disponíveis na netflix,mas minha preferência é sempre  glee   ': 2, ' buriedslive vai se fuder e me empresta sua netflix': 0, 'eu assisti 5 episódios de uma série na netflix e percebi que tava no 4g vsf': 0, 'estou assistindo as telefonistas, stranger things e how to get away with murder, além de ter vis a vis no backlog  daí vem a netflix e me lança nova temporada de elite  não to preparada ': 1, '50 tons mais escuros vai ta na netflix nen adoro😅': 1, 'to tão por fora de tudo que eu vi hoje que saiu greys na netflix': 1, 'malta digam ai séries para ver na netflix': 0, ' jcarloscr todas as séries originais amazon que eu assisti tinham uma qualidade superior na parte técnica  e gosto bastante dos roteiros mais diferenciados  é bem menos óbvio que a netflix': 0, 'e minha netflix q aparece que lancou a 15 temporada de greys e a 2 de elite e nada delas la': 2, ' felipeneto  vislompo  thiagopinheiro2  cardoso  abbondanzaisa  cristiano_m_g  youpix a tv a cabo está sobrevivendo com ajuda de aparelhos  já tem operadora fazendo parceria com a netflix, pra que sua assinatura seja descontada na fatura e você acesse a netflix a partir dos equipamentos dela  como eu disse, sobrevivendo com ajuda de aparelhos ': 0, 'sonhei que tinha saído o filme que a demi vai participar na netflix': 0, '2 vzs foram assisitindo finding dory (que chegou na netflix) e 1 ouvindo orange juice 🤧🤧🤧': 1, 'fui mostrar pros meus pais o show do  whindersson na netflix  mano começou a cantar \"pega, pega, pega, pega no meu pau\" eu me rachando de rir por dentro, mas mantendo a pose, até pq meus pais são pastores kkkkkkkkkkkjj': 0, 'colocaram meu filme fav na netflix aaaaaaa é hoje que eu vou assistir o mesmo filme 2763 vezes': 1, 'minha mãe começou a ver uma série coreana na netflix meu pai ficou zuando mas foi assistir junto ela dormiu ele assistiu 8 episódios enquanto ela dormia e começou a segunda temporada sem ela kkkkkjjjjj ela n tá menos q mto puta nao': 2, 'tive que assinar a telecine só pra assistir amélie poulain pq a netflix simplesmente tirou essa obra de arte do catálogo 😩 https //t co/c3ouyeffbl': 1, ' devanil me empresta uma conta na netflix, devanil  nunca te pedi nada ': 0, 'alguém indica algo p assistir na netflix': 0, 'esse mês saí a quinta temporada de b99 e a última de arthdral chronicles amém netflix': 1, 'assisti rápido demais elite 2, quero a terceira temp pra ontem netflix': 1, 'gente  acho que tô apaixonado mesmo   vcs acreditam que tive um pesadelo hoje onde a netflix tinha lançado a 2° temporada de sintonia e tinha trocado o ator do mc doni, daí eu tava triste chorando ¿  kkkkkkkkkkkkkkkkkkk': 1, 'que filme lindo, parabéns  bethanyhamilton pela força de vontade e batalha pela vida, és uma vencedora  assista na netflix 🙏🏽🌊🦈🏄🏼\\u200d♀️⛰☀️  coragemdeviver em sup surf conserto https //t co/87xubzhcpu': 0, 'com mean girls no catálogo da netflix eu agora vou ficar sem costume mesmo aaaaaa': 1, ' haddad_fernando bom dia brimo,  a coisa é mais em baixo  tem um documentário no netflix chamado the family a democracia ameaçada, sobre os pentecostais e a política americana  ali você vai entender do que se trata essa foto ': 0, 'ai velho só queria ver meu rin okumura de volta mas a netflix tirou blue exorcist do catálogo e eu sou a pessoa mais triste do mundo, vou ter que ver algum site pra assistir online https //t co/v4a5mdsqvz': 1, ' chbljh lindo belíssimo cheiroso gostoso exuberante pizza pornhub netflix': 0, 'acho que vou assinar a amazon prime   tô sem netflix (tem a do meu irmão, caso eu queira muito)  sinto que vi quase todo o catálogo bom de lá ': 0, \"peço perdão por sempre surtar com a netflix por não ter liberado nada da terceira temporada de atypical i'm such a clown\": 1, 'a tarde vai ter que ser de netflix e pipoquinha, a noite é cana, gela e corote ': 1, 'achei q the crown nao ia passar dessa s3 nao do jeito q a netflix ta sendo e ela sendonuma das series mais caras da história': 1, 'so to bem deitada com o babe a ver netflix com esse tempo d merda': 1, ' handsomevill nem precisa anunciar   netflix capitalista renova tudo até 13rw para mais uma temporada': 2, ' barbarakq tem sim  é original netflix inclusive': 0, 'bom dia galera 🌞  me indiquem uma série boa    netflix  sabadou  pipoca  tv': 0, ' netflix_adicted ya já soube': 0, ' maripoppins_  maahbrunetto eita não sei dizer, eu baixei ele e tenho na minha coleção de filmes guardado  mas da uma pesquisada na netflix e no now ': 0, 'so queria alguma coisinha legal pra ver na netflix': 0, ' sphywk tem no gshow eu acho as temporadas, na netflix só tem na us  (': 0, 'alguém poderia por obséquio me dar a senha da netflix   (': 2, 'juro que por mim eu só pediria uma pizza, passaria o feriado assistindo netflix e me embriagando em casa, mas sla o jeito que a paula não aguenta ficar em casa é diferente': 1, 'eu só queria minha netflix de volta pra assistir a t2 de elite': 1, ' giyuurs eu to assistindo black butler e devil man na netflix, n sei se vou terminar devil man todo ne mas     vou te passar uns filmes de anime bom q tem la pra tu ver la no zap': 0, 'é sensacional quando a gente no tempo livre troca assistir netflix pra ler um livro': 1, 'só eu tenho problemas com a netflix   nunca sei se quero terminar as séries pendentes ou se começo novas  é um ciclo sem fim ': 2, 'o que dizer dessa geração netflix  só baixaria ': 0, 'só queria ter uma netflix pra poder olhar  minhas séries': 1, 'essa série é tão boa    certeza que a netflix vai cancelar 😭': 0, 'eu acho que se algum dia tirarem itazura na kiss da netflix eu morro desidratada de tanto chorar': 2, 'minha assinatura no netflix termina daqui uns dias  e agr ela resolve atualizar as minhas séries  mais direta que isso,impossível': 1, 'nada de role hj, só spotify, netflix e youtube deitadin no barraco suave': 1, 'irei assistir esse filme todos os dias até sair da netflix https //t co/bsobu1nvji': 2, ' laubaylao nunca ouvi falar, tem na netflix ': 0, 'sábado chuvoso com netflix ❤️': 0, 'melhor filme ou série/desenho q vc assistiu na netflix   — difícil,já assisti tanta coisa boa https //t co/raxjqrpfqq': 0, 'alguém que me empreste netflix para ver a nova temporada de elite por favor🙏🙏': 0, 'aumentou essa porra de netflix dnv pqp': 2, ' netatende será que nunca vai chegar uma fatura com valor certo  dessa vez estão cobrando uma assinatura da  netflixbrasil que não fiz com vcs  meu pagamento da netflix é direto no cartão de crédito há anos  favor corrigir ': 0, 'bom dia pra quem descobriu que tem o show do kygo na netflix': 2, 'eu preciso de uma conta na netflix pra poder assistir elite 😭': 1, 'tive um sonho muito loco irmão vou até escrever um roteiro é mandar pra netflix ': 0, 'nunca vou superar que the vampire diaries saiu do netflix': 2, '29 graus hj só se for no sofá com o combo netflix+edredom': 1, 'enquanto uns estao preocupados com a temporada de elite eu estou com a s5 de htgawm que acabou de chegar na netflix obrigada senhor eu sei que tu me sondas': 1, 'bem vou mas é cancelar a netflix para ver se me começo a concentrar na escola': 1, ' talifnn uma série maravilhosa da netflix, apenas veja': 2, ' marvelnotices o prêmio tem q ser a conta na netflix rs': 0, ' hihearteu não tem no netflix 😔, mas conheço uns sites e apps que tem se quiser   ': 0, ' jeffersonapg olá  por gentileza, entre em contato com a nossa central de atendimento através do número 0800 892 5063 ou através desse link  https //t co/wupdwe0ldq para verificarmos isto, ok   *mp': 0, 'música e coral  já adorei  sabadodetremurasdv  já assistiu a \"a escolha perfeita\" na netflix   https //t co/ntcoy4fezd': 0, 'acho q hoje vai ser eu, pote de sorvete e netflix': 1, 'netflix fechou contrato com andrucha waddington, da conspiração filmes, para o cineasta coordenar a segunda temporada da série\\xa0vai anitta,\\xa0em torno de\\xa0 anitta \\xa0uma equipe de mais de cinquenta pessoas está envolvida na produção, a ser exibida pela plataforma em 190 países  https //t co/od47vaycbd': 0, 'e a netflix não faz nada https //t co/cirgjwcgmj': 0, ' camilaserratr brigada, amiga    netflix me sugeriu e não quis procurar no google pra não ler demais  )': 0, ' amandarch aí, vamos marcar um role de fondue vinha e netflix por favor': 1, 'fui abençoada com esse feriado no sábado, não precisei ir pro curso é esse tempinho chuvosa só resta uma coisa  ficar deitada na minha cama e assistir uma netflix': 1, 'bom dia, eu dormi ontem só tentando escolher filme na netflix, recomendo ': 2, 'bazem netflix e vejam a ressaca 1 e a ressaca 2 melhores filmes do mundo': 0, 'deem uma sacada em telefonistas (las chicas del cable) na netflix': 0, ' luizzasouto quem fala o netflix  ': 0, 'atenção meninas malvadas voltou para netflix repito meninas malvadas voltou para netflix': 1, \"sad or happy i don't even know🤷\\u200d♀️vou mas é ver netflix aí nem me lembro onde estou\": 1, 'enquanto eu tiver internet  netflix  amazon  tv do jeff  vcs não me verão socializando    😅 https //t co/voyjl0se7n': 0, '2 temp de the end of the f***ing world chegando e netflix fazendo nada além que sua obrigação pois estou esperando sedenta há mt tempo': 2, 'só por assistir um xis e comer uma netflix': 1, 'pqp a netflix tirou orgulho e preconceito do catálogo oq vou fazer da minha vida agr': 2, 'e a netflix e umas cerva ': 1, 'elite só é a melhor série da netflix pq tem um mishlawi gay': 2, ' bogusgabriel  claudetema1  cruzeiro feriado está tudo fechado  o jeito é assistir filmes no netflix ': 1, 'depois desse desfile todo cagado só por assistir uma netflix com a  , mas só falta a  ': 1, 'saiu a poha da tp nova lá e eu aqui com minha netflix bugado    ai ódio': 2, 'só acho que a netflix deveria acelerar as produções de séries já confirmadas ': 0, 'netflix fechou contrato com andrucha waddington, da conspiração filmes, para o cineasta coodenar a segunda temporada documentário\\xa0vai anitta,\\xa0 está envolvida na produção uma equipe de mais de 50 pessoas, para ser exibida pela plataforma em 190 países  https //t co/v1ziivtq7p': 0, 'era só the vampire diaries voltando pra netflix hein': 1, 'porra netflix para de atualizar as séries que eu gosto bem na minha época de provas, assim n da': 1, 'eu coloquei elite para ver né 2 temporada e voltou pra primeira kkkkkkkkk to lá no 2 ep sem perceber que é a primeira kkkkkk por isso a netflix não pode demorar muito pra lançar  netflixbrasil  pfvvvv': 0, 'elite melhor serie latina da netflix pq choras la casa de papel': 2, 'quando a s5 de b99 entrar na netflix vou ser obrigada a assistir dnv pq amo demais': 1, ' this_mendes  sonypicturesbr agora assisti, jovem mestre, graças à netflix  realmente sensacional ': 1, 'procurando dory entrou na netflix e eu sou a criança mais feliz nesse momento': 1, 'uma parte dos meus amgs vão fzr alguma coisa q eu n fui chamada e a outra parte vai no saara, o jeito é ficar em casa vendo netflix': 1, 'saudades minha netflix': 2, 'gente assistam lascados na netflix eh mto bom': 2, 'demorei tanto pra terminar a quinta temporada de htgawm que ja tem na netflix e so fui descobrir ontem': 1, 'eu to um nojo com a mh netflix de volta, ngm me tira de casa mais, so a duda, thais, giu, leandro, yv e n sei mais quem, q eu ja combinei de sair hj  sofroh  quero ficar em casa e n quero, n sei, to confusa': 0, '[7/9 10 14] melhor amigo  ontem não consegui acessar [7/9 10 15] melhor amigo  muita gente na netflix [7/9 10 15] melhor amigo  o auge nega [7/9 10 15] melhor amigo  o dono ficar barrado da festa': 0, 'nesses últimos dias eu aprendi que para você se sentir bem a única solução é ficar sozinha em casa e  assistir netflix ': 1, 'da cela para a tela  ex detento vira ator em série da netflix https //t co/nf2cikcpjm': 0, 'da cela para a tela  ex detento vira ator em série da netflix https //t co/cyamutziur': 0, 'netflix *lança uma série*  vocês um minuto depois do lançamento    ja assisti tuuudooo  spoiler spoiler  spoiler': 2, 'acordar e olhar procurando dory na netflix foi a melhor coisa': 1, 'aí minha netflix tá travando  tô muito chateado  tô achando que é o computador ': 0, 'só hoje hackearam duas vezes a minha conta na netflix': 0, 'vi aslam nos trends e ja corri pra clicar achando q a netflix tinha confirmado adaptaçao': 1, '💯🔞biografia🔞💯 😈 não lembro 😊    📆10/08 ✨um amor ☁️ dentista 😜 taci 🍃role  🍁infelizmente  🍻sim 👮🏻no 🤥não   🍿 netflix  🌝ficar sério  😐sim 🤫 sim 🥰    😉sou suave 😁já  🤤pizza 👻 no 🤨 no 🤡no  fav que te mando': 0, ' igormota1999 simm, a netflix poderia ir botando os eps lá também 😔 tenho maior preguiça de baixar': 0, 'emprestem aí netflix': 2, 'todas as minhas séries atualizaram e eu to sem netflix': 2, 'vemmmm ❤️  “cem anos de solidão”, de gabriel garcía márquez, vai virar série na netflix https //t co/zgfyf2eemk via  revista prosa verso e arte': 0, 'algum homem feminista afim de me emprestar a netflix rapidao p eu ver as novidades': 2, 'o foda da vida d boy é quando vc ta d ressaca e decide ver algum filme na netflix, ai junta a droga da noite passada c o romance q tem em todo filme e boom bate sdss d alguém, mas passa rapidin quando vc lembra q tem outra resenha kkkkk': 0, 'uma pesquisa rápida  alguém que tenha amazon prime sabe me dizer se é bom quanto a netflix ': 0, 'podias estar a ver netflix cmg': 1, 'princesa salvou ontem cm a conta netflix 💘': 1, 'diária de uma paixão na netflix aaaa   tudo pra mim': 1, ' netflixbrasil bom dia netflix tdo bem  por gentileza será que vc poderia colocar novamente os filmes  o dia depois de amanhã, 2012, o diabo veste prada, hitch conselheiro amoroso, transformers, e colocar também a era do gelo por gentileza  gratidão 👏🙌🏼': 0, ' mannymontana  nbcgoodgirls  netflix 2 temporadas assistidas em pouco mais de 24h com sucesso  goodgirls 😄😍': 0, 'esta triste😭😭😍😋   durma 31 horas🎯💝💝 coma 999 pedacos de pizza🍕🍕😋😔 beba 83 litros de refri 🍷🍷😖😖 assista 76 horas de netflix 💔🌱🛏 fume 38 maços de cigarro🤗🤗  não funcionou 😋😋🌷 junte 😉 todos esses numeros 😄🤔🤓 e me chame😝👉👉 no zap😥😱': 0, ' netflixbrasil cuidado com o  mcrivella ele vai proibir a netflix no rio de janeiro': 0, 'bem q alguém podia me emprestar a netflix só por hj pra eu ver a série q eu quero': 2, 'esse tempinho ta pedindo um netflix o dia todo': 1, 'nem de preto, nem de verde e amarelo  tô de rosa, pijama rosa no conforto de minha cama com meu netflix e minhas guloseimas (͡° ͜ʖ ͡°) obg, feriadão  (mesmo sendo sábado)   dia7depretonarua': 1, 'nessa chuvinha era só eu sozinha em casa, elx e netflix poxa': 1, ' gogobxy quero te fazer ver um filme comigo, mas você não tem netflix   ': 2, ' eldergm_ o globoplay já é mais barato que netflix, a globo já tá preparando pra continuar existindo no futuro e os cara torcendo pra tv acabar só pra ela talvez falir, patético': 0, 'minha gente assistam o stand up de whindersson na netflix eu tô chorando de rir isso pq eu não gosto de stand up  reizinho do humor que não precisa ofender ninguém nem fazer piada preconceituosa pra ser engraçado': 2, 'os clichês que eu quero assistir a netflix tirou, que tristeza': 2, 'eu vou zerar os filmes romanticos e de colegial da netflix esse fim de semana kkkkk': 1, 'e tem a versão  em filme também   \"com amor, simom\", tá  no netflix e é  lindo  assistam    leiacomorgulho': 0, 'quero a segunda temporada de the a list na minha mesa  netflixbrasil  netflix': 2, 'alguém indica um filme de comédia bom no netflix ': 0, 'alguém me indica uma serieeeeee mas tem que ta na netflix': 0, 'corri pra assisti elite, agr a st netflix vai demorar uma vida pra s3': 1, 'me recomende algum filme/série que tenha na netflix  porrr favorrr': 0, ' vivieira_crf ação tem shaft2      jonh wicky 1 e 2    eu particularmente uso mais o kodi que o netflix      mas': 0, 'nessas horas tudo q eu precisava era uma maratona de house mas saiu da netflix': 1, ' maisa netflix poderia criar uma série assim   maísa e tetê, inseparáveis até que um dia super nanny vem e rouba a tetê de maisinha, maisinha começa a procurar sua tetê e vive varias aventuras    achei digno de oscar kkkkkk': 0, 'meu irmão falou q tinha pago a netflix mas o fdp pagou foi nd': 0, ' anneshriey porque tipo, praticamente todo mundo passa raiva com a netflix porque ela queria cancelar amiga mas aí de acordo com a pessoa/série eles colocam outra coisa': 0, 'procurando dory na netflix foda se ótimo dia': 0, 'não acreditando que ontem nós tiramos lá casa de papel na netflix para ver o brasil empatar com a colômbia': 0, 'o documentario gold stars que tem na netflix sobre copa do mundo eh perfeito': 0, ' netflix melhor app de séries   ❤️🙏': 1, 'só queria dizer que ritmo quente tá no catálogo da netflix e é muito bommm': 1, ' buzzfeedbrasil sugiro também derry girls, no netflix ': 0, 'so queria uma amizade que viesse em casa pra assistir netflix cmg, nao preciso de bebida ou role o jeito que eu to       ': 2, 'vou fzr um bolo de cenoura com cobertura de chocolate, e passar a tarde toda na netflix, espero q dê bom pq amanhã tem cachu': 1, 'alguém do elenco mandou e mail para a leigh e assinou \"sem luto\"  libera o elenco logo,  netflix 👀 https //t co/zq31f8ivtk': 0, 'silêncio  netflix tá divulgando vis a vis  https //t co/xhahlczlu4': 2, 'hoje vou passar o dia todo assistindo filme, netflix que me aguarde': 1, ' sheeriomess ahhhhh isso tbm aconteceu cmg, mas eu acho q é algum bug da netflix, pq ela tem feito isso c outras series tbm   massss aquela da mulher é antes da situação do menino enttt n sei explicarrr': 0, 'só queria uma netflix pra poder assistir elite': 0, 'falta 3 episódios pra eu acabar elite e a minha conta na netflix foi suspensa pq esqueceram de pagar   olha esse white girl problem aaaaaaa': 1, 'tão mau que a netflix deu erro e parou isto sozinho, vou interpretar isto como um sinal': 2, ' renatacabritaj carnival row, problema que não tem na netflix, só em site online': 0, ' cavalnes  netflix amo muito um prof de inglês': 0, 'resolvi maratonar os filmes do batman de 1989 até o último já lançado e pra minha surpresa não tem nem um único filme sequer na  netflix  o catálogo tá ficando cada vez mais merda ': 0, 'netflix esforçou se em setembro 💗💓💖 só falta la casa de papel e tá perfeito': 1, ' lara_carolina98 os meus tão assistindo netflix com certeza e chorando demais': 0, 'fui procurar uma comédia romântica na netflix e uma das primeiras que apareceu foi when we first met e embora eu saiba que tem um monte de filme bom do gênero que eu nunca assisti, a vontade que eu tenho é de assistir o mesmo filme pela 917291728363 vez': 0, 'vou tentar ter um sábado produtivo sério tô cansada de netflix': 2, 'bom dia alguem poderia por obséquio dividir netflix comigo só pra eu ver a segunda temporada de elite rapidinho kk pfv poxa': 2, ' robinrulex e só na netflix que tá com essa palhaçada 🙄': 2, 'sábado , cedinho , fazer café + netflix, mas eh tão boooooom🥰 https //t co/pryzhxwtz0': 1, 'terceira temporada de elipe na netflix, ufa': 1, '\"cem anos de solidão\", de gabriel garcía márquez, vai virar série na netflix   revista prosa verso e arte https //t co/duy2aczzl8': 0, ' cecicanto12 tem a 4° ainda  mas não tem na netflix 🙄': 0, 'foi só ver um filme do nicholas sparks que a netflix tá colocando de sugestão todos os outros  não vai ter jeito, vou ter que fazer uma maratona e ver todos eles neste belo sábado chuvoso': 0, 'queria saber pq logo o two towers não tá na netflix https //t co/gxephrhelp': 0, 'procurando dory entrou na netflix  se tem filme que é melhor que procurando nemo, é esse  e ainda tem os barbixas dublando as focas pra me fazer amar o filme mais ainda': 0, 'hj meu dia vai ser resumido em   cama+pipoca+netflix=dia   perfeito 🌧️💕': 1, ' eldergm_ a globo vai continuar o monopólio dela até o fim não tem turma anti globo que acabe com a audiência dela  no dia que a gente chegar num ponto que toda a população tiver acesso a netflix é que a globo vai falir e os outros canais vão pro cacete msm': 0, 'netflix e pipoca logo cedo, boa p nois': 1, 'mano o bruno me deu a netflix dele pra mim assistir elite e caralho eu amo muito um menino': 1, 'netflix colocou mean girls dnv no catálogo, agora está conseguindo ter meu respeito de volta': 1, 'para curtir no fim de semana  ‘falling inn love’, novo filme da netflix que já tem uma verdadeira legião de fãs https //t co/iiwwjcinug https //t co/abtkxkmfdg': 0, ' ikmpoa entendemos  só acontece com o aplicativo netflix  siga esses passos  tire o chromecast e o roteador da energia por 2 minutos  limpe o cache e os dados do netflix  desinstale e volte a baixar o aplicativo  atualize todos os aplicativos e o seu celular  reinicie o celular ': 0, 'preparem os lenços e papel, para quem gosta de chorar é só começar 🤣 https //t co/gxrsennsic': 2, 'sabadão tranquilo só vou assistir netflix e comer': 1, 'hj é só água p ficar hidratada cama e netflix': 1, 'tem creed na netflix     pq eu n to achando 🤦🏽\\u200d♂️': 0, ' backstagetv2 mas essa série já não tem segunda temporada   uma vez alguém me disse que estava na netflix': 0, 'surreal o nível que dirty dancing me emociona, sério  nem parece que eu já assisti trocentas vezes  que filme maravilhoso   dirtydancing  netflix': 0, 'meus amigos não agitam nada pra hj ja vi q vou ficar assistindo netflix o dia todo': 1, ' lauravhm  carlazambelli17  felipeneto você tem noção da comparação que você fez  a disney, netflix, youtube, google e outras bilionárias seguem uma agenda  as únicas pessoas capazes de censurar são os consumidores  hoje em dia a gente é praticamente obrigado a ver essas bobagens ': 0, 'o daora eh q p coisas q envolvem minha familia (meu perfil na netflix por exemplo) q são controladas pela minha irmã, eu posso usr o apelido q ela me deu ja q ele eh neutro   ': 0, ' babyhalliwell sim, pior q a série nem tem fãs suficientes p pedir divulgação e cm a netflix é assim, só dando mt audiência p investir em divulgação  mas ainda bem que é renovada smp kkkkkkk': 0, 'já acordei abrindo a netflix p terminar kkkkkk': 0, 'pelo amor de deus netflix, solta a season 3 de dark': 1, 'hoje eh dia de netflix': 0, 'há três anos eu tava assistindo lost pela segunda vez, agora já tô na terceira  to numa mágoa que vai sair da netflix próximo mês 😭😭😭😭': 2, 'quero companhia para ver netflix agora': 1, ' aliceagonc me empresta sua netflix p eu ver': 0, ' loisbvb painho se deixar passa o dia todo vendo filme, passa o dia falando \"esse negócio de netflix é muito bom\"': 1, 'já to vendo christian voltando pra derrubar a carla, por mim ele ficava por lá mesmo e nem voltava  nos poupe netflix': 0, 'tem minha saga preferida de livros ai dona netflix     percy jackson e varios outros volumes https //t co/68awhd574r': 0, 'hoje é o dia todo deitado assistindo netflix': 0, 'meu irmão passou a senha do netflix pra alguém, não sou eu que pago mas alterei a senha agora ninguém mais tem acesso, só eu kkkkk': 0, ' _ferrinho_ alcobaça': 0, 'nova cpmf enquadraria até netflix e uber, diz paulo guedes https //t co/erxl8kya1a https //t co/hc1apptzdv': 0, 'hoje eu to igual às séries boas da netflix  c a n c e l a d a': 2, 'dona netflix se o christian está acidentado e vai fazer fisioterapia, como é que ele vai transar com a carla e o polo  pqp quero meu trisal  elite2': 0, 'eu amo a netflix mas esse negócio de ficar fazendo a série no presente e no passado, é insuportável  https //t co/j4jn6q8pgn': 2, 'a nem falta 3 ep pra acabar a elite e certeza que a netflix vai demorar um ano pra lançar outra temporada aaaa': 0, 'ontem eu e dudinha fizemos um role muito de festa de pijama de filme  tinha pizza, cerveja e filme na netflix 🥰🥰🥰': 1, 'netflix lançou tanta novas temporadas de series que n consigo me organizar p assitir': 1, 'ou os caras acham q a record tem pau pra contratar o fagundes  é perigoso o ator ir pra netflix e fazer um carga pesada shuppuden': 0, 'estou numa cadeira de massagens e a ver netflix, melhor não há 😎': 1, 'esse tempinho ta bom pra um netflix e uns baseado com a morena': 1, 'sabadou chuvoso, vendo netflix ❤️': 1, ' mrlnns o murro na netflix esse amazon eh quanto por mês ': 0, 'sem netflix e eu queria assistir elite hoje, que saco ': 1, ' igormota1999 não na netflix ainda, acredito eu tá passando num canal aí e como passou ontem, já tem o download': 0, '2 dias que quero ficar deitada vendo netflix': 2, 'meu deusss eu odeio a netflix por lançar só 8 episodios da serie': 2, 'eu quero esse casal juntos na season 3, se vira netflix https //t co/chhr3ulu0e': 0, 'netflix quer acabar comigo liberando temporadas de várias series que eu assisto juntas': 1, '💯🔞biografia🔞💯 😈 ontem 😊 i  📆 15/12 ✨um amor  💭 delegada 😜 luh 🍃ficar em casa 🍁sim 🍻sim 👮🏻não  🤥 não  🍿 netflix 🌝 namorar  😐 sim 🤫 não  🥰 talvez 😉 depende  😁 não  🤤 yakisoba 👻 sim, 3 🤨 não  🤡 não   n vou mandar': 0, '💯🔞biografia🔞💯 😈 ja faz 84 anos 😊 não tenho eu acho 📆 13/07 ✨ um amor  💭 alta  😜 belbs 🍃 ficar em casa 🍁nunca 🍻 água e tals 👮🏻 nunca   🤥ja   🍿 netflix  🌝 namorar 😐 ja 🤫 nunca 🥰 espero q nao 😉suavassa 😁já 🤤pizza 👻 tenho 3 hahah 🤨já  🤡nao  fav que te mando': 0, 'agora que vi que tem senhor dos aneis na netflix e com a 5 de htgawm eh esse fds que eu não estudo  n a d a ainda mais com essa chuvinha só faltou um mo': 1, 'quem compôs as músicas dos beatles todo mundo sabe que foi o algoritmo do netflix': 1, ' dhorta8 vi a série de f1 sobre a época passada no netflix e agora quero bué ver f1 😅': 0, ' felipe_assis2 queria ver porém minha mãe esqueceu de trocar o cartão que tava a conta do netflix e agora tá bloqueada k': 0, 'pra hj eu só queria uma netflix e um xose com o problema kkkkk': 1, 'melanie martinez lança um filme ótimo fora de qualquer plataforma monetizada, o filme é melhor que muitos outros aii ein     netflix  📉   kthrough12  k12  k12film': 0, 'eu do muito valor aos comentários das instituições no tt  netflix, nubanx, inter e etc    tão de parabéns kkkkkk': 0, 'como eu queria ta agr comendo chocolate netflix  e a pessoa que eu gosto como eu to  arrumando a casa kkkkk aff': 1, 'oq dizer da minha cv com meu cunhado [7/9 09 31] babi  tava com sdds de conviver com vc, tenho q confessar [7/9 09 31] babi  vou te deixar parasitar minha netflix de nv [7/9 09 32] matias  aaah [7/9 09 32] matias  eu tbm estava 👀 [7/9 09 33] matias  não se gabe por eu falar isso': 0, 'hoje ninguém me tira do meu quarto,vou passar o dia deitada assistindo netflix 🌩💙': 1, 'queria assistir um filme de romance mas eu já assisti quase todos da netflix': 0, 'o ruim de dividir a netflix eq as vezes tu n consegue fazer uns downloads ': 2, 'caralho ia assistir o penúltimo ep e a netflix ta c pagamento atrasado, oh vida': 0, ' whoisthiefcarti trocaram a pass q tinha netflix , filhos da puta': 0, 'bebi demais ontem a noite assistindo o show do whindersson na netflix  esse cara é foda 😂': 0, 'n creio que cancelei netflix dias antes de sair elite': 0, ' smedinasz meu irmão tá com netflix agr, e tá amando ver stranger things': 1, 'me recomendem um dorama incrível, por favor        (pode ser fora da netflix, mas se for nela eh melhor)  vo coloca os q eu ja vi e recomendo ai embaixo   stray_kids   straykids  스트레이키즈': 0, '《netflix fechou contrato com andrucha waddington, da conspiração filmes, para o cineasta coordenar a segunda temporada da série\\xa0vai anitta,\\xa0em torno de\\xa0anitta \\xa0uma equipe de mais de cinquenta pessoas está envolvida na produção, a ser exibida pela plataforma em 190 países 》 https //t co/vv8zxesqmt': 0, 'vai lá pow, censura a disney, censura hollywood toda, censura a netflix, censura a porra toda mesmo, conteúdo lgbtqi+ não pode, meus filhos vão virar gays  ta na hora de censurar o macho hétero tbm, tomar no cu ': 0, 'ódio da netflix por toda vez fazer isso com elite, achei que a segunda temporada iria ser dez ep e foi oito, me iludi todo': 2, 'esse menino parece mto um ator da netflix alguém me ajuda a lembrar do nome https //t co/0ogzuflri0': 0, 'me digam coisas boas pra ver no netflix pois minha mãe tóxica cancelou e só tenho até dia 15 pra assistir': 2, 'só queria companhia pra maratonar netflix hj   😥🤣': 1, 'vendo conta de netflix, mais info dm': 0, ' licio fiz isso fazem 3 meses    agora só youtube, netflix e cruchyroll ': 2, ' netflix encomenda episódios extras para a última temporada de  lucifer  https //t co/dqppih9hjg': 2, ' backstagetv2 seria a terceira então porque a segunda já tem na netflix': 0, 'vamo com calma netflix eu to acabando a primeira temporada ainda mo https //t co/g2gwdetoxe': 2, 'gente vcs sabem se o popcorntime tá funcionando bem ainda  pq tipo, a netflix tá tirando muita coisa q tá me deixando disappointed': 0, ' drunktostyles tbm fiquei assim, te entendo completamente  isso que eu te indiquei é um filme (tem na netflix, a duração é 2h — mas se fosse 5 não me importaria) e acho que vais amar  assim que assistir me avisa 💛': 0, ' jypepiz vai esperar sair no netflix ou vai assistir em outro lugar ': 0, 'ufaa, fiz uma conta da netflix': 1, 'meninas malvadas voltou pra netflix aaaaa https //t co/hqzqgvprla': 1, 'parece um pôster do elenco de uma série mexicana do netflix https //t co/subbx8dmmg': 2, 'faltam 7 episódios p eu acabar a quinta temporada de b99 e não chagaa na netflix': 2, ' netflixbrasil falando em inferno, cadê a outra temporada de sabrina, dona netflix   ': 2, 'queria rever reign mas tiraram todas as temporadas da netflix e deixaram só a 4ª wtf qual é o sentido disso': 2, 'sou tão apaixonada com ele que pago o lanche que ele quiser sorrindo de orelha a orelha   chantageio ele  passo a senha e usuário da minha netflix só se ele voltar pra ca de novo pra ficar cmg (pq ele foi pra carmo hj 💔)   na verdade eu amo ele pra caralho  ': 1, 'a nossa vida é original, mas não é um netflix ': 1, 'fui toda feliz assistir tvd na netflix e descobri que tiraram do catálogo pqp eu odeioooo issooo': 1, 'hoje tá a cara do edredom e netflix, até queria sair mas ninguém agita nada': 1, 'alguém me indica um desenho pra assistir na netflix  (': 1, 'tao falando bem da segunda temp de elite, espero q eu nao perca tempo   a netflix ta pecando mt em series esses tempos': 2, 'e eu que jurava que titans ia estrear a season 2 ontem na netflix só pra ficar arrasada ao descobrir que estreou só num streaming da dc e só nos eua  😭😭😭': 2, 'alguém pra assistir procurando o nemo comigo na netflix': 2, 'já viram o documentário dele na netflix muiiittooo loko https //t co/m1zvdh6bm5': 2, ' isa_bela04 aiii eu ainda n vi esse filme quando tiver na netflix vamo ver juntass': 2, 'ansiosa demais pra ver peaky blinders mas a netflix só vacila': 2, 'dormir o seguir viendo netflix': 1, ' rbcferreir e vai sair da netflix entao não tem erro': 1, ' thaynvictoria6 só não tem na netflix, uma pena, mas se quiser eu te indico filmes da netflix': 2, 'agora que minha amiga lisandra pagou o netflix eu posso assistir glee': 2, 'tirei um tempo pra relaxar, vi tanto filme aleatório no netflix que nem sei': 1, ' vnsxnts mkkkkkkkk eu achei q n tinha saído da netflix kkkkkkkkkkkkk': 2, 'o conforto que a netflix traz é uma coisa misteriosa, né  estou levemente atrasado em htgawm mas estava com preguiça de baixar os episódios e tal, acabaram de lançar a quinta temporada na netflix e eu estou vendo numa boa ': 1, 'eu não aguento mais ficar sem netflix aaaaaaa q saco': 1, 'não dá pra matar a saudade mas eu tenho que achar algo pra fazer  tomara que tenha algo legal na netflix': 1, 'q preguiça na moral pra hj eu só queria uma massagem nas costa e uma netflix': 1, 'eu simpsmente estou ignorando a casa e colocando um drama romântico na netflix porém pensando  “as 15h eu limpo tudo   ” https //t co/u3ibxn1jgy': 1, 'tempo propício p ficar agarradin vendo netflix comendo besteira': 1, ' melolynnara aaaaaaaaa eu to sem netflix, lascou eu quero ver elite': 2, 'só uma netflix nesse frio —  https //t co/v1snuqecay': 1, 'queria alguém pra dividir a netflix': 1, ' cleititan olá  não se preocupa, temos um artigo em nosso centro de ajuda para este erro  ) segue esse passo a passo  https //t co/xjvelou486 que tudo dará certo  *em': 2, 'a netflix que vai me consolar hj 😑😂': 0, 'na moral como que vocês conseguem esperar tanto pra assistir greys na netflix  mdssssssss    ': 0, ' julianadesuu eu tenho amazon e netflix': 1, \"netflix forçou lançando grey's anatomy, elite e station 19 no mesmo mês, tô toda perdida\": 1, 'eu não acredito que a netflix colocou dirty dancing ritmo quente e tirou dirty dancing noites de havana, custava deixar os 2 😣': 2, 'chamou a gata pra assistir um netflix, tive q deixar né': 0, 'apesar de que meus fins de semana nunca tiveram essa vibe ~ficar juntinhas vendo netflix e transando~  sempre estiveram mais para  ~se fuder de trabalhar~   mas o primeiro fim de semana sempre dá aquele negócio': 0, ' ellasomners nossa, acho que ta todo mundo assim  o ponto positivo é que the crown é uma das melhores produções da netflix, então acho que vai ser menos difícil se acostumar com o novo elenco': 2, 'no dia  7desetembro de 1822, dom pedro chegou nas margens do rio ipiranga, levantando sua espada e disse  cadê harry potter, netflix  ': 0, 'o ator que faz justiceiro na netflix é simplesmente incrível': 0, 'quando a netflix e o spotifire debita ao msm tempo https //t co/lbyynwboiu': 1, 'eu passava minha netflix pra todo mundo hahahaha sou muito idiota mesmo': 0, '15 temporada de greys no netflix e consigo assim finalmente assisti la  minha relação com essa série é muito maluca por mil motivos   15 temporadas (e agora com a 16 chegando) foram suficientes para que eu sentisse todos os tipos de sentimentos ': 1, 'eu tenho q arrumar a casa mas a netflix não deixa socorro': 2, 'queria indicação de filme ou série boa na netflix': 1, 'hoje é o dia da ferrari ser filmada pela netflix   f1nosportv  italiangp': 0, 'e meu pai que foi entrar na netflix pela tv, e logo no inicio tava elite e com a cena do omar e ander juntinhos, quase se beijando  meu coração saiu pelo buraco do cu socorrrro  elite': 0, 'só quero um wi fi meu pai, e a senha da netflix que eu esqueci https //t co/kehw7tb64t': 1, 'acho que nem lembro qual foi a última vez que eu deitei pra assistir uma netflix e relaxar ': 1, 'já terminei euphoria  elite e 13rw     netflix libera aí baby pf': 1, ' dhousewivesbr  hatchingchange  reallymarcia  evalongoria  netflixbrasil a melhor série saindo da netflix 💔💔 pq não fazem uma página no instagram eu tenho uma ❤️': 0, 'crl trocaram a senha da netflix vou ficar puro pprt': 1, 'diário de uma paixão ta na netflix eu ❤😍❤😍❤😍❤😍❤😍❤😍❤😍❤😍❤❤😍❤': 0, ' danielcdant3  netoficial faz 6 anos que cancelei a tv por assinatura  desde então só netflix, youtube e livros ': 1, 'não acredito que esqueci de pagar a netflix, pqp 💔 fds vai ser uma merdaaaa': 0, 'acho que vou procurar final space pra ver hj cansei de esperar entrar na netflix': 0, ' flavioamieiro  maribedran conheça carole &amp  tuesday, novo anime musical do criador de cowboy bebop https //t co/v2uxqy1xzd': 1, 'não me creio que um dos meus filmes preferidos de adolescente ta no netflix e eu nao sabiaaaaa': 1, 'porra camila paga o netflix ai cara q eu quero terminar elite': 1, 'meninas malvadas voltou pra netflix sou feliz demais': 1, 'eu quero saber quem tá assistindo dragões no meu perfil da netflix': 2, ' maurohenriques_ eu tenho umas 40 na lista da netflix, mas resolvi terminar de ver as séries que nunca vi por completo primeiro': 0, 'hip hip evolution foi a melhor coisa que eu já assisti na netflix até agora': 0, 'hoje o dia é ficar de 🐚 assistindo uma netflix': 0, ' felippevitor mas não chegou na netflix ainda né ': 0, 'so vou pagar netflix quando sair a nova temp de arthdal chronicles': 0, 'acordei todo feliz achando que ia ver a 2ª temp  de titãs mas só vai sair na netflix depois': 0, 'crl,meu tt ta só \"que noite foda\" \"que rolê doido\" ,e eu em casa vendo netflix ,sou pra casar demais  ': 2, 'finalmente poderiam né https //t co/7xeesh8bf3': 1, ' jpvicentim  ilcaires não sei sobre oq é, mas é da netflix espanhola, deve ser bom  eles já produziram muita coisa boa': 1, 'véi, é sempre assim  eu e gabriel chegamos ontem, e combinamos de ficar de boa em casa, offzada, dormir cedo, beber só uma corona e ver netflix  do nada brotamos bebados, na casa do amigo, eu bebendo vodka, gabriel já em bagdá   😂 nunca é 100% off': 0, ' pxwerupp aí mo, esse w tem na netflix ': 1, ' taprintado eu acho show aqueles resumos que q netflix faz antes das novas temporadas, pq as novas demoram muito a sair    o resumo antes da quarta temporada de lúcifer foi sensaaaaa  sobre elite, achei melhor que a primeira  muitaaaa baixaria amo': 2, 'banner dedicado a nairobi  lacasadepapel3  lacasadepapel4  lacasadepapel  nairobilacasadepapel  netflix https //t co/0hnfw3mzcr': 0, 'ai namoral, n vou esperar brooklyn nine nine chegar na netflix não    dia 26 tá mt longe': 1, 'alguem me recomenda algo de bom na netflix, eu to com preguiça de rever dark pra tentar entender essa 2 temporada': 2, \"confira o trailer da nova animação da netflix '4 contra o apocalipse' https //t co/8l848jqiv7\": 2, ' ptzisa é incrivel de graça qnd se ta em casa vendo no yotube/netflix, quero só ver esse show ai 🤨': 1, ' stvigma só tem no netflix   https //t co/nb0mhxcia9': 1, 'eu assisti os ep que tem na netflix, só que no site de anime tem mais ep e mais uma temporada, vou ter que ver onde eu parei ': 2, 'meu pai me acordou pra mostrar os animes que chegaram no netflix': 0, 'lançamentos e novidades netflix para assistir neste final de semana https //t co/06lk3fsih4': 1, ' santuchil mn vê o bglh do whindersson nunes na netflix vai se mijar mn juro': 0, ' amandansdasilva  netflix pensei o mesmo    eu tenho que estudaaaar  ensaiar   ir pra aula aaaaa': 1, ' 3porcento vai acabar na quarta temporada  saiba mais  https //t co/tsxcoynbjy': 2, ' carolcuritiba queria isso também    sábado chuvoso e netflix pede isso ': 0, ' thepreciouserie ai q pena, mas n vai demorar mt pra netflix disponibilizar dublado': 2, ' isis31589283 fala que eu mandei ele tirar o dia hj só pra dormir e ver netflix': 1, 'tava olhando alguma coisa aquí na netflix dai eu fui repara que nunca vi a 2 temporado de vis a vis😮😮': 0, 'recomendação que ninguém pediu  assistam glow no netflix ': 2, 'olha esse cast puta que pariuuuuuuu the crown maior feito da netflix': 1, ' fernandocluiz nessa logica os shoppings tb estariam sujeitos a acabar  na minha opinião, o q leva as pessoas a https //t co/7szidvvf3o casa é a experiencia  por ex netflix e o streaming em geral nao acabou com os cinemas, por causa da experiência ': 1, 'só queria uma netflix  😭': 0, 'eu sei que eu to com a pessoa certa quando ela me fala toda empolgada a história de um domara todo romantiquinho e a gente debate sobre romances clichês da netflix': 2, 'alguém que me empreste netflix para ver elite  sejam fofinhos 😢❤️': 0, 'não consigo parar de assistir  visavis  netflix': 0, 'como parar de assistir o documentário do travis no netflix   google pesquisar': 0, 'que dia que entra fragmentado na netflix     só ai que minha vida vai ficar completa': 0, ' laviniasilva__ poxann, essa conta da netflix tbm é emprestada kkkkk': 1, '💯🔞biografia🔞💯 😈 sábado 😊 n de ninguém 📆 23/12 ✨ um amor 💭 prf 😜 paixão 🍃 qualquer um 🍁 nunca 🍻 sim 👮🏻 não 🤥 infelizmente 🍿 netflix 🌝 namorar 😐 que eu saiba não 🤫 demais 🥰 um pouco 😉 suave na nave 😁 não mas quero 🤤 batata 👻 sim 🤨 não 🤡 sim  fav que mando': 0, 'não vejo a hora da netflix colocar 50 tons mais escuro  aaaaaaaah': 0, 'diario de uma paixao na netflix, pão com requeijão e chocolate quente    bom dia ☀️❤': 2, 'isso ou aquilo pra ajudar na votação  (estamos perdendo aaaa)  frio ou calor  doce ou salgado  livro ou filme  branco ou preto  churrasco ou sushi  praia ou piscina  role ou ficar em casa  dia ou noite  gato ou cachorro  youtube ou netflix     mpn  bts  boywithluv  army  bts_twt': 0, 'necesito netflix para poder ver élite) ': 0, 'lançou um filme clichê na netflix e fala sério, esse tipo de filme meloso que eu amo me faz acreditar em contos de fadas mexmooo, e n to nem ai 🥺🥰': 1, 'alguem conversa cmg pq n da nem pra eu assistir netflix pq n posso fazer barulho': 1, ' darkcrystalageofresistance 💎obra maestra   netflix  jimhenson https //t co/8d4zlv9w1w': 2, 'quero voltar p essa vida d ficar em casa  a fumar txitxo e a ver netflix  (((': 0, 'eu so queria ter como ver netflix na tv☹️': 0, 'o q assistir na netflix essa hr da manha': 2, 'eu deeeeitado na minha cama netflix na tv': 0, 'eu ia ser tão feliz se houvesse morangos com açúcar ou floribella na netflix  netflixpt': 0, ' fepupim hahahhaha comentei pq uns dois dias atras coloquei um episodio aleatorio na netflix enquanto estava enrolando em casa  era justamente o que o jess chegava na cidade': 1, ' leonsouza7  anittadiosa comenta  netflix  netflixbrasil': 0, 'vou finalmente ver a 3a temporada de hip hop evolution na netflix eheh': 1, 'o que faz quando a dona  netflix não renova a temporada da série que estava acompanhando  😪': 2, 'aaaa eu não to acreditando em diário de uma paixão na netflix passar os dias chorando agora': 0, 'netflix tirou o meu filme do catálogo grrrrr coloca dnv porraaa https //t co/pz2wcqfib5': 0, 'acordei com msg de três amigos meus me avisando que minha netflix não ta pegando kkkkjkkkk': 0, 'netflix, edredom e alimentando o dragão faminto que existe em mim      hoje nada me tira de casa     ': 1, ' mavi_vitvit tem nem mais série boa, já assisti o catálogo todo da netflix': 1, 'hoje vai ser igual ontem, netflix e lanche, sossegueeeeei': 1, 'novos pôsteres de arthdal chronicles  a 3ª temporada estará disponível na netflix a partir do dia 17/09  https //t co/44khylle7x': 0, 'vim olhar netflix na casa do vô de um carinha aí  não tinha nem teve ': 1, 'bem tumbir pra mostrar que hj nn farei nada alem de ver netflix e comer https //t co/omvodhdp0j': 0, ' vhopejgk eu até assistiria, mas tô sem netflix ': 1, 'a netflix não trabalha mais com débito automático   netflixbrasil': 0, 'gente do céu, eu não faço outra coisa a não ser assistir as lives da  samiraclose, nem netflix eu assisto mais': 0, 'agr eu pergunto    cadê a 4° temporada de outlander netflix    https //t co/uuy3vgqmwb': 1, 'e eu que fui treinar e torci o pé, isso é god dizendo pra eu voltar pra netflix': 1, 'o jovem de hoje quer é acordar no fds às 10h e comer pizza do dia anterior no café da manhã, com a parceirinha netflix ': 1, 'netflix kids é tudo pra mim kk': 1, '💯🔞biografia🔞💯 😈 agosto/setembro nao sei agr 😊nao tem 📆23/06 ✨euzinha 💭 medica  😜 lo 🍃depende 🍁ja 🍻 numca 👮🏻nao 🤥nao  🍿 netflix  🌝ficar 😐acho que nao 🤫 já 🥰nao 😉suave 😁já  🤤strogonoff 👻no 🤨já 🤡  nao': 2, 'quero netflix para ver todas as novas temporadas que estão a sair e eu estou a perderrrr': 0, 'quando eu chamo pro cinema ninguém vai   nova série da netflix estrelando eu': 0, ' greggui_ alguém me diz um app ou site pra assistir esse filme  pq já procurei na netflix e no vizer mas não achei afffff': 1, 'queria assistir algo bom na netflix, mas nada chama muito minha atenção   ': 1, 'graças a deus n tem meu número se n pede netflix lkkkkkkkk https //t co/pcor2fbkst': 2, 'a vontade é de assistir netflix o dia todo, porém preciso estudar para prova 😭': 2, 'se tiverem que me chamar pra algo chamem agora pq c eu ligar a tv, colocar na netflix pra ver elite eu não saio daq até terminar 👍🏻': 2, '3 40 da manhã eu acordei p ver netflix kkkkkkkkkk': 2, 'netflix lançou a 2°temp de elite ontem e eu já assisti todos os episódios 😪': 1, 'ainda bem que vi essa décima quinta tenporada de greys bem antes de lançar no netflix pq nossa senhora, ôh demora    eu num ia aguentar não viu': 1, 'livraço    https //t co/xxlzzry5cs': 0, ' netflix tirou os poucos episódios de criminais minds q estavam, na não vc não faz né': 1, 'vou ficar o dia inteirinho deitada olhando netflix, só falto a concha aaaaaa': 2, 'aii mano eu tô tão triste que eu não tenho mais netflix': 0, 'entrou diário de uma paixão no netflix, vou sofrer horrores hoje': 1, ' asabrinacarpent olá  não se preocupa, vamos te ajudar  ) temos um artigo em nosso centro de ajuda que vai te ajudar  https //t co/xjvelou486 ^^ *em': 0, 'alguém já viu aquele \" eu vi \" na netflix ': 2, 'só deus sabe quando a netflix vai lançar os episódios de titans, até lá tenho que tomar cuidado com a internet pra não levar spoiler': 2, 'desde quando fui assaltada não pedi outro cartão de crédito e esqueci que minha netflix estava nele  o erro': 0, 'man n sei pq sla eu esqueço q tenho netflix ai quando lembro ja to a mais de um mês sem ver crl nenhum': 0, 'netflix pq vcs lançaram a 2 temporada de elite ontem eu tenho prova de mat terça e n sei nada aaaaaaaa': 2, 'por que esses caras que não gostam do brasil simplesmente não aproveitem o feriado em paz  vá dormir, passear com o cachorro, ver netflix    mas não  ficam nessa onda antipatriota, como se tivesse ódio de que ama o país e sim, comemora a data de hoje  https //t co/o3okezdlnc': 0, 'só queria uma conta da netflix': 0, 'sera q vai demora mto pra netflix colocar a nova temporada de peaky blinders https //t co/uxiltsmrbe': 1, 'uma série na netflix eu to muito feliz que vou conseguir ver fácil': 2, '💯🔞biografia🔞💯 😈 ontem  😊g b 📆18/08/2019 ✨um amor  💭engenheira, dentista  😜 maju  🍃role  🍁ja sim  🍻já  👮🏻sim  🤥já 🍿 netflix  🌝namorar    😐já 🤫 ja 🥰estou  😉suave  😁já e me arrependo  🤤massas ao molho branco 👻 não  🤨quem nunca   🤡 uma por enquanto': 0, 'bandidos na tv estreia na  netflix   nova docussérie trata de caso verídico de apresentador de tv https //t co/rfujd3ydxw  bandidosnatv': 1, 'ribeira grande deem me casa com forno á tarde pra eu  por uma pizza ristorante, fumar uma, ouvir musica e ficar a ver alguma merda na netflix ouviram netflix va la deixo vos usar a conta': 0, 'eu queria assistir a segunda temporada de elite mas tô sem netflix kk': 1, ' pennaprado  nolargjr mas o emagrecimento sempre foi meu incentivo para qualquer tipo de exercício  gostar, a gente gosta é de comer deitado vendo netflix  🤷🏽\\u200d♀️': 0, 'a netflix resolveu lançar as novas temporadas de várias séries de uma vez só, assim tbm não tem como': 2, 'tá foda ein netflix, nada que de bom que eu já não tenha assistido': 1, ' ealvim  cardoso eu tava assistindo ao documentário da netflix sobre os terraplanista e fiquei curioso sobre o pq de essas teorias florescerem nos eua ': 1, 'as piores séries da netflix da\\xa0atualidade https //t co/ixttfp4yw0 https //t co/ebbwncoxa4': 1, 'já acordo querendo ir pra netflix amoo muito 🥰❤': 1, 'porra eu tenho que estudar nesse sábado e domingo aí a netflix vai e libera elite': 1, 'até agora deitado vendo netflix, oh vida': 0, \"alguém me empresta a netflix, por favorzinho  '(\": 1, ' ericacost11  thecrownnetflix  gilliana ela tá muito metida com netflix um agora né 🌚🌚🌚': 2, 'alguém podia fazer uma boa ação de me passar a conta da netflix': 0, 'netflix ganhou me coração depois de ter colocado dirty dancing': 1, 'tou me a passar com a puta da netflix': 0, 'os sonhos do grupo da netflix hoje foram qualquer coisa de espetacular': 1, 'minha mãe viajou c julia e parece que to c um adolescente em casa  meu pai tá maratonando na netflix desde 6 da manha': 2, 'hoje é dia de netflix e pizza': 0, 'totalmente triste por só ter 4 temporadas de b99 na netflix': 1, ' penguinzito  fiischerleticia amigo que isso  eu baixo episódio de série na netflix e não acaba': 1, \"coe alguem me da netflix paga  ')\": 0, 'a netflix disponibilizou agora na sua plataforma de streaming o conjunto de 3 contos animados, modest heroes (heróis modestos), do studio ponoc, fundado pelo antigo produtor do studio ghibli, yoshiaki nishimura   netflix  netflixportugal  animeportugal https //t co/lguz432i6z': 2, ' piscianoum nem me lembre de elite, to sem netflix só sei sofrer': 2, 'netflix eu exijo a 4° temporada de vis a vis na minha mesa agora ': 2, 'vou pedir ajuda a lora p trocar a senha da minha netflix': 2, 'filme pra assistir diversas vezes  autêntica obra de arte  depois me respondam quem é o  \"fraco\" da história  chocado   animaisnoturnos  netflix  indicafilmes': 2, 'lançou mais temp de um mte de série na netflix adeus vida social': 1, 'fiquei vendo filme na netflix a madrugada toda': 2, 'netflix vai produzir uma série sobre freud eh isso mesmo    ': 2, 'tempinho pra estar baixadinho netflix pipoca e a morena 🙌🙏♥️': 2, ' tozzafla  netflixbrasil creio q é transmitido no eua no stremen da dc e depois mandam pra cá pela netflix': 2, 'netflix tem uns anime baunzaum estranhei até': 1, 'tenho quase certeza que a minha vida só começou a desandar quando a netflix tirou tvd do catálogo': 1, 'eu e a minha mãe dividimos netflix com minha vizinha e a filha dela, e aí eu coloquei um icon de fenneko de agretsuko a muito tempo e deixei, aí a filha da minha vizinha colocou tambem e parece que a gente ta combinando icon na netflix https //t co/qm9tdymb6b': 0, ' vaputakepareyou  toodivaforyou já és daddy pra dar netflix': 1, ' caioblinder por que esses caras que não gostam do brasil simplesmente não aproveitem o feriado em paz  vá dormir, passear com o cachorro, ver netflix    mas não  ficam nessa onda antipatriota, como se tivesse ódio de que ama o país e sim, comemora a data de hoje ': 0, 'vivemos em uma época que tem que ser tudo rápido sem enrolação,já cansou essa novela da reforma do ap do zeca camargo,se alguma série na netflix se for chato e cansativo ,no terceiro episódio já não assisto mais   edecasa': 2, 'público esqueceu as novelas e só fala dos filmes da netflix https //t co/pvbpxaqt9y': 0, '~~ https //t co/8e0celzpcl  postar no instagram pelo pc  a maneira mais fácil     https //t co/pgffademz2   https //t co/8e0celzpcl  movimento tiny house  encararia mudar para este estilo de casa https //t co/sbxr6hxdwm': 2, 'netflix, coloca essa série no catálogo dnv pelo amor da santa mãezinha das séries quero maratonar ela dnv 😍 https //t co/yl5m6tpe9p': 1, ' kellendomingue2  alexsanspacheco exato, é irritante não há um único filme no netflix que não haja gays, colocam fora de contexto, sem qualquer relação com o filme , forçam demais, então não fica uma coisa natural': 1, 'eu e as outras duas dcnautas q vão esperar a 2° tenporada de titans sair na netflix pra assistir tudo  https //t co/y5lfmopuk7': 1, 'meu cabelo tá lindo demais, perfeito pra sabadar vendo netflix ': 2, 'anão o omar ta mal e a lu apoiando ele,nem sei pq to chorando  netflix pq vc faz isso cmg ': 2, 'heróis modestos na netflix https //t co/wv6jp68dru https //t co/5s8lzlwha7': 2, 'amazon prime caga mole na boquinha da netflix só por ter no catálogo todas as temporadas de downton abbey': 1, 'hoje o clima está propício pra ficar o dia todo agarradinho com o crush e vendo série na netflix, simbora 🥰': 2, 'chegou diário de uma paixão na netflix, esse momento é todinho meeeuuu': 1, 'a  netflix relançou a terceira parte de la casa de papel com o  neymarjr  só para mostrar como a participação dele foi inútil para o andamento da série  v foi apenas para aparecer mesmo, pois a narrativa não muda em nada com ou sem ele ': 1, ' fabiorbto vamos assistir um netflix ': 2, 'nao aguento mais a netflix tirando as coisas boas do catálogo': 1, 'a lu e o valerio são irmãos e se pegam (        ) sério isso netflix': 0, 'passar o dia vendo netflix nesse friozin e pensando nele kk melhor forma🤯': 2, 'assisto netflix quase nunca, mas quando vou assistir já tem atualizar o pagamento 🤬': 1, ' etfumante melhor série atual da netflix': 2, 'vou fazer meus 300 exercicios que eu tenho pq mais tarde so quero netflix e nada mais': 2, ' maricampos73 obrigado pra vc também bom feriado, vou passar o meu feriado em casa com minha esposa assistindo a série vis a vis da netflix': 1, 'queria ver elite mas a minha netflix acabou e nem sabia': 0, 'eu só queria que ainda tivesse o meu filme na netflix': 0, 'só queria a 2 temp de titãs na netflix': 0, 'até o  globoplay tem harry potter e a netflix não https //t co/tsbwsujatc': 1, 'feriadou e o papai ficou tanto me apressando pela minha parte da fatura do cartão pra ele deixar pra pagar só segunda e eu ficar sem netflix tnc meu patrão': 1, 'injusto a netflix lançar temporadas novas das minhas séries favoritas e eu ter trabalho pra fazer': 1, 'quem nunca assistiu 👇🏻 https //t co/zpybx5qfl3': 0, 'eu procurando algo novo p ver na netflix  mean girls  a eu  bom eh isto': 2, ' martinslucas027 caça aos gângster     na netflix msm fml': 1, ' thaynvictoria6 assisti a voz do silêncio na netflix, uma animação que oh um soco na cara': 1, ' casperdiogo da outra vez demorou pra ir pra netflix ': 1, 'netflix ja pode colocar a terceira temp de elite já mo': 1, 'só qria passar a tarde deitadinha com ele vendo netflix': 2, 'passar o dia todo vendo netflix': 0, 'hoje eu só queria um programinha de casal, netflix e uns dengo 😔': 2, 'perdi minha conta no netflix logo quando to querendo ver um filme': 0, 'netflix espero q essas season atypical seja perfeita, nn aceito menos': 1, 'todas as séries podiam ser igual vis a vis na netflix, temporada nova saindo rapidinho': 1, 'o governo liberal que vocês disseram aí kkk https //t co/gq7xajdpug': 0, 'quase me convidei pra ir assistir netflix com ela, eu só não fiz isso pq eu vou sair hj namoral': 2}\n"
     ]
    }
   ],
   "source": [
    "class_relev={}\n",
    "for frase1 in data_clean:  \n",
    "    frase = frase1.split()\n",
    "    log_probr = 0\n",
    "    for p in frase:\n",
    "        if p in relevantes_relativos:\n",
    "            log_probr += np.log10(relevantes_relativos[p])\n",
    "    log_probi = 0\n",
    "    for p in frase:\n",
    "        if p in irrelevantes_relativos:\n",
    "            log_probi += np.log10(irrelevantes_relativos[p])\n",
    "    log_probn = 0\n",
    "    for p in frase:\n",
    "        if p in neutros_relativos:\n",
    "            log_probn += np.log10(neutros_relativos[p])\n",
    "    log_probr*=-1\n",
    "    log_probi*=-1\n",
    "    log_probn*=-1\n",
    "    if log_probr>log_probi and log_probr>log_probn:       \n",
    "        class_relev[frase1]=1\n",
    "    elif log_probi>log_probr and log_probi>log_probn:\n",
    "        class_relev[frase1]=0\n",
    "    else:\n",
    "        class_relev[frase1]=2\n",
    "print(class_relev)"
   ]
  },
  {
   "cell_type": "code",
   "execution_count": 241,
   "metadata": {
    "scrolled": true
   },
   "outputs": [],
   "source": [
    "def classificar(frase_clean):\n",
    "    class_relev1={}\n",
    "    for frase1 in frase_clean:  \n",
    "        frase = frase1.split()\n",
    "        log_probr = 0\n",
    "        for p in frase:\n",
    "            if p in relevantes_relativos:\n",
    "                log_probr += np.log10(relevantes_relativos[p])\n",
    "        log_probi = 0\n",
    "        for p in frase:\n",
    "            if p in irrelevantes_relativos:\n",
    "                log_probi += np.log10(irrelevantes_relativos[p])\n",
    "        log_probn = 0\n",
    "        for p in frase:\n",
    "            if p in neutros_relativos:\n",
    "                log_probn += np.log10(neutros_relativos[p])\n",
    "        log_probr*=-1\n",
    "        log_probi*=-1\n",
    "        log_probn*=-1\n",
    "        if log_probr>log_probi and log_probr>log_probn:       \n",
    "            class_relev1[frase1]=1\n",
    "        elif log_probi>log_probr and log_probi>log_probn:\n",
    "            class_relev1[frase1]=0\n",
    "        else:\n",
    "            class_relev1[frase1]=2\n",
    "    return class_relev1\n",
    "class_relev1=classificar(frase_clean)"
   ]
  },
  {
   "cell_type": "code",
   "execution_count": 242,
   "metadata": {},
   "outputs": [
    {
     "data": {
      "text/html": [
       "<div>\n",
       "<style scoped>\n",
       "    .dataframe tbody tr th:only-of-type {\n",
       "        vertical-align: middle;\n",
       "    }\n",
       "\n",
       "    .dataframe tbody tr th {\n",
       "        vertical-align: top;\n",
       "    }\n",
       "\n",
       "    .dataframe thead th {\n",
       "        text-align: right;\n",
       "    }\n",
       "</style>\n",
       "<table border=\"1\" class=\"dataframe\">\n",
       "  <thead>\n",
       "    <tr style=\"text-align: right;\">\n",
       "      <th></th>\n",
       "      <th>0</th>\n",
       "    </tr>\n",
       "  </thead>\n",
       "  <tbody>\n",
       "    <tr>\n",
       "      <th>petitluannes 15 que lançou agora no netflix kk</th>\n",
       "      <td>1</td>\n",
       "    </tr>\n",
       "    <tr>\n",
       "      <th>mananabranco hahahahah * melhor coisa do sábado cedinho , falar com a ma +fazer café +netflix</th>\n",
       "      <td>1</td>\n",
       "    </tr>\n",
       "    <tr>\n",
       "      <th>eu  gente o ander é obviamente o ativo, nunca que o omar come ele netflix  ander senta no omar eu  só acredito vendo eu  *vejo ainda eu  não acredito</th>\n",
       "      <td>0</td>\n",
       "    </tr>\n",
       "    <tr>\n",
       "      <th>agr posso assistir netflix em paz</th>\n",
       "      <td>0</td>\n",
       "    </tr>\n",
       "    <tr>\n",
       "      <th>esse tempinho em pleno sabado de feriado, só queria ficar deitada vendo netflix</th>\n",
       "      <td>1</td>\n",
       "    </tr>\n",
       "    <tr>\n",
       "      <th>m_vasconcellus aí não dá pra ficar em casa dormindo e vendo só netflix</th>\n",
       "      <td>0</td>\n",
       "    </tr>\n",
       "    <tr>\n",
       "      <th>eu quando vou assistir netflix   99,9% procurando alguma coisa pra assistir 00,1% assistindo e depois eu termino nem assistindo e durmo</th>\n",
       "      <td>0</td>\n",
       "    </tr>\n",
       "    <tr>\n",
       "      <th>lost vai sair do catálogo da netflix mês que vem por causa do disney+ e mais uma vez os gays perdendo</th>\n",
       "      <td>0</td>\n",
       "    </tr>\n",
       "    <tr>\n",
       "      <th>estou muito feliz porque a netflix voltou com garotas malvadas, vou assistir mais 1899 vezes</th>\n",
       "      <td>0</td>\n",
       "    </tr>\n",
       "    <tr>\n",
       "      <th>caraca a pegação da nádia e do guzman foi muito além de um beijo, netflix sem limite</th>\n",
       "      <td>2</td>\n",
       "    </tr>\n",
       "    <tr>\n",
       "      <th>alguém conhece um site seguro pra ver série  quero convencer 2 amigos a assistir himym e não tem na netflix  🥺</th>\n",
       "      <td>1</td>\n",
       "    </tr>\n",
       "    <tr>\n",
       "      <th>nova cpmf enquadraria até netflix e uber, diz paulo guedes   https //t co/uwscnmuggz</th>\n",
       "      <td>0</td>\n",
       "    </tr>\n",
       "    <tr>\n",
       "      <th>nem assisti a 3 temporada de 13rw e acho que nem vou pode jogar fora netflix</th>\n",
       "      <td>1</td>\n",
       "    </tr>\n",
       "    <tr>\n",
       "      <th>obg netflix pelos mimos o personagem novo de elite é um pitel</th>\n",
       "      <td>0</td>\n",
       "    </tr>\n",
       "    <tr>\n",
       "      <th>já estou no terceiro episódio da 5a temporada de  htgawm e já acho que a bonnie matou foi o investigador  suspense  netflix</th>\n",
       "      <td>2</td>\n",
       "    </tr>\n",
       "    <tr>\n",
       "      <th>fckjergui tem na netflix  é uma série de entrevistas com pessoas maravilhosas  de todas, acho que só não vi duas porque as pessoas não me interessavam  a do obama é a primeira  que homem, mds  que homem</th>\n",
       "      <td>0</td>\n",
       "    </tr>\n",
       "    <tr>\n",
       "      <th>anygabrielly partiu  ficar em casa, vendo netflix alkakakakaka</th>\n",
       "      <td>0</td>\n",
       "    </tr>\n",
       "    <tr>\n",
       "      <th>tá ficando com alguém  — quem me dera passar o dia vendo netflix c a bandida nessa chuvinha kkk https //t co/uv1fnqhtil</th>\n",
       "      <td>0</td>\n",
       "    </tr>\n",
       "    <tr>\n",
       "      <th>é, hoje é jogar free fire e assistir netflix</th>\n",
       "      <td>1</td>\n",
       "    </tr>\n",
       "    <tr>\n",
       "      <th>os espiritos vendo a netflix chegando no cemitério pra gravar mais um enterro fake pra uma série teen nova deles https //t co/7bel2nzm5r</th>\n",
       "      <td>2</td>\n",
       "    </tr>\n",
       "    <tr>\n",
       "      <th>exowalks ansioso  eu torcia o nariz pra série, achava que era mais uma série besta da netflix nível 13rw, mas estava errado pois é muito boa  elite esmurra a bomba de cocô radiotivo que é 13rw</th>\n",
       "      <td>1</td>\n",
       "    </tr>\n",
       "    <tr>\n",
       "      <th>netflix anuncia início das gravações da última temporada de lucifer  https //t co/oqjyzy4ldl   lucifer https //t co/mtmzwcsfba</th>\n",
       "      <td>2</td>\n",
       "    </tr>\n",
       "    <tr>\n",
       "      <th>procurando alguém para assinar netflix, alguém queira</th>\n",
       "      <td>0</td>\n",
       "    </tr>\n",
       "    <tr>\n",
       "      <th>\"ai amiga, ele é psicopata\" (depois de ver you na netflix) https //t co/yrnbma2qwc</th>\n",
       "      <td>1</td>\n",
       "    </tr>\n",
       "    <tr>\n",
       "      <th>glowschen olá  por gentileza, entre em contato com a nossa central de atendimento através do número 0800 892 5063 ou através desse link  https //t co/wupdwe0ldq para investigarmos melhor essa situação, ok  *mp</th>\n",
       "      <td>0</td>\n",
       "    </tr>\n",
       "    <tr>\n",
       "      <th>daqui a pouco é netflix e uma cerva, só eu e ela</th>\n",
       "      <td>0</td>\n",
       "    </tr>\n",
       "    <tr>\n",
       "      <th>se não era pra eu estar assistindo um netflix agarradinha</th>\n",
       "      <td>1</td>\n",
       "    </tr>\n",
       "    <tr>\n",
       "      <th>“deixa esse lance de se exercitar com caminhada pra mais tarde  vai, liga logo a netflix, só um pouquinho ” https //t co/odwzyridyk</th>\n",
       "      <td>1</td>\n",
       "    </tr>\n",
       "    <tr>\n",
       "      <th>\"dinheiro não te faz feliz\" roupa nova  kkkkkkkkk tênis novo  kkkkkkkk netflix  kkkkkkkk intercâmbio  kkkkkkkk comida  kkkkkkkk</th>\n",
       "      <td>0</td>\n",
       "    </tr>\n",
       "    <tr>\n",
       "      <th>netflix a  globoplay  passou na frente  tanto se pediu, moscou, perdeu https //t co/2w2h81ne5k</th>\n",
       "      <td>0</td>\n",
       "    </tr>\n",
       "    <tr>\n",
       "      <th>...</th>\n",
       "      <td>...</td>\n",
       "    </tr>\n",
       "    <tr>\n",
       "      <th>mrlnns cara      muito barato ok que eu divido netflix e fica baratinho    mas dps darei una olhada no catálogo da amazon</th>\n",
       "      <td>0</td>\n",
       "    </tr>\n",
       "    <tr>\n",
       "      <th>assistindo netflix e tomando café da manhã na cama, se essa não é a vida que pedi eu não sei qual é</th>\n",
       "      <td>2</td>\n",
       "    </tr>\n",
       "    <tr>\n",
       "      <th>netflix sua fudida se vc renovar 13rw eu te meto a porrada</th>\n",
       "      <td>2</td>\n",
       "    </tr>\n",
       "    <tr>\n",
       "      <th>eu e a jacobi marcando de ver um netflix sem a luana &amp;gt &amp;gt &amp;gt &amp;gt</th>\n",
       "      <td>0</td>\n",
       "    </tr>\n",
       "    <tr>\n",
       "      <th>meu deus,a netflix lançou novas temporadas das 2 séries que eu gosto e eu nem sabia 🙀🙀🙀❤️</th>\n",
       "      <td>0</td>\n",
       "    </tr>\n",
       "    <tr>\n",
       "      <th>marlonhero hj eu vou ficar só de netflix pq amanhã tenho rolê ķkkk</th>\n",
       "      <td>2</td>\n",
       "    </tr>\n",
       "    <tr>\n",
       "      <th>só queria entender pq não tá aparecendo elite na porra da minha netflix</th>\n",
       "      <td>0</td>\n",
       "    </tr>\n",
       "    <tr>\n",
       "      <th>a netflix podia fazer uma serie sobre anne frank , seria incrivel</th>\n",
       "      <td>0</td>\n",
       "    </tr>\n",
       "    <tr>\n",
       "      <th>namichan_zinha kkkkkk boa q pena q minha conta da netflix foi pro saco</th>\n",
       "      <td>1</td>\n",
       "    </tr>\n",
       "    <tr>\n",
       "      <th>guerreirooou sensacional né, pensa agora uma noite fria, netflix e um vinho top pqp</th>\n",
       "      <td>1</td>\n",
       "    </tr>\n",
       "    <tr>\n",
       "      <th>duda ta fazendo brigadeiro pra nós assistir algo na netflix</th>\n",
       "      <td>0</td>\n",
       "    </tr>\n",
       "    <tr>\n",
       "      <th>netflixpt mas porque é que a última temporada de the vampire diaries não está na netflix      🥺</th>\n",
       "      <td>1</td>\n",
       "    </tr>\n",
       "    <tr>\n",
       "      <th>queria assistir netflix antes de ir trabalhar, mas pegou fogo na minha provedora de internet  estou bem contente</th>\n",
       "      <td>0</td>\n",
       "    </tr>\n",
       "    <tr>\n",
       "      <th>queria mesmo era tá dando play no feriadão, mas o único play que eu vou dar vai ser o da minha netflix</th>\n",
       "      <td>0</td>\n",
       "    </tr>\n",
       "    <tr>\n",
       "      <th>a quinta temporada de htgawm chegou no netflix   obg deus 🙌🏻</th>\n",
       "      <td>1</td>\n",
       "    </tr>\n",
       "    <tr>\n",
       "      <th>tudo pela netflix hoje, de lei</th>\n",
       "      <td>1</td>\n",
       "    </tr>\n",
       "    <tr>\n",
       "      <th>bom dia minha mãe me acordou 10h num sábado q eu n tenho prova pra saber a senha da netflix</th>\n",
       "      <td>0</td>\n",
       "    </tr>\n",
       "    <tr>\n",
       "      <th>acordei, tomei café e agora vou sabadar limpando meu quarto enquanto vejo o show da reputation stadium tour na netflix</th>\n",
       "      <td>0</td>\n",
       "    </tr>\n",
       "    <tr>\n",
       "      <th>a nova temporada do drive survive do netflix vai ser demais  f1  netflix  f1naglobo  f1xfox  f1nosportv</th>\n",
       "      <td>0</td>\n",
       "    </tr>\n",
       "    <tr>\n",
       "      <th>minha mae resolvendo derivada e vendo netflix ao mesmo tempo cara</th>\n",
       "      <td>0</td>\n",
       "    </tr>\n",
       "    <tr>\n",
       "      <th>willtuber aconteceu com grey's tinha acabado na netflix ficamos com preguiça de baixar  paramos de ver  voltou agora estou vendo novamente</th>\n",
       "      <td>0</td>\n",
       "    </tr>\n",
       "    <tr>\n",
       "      <th>fãs da anne with an e  netflix cade a divulgação da nova temporada   netflix    https //t co/berypdv1w3</th>\n",
       "      <td>0</td>\n",
       "    </tr>\n",
       "    <tr>\n",
       "      <th>ta chovendo muito e tenho role mas fico em casa na netflix e nas cobertas ou saiu no meio de um toró da poxa</th>\n",
       "      <td>1</td>\n",
       "    </tr>\n",
       "    <tr>\n",
       "      <th>ainda tô usando a netflix da ju kkkkk ai meu paih</th>\n",
       "      <td>0</td>\n",
       "    </tr>\n",
       "    <tr>\n",
       "      <th>agora que eu vi que chegou a 15° temporada de greys na netflix      eu vou chorar meu deus do ceu</th>\n",
       "      <td>1</td>\n",
       "    </tr>\n",
       "    <tr>\n",
       "      <th>eu só queria uma conta da netflix pra eu ver elite 😭</th>\n",
       "      <td>0</td>\n",
       "    </tr>\n",
       "    <tr>\n",
       "      <th>vou tomar café e ficar vendo netflix 😉</th>\n",
       "      <td>0</td>\n",
       "    </tr>\n",
       "    <tr>\n",
       "      <th>netflix produz a 3 temporada de elite logo</th>\n",
       "      <td>0</td>\n",
       "    </tr>\n",
       "    <tr>\n",
       "      <th>bem que a netflix podia colocar rebelde no catálogo né 😅</th>\n",
       "      <td>0</td>\n",
       "    </tr>\n",
       "    <tr>\n",
       "      <th>nova temporada de grey’s anatomy e htgawm na netflix, meu coração não aguenta</th>\n",
       "      <td>1</td>\n",
       "    </tr>\n",
       "  </tbody>\n",
       "</table>\n",
       "<p>300 rows × 1 columns</p>\n",
       "</div>"
      ],
      "text/plain": [
       "                                                    0\n",
       " petitluannes 15 que lançou agora no netflix kk     1\n",
       " mananabranco hahahahah * melhor coisa do sábad...  1\n",
       "eu  gente o ander é obviamente o ativo, nunca q...  0\n",
       "agr posso assistir netflix em paz                   0\n",
       "esse tempinho em pleno sabado de feriado, só qu...  1\n",
       " m_vasconcellus aí não dá pra ficar em casa dor...  0\n",
       "eu quando vou assistir netflix   99,9% procuran...  0\n",
       "lost vai sair do catálogo da netflix mês que ve...  0\n",
       "estou muito feliz porque a netflix voltou com g...  0\n",
       "caraca a pegação da nádia e do guzman foi muito...  2\n",
       "alguém conhece um site seguro pra ver série  qu...  1\n",
       "nova cpmf enquadraria até netflix e uber, diz p...  0\n",
       "nem assisti a 3 temporada de 13rw e acho que ne...  1\n",
       "obg netflix pelos mimos o personagem novo de el...  0\n",
       "já estou no terceiro episódio da 5a temporada d...  2\n",
       " fckjergui tem na netflix  é uma série de entre...  0\n",
       " anygabrielly partiu  ficar em casa, vendo netf...  0\n",
       "tá ficando com alguém  — quem me dera passar o ...  0\n",
       "é, hoje é jogar free fire e assistir netflix        1\n",
       "os espiritos vendo a netflix chegando no cemité...  2\n",
       " exowalks ansioso  eu torcia o nariz pra série,...  1\n",
       "netflix anuncia início das gravações da última ...  2\n",
       "procurando alguém para assinar netflix, alguém ...  0\n",
       "\"ai amiga, ele é psicopata\" (depois de ver you ...  1\n",
       " glowschen olá  por gentileza, entre em contato...  0\n",
       "daqui a pouco é netflix e uma cerva, só eu e ela    0\n",
       "se não era pra eu estar assistindo um netflix a...  1\n",
       "“deixa esse lance de se exercitar com caminhada...  1\n",
       "\"dinheiro não te faz feliz\" roupa nova  kkkkkkk...  0\n",
       " netflix a  globoplay  passou na frente  tanto ...  0\n",
       "...                                                ..\n",
       " mrlnns cara      muito barato ok que eu divido...  0\n",
       "assistindo netflix e tomando café da manhã na c...  2\n",
       "netflix sua fudida se vc renovar 13rw eu te met...  2\n",
       "eu e a jacobi marcando de ver um netflix sem a ...  0\n",
       "meu deus,a netflix lançou novas temporadas das ...  0\n",
       " marlonhero hj eu vou ficar só de netflix pq am...  2\n",
       "só queria entender pq não tá aparecendo elite n...  0\n",
       "a netflix podia fazer uma serie sobre anne fran...  0\n",
       " namichan_zinha kkkkkk boa q pena q minha conta...  1\n",
       " guerreirooou sensacional né, pensa agora uma n...  1\n",
       "duda ta fazendo brigadeiro pra nós assistir alg...  0\n",
       " netflixpt mas porque é que a última temporada ...  1\n",
       "queria assistir netflix antes de ir trabalhar, ...  0\n",
       "queria mesmo era tá dando play no feriadão, mas...  0\n",
       "a quinta temporada de htgawm chegou no netflix ...  1\n",
       "tudo pela netflix hoje, de lei                      1\n",
       "bom dia minha mãe me acordou 10h num sábado q e...  0\n",
       "acordei, tomei café e agora vou sabadar limpand...  0\n",
       "a nova temporada do drive survive do netflix va...  0\n",
       "minha mae resolvendo derivada e vendo netflix a...  0\n",
       " willtuber aconteceu com grey's tinha acabado n...  0\n",
       "fãs da anne with an e  netflix cade a divulgaçã...  0\n",
       "ta chovendo muito e tenho role mas fico em casa...  1\n",
       "ainda tô usando a netflix da ju kkkkk ai meu paih   0\n",
       "agora que eu vi que chegou a 15° temporada de g...  1\n",
       "eu só queria uma conta da netflix pra eu ver el...  0\n",
       "vou tomar café e ficar vendo netflix 😉              0\n",
       " netflix produz a 3 temporada de elite logo         0\n",
       "bem que a netflix podia colocar rebelde no catá...  0\n",
       "nova temporada de grey’s anatomy e htgawm na ne...  1\n",
       "\n",
       "[300 rows x 1 columns]"
      ]
     },
     "execution_count": 242,
     "metadata": {},
     "output_type": "execute_result"
    }
   ],
   "source": [
    "class_relevt= pd.DataFrame.from_dict(class_relev1,orient=\"index\")\n",
    "class_relevt"
   ]
  },
  {
   "cell_type": "code",
   "execution_count": 243,
   "metadata": {},
   "outputs": [
    {
     "data": {
      "text/html": [
       "<div>\n",
       "<style scoped>\n",
       "    .dataframe tbody tr th:only-of-type {\n",
       "        vertical-align: middle;\n",
       "    }\n",
       "\n",
       "    .dataframe tbody tr th {\n",
       "        vertical-align: top;\n",
       "    }\n",
       "\n",
       "    .dataframe thead th {\n",
       "        text-align: right;\n",
       "    }\n",
       "</style>\n",
       "<table border=\"1\" class=\"dataframe\">\n",
       "  <thead>\n",
       "    <tr style=\"text-align: right;\">\n",
       "      <th></th>\n",
       "      <th>0</th>\n",
       "    </tr>\n",
       "  </thead>\n",
       "  <tbody>\n",
       "    <tr>\n",
       "      <th>petitluannes 15 que lançou agora no netflix kk</th>\n",
       "      <td>2</td>\n",
       "    </tr>\n",
       "    <tr>\n",
       "      <th>mananabranco hahahahah * melhor coisa do sábado cedinho , falar com a ma +fazer café +netflix</th>\n",
       "      <td>1</td>\n",
       "    </tr>\n",
       "    <tr>\n",
       "      <th>eu  gente o ander é obviamente o ativo, nunca que o omar come ele netflix  ander senta no omar eu  só acredito vendo eu  *vejo ainda eu  não acredito</th>\n",
       "      <td>0</td>\n",
       "    </tr>\n",
       "    <tr>\n",
       "      <th>agr posso assistir netflix em paz</th>\n",
       "      <td>1</td>\n",
       "    </tr>\n",
       "    <tr>\n",
       "      <th>esse tempinho em pleno sabado de feriado, só queria ficar deitada vendo netflix</th>\n",
       "      <td>1</td>\n",
       "    </tr>\n",
       "    <tr>\n",
       "      <th>m_vasconcellus aí não dá pra ficar em casa dormindo e vendo só netflix</th>\n",
       "      <td>1</td>\n",
       "    </tr>\n",
       "    <tr>\n",
       "      <th>eu quando vou assistir netflix   99,9% procurando alguma coisa pra assistir 00,1% assistindo e depois eu termino nem assistindo e durmo</th>\n",
       "      <td>0</td>\n",
       "    </tr>\n",
       "    <tr>\n",
       "      <th>lost vai sair do catálogo da netflix mês que vem por causa do disney+ e mais uma vez os gays perdendo</th>\n",
       "      <td>0</td>\n",
       "    </tr>\n",
       "    <tr>\n",
       "      <th>estou muito feliz porque a netflix voltou com garotas malvadas, vou assistir mais 1899 vezes</th>\n",
       "      <td>1</td>\n",
       "    </tr>\n",
       "    <tr>\n",
       "      <th>caraca a pegação da nádia e do guzman foi muito além de um beijo, netflix sem limite</th>\n",
       "      <td>1</td>\n",
       "    </tr>\n",
       "    <tr>\n",
       "      <th>alguém conhece um site seguro pra ver série  quero convencer 2 amigos a assistir himym e não tem na netflix  🥺</th>\n",
       "      <td>0</td>\n",
       "    </tr>\n",
       "    <tr>\n",
       "      <th>nova cpmf enquadraria até netflix e uber, diz paulo guedes   https //t co/uwscnmuggz</th>\n",
       "      <td>0</td>\n",
       "    </tr>\n",
       "    <tr>\n",
       "      <th>nem assisti a 3 temporada de 13rw e acho que nem vou pode jogar fora netflix</th>\n",
       "      <td>1</td>\n",
       "    </tr>\n",
       "    <tr>\n",
       "      <th>obg netflix pelos mimos o personagem novo de elite é um pitel</th>\n",
       "      <td>1</td>\n",
       "    </tr>\n",
       "    <tr>\n",
       "      <th>já estou no terceiro episódio da 5a temporada de  htgawm e já acho que a bonnie matou foi o investigador  suspense  netflix</th>\n",
       "      <td>0</td>\n",
       "    </tr>\n",
       "    <tr>\n",
       "      <th>fckjergui tem na netflix  é uma série de entrevistas com pessoas maravilhosas  de todas, acho que só não vi duas porque as pessoas não me interessavam  a do obama é a primeira  que homem, mds  que homem</th>\n",
       "      <td>0</td>\n",
       "    </tr>\n",
       "    <tr>\n",
       "      <th>anygabrielly partiu  ficar em casa, vendo netflix alkakakakaka</th>\n",
       "      <td>2</td>\n",
       "    </tr>\n",
       "    <tr>\n",
       "      <th>tá ficando com alguém  — quem me dera passar o dia vendo netflix c a bandida nessa chuvinha kkk https //t co/uv1fnqhtil</th>\n",
       "      <td>1</td>\n",
       "    </tr>\n",
       "    <tr>\n",
       "      <th>é, hoje é jogar free fire e assistir netflix</th>\n",
       "      <td>1</td>\n",
       "    </tr>\n",
       "    <tr>\n",
       "      <th>os espiritos vendo a netflix chegando no cemitério pra gravar mais um enterro fake pra uma série teen nova deles https //t co/7bel2nzm5r</th>\n",
       "      <td>0</td>\n",
       "    </tr>\n",
       "    <tr>\n",
       "      <th>exowalks ansioso  eu torcia o nariz pra série, achava que era mais uma série besta da netflix nível 13rw, mas estava errado pois é muito boa  elite esmurra a bomba de cocô radiotivo que é 13rw</th>\n",
       "      <td>0</td>\n",
       "    </tr>\n",
       "    <tr>\n",
       "      <th>netflix anuncia início das gravações da última temporada de lucifer  https //t co/oqjyzy4ldl   lucifer https //t co/mtmzwcsfba</th>\n",
       "      <td>0</td>\n",
       "    </tr>\n",
       "    <tr>\n",
       "      <th>procurando alguém para assinar netflix, alguém queira</th>\n",
       "      <td>1</td>\n",
       "    </tr>\n",
       "    <tr>\n",
       "      <th>\"ai amiga, ele é psicopata\" (depois de ver you na netflix) https //t co/yrnbma2qwc</th>\n",
       "      <td>0</td>\n",
       "    </tr>\n",
       "    <tr>\n",
       "      <th>glowschen olá  por gentileza, entre em contato com a nossa central de atendimento através do número 0800 892 5063 ou através desse link  https //t co/wupdwe0ldq para investigarmos melhor essa situação, ok  *mp</th>\n",
       "      <td>0</td>\n",
       "    </tr>\n",
       "    <tr>\n",
       "      <th>daqui a pouco é netflix e uma cerva, só eu e ela</th>\n",
       "      <td>0</td>\n",
       "    </tr>\n",
       "    <tr>\n",
       "      <th>se não era pra eu estar assistindo um netflix agarradinha</th>\n",
       "      <td>0</td>\n",
       "    </tr>\n",
       "    <tr>\n",
       "      <th>“deixa esse lance de se exercitar com caminhada pra mais tarde  vai, liga logo a netflix, só um pouquinho ” https //t co/odwzyridyk</th>\n",
       "      <td>1</td>\n",
       "    </tr>\n",
       "    <tr>\n",
       "      <th>\"dinheiro não te faz feliz\" roupa nova  kkkkkkkkk tênis novo  kkkkkkkk netflix  kkkkkkkk intercâmbio  kkkkkkkk comida  kkkkkkkk</th>\n",
       "      <td>1</td>\n",
       "    </tr>\n",
       "    <tr>\n",
       "      <th>netflix a  globoplay  passou na frente  tanto se pediu, moscou, perdeu https //t co/2w2h81ne5k</th>\n",
       "      <td>2</td>\n",
       "    </tr>\n",
       "    <tr>\n",
       "      <th>...</th>\n",
       "      <td>...</td>\n",
       "    </tr>\n",
       "    <tr>\n",
       "      <th>mrlnns cara      muito barato ok que eu divido netflix e fica baratinho    mas dps darei una olhada no catálogo da amazon</th>\n",
       "      <td>0</td>\n",
       "    </tr>\n",
       "    <tr>\n",
       "      <th>assistindo netflix e tomando café da manhã na cama, se essa não é a vida que pedi eu não sei qual é</th>\n",
       "      <td>1</td>\n",
       "    </tr>\n",
       "    <tr>\n",
       "      <th>netflix sua fudida se vc renovar 13rw eu te meto a porrada</th>\n",
       "      <td>0</td>\n",
       "    </tr>\n",
       "    <tr>\n",
       "      <th>eu e a jacobi marcando de ver um netflix sem a luana &amp;gt &amp;gt &amp;gt &amp;gt</th>\n",
       "      <td>2</td>\n",
       "    </tr>\n",
       "    <tr>\n",
       "      <th>meu deus,a netflix lançou novas temporadas das 2 séries que eu gosto e eu nem sabia 🙀🙀🙀❤️</th>\n",
       "      <td>1</td>\n",
       "    </tr>\n",
       "    <tr>\n",
       "      <th>marlonhero hj eu vou ficar só de netflix pq amanhã tenho rolê ķkkk</th>\n",
       "      <td>0</td>\n",
       "    </tr>\n",
       "    <tr>\n",
       "      <th>só queria entender pq não tá aparecendo elite na porra da minha netflix</th>\n",
       "      <td>0</td>\n",
       "    </tr>\n",
       "    <tr>\n",
       "      <th>a netflix podia fazer uma serie sobre anne frank , seria incrivel</th>\n",
       "      <td>2</td>\n",
       "    </tr>\n",
       "    <tr>\n",
       "      <th>namichan_zinha kkkkkk boa q pena q minha conta da netflix foi pro saco</th>\n",
       "      <td>2</td>\n",
       "    </tr>\n",
       "    <tr>\n",
       "      <th>guerreirooou sensacional né, pensa agora uma noite fria, netflix e um vinho top pqp</th>\n",
       "      <td>1</td>\n",
       "    </tr>\n",
       "    <tr>\n",
       "      <th>duda ta fazendo brigadeiro pra nós assistir algo na netflix</th>\n",
       "      <td>2</td>\n",
       "    </tr>\n",
       "    <tr>\n",
       "      <th>netflixpt mas porque é que a última temporada de the vampire diaries não está na netflix      🥺</th>\n",
       "      <td>2</td>\n",
       "    </tr>\n",
       "    <tr>\n",
       "      <th>queria assistir netflix antes de ir trabalhar, mas pegou fogo na minha provedora de internet  estou bem contente</th>\n",
       "      <td>1</td>\n",
       "    </tr>\n",
       "    <tr>\n",
       "      <th>queria mesmo era tá dando play no feriadão, mas o único play que eu vou dar vai ser o da minha netflix</th>\n",
       "      <td>1</td>\n",
       "    </tr>\n",
       "    <tr>\n",
       "      <th>a quinta temporada de htgawm chegou no netflix   obg deus 🙌🏻</th>\n",
       "      <td>2</td>\n",
       "    </tr>\n",
       "    <tr>\n",
       "      <th>tudo pela netflix hoje, de lei</th>\n",
       "      <td>1</td>\n",
       "    </tr>\n",
       "    <tr>\n",
       "      <th>bom dia minha mãe me acordou 10h num sábado q eu n tenho prova pra saber a senha da netflix</th>\n",
       "      <td>0</td>\n",
       "    </tr>\n",
       "    <tr>\n",
       "      <th>acordei, tomei café e agora vou sabadar limpando meu quarto enquanto vejo o show da reputation stadium tour na netflix</th>\n",
       "      <td>2</td>\n",
       "    </tr>\n",
       "    <tr>\n",
       "      <th>a nova temporada do drive survive do netflix vai ser demais  f1  netflix  f1naglobo  f1xfox  f1nosportv</th>\n",
       "      <td>0</td>\n",
       "    </tr>\n",
       "    <tr>\n",
       "      <th>minha mae resolvendo derivada e vendo netflix ao mesmo tempo cara</th>\n",
       "      <td>0</td>\n",
       "    </tr>\n",
       "    <tr>\n",
       "      <th>willtuber aconteceu com grey's tinha acabado na netflix ficamos com preguiça de baixar  paramos de ver  voltou agora estou vendo novamente</th>\n",
       "      <td>0</td>\n",
       "    </tr>\n",
       "    <tr>\n",
       "      <th>fãs da anne with an e  netflix cade a divulgação da nova temporada   netflix    https //t co/berypdv1w3</th>\n",
       "      <td>0</td>\n",
       "    </tr>\n",
       "    <tr>\n",
       "      <th>ta chovendo muito e tenho role mas fico em casa na netflix e nas cobertas ou saiu no meio de um toró da poxa</th>\n",
       "      <td>1</td>\n",
       "    </tr>\n",
       "    <tr>\n",
       "      <th>ainda tô usando a netflix da ju kkkkk ai meu paih</th>\n",
       "      <td>0</td>\n",
       "    </tr>\n",
       "    <tr>\n",
       "      <th>agora que eu vi que chegou a 15° temporada de greys na netflix      eu vou chorar meu deus do ceu</th>\n",
       "      <td>1</td>\n",
       "    </tr>\n",
       "    <tr>\n",
       "      <th>eu só queria uma conta da netflix pra eu ver elite 😭</th>\n",
       "      <td>2</td>\n",
       "    </tr>\n",
       "    <tr>\n",
       "      <th>vou tomar café e ficar vendo netflix 😉</th>\n",
       "      <td>1</td>\n",
       "    </tr>\n",
       "    <tr>\n",
       "      <th>netflix produz a 3 temporada de elite logo</th>\n",
       "      <td>0</td>\n",
       "    </tr>\n",
       "    <tr>\n",
       "      <th>bem que a netflix podia colocar rebelde no catálogo né 😅</th>\n",
       "      <td>2</td>\n",
       "    </tr>\n",
       "    <tr>\n",
       "      <th>nova temporada de grey’s anatomy e htgawm na netflix, meu coração não aguenta</th>\n",
       "      <td>1</td>\n",
       "    </tr>\n",
       "  </tbody>\n",
       "</table>\n",
       "<p>300 rows × 1 columns</p>\n",
       "</div>"
      ],
      "text/plain": [
       "                                                    0\n",
       " petitluannes 15 que lançou agora no netflix kk     2\n",
       " mananabranco hahahahah * melhor coisa do sábad...  1\n",
       "eu  gente o ander é obviamente o ativo, nunca q...  0\n",
       "agr posso assistir netflix em paz                   1\n",
       "esse tempinho em pleno sabado de feriado, só qu...  1\n",
       " m_vasconcellus aí não dá pra ficar em casa dor...  1\n",
       "eu quando vou assistir netflix   99,9% procuran...  0\n",
       "lost vai sair do catálogo da netflix mês que ve...  0\n",
       "estou muito feliz porque a netflix voltou com g...  1\n",
       "caraca a pegação da nádia e do guzman foi muito...  1\n",
       "alguém conhece um site seguro pra ver série  qu...  0\n",
       "nova cpmf enquadraria até netflix e uber, diz p...  0\n",
       "nem assisti a 3 temporada de 13rw e acho que ne...  1\n",
       "obg netflix pelos mimos o personagem novo de el...  1\n",
       "já estou no terceiro episódio da 5a temporada d...  0\n",
       " fckjergui tem na netflix  é uma série de entre...  0\n",
       " anygabrielly partiu  ficar em casa, vendo netf...  2\n",
       "tá ficando com alguém  — quem me dera passar o ...  1\n",
       "é, hoje é jogar free fire e assistir netflix        1\n",
       "os espiritos vendo a netflix chegando no cemité...  0\n",
       " exowalks ansioso  eu torcia o nariz pra série,...  0\n",
       "netflix anuncia início das gravações da última ...  0\n",
       "procurando alguém para assinar netflix, alguém ...  1\n",
       "\"ai amiga, ele é psicopata\" (depois de ver you ...  0\n",
       " glowschen olá  por gentileza, entre em contato...  0\n",
       "daqui a pouco é netflix e uma cerva, só eu e ela    0\n",
       "se não era pra eu estar assistindo um netflix a...  0\n",
       "“deixa esse lance de se exercitar com caminhada...  1\n",
       "\"dinheiro não te faz feliz\" roupa nova  kkkkkkk...  1\n",
       " netflix a  globoplay  passou na frente  tanto ...  2\n",
       "...                                                ..\n",
       " mrlnns cara      muito barato ok que eu divido...  0\n",
       "assistindo netflix e tomando café da manhã na c...  1\n",
       "netflix sua fudida se vc renovar 13rw eu te met...  0\n",
       "eu e a jacobi marcando de ver um netflix sem a ...  2\n",
       "meu deus,a netflix lançou novas temporadas das ...  1\n",
       " marlonhero hj eu vou ficar só de netflix pq am...  0\n",
       "só queria entender pq não tá aparecendo elite n...  0\n",
       "a netflix podia fazer uma serie sobre anne fran...  2\n",
       " namichan_zinha kkkkkk boa q pena q minha conta...  2\n",
       " guerreirooou sensacional né, pensa agora uma n...  1\n",
       "duda ta fazendo brigadeiro pra nós assistir alg...  2\n",
       " netflixpt mas porque é que a última temporada ...  2\n",
       "queria assistir netflix antes de ir trabalhar, ...  1\n",
       "queria mesmo era tá dando play no feriadão, mas...  1\n",
       "a quinta temporada de htgawm chegou no netflix ...  2\n",
       "tudo pela netflix hoje, de lei                      1\n",
       "bom dia minha mãe me acordou 10h num sábado q e...  0\n",
       "acordei, tomei café e agora vou sabadar limpand...  2\n",
       "a nova temporada do drive survive do netflix va...  0\n",
       "minha mae resolvendo derivada e vendo netflix a...  0\n",
       " willtuber aconteceu com grey's tinha acabado n...  0\n",
       "fãs da anne with an e  netflix cade a divulgaçã...  0\n",
       "ta chovendo muito e tenho role mas fico em casa...  1\n",
       "ainda tô usando a netflix da ju kkkkk ai meu paih   0\n",
       "agora que eu vi que chegou a 15° temporada de g...  1\n",
       "eu só queria uma conta da netflix pra eu ver el...  2\n",
       "vou tomar café e ficar vendo netflix 😉              1\n",
       " netflix produz a 3 temporada de elite logo         0\n",
       "bem que a netflix podia colocar rebelde no catá...  2\n",
       "nova temporada de grey’s anatomy e htgawm na ne...  1\n",
       "\n",
       "[300 rows x 1 columns]"
      ]
     },
     "execution_count": 243,
     "metadata": {},
     "output_type": "execute_result"
    }
   ],
   "source": [
    "#sorte=class_relevt.merge(pd.DataFrame(data = frase_clean * len(frase_clean), columns = frase_clean.index), left_index=True, right_index=True)\n",
    "wo=frase_indexado['Relevância'].tolist()\n",
    "dicto={}\n",
    "for w in range(0,len(frase_clean)):\n",
    "    dicto[frase_clean[w]]=wo[w]\n",
    "df_wo=pd.DataFrame.from_dict(dicto,orient=\"index\")\n",
    "df_wo\n"
   ]
  },
  {
   "cell_type": "code",
   "execution_count": null,
   "metadata": {},
   "outputs": [],
   "source": []
  },
  {
   "cell_type": "code",
   "execution_count": 244,
   "metadata": {},
   "outputs": [
    {
     "data": {
      "text/html": [
       "<div>\n",
       "<style scoped>\n",
       "    .dataframe tbody tr th:only-of-type {\n",
       "        vertical-align: middle;\n",
       "    }\n",
       "\n",
       "    .dataframe tbody tr th {\n",
       "        vertical-align: top;\n",
       "    }\n",
       "\n",
       "    .dataframe thead th {\n",
       "        text-align: right;\n",
       "    }\n",
       "</style>\n",
       "<table border=\"1\" class=\"dataframe\">\n",
       "  <thead>\n",
       "    <tr style=\"text-align: right;\">\n",
       "      <th></th>\n",
       "      <th>0_determinados_a_mão</th>\n",
       "      <th>0_classificados_pelo_computador</th>\n",
       "    </tr>\n",
       "  </thead>\n",
       "  <tbody>\n",
       "    <tr>\n",
       "      <th>petitluannes 15 que lançou agora no netflix kk</th>\n",
       "      <td>2</td>\n",
       "      <td>1</td>\n",
       "    </tr>\n",
       "    <tr>\n",
       "      <th>mananabranco hahahahah * melhor coisa do sábado cedinho , falar com a ma +fazer café +netflix</th>\n",
       "      <td>1</td>\n",
       "      <td>1</td>\n",
       "    </tr>\n",
       "    <tr>\n",
       "      <th>eu  gente o ander é obviamente o ativo, nunca que o omar come ele netflix  ander senta no omar eu  só acredito vendo eu  *vejo ainda eu  não acredito</th>\n",
       "      <td>0</td>\n",
       "      <td>0</td>\n",
       "    </tr>\n",
       "    <tr>\n",
       "      <th>agr posso assistir netflix em paz</th>\n",
       "      <td>1</td>\n",
       "      <td>0</td>\n",
       "    </tr>\n",
       "    <tr>\n",
       "      <th>esse tempinho em pleno sabado de feriado, só queria ficar deitada vendo netflix</th>\n",
       "      <td>1</td>\n",
       "      <td>1</td>\n",
       "    </tr>\n",
       "    <tr>\n",
       "      <th>m_vasconcellus aí não dá pra ficar em casa dormindo e vendo só netflix</th>\n",
       "      <td>1</td>\n",
       "      <td>0</td>\n",
       "    </tr>\n",
       "    <tr>\n",
       "      <th>eu quando vou assistir netflix   99,9% procurando alguma coisa pra assistir 00,1% assistindo e depois eu termino nem assistindo e durmo</th>\n",
       "      <td>0</td>\n",
       "      <td>0</td>\n",
       "    </tr>\n",
       "    <tr>\n",
       "      <th>lost vai sair do catálogo da netflix mês que vem por causa do disney+ e mais uma vez os gays perdendo</th>\n",
       "      <td>0</td>\n",
       "      <td>0</td>\n",
       "    </tr>\n",
       "    <tr>\n",
       "      <th>estou muito feliz porque a netflix voltou com garotas malvadas, vou assistir mais 1899 vezes</th>\n",
       "      <td>1</td>\n",
       "      <td>0</td>\n",
       "    </tr>\n",
       "    <tr>\n",
       "      <th>caraca a pegação da nádia e do guzman foi muito além de um beijo, netflix sem limite</th>\n",
       "      <td>1</td>\n",
       "      <td>2</td>\n",
       "    </tr>\n",
       "    <tr>\n",
       "      <th>alguém conhece um site seguro pra ver série  quero convencer 2 amigos a assistir himym e não tem na netflix  🥺</th>\n",
       "      <td>0</td>\n",
       "      <td>1</td>\n",
       "    </tr>\n",
       "    <tr>\n",
       "      <th>nova cpmf enquadraria até netflix e uber, diz paulo guedes   https //t co/uwscnmuggz</th>\n",
       "      <td>0</td>\n",
       "      <td>0</td>\n",
       "    </tr>\n",
       "    <tr>\n",
       "      <th>nem assisti a 3 temporada de 13rw e acho que nem vou pode jogar fora netflix</th>\n",
       "      <td>1</td>\n",
       "      <td>1</td>\n",
       "    </tr>\n",
       "    <tr>\n",
       "      <th>obg netflix pelos mimos o personagem novo de elite é um pitel</th>\n",
       "      <td>1</td>\n",
       "      <td>0</td>\n",
       "    </tr>\n",
       "    <tr>\n",
       "      <th>já estou no terceiro episódio da 5a temporada de  htgawm e já acho que a bonnie matou foi o investigador  suspense  netflix</th>\n",
       "      <td>0</td>\n",
       "      <td>2</td>\n",
       "    </tr>\n",
       "    <tr>\n",
       "      <th>fckjergui tem na netflix  é uma série de entrevistas com pessoas maravilhosas  de todas, acho que só não vi duas porque as pessoas não me interessavam  a do obama é a primeira  que homem, mds  que homem</th>\n",
       "      <td>0</td>\n",
       "      <td>0</td>\n",
       "    </tr>\n",
       "    <tr>\n",
       "      <th>anygabrielly partiu  ficar em casa, vendo netflix alkakakakaka</th>\n",
       "      <td>2</td>\n",
       "      <td>0</td>\n",
       "    </tr>\n",
       "    <tr>\n",
       "      <th>tá ficando com alguém  — quem me dera passar o dia vendo netflix c a bandida nessa chuvinha kkk https //t co/uv1fnqhtil</th>\n",
       "      <td>1</td>\n",
       "      <td>0</td>\n",
       "    </tr>\n",
       "    <tr>\n",
       "      <th>é, hoje é jogar free fire e assistir netflix</th>\n",
       "      <td>1</td>\n",
       "      <td>1</td>\n",
       "    </tr>\n",
       "    <tr>\n",
       "      <th>os espiritos vendo a netflix chegando no cemitério pra gravar mais um enterro fake pra uma série teen nova deles https //t co/7bel2nzm5r</th>\n",
       "      <td>0</td>\n",
       "      <td>2</td>\n",
       "    </tr>\n",
       "    <tr>\n",
       "      <th>exowalks ansioso  eu torcia o nariz pra série, achava que era mais uma série besta da netflix nível 13rw, mas estava errado pois é muito boa  elite esmurra a bomba de cocô radiotivo que é 13rw</th>\n",
       "      <td>0</td>\n",
       "      <td>1</td>\n",
       "    </tr>\n",
       "    <tr>\n",
       "      <th>netflix anuncia início das gravações da última temporada de lucifer  https //t co/oqjyzy4ldl   lucifer https //t co/mtmzwcsfba</th>\n",
       "      <td>0</td>\n",
       "      <td>2</td>\n",
       "    </tr>\n",
       "    <tr>\n",
       "      <th>procurando alguém para assinar netflix, alguém queira</th>\n",
       "      <td>1</td>\n",
       "      <td>0</td>\n",
       "    </tr>\n",
       "    <tr>\n",
       "      <th>\"ai amiga, ele é psicopata\" (depois de ver you na netflix) https //t co/yrnbma2qwc</th>\n",
       "      <td>0</td>\n",
       "      <td>1</td>\n",
       "    </tr>\n",
       "    <tr>\n",
       "      <th>glowschen olá  por gentileza, entre em contato com a nossa central de atendimento através do número 0800 892 5063 ou através desse link  https //t co/wupdwe0ldq para investigarmos melhor essa situação, ok  *mp</th>\n",
       "      <td>0</td>\n",
       "      <td>0</td>\n",
       "    </tr>\n",
       "    <tr>\n",
       "      <th>daqui a pouco é netflix e uma cerva, só eu e ela</th>\n",
       "      <td>0</td>\n",
       "      <td>0</td>\n",
       "    </tr>\n",
       "    <tr>\n",
       "      <th>se não era pra eu estar assistindo um netflix agarradinha</th>\n",
       "      <td>0</td>\n",
       "      <td>1</td>\n",
       "    </tr>\n",
       "    <tr>\n",
       "      <th>“deixa esse lance de se exercitar com caminhada pra mais tarde  vai, liga logo a netflix, só um pouquinho ” https //t co/odwzyridyk</th>\n",
       "      <td>1</td>\n",
       "      <td>1</td>\n",
       "    </tr>\n",
       "    <tr>\n",
       "      <th>\"dinheiro não te faz feliz\" roupa nova  kkkkkkkkk tênis novo  kkkkkkkk netflix  kkkkkkkk intercâmbio  kkkkkkkk comida  kkkkkkkk</th>\n",
       "      <td>1</td>\n",
       "      <td>0</td>\n",
       "    </tr>\n",
       "    <tr>\n",
       "      <th>netflix a  globoplay  passou na frente  tanto se pediu, moscou, perdeu https //t co/2w2h81ne5k</th>\n",
       "      <td>2</td>\n",
       "      <td>0</td>\n",
       "    </tr>\n",
       "    <tr>\n",
       "      <th>...</th>\n",
       "      <td>...</td>\n",
       "      <td>...</td>\n",
       "    </tr>\n",
       "    <tr>\n",
       "      <th>mrlnns cara      muito barato ok que eu divido netflix e fica baratinho    mas dps darei una olhada no catálogo da amazon</th>\n",
       "      <td>0</td>\n",
       "      <td>0</td>\n",
       "    </tr>\n",
       "    <tr>\n",
       "      <th>assistindo netflix e tomando café da manhã na cama, se essa não é a vida que pedi eu não sei qual é</th>\n",
       "      <td>1</td>\n",
       "      <td>2</td>\n",
       "    </tr>\n",
       "    <tr>\n",
       "      <th>netflix sua fudida se vc renovar 13rw eu te meto a porrada</th>\n",
       "      <td>0</td>\n",
       "      <td>2</td>\n",
       "    </tr>\n",
       "    <tr>\n",
       "      <th>eu e a jacobi marcando de ver um netflix sem a luana &amp;gt &amp;gt &amp;gt &amp;gt</th>\n",
       "      <td>2</td>\n",
       "      <td>0</td>\n",
       "    </tr>\n",
       "    <tr>\n",
       "      <th>meu deus,a netflix lançou novas temporadas das 2 séries que eu gosto e eu nem sabia 🙀🙀🙀❤️</th>\n",
       "      <td>1</td>\n",
       "      <td>0</td>\n",
       "    </tr>\n",
       "    <tr>\n",
       "      <th>marlonhero hj eu vou ficar só de netflix pq amanhã tenho rolê ķkkk</th>\n",
       "      <td>0</td>\n",
       "      <td>2</td>\n",
       "    </tr>\n",
       "    <tr>\n",
       "      <th>só queria entender pq não tá aparecendo elite na porra da minha netflix</th>\n",
       "      <td>0</td>\n",
       "      <td>0</td>\n",
       "    </tr>\n",
       "    <tr>\n",
       "      <th>a netflix podia fazer uma serie sobre anne frank , seria incrivel</th>\n",
       "      <td>2</td>\n",
       "      <td>0</td>\n",
       "    </tr>\n",
       "    <tr>\n",
       "      <th>namichan_zinha kkkkkk boa q pena q minha conta da netflix foi pro saco</th>\n",
       "      <td>2</td>\n",
       "      <td>1</td>\n",
       "    </tr>\n",
       "    <tr>\n",
       "      <th>guerreirooou sensacional né, pensa agora uma noite fria, netflix e um vinho top pqp</th>\n",
       "      <td>1</td>\n",
       "      <td>1</td>\n",
       "    </tr>\n",
       "    <tr>\n",
       "      <th>duda ta fazendo brigadeiro pra nós assistir algo na netflix</th>\n",
       "      <td>2</td>\n",
       "      <td>0</td>\n",
       "    </tr>\n",
       "    <tr>\n",
       "      <th>netflixpt mas porque é que a última temporada de the vampire diaries não está na netflix      🥺</th>\n",
       "      <td>2</td>\n",
       "      <td>1</td>\n",
       "    </tr>\n",
       "    <tr>\n",
       "      <th>queria assistir netflix antes de ir trabalhar, mas pegou fogo na minha provedora de internet  estou bem contente</th>\n",
       "      <td>1</td>\n",
       "      <td>0</td>\n",
       "    </tr>\n",
       "    <tr>\n",
       "      <th>queria mesmo era tá dando play no feriadão, mas o único play que eu vou dar vai ser o da minha netflix</th>\n",
       "      <td>1</td>\n",
       "      <td>0</td>\n",
       "    </tr>\n",
       "    <tr>\n",
       "      <th>a quinta temporada de htgawm chegou no netflix   obg deus 🙌🏻</th>\n",
       "      <td>2</td>\n",
       "      <td>1</td>\n",
       "    </tr>\n",
       "    <tr>\n",
       "      <th>tudo pela netflix hoje, de lei</th>\n",
       "      <td>1</td>\n",
       "      <td>1</td>\n",
       "    </tr>\n",
       "    <tr>\n",
       "      <th>bom dia minha mãe me acordou 10h num sábado q eu n tenho prova pra saber a senha da netflix</th>\n",
       "      <td>0</td>\n",
       "      <td>0</td>\n",
       "    </tr>\n",
       "    <tr>\n",
       "      <th>acordei, tomei café e agora vou sabadar limpando meu quarto enquanto vejo o show da reputation stadium tour na netflix</th>\n",
       "      <td>2</td>\n",
       "      <td>0</td>\n",
       "    </tr>\n",
       "    <tr>\n",
       "      <th>a nova temporada do drive survive do netflix vai ser demais  f1  netflix  f1naglobo  f1xfox  f1nosportv</th>\n",
       "      <td>0</td>\n",
       "      <td>0</td>\n",
       "    </tr>\n",
       "    <tr>\n",
       "      <th>minha mae resolvendo derivada e vendo netflix ao mesmo tempo cara</th>\n",
       "      <td>0</td>\n",
       "      <td>0</td>\n",
       "    </tr>\n",
       "    <tr>\n",
       "      <th>willtuber aconteceu com grey's tinha acabado na netflix ficamos com preguiça de baixar  paramos de ver  voltou agora estou vendo novamente</th>\n",
       "      <td>0</td>\n",
       "      <td>0</td>\n",
       "    </tr>\n",
       "    <tr>\n",
       "      <th>fãs da anne with an e  netflix cade a divulgação da nova temporada   netflix    https //t co/berypdv1w3</th>\n",
       "      <td>0</td>\n",
       "      <td>0</td>\n",
       "    </tr>\n",
       "    <tr>\n",
       "      <th>ta chovendo muito e tenho role mas fico em casa na netflix e nas cobertas ou saiu no meio de um toró da poxa</th>\n",
       "      <td>1</td>\n",
       "      <td>1</td>\n",
       "    </tr>\n",
       "    <tr>\n",
       "      <th>ainda tô usando a netflix da ju kkkkk ai meu paih</th>\n",
       "      <td>0</td>\n",
       "      <td>0</td>\n",
       "    </tr>\n",
       "    <tr>\n",
       "      <th>agora que eu vi que chegou a 15° temporada de greys na netflix      eu vou chorar meu deus do ceu</th>\n",
       "      <td>1</td>\n",
       "      <td>1</td>\n",
       "    </tr>\n",
       "    <tr>\n",
       "      <th>eu só queria uma conta da netflix pra eu ver elite 😭</th>\n",
       "      <td>2</td>\n",
       "      <td>0</td>\n",
       "    </tr>\n",
       "    <tr>\n",
       "      <th>vou tomar café e ficar vendo netflix 😉</th>\n",
       "      <td>1</td>\n",
       "      <td>0</td>\n",
       "    </tr>\n",
       "    <tr>\n",
       "      <th>netflix produz a 3 temporada de elite logo</th>\n",
       "      <td>0</td>\n",
       "      <td>0</td>\n",
       "    </tr>\n",
       "    <tr>\n",
       "      <th>bem que a netflix podia colocar rebelde no catálogo né 😅</th>\n",
       "      <td>2</td>\n",
       "      <td>0</td>\n",
       "    </tr>\n",
       "    <tr>\n",
       "      <th>nova temporada de grey’s anatomy e htgawm na netflix, meu coração não aguenta</th>\n",
       "      <td>1</td>\n",
       "      <td>1</td>\n",
       "    </tr>\n",
       "  </tbody>\n",
       "</table>\n",
       "<p>300 rows × 2 columns</p>\n",
       "</div>"
      ],
      "text/plain": [
       "                                                    0_determinados_a_mão  \\\n",
       " petitluannes 15 que lançou agora no netflix kk                        2   \n",
       " mananabranco hahahahah * melhor coisa do sábad...                     1   \n",
       "eu  gente o ander é obviamente o ativo, nunca q...                     0   \n",
       "agr posso assistir netflix em paz                                      1   \n",
       "esse tempinho em pleno sabado de feriado, só qu...                     1   \n",
       " m_vasconcellus aí não dá pra ficar em casa dor...                     1   \n",
       "eu quando vou assistir netflix   99,9% procuran...                     0   \n",
       "lost vai sair do catálogo da netflix mês que ve...                     0   \n",
       "estou muito feliz porque a netflix voltou com g...                     1   \n",
       "caraca a pegação da nádia e do guzman foi muito...                     1   \n",
       "alguém conhece um site seguro pra ver série  qu...                     0   \n",
       "nova cpmf enquadraria até netflix e uber, diz p...                     0   \n",
       "nem assisti a 3 temporada de 13rw e acho que ne...                     1   \n",
       "obg netflix pelos mimos o personagem novo de el...                     1   \n",
       "já estou no terceiro episódio da 5a temporada d...                     0   \n",
       " fckjergui tem na netflix  é uma série de entre...                     0   \n",
       " anygabrielly partiu  ficar em casa, vendo netf...                     2   \n",
       "tá ficando com alguém  — quem me dera passar o ...                     1   \n",
       "é, hoje é jogar free fire e assistir netflix                           1   \n",
       "os espiritos vendo a netflix chegando no cemité...                     0   \n",
       " exowalks ansioso  eu torcia o nariz pra série,...                     0   \n",
       "netflix anuncia início das gravações da última ...                     0   \n",
       "procurando alguém para assinar netflix, alguém ...                     1   \n",
       "\"ai amiga, ele é psicopata\" (depois de ver you ...                     0   \n",
       " glowschen olá  por gentileza, entre em contato...                     0   \n",
       "daqui a pouco é netflix e uma cerva, só eu e ela                       0   \n",
       "se não era pra eu estar assistindo um netflix a...                     0   \n",
       "“deixa esse lance de se exercitar com caminhada...                     1   \n",
       "\"dinheiro não te faz feliz\" roupa nova  kkkkkkk...                     1   \n",
       " netflix a  globoplay  passou na frente  tanto ...                     2   \n",
       "...                                                                  ...   \n",
       " mrlnns cara      muito barato ok que eu divido...                     0   \n",
       "assistindo netflix e tomando café da manhã na c...                     1   \n",
       "netflix sua fudida se vc renovar 13rw eu te met...                     0   \n",
       "eu e a jacobi marcando de ver um netflix sem a ...                     2   \n",
       "meu deus,a netflix lançou novas temporadas das ...                     1   \n",
       " marlonhero hj eu vou ficar só de netflix pq am...                     0   \n",
       "só queria entender pq não tá aparecendo elite n...                     0   \n",
       "a netflix podia fazer uma serie sobre anne fran...                     2   \n",
       " namichan_zinha kkkkkk boa q pena q minha conta...                     2   \n",
       " guerreirooou sensacional né, pensa agora uma n...                     1   \n",
       "duda ta fazendo brigadeiro pra nós assistir alg...                     2   \n",
       " netflixpt mas porque é que a última temporada ...                     2   \n",
       "queria assistir netflix antes de ir trabalhar, ...                     1   \n",
       "queria mesmo era tá dando play no feriadão, mas...                     1   \n",
       "a quinta temporada de htgawm chegou no netflix ...                     2   \n",
       "tudo pela netflix hoje, de lei                                         1   \n",
       "bom dia minha mãe me acordou 10h num sábado q e...                     0   \n",
       "acordei, tomei café e agora vou sabadar limpand...                     2   \n",
       "a nova temporada do drive survive do netflix va...                     0   \n",
       "minha mae resolvendo derivada e vendo netflix a...                     0   \n",
       " willtuber aconteceu com grey's tinha acabado n...                     0   \n",
       "fãs da anne with an e  netflix cade a divulgaçã...                     0   \n",
       "ta chovendo muito e tenho role mas fico em casa...                     1   \n",
       "ainda tô usando a netflix da ju kkkkk ai meu paih                      0   \n",
       "agora que eu vi que chegou a 15° temporada de g...                     1   \n",
       "eu só queria uma conta da netflix pra eu ver el...                     2   \n",
       "vou tomar café e ficar vendo netflix 😉                                 1   \n",
       " netflix produz a 3 temporada de elite logo                            0   \n",
       "bem que a netflix podia colocar rebelde no catá...                     2   \n",
       "nova temporada de grey’s anatomy e htgawm na ne...                     1   \n",
       "\n",
       "                                                    0_classificados_pelo_computador  \n",
       " petitluannes 15 que lançou agora no netflix kk                                   1  \n",
       " mananabranco hahahahah * melhor coisa do sábad...                                1  \n",
       "eu  gente o ander é obviamente o ativo, nunca q...                                0  \n",
       "agr posso assistir netflix em paz                                                 0  \n",
       "esse tempinho em pleno sabado de feriado, só qu...                                1  \n",
       " m_vasconcellus aí não dá pra ficar em casa dor...                                0  \n",
       "eu quando vou assistir netflix   99,9% procuran...                                0  \n",
       "lost vai sair do catálogo da netflix mês que ve...                                0  \n",
       "estou muito feliz porque a netflix voltou com g...                                0  \n",
       "caraca a pegação da nádia e do guzman foi muito...                                2  \n",
       "alguém conhece um site seguro pra ver série  qu...                                1  \n",
       "nova cpmf enquadraria até netflix e uber, diz p...                                0  \n",
       "nem assisti a 3 temporada de 13rw e acho que ne...                                1  \n",
       "obg netflix pelos mimos o personagem novo de el...                                0  \n",
       "já estou no terceiro episódio da 5a temporada d...                                2  \n",
       " fckjergui tem na netflix  é uma série de entre...                                0  \n",
       " anygabrielly partiu  ficar em casa, vendo netf...                                0  \n",
       "tá ficando com alguém  — quem me dera passar o ...                                0  \n",
       "é, hoje é jogar free fire e assistir netflix                                      1  \n",
       "os espiritos vendo a netflix chegando no cemité...                                2  \n",
       " exowalks ansioso  eu torcia o nariz pra série,...                                1  \n",
       "netflix anuncia início das gravações da última ...                                2  \n",
       "procurando alguém para assinar netflix, alguém ...                                0  \n",
       "\"ai amiga, ele é psicopata\" (depois de ver you ...                                1  \n",
       " glowschen olá  por gentileza, entre em contato...                                0  \n",
       "daqui a pouco é netflix e uma cerva, só eu e ela                                  0  \n",
       "se não era pra eu estar assistindo um netflix a...                                1  \n",
       "“deixa esse lance de se exercitar com caminhada...                                1  \n",
       "\"dinheiro não te faz feliz\" roupa nova  kkkkkkk...                                0  \n",
       " netflix a  globoplay  passou na frente  tanto ...                                0  \n",
       "...                                                                             ...  \n",
       " mrlnns cara      muito barato ok que eu divido...                                0  \n",
       "assistindo netflix e tomando café da manhã na c...                                2  \n",
       "netflix sua fudida se vc renovar 13rw eu te met...                                2  \n",
       "eu e a jacobi marcando de ver um netflix sem a ...                                0  \n",
       "meu deus,a netflix lançou novas temporadas das ...                                0  \n",
       " marlonhero hj eu vou ficar só de netflix pq am...                                2  \n",
       "só queria entender pq não tá aparecendo elite n...                                0  \n",
       "a netflix podia fazer uma serie sobre anne fran...                                0  \n",
       " namichan_zinha kkkkkk boa q pena q minha conta...                                1  \n",
       " guerreirooou sensacional né, pensa agora uma n...                                1  \n",
       "duda ta fazendo brigadeiro pra nós assistir alg...                                0  \n",
       " netflixpt mas porque é que a última temporada ...                                1  \n",
       "queria assistir netflix antes de ir trabalhar, ...                                0  \n",
       "queria mesmo era tá dando play no feriadão, mas...                                0  \n",
       "a quinta temporada de htgawm chegou no netflix ...                                1  \n",
       "tudo pela netflix hoje, de lei                                                    1  \n",
       "bom dia minha mãe me acordou 10h num sábado q e...                                0  \n",
       "acordei, tomei café e agora vou sabadar limpand...                                0  \n",
       "a nova temporada do drive survive do netflix va...                                0  \n",
       "minha mae resolvendo derivada e vendo netflix a...                                0  \n",
       " willtuber aconteceu com grey's tinha acabado n...                                0  \n",
       "fãs da anne with an e  netflix cade a divulgaçã...                                0  \n",
       "ta chovendo muito e tenho role mas fico em casa...                                1  \n",
       "ainda tô usando a netflix da ju kkkkk ai meu paih                                 0  \n",
       "agora que eu vi que chegou a 15° temporada de g...                                1  \n",
       "eu só queria uma conta da netflix pra eu ver el...                                0  \n",
       "vou tomar café e ficar vendo netflix 😉                                            0  \n",
       " netflix produz a 3 temporada de elite logo                                       0  \n",
       "bem que a netflix podia colocar rebelde no catá...                                0  \n",
       "nova temporada de grey’s anatomy e htgawm na ne...                                1  \n",
       "\n",
       "[300 rows x 2 columns]"
      ]
     },
     "execution_count": 244,
     "metadata": {},
     "output_type": "execute_result"
    }
   ],
   "source": [
    "teste=df_wo.join(class_relevt, how='right', lsuffix='_determinados_a_mão',rsuffix='_classificados_pelo_computador')\n",
    "teste"
   ]
  },
  {
   "cell_type": "code",
   "execution_count": 245,
   "metadata": {},
   "outputs": [
    {
     "name": "stdout",
     "output_type": "stream",
     "text": [
      "41.0\n",
      "Logo, nossos testes tem 41% de acurácia de acordo com nossa classificação\n"
     ]
    }
   ],
   "source": [
    "lista_certos=teste['0_determinados_a_mão'].tolist()\n",
    "lista_testes=teste['0_classificados_pelo_computador'].tolist()\n",
    "vitoria=0\n",
    "verdadeiro_positivo=0\n",
    "verdadeiro_negativo=0\n",
    "falso_positivo=0\n",
    "falso_negativo=0\n",
    "verdadeiro_neutro=0\n",
    "falso_neutro=0\n",
    "for j in range(0,len(teste.index)):\n",
    "    if lista_certos[j]==lista_testes[j]:\n",
    "        vitoria+=1\n",
    "    if lista_certos[j]==1 and lista_testes[j]==1:\n",
    "        verdadeiro_positivo+=1\n",
    "    elif lista_certos[j]==1 and lista_testes[j]!=1:\n",
    "        verdadeiro_negativo+=1\n",
    "    elif lista_certos[j]==0 and lista_testes[j]==0:\n",
    "        falso_positivo+=1\n",
    "    elif lista_certos[j]==0 and lista_testes[j]!=0:\n",
    "        falso_negativo+=1\n",
    "    elif lista_certos[j]==2 and lista_testes[j]==2:\n",
    "        verdadeiro_neutro+=1\n",
    "    elif lista_certos[j]==2 and lista_testes[j]!=2:\n",
    "        falso_neutro+=1\n",
    "print((vitoria/len(lista_certos))*100)\n",
    "print('Logo, nossos testes tem 41% de acurácia de acordo com nossa classificação')"
   ]
  },
  {
   "cell_type": "code",
   "execution_count": 246,
   "metadata": {},
   "outputs": [
    {
     "data": {
      "application/vnd.plotly.v1+json": {
       "config": {
        "plotlyServerURL": "https://plot.ly"
       },
       "data": [
        {
         "labels": [
          "Verdadeiro positivo",
          "Verdadeiro negativo",
          "Falso positivo",
          "Falso negativo",
          "Verdadeiro neutro",
          "Falso neutro"
         ],
         "type": "pie",
         "values": [
          34,
          67,
          84,
          50,
          5,
          60
         ]
        }
       ],
       "layout": {
        "template": {
         "data": {
          "bar": [
           {
            "error_x": {
             "color": "#2a3f5f"
            },
            "error_y": {
             "color": "#2a3f5f"
            },
            "marker": {
             "line": {
              "color": "#E5ECF6",
              "width": 0.5
             }
            },
            "type": "bar"
           }
          ],
          "barpolar": [
           {
            "marker": {
             "line": {
              "color": "#E5ECF6",
              "width": 0.5
             }
            },
            "type": "barpolar"
           }
          ],
          "carpet": [
           {
            "aaxis": {
             "endlinecolor": "#2a3f5f",
             "gridcolor": "white",
             "linecolor": "white",
             "minorgridcolor": "white",
             "startlinecolor": "#2a3f5f"
            },
            "baxis": {
             "endlinecolor": "#2a3f5f",
             "gridcolor": "white",
             "linecolor": "white",
             "minorgridcolor": "white",
             "startlinecolor": "#2a3f5f"
            },
            "type": "carpet"
           }
          ],
          "choropleth": [
           {
            "colorbar": {
             "outlinewidth": 0,
             "ticks": ""
            },
            "type": "choropleth"
           }
          ],
          "contour": [
           {
            "colorbar": {
             "outlinewidth": 0,
             "ticks": ""
            },
            "colorscale": [
             [
              0,
              "#0d0887"
             ],
             [
              0.1111111111111111,
              "#46039f"
             ],
             [
              0.2222222222222222,
              "#7201a8"
             ],
             [
              0.3333333333333333,
              "#9c179e"
             ],
             [
              0.4444444444444444,
              "#bd3786"
             ],
             [
              0.5555555555555556,
              "#d8576b"
             ],
             [
              0.6666666666666666,
              "#ed7953"
             ],
             [
              0.7777777777777778,
              "#fb9f3a"
             ],
             [
              0.8888888888888888,
              "#fdca26"
             ],
             [
              1,
              "#f0f921"
             ]
            ],
            "type": "contour"
           }
          ],
          "contourcarpet": [
           {
            "colorbar": {
             "outlinewidth": 0,
             "ticks": ""
            },
            "type": "contourcarpet"
           }
          ],
          "heatmap": [
           {
            "colorbar": {
             "outlinewidth": 0,
             "ticks": ""
            },
            "colorscale": [
             [
              0,
              "#0d0887"
             ],
             [
              0.1111111111111111,
              "#46039f"
             ],
             [
              0.2222222222222222,
              "#7201a8"
             ],
             [
              0.3333333333333333,
              "#9c179e"
             ],
             [
              0.4444444444444444,
              "#bd3786"
             ],
             [
              0.5555555555555556,
              "#d8576b"
             ],
             [
              0.6666666666666666,
              "#ed7953"
             ],
             [
              0.7777777777777778,
              "#fb9f3a"
             ],
             [
              0.8888888888888888,
              "#fdca26"
             ],
             [
              1,
              "#f0f921"
             ]
            ],
            "type": "heatmap"
           }
          ],
          "heatmapgl": [
           {
            "colorbar": {
             "outlinewidth": 0,
             "ticks": ""
            },
            "colorscale": [
             [
              0,
              "#0d0887"
             ],
             [
              0.1111111111111111,
              "#46039f"
             ],
             [
              0.2222222222222222,
              "#7201a8"
             ],
             [
              0.3333333333333333,
              "#9c179e"
             ],
             [
              0.4444444444444444,
              "#bd3786"
             ],
             [
              0.5555555555555556,
              "#d8576b"
             ],
             [
              0.6666666666666666,
              "#ed7953"
             ],
             [
              0.7777777777777778,
              "#fb9f3a"
             ],
             [
              0.8888888888888888,
              "#fdca26"
             ],
             [
              1,
              "#f0f921"
             ]
            ],
            "type": "heatmapgl"
           }
          ],
          "histogram": [
           {
            "marker": {
             "colorbar": {
              "outlinewidth": 0,
              "ticks": ""
             }
            },
            "type": "histogram"
           }
          ],
          "histogram2d": [
           {
            "colorbar": {
             "outlinewidth": 0,
             "ticks": ""
            },
            "colorscale": [
             [
              0,
              "#0d0887"
             ],
             [
              0.1111111111111111,
              "#46039f"
             ],
             [
              0.2222222222222222,
              "#7201a8"
             ],
             [
              0.3333333333333333,
              "#9c179e"
             ],
             [
              0.4444444444444444,
              "#bd3786"
             ],
             [
              0.5555555555555556,
              "#d8576b"
             ],
             [
              0.6666666666666666,
              "#ed7953"
             ],
             [
              0.7777777777777778,
              "#fb9f3a"
             ],
             [
              0.8888888888888888,
              "#fdca26"
             ],
             [
              1,
              "#f0f921"
             ]
            ],
            "type": "histogram2d"
           }
          ],
          "histogram2dcontour": [
           {
            "colorbar": {
             "outlinewidth": 0,
             "ticks": ""
            },
            "colorscale": [
             [
              0,
              "#0d0887"
             ],
             [
              0.1111111111111111,
              "#46039f"
             ],
             [
              0.2222222222222222,
              "#7201a8"
             ],
             [
              0.3333333333333333,
              "#9c179e"
             ],
             [
              0.4444444444444444,
              "#bd3786"
             ],
             [
              0.5555555555555556,
              "#d8576b"
             ],
             [
              0.6666666666666666,
              "#ed7953"
             ],
             [
              0.7777777777777778,
              "#fb9f3a"
             ],
             [
              0.8888888888888888,
              "#fdca26"
             ],
             [
              1,
              "#f0f921"
             ]
            ],
            "type": "histogram2dcontour"
           }
          ],
          "mesh3d": [
           {
            "colorbar": {
             "outlinewidth": 0,
             "ticks": ""
            },
            "type": "mesh3d"
           }
          ],
          "parcoords": [
           {
            "line": {
             "colorbar": {
              "outlinewidth": 0,
              "ticks": ""
             }
            },
            "type": "parcoords"
           }
          ],
          "scatter": [
           {
            "marker": {
             "colorbar": {
              "outlinewidth": 0,
              "ticks": ""
             }
            },
            "type": "scatter"
           }
          ],
          "scatter3d": [
           {
            "line": {
             "colorbar": {
              "outlinewidth": 0,
              "ticks": ""
             }
            },
            "marker": {
             "colorbar": {
              "outlinewidth": 0,
              "ticks": ""
             }
            },
            "type": "scatter3d"
           }
          ],
          "scattercarpet": [
           {
            "marker": {
             "colorbar": {
              "outlinewidth": 0,
              "ticks": ""
             }
            },
            "type": "scattercarpet"
           }
          ],
          "scattergeo": [
           {
            "marker": {
             "colorbar": {
              "outlinewidth": 0,
              "ticks": ""
             }
            },
            "type": "scattergeo"
           }
          ],
          "scattergl": [
           {
            "marker": {
             "colorbar": {
              "outlinewidth": 0,
              "ticks": ""
             }
            },
            "type": "scattergl"
           }
          ],
          "scattermapbox": [
           {
            "marker": {
             "colorbar": {
              "outlinewidth": 0,
              "ticks": ""
             }
            },
            "type": "scattermapbox"
           }
          ],
          "scatterpolar": [
           {
            "marker": {
             "colorbar": {
              "outlinewidth": 0,
              "ticks": ""
             }
            },
            "type": "scatterpolar"
           }
          ],
          "scatterpolargl": [
           {
            "marker": {
             "colorbar": {
              "outlinewidth": 0,
              "ticks": ""
             }
            },
            "type": "scatterpolargl"
           }
          ],
          "scatterternary": [
           {
            "marker": {
             "colorbar": {
              "outlinewidth": 0,
              "ticks": ""
             }
            },
            "type": "scatterternary"
           }
          ],
          "surface": [
           {
            "colorbar": {
             "outlinewidth": 0,
             "ticks": ""
            },
            "colorscale": [
             [
              0,
              "#0d0887"
             ],
             [
              0.1111111111111111,
              "#46039f"
             ],
             [
              0.2222222222222222,
              "#7201a8"
             ],
             [
              0.3333333333333333,
              "#9c179e"
             ],
             [
              0.4444444444444444,
              "#bd3786"
             ],
             [
              0.5555555555555556,
              "#d8576b"
             ],
             [
              0.6666666666666666,
              "#ed7953"
             ],
             [
              0.7777777777777778,
              "#fb9f3a"
             ],
             [
              0.8888888888888888,
              "#fdca26"
             ],
             [
              1,
              "#f0f921"
             ]
            ],
            "type": "surface"
           }
          ],
          "table": [
           {
            "cells": {
             "fill": {
              "color": "#EBF0F8"
             },
             "line": {
              "color": "white"
             }
            },
            "header": {
             "fill": {
              "color": "#C8D4E3"
             },
             "line": {
              "color": "white"
             }
            },
            "type": "table"
           }
          ]
         },
         "layout": {
          "annotationdefaults": {
           "arrowcolor": "#2a3f5f",
           "arrowhead": 0,
           "arrowwidth": 1
          },
          "colorscale": {
           "diverging": [
            [
             0,
             "#8e0152"
            ],
            [
             0.1,
             "#c51b7d"
            ],
            [
             0.2,
             "#de77ae"
            ],
            [
             0.3,
             "#f1b6da"
            ],
            [
             0.4,
             "#fde0ef"
            ],
            [
             0.5,
             "#f7f7f7"
            ],
            [
             0.6,
             "#e6f5d0"
            ],
            [
             0.7,
             "#b8e186"
            ],
            [
             0.8,
             "#7fbc41"
            ],
            [
             0.9,
             "#4d9221"
            ],
            [
             1,
             "#276419"
            ]
           ],
           "sequential": [
            [
             0,
             "#0d0887"
            ],
            [
             0.1111111111111111,
             "#46039f"
            ],
            [
             0.2222222222222222,
             "#7201a8"
            ],
            [
             0.3333333333333333,
             "#9c179e"
            ],
            [
             0.4444444444444444,
             "#bd3786"
            ],
            [
             0.5555555555555556,
             "#d8576b"
            ],
            [
             0.6666666666666666,
             "#ed7953"
            ],
            [
             0.7777777777777778,
             "#fb9f3a"
            ],
            [
             0.8888888888888888,
             "#fdca26"
            ],
            [
             1,
             "#f0f921"
            ]
           ],
           "sequentialminus": [
            [
             0,
             "#0d0887"
            ],
            [
             0.1111111111111111,
             "#46039f"
            ],
            [
             0.2222222222222222,
             "#7201a8"
            ],
            [
             0.3333333333333333,
             "#9c179e"
            ],
            [
             0.4444444444444444,
             "#bd3786"
            ],
            [
             0.5555555555555556,
             "#d8576b"
            ],
            [
             0.6666666666666666,
             "#ed7953"
            ],
            [
             0.7777777777777778,
             "#fb9f3a"
            ],
            [
             0.8888888888888888,
             "#fdca26"
            ],
            [
             1,
             "#f0f921"
            ]
           ]
          },
          "colorway": [
           "#636efa",
           "#EF553B",
           "#00cc96",
           "#ab63fa",
           "#FFA15A",
           "#19d3f3",
           "#FF6692",
           "#B6E880",
           "#FF97FF",
           "#FECB52"
          ],
          "font": {
           "color": "#2a3f5f"
          },
          "geo": {
           "bgcolor": "white",
           "lakecolor": "white",
           "landcolor": "#E5ECF6",
           "showlakes": true,
           "showland": true,
           "subunitcolor": "white"
          },
          "hoverlabel": {
           "align": "left"
          },
          "hovermode": "closest",
          "mapbox": {
           "style": "light"
          },
          "paper_bgcolor": "white",
          "plot_bgcolor": "#E5ECF6",
          "polar": {
           "angularaxis": {
            "gridcolor": "white",
            "linecolor": "white",
            "ticks": ""
           },
           "bgcolor": "#E5ECF6",
           "radialaxis": {
            "gridcolor": "white",
            "linecolor": "white",
            "ticks": ""
           }
          },
          "scene": {
           "xaxis": {
            "backgroundcolor": "#E5ECF6",
            "gridcolor": "white",
            "gridwidth": 2,
            "linecolor": "white",
            "showbackground": true,
            "ticks": "",
            "zerolinecolor": "white"
           },
           "yaxis": {
            "backgroundcolor": "#E5ECF6",
            "gridcolor": "white",
            "gridwidth": 2,
            "linecolor": "white",
            "showbackground": true,
            "ticks": "",
            "zerolinecolor": "white"
           },
           "zaxis": {
            "backgroundcolor": "#E5ECF6",
            "gridcolor": "white",
            "gridwidth": 2,
            "linecolor": "white",
            "showbackground": true,
            "ticks": "",
            "zerolinecolor": "white"
           }
          },
          "shapedefaults": {
           "line": {
            "color": "#2a3f5f"
           }
          },
          "ternary": {
           "aaxis": {
            "gridcolor": "white",
            "linecolor": "white",
            "ticks": ""
           },
           "baxis": {
            "gridcolor": "white",
            "linecolor": "white",
            "ticks": ""
           },
           "bgcolor": "#E5ECF6",
           "caxis": {
            "gridcolor": "white",
            "linecolor": "white",
            "ticks": ""
           }
          },
          "title": {
           "x": 0.05
          },
          "xaxis": {
           "automargin": true,
           "gridcolor": "white",
           "linecolor": "white",
           "ticks": "",
           "zerolinecolor": "white",
           "zerolinewidth": 2
          },
          "yaxis": {
           "automargin": true,
           "gridcolor": "white",
           "linecolor": "white",
           "ticks": "",
           "zerolinecolor": "white",
           "zerolinewidth": 2
          }
         }
        }
       }
      },
      "text/html": [
       "<div>\n",
       "        \n",
       "        \n",
       "            <div id=\"9b78930f-5aaa-4112-aeff-e563d8873927\" class=\"plotly-graph-div\" style=\"height:525px; width:100%;\"></div>\n",
       "            <script type=\"text/javascript\">\n",
       "                require([\"plotly\"], function(Plotly) {\n",
       "                    window.PLOTLYENV=window.PLOTLYENV || {};\n",
       "                    \n",
       "                if (document.getElementById(\"9b78930f-5aaa-4112-aeff-e563d8873927\")) {\n",
       "                    Plotly.newPlot(\n",
       "                        '9b78930f-5aaa-4112-aeff-e563d8873927',\n",
       "                        [{\"labels\": [\"Verdadeiro positivo\", \"Verdadeiro negativo\", \"Falso positivo\", \"Falso negativo\", \"Verdadeiro neutro\", \"Falso neutro\"], \"type\": \"pie\", \"values\": [34, 67, 84, 50, 5, 60]}],\n",
       "                        {\"template\": {\"data\": {\"bar\": [{\"error_x\": {\"color\": \"#2a3f5f\"}, \"error_y\": {\"color\": \"#2a3f5f\"}, \"marker\": {\"line\": {\"color\": \"#E5ECF6\", \"width\": 0.5}}, \"type\": \"bar\"}], \"barpolar\": [{\"marker\": {\"line\": {\"color\": \"#E5ECF6\", \"width\": 0.5}}, \"type\": \"barpolar\"}], \"carpet\": [{\"aaxis\": {\"endlinecolor\": \"#2a3f5f\", \"gridcolor\": \"white\", \"linecolor\": \"white\", \"minorgridcolor\": \"white\", \"startlinecolor\": \"#2a3f5f\"}, \"baxis\": {\"endlinecolor\": \"#2a3f5f\", \"gridcolor\": \"white\", \"linecolor\": \"white\", \"minorgridcolor\": \"white\", \"startlinecolor\": \"#2a3f5f\"}, \"type\": \"carpet\"}], \"choropleth\": [{\"colorbar\": {\"outlinewidth\": 0, \"ticks\": \"\"}, \"type\": \"choropleth\"}], \"contour\": [{\"colorbar\": {\"outlinewidth\": 0, \"ticks\": \"\"}, \"colorscale\": [[0.0, \"#0d0887\"], [0.1111111111111111, \"#46039f\"], [0.2222222222222222, \"#7201a8\"], [0.3333333333333333, \"#9c179e\"], [0.4444444444444444, \"#bd3786\"], [0.5555555555555556, \"#d8576b\"], [0.6666666666666666, \"#ed7953\"], [0.7777777777777778, \"#fb9f3a\"], [0.8888888888888888, \"#fdca26\"], [1.0, \"#f0f921\"]], \"type\": \"contour\"}], \"contourcarpet\": [{\"colorbar\": {\"outlinewidth\": 0, \"ticks\": \"\"}, \"type\": \"contourcarpet\"}], \"heatmap\": [{\"colorbar\": {\"outlinewidth\": 0, \"ticks\": \"\"}, \"colorscale\": [[0.0, \"#0d0887\"], [0.1111111111111111, \"#46039f\"], [0.2222222222222222, \"#7201a8\"], [0.3333333333333333, \"#9c179e\"], [0.4444444444444444, \"#bd3786\"], [0.5555555555555556, \"#d8576b\"], [0.6666666666666666, \"#ed7953\"], [0.7777777777777778, \"#fb9f3a\"], [0.8888888888888888, \"#fdca26\"], [1.0, \"#f0f921\"]], \"type\": \"heatmap\"}], \"heatmapgl\": [{\"colorbar\": {\"outlinewidth\": 0, \"ticks\": \"\"}, \"colorscale\": [[0.0, \"#0d0887\"], [0.1111111111111111, \"#46039f\"], [0.2222222222222222, \"#7201a8\"], [0.3333333333333333, \"#9c179e\"], [0.4444444444444444, \"#bd3786\"], [0.5555555555555556, \"#d8576b\"], [0.6666666666666666, \"#ed7953\"], [0.7777777777777778, \"#fb9f3a\"], [0.8888888888888888, \"#fdca26\"], [1.0, \"#f0f921\"]], \"type\": \"heatmapgl\"}], \"histogram\": [{\"marker\": {\"colorbar\": {\"outlinewidth\": 0, \"ticks\": \"\"}}, \"type\": \"histogram\"}], \"histogram2d\": [{\"colorbar\": {\"outlinewidth\": 0, \"ticks\": \"\"}, \"colorscale\": [[0.0, \"#0d0887\"], [0.1111111111111111, \"#46039f\"], [0.2222222222222222, \"#7201a8\"], [0.3333333333333333, \"#9c179e\"], [0.4444444444444444, \"#bd3786\"], [0.5555555555555556, \"#d8576b\"], [0.6666666666666666, \"#ed7953\"], [0.7777777777777778, \"#fb9f3a\"], [0.8888888888888888, \"#fdca26\"], [1.0, \"#f0f921\"]], \"type\": \"histogram2d\"}], \"histogram2dcontour\": [{\"colorbar\": {\"outlinewidth\": 0, \"ticks\": \"\"}, \"colorscale\": [[0.0, \"#0d0887\"], [0.1111111111111111, \"#46039f\"], [0.2222222222222222, \"#7201a8\"], [0.3333333333333333, \"#9c179e\"], [0.4444444444444444, \"#bd3786\"], [0.5555555555555556, \"#d8576b\"], [0.6666666666666666, \"#ed7953\"], [0.7777777777777778, \"#fb9f3a\"], [0.8888888888888888, \"#fdca26\"], [1.0, \"#f0f921\"]], \"type\": \"histogram2dcontour\"}], \"mesh3d\": [{\"colorbar\": {\"outlinewidth\": 0, \"ticks\": \"\"}, \"type\": \"mesh3d\"}], \"parcoords\": [{\"line\": {\"colorbar\": {\"outlinewidth\": 0, \"ticks\": \"\"}}, \"type\": \"parcoords\"}], \"scatter\": [{\"marker\": {\"colorbar\": {\"outlinewidth\": 0, \"ticks\": \"\"}}, \"type\": \"scatter\"}], \"scatter3d\": [{\"line\": {\"colorbar\": {\"outlinewidth\": 0, \"ticks\": \"\"}}, \"marker\": {\"colorbar\": {\"outlinewidth\": 0, \"ticks\": \"\"}}, \"type\": \"scatter3d\"}], \"scattercarpet\": [{\"marker\": {\"colorbar\": {\"outlinewidth\": 0, \"ticks\": \"\"}}, \"type\": \"scattercarpet\"}], \"scattergeo\": [{\"marker\": {\"colorbar\": {\"outlinewidth\": 0, \"ticks\": \"\"}}, \"type\": \"scattergeo\"}], \"scattergl\": [{\"marker\": {\"colorbar\": {\"outlinewidth\": 0, \"ticks\": \"\"}}, \"type\": \"scattergl\"}], \"scattermapbox\": [{\"marker\": {\"colorbar\": {\"outlinewidth\": 0, \"ticks\": \"\"}}, \"type\": \"scattermapbox\"}], \"scatterpolar\": [{\"marker\": {\"colorbar\": {\"outlinewidth\": 0, \"ticks\": \"\"}}, \"type\": \"scatterpolar\"}], \"scatterpolargl\": [{\"marker\": {\"colorbar\": {\"outlinewidth\": 0, \"ticks\": \"\"}}, \"type\": \"scatterpolargl\"}], \"scatterternary\": [{\"marker\": {\"colorbar\": {\"outlinewidth\": 0, \"ticks\": \"\"}}, \"type\": \"scatterternary\"}], \"surface\": [{\"colorbar\": {\"outlinewidth\": 0, \"ticks\": \"\"}, \"colorscale\": [[0.0, \"#0d0887\"], [0.1111111111111111, \"#46039f\"], [0.2222222222222222, \"#7201a8\"], [0.3333333333333333, \"#9c179e\"], [0.4444444444444444, \"#bd3786\"], [0.5555555555555556, \"#d8576b\"], [0.6666666666666666, \"#ed7953\"], [0.7777777777777778, \"#fb9f3a\"], [0.8888888888888888, \"#fdca26\"], [1.0, \"#f0f921\"]], \"type\": \"surface\"}], \"table\": [{\"cells\": {\"fill\": {\"color\": \"#EBF0F8\"}, \"line\": {\"color\": \"white\"}}, \"header\": {\"fill\": {\"color\": \"#C8D4E3\"}, \"line\": {\"color\": \"white\"}}, \"type\": \"table\"}]}, \"layout\": {\"annotationdefaults\": {\"arrowcolor\": \"#2a3f5f\", \"arrowhead\": 0, \"arrowwidth\": 1}, \"colorscale\": {\"diverging\": [[0, \"#8e0152\"], [0.1, \"#c51b7d\"], [0.2, \"#de77ae\"], [0.3, \"#f1b6da\"], [0.4, \"#fde0ef\"], [0.5, \"#f7f7f7\"], [0.6, \"#e6f5d0\"], [0.7, \"#b8e186\"], [0.8, \"#7fbc41\"], [0.9, \"#4d9221\"], [1, \"#276419\"]], \"sequential\": [[0.0, \"#0d0887\"], [0.1111111111111111, \"#46039f\"], [0.2222222222222222, \"#7201a8\"], [0.3333333333333333, \"#9c179e\"], [0.4444444444444444, \"#bd3786\"], [0.5555555555555556, \"#d8576b\"], [0.6666666666666666, \"#ed7953\"], [0.7777777777777778, \"#fb9f3a\"], [0.8888888888888888, \"#fdca26\"], [1.0, \"#f0f921\"]], \"sequentialminus\": [[0.0, \"#0d0887\"], [0.1111111111111111, \"#46039f\"], [0.2222222222222222, \"#7201a8\"], [0.3333333333333333, \"#9c179e\"], [0.4444444444444444, \"#bd3786\"], [0.5555555555555556, \"#d8576b\"], [0.6666666666666666, \"#ed7953\"], [0.7777777777777778, \"#fb9f3a\"], [0.8888888888888888, \"#fdca26\"], [1.0, \"#f0f921\"]]}, \"colorway\": [\"#636efa\", \"#EF553B\", \"#00cc96\", \"#ab63fa\", \"#FFA15A\", \"#19d3f3\", \"#FF6692\", \"#B6E880\", \"#FF97FF\", \"#FECB52\"], \"font\": {\"color\": \"#2a3f5f\"}, \"geo\": {\"bgcolor\": \"white\", \"lakecolor\": \"white\", \"landcolor\": \"#E5ECF6\", \"showlakes\": true, \"showland\": true, \"subunitcolor\": \"white\"}, \"hoverlabel\": {\"align\": \"left\"}, \"hovermode\": \"closest\", \"mapbox\": {\"style\": \"light\"}, \"paper_bgcolor\": \"white\", \"plot_bgcolor\": \"#E5ECF6\", \"polar\": {\"angularaxis\": {\"gridcolor\": \"white\", \"linecolor\": \"white\", \"ticks\": \"\"}, \"bgcolor\": \"#E5ECF6\", \"radialaxis\": {\"gridcolor\": \"white\", \"linecolor\": \"white\", \"ticks\": \"\"}}, \"scene\": {\"xaxis\": {\"backgroundcolor\": \"#E5ECF6\", \"gridcolor\": \"white\", \"gridwidth\": 2, \"linecolor\": \"white\", \"showbackground\": true, \"ticks\": \"\", \"zerolinecolor\": \"white\"}, \"yaxis\": {\"backgroundcolor\": \"#E5ECF6\", \"gridcolor\": \"white\", \"gridwidth\": 2, \"linecolor\": \"white\", \"showbackground\": true, \"ticks\": \"\", \"zerolinecolor\": \"white\"}, \"zaxis\": {\"backgroundcolor\": \"#E5ECF6\", \"gridcolor\": \"white\", \"gridwidth\": 2, \"linecolor\": \"white\", \"showbackground\": true, \"ticks\": \"\", \"zerolinecolor\": \"white\"}}, \"shapedefaults\": {\"line\": {\"color\": \"#2a3f5f\"}}, \"ternary\": {\"aaxis\": {\"gridcolor\": \"white\", \"linecolor\": \"white\", \"ticks\": \"\"}, \"baxis\": {\"gridcolor\": \"white\", \"linecolor\": \"white\", \"ticks\": \"\"}, \"bgcolor\": \"#E5ECF6\", \"caxis\": {\"gridcolor\": \"white\", \"linecolor\": \"white\", \"ticks\": \"\"}}, \"title\": {\"x\": 0.05}, \"xaxis\": {\"automargin\": true, \"gridcolor\": \"white\", \"linecolor\": \"white\", \"ticks\": \"\", \"zerolinecolor\": \"white\", \"zerolinewidth\": 2}, \"yaxis\": {\"automargin\": true, \"gridcolor\": \"white\", \"linecolor\": \"white\", \"ticks\": \"\", \"zerolinecolor\": \"white\", \"zerolinewidth\": 2}}}},\n",
       "                        {\"responsive\": true}\n",
       "                    ).then(function(){\n",
       "                            \n",
       "var gd = document.getElementById('9b78930f-5aaa-4112-aeff-e563d8873927');\n",
       "var x = new MutationObserver(function (mutations, observer) {{\n",
       "        var display = window.getComputedStyle(gd).display;\n",
       "        if (!display || display === 'none') {{\n",
       "            console.log([gd, 'removed!']);\n",
       "            Plotly.purge(gd);\n",
       "            observer.disconnect();\n",
       "        }}\n",
       "}});\n",
       "\n",
       "// Listen for the removal of the full notebook cells\n",
       "var notebookContainer = gd.closest('#notebook-container');\n",
       "if (notebookContainer) {{\n",
       "    x.observe(notebookContainer, {childList: true});\n",
       "}}\n",
       "\n",
       "// Listen for the clearing of the current output cell\n",
       "var outputEl = gd.closest('.output');\n",
       "if (outputEl) {{\n",
       "    x.observe(outputEl, {childList: true});\n",
       "}}\n",
       "\n",
       "                        })\n",
       "                };\n",
       "                });\n",
       "            </script>\n",
       "        </div>"
      ]
     },
     "metadata": {},
     "output_type": "display_data"
    }
   ],
   "source": [
    "import plotly.graph_objects as go\n",
    "\n",
    "labels = ['Verdadeiro positivo','Verdadeiro negativo','Falso positivo','Falso negativo','Verdadeiro neutro','Falso neutro']\n",
    "values = [verdadeiro_positivo, verdadeiro_negativo, falso_positivo, falso_negativo, verdadeiro_neutro, falso_neutro]\n",
    "\n",
    "fig = go.Figure(data=[go.Pie(labels=labels, values=values)])\n",
    "fig.show()"
   ]
  },
  {
   "cell_type": "code",
   "execution_count": 247,
   "metadata": {},
   "outputs": [],
   "source": [
    "lista_neutros_testados=0\n",
    "lista_relevantes_testados=0\n",
    "lista_irrelevantes_testados=0\n",
    "for j in lista_testes:\n",
    "    if j==0:\n",
    "        lista_irrelevantes_testados+=1\n",
    "    elif j==1:\n",
    "        lista_relevantes_testados+=1\n",
    "    else:\n",
    "        lista_neutros_testados+=1"
   ]
  },
  {
   "cell_type": "code",
   "execution_count": 248,
   "metadata": {},
   "outputs": [
    {
     "data": {
      "application/vnd.plotly.v1+json": {
       "config": {
        "plotlyServerURL": "https://plot.ly"
       },
       "data": [
        {
         "name": "Irrelevantes",
         "type": "bar",
         "xaxis": "x",
         "y": [
          186
         ],
         "yaxis": "y"
        },
        {
         "name": "Relevantes",
         "type": "bar",
         "xaxis": "x",
         "y": [
          85
         ],
         "yaxis": "y"
        },
        {
         "name": "Neutros",
         "type": "bar",
         "xaxis": "x",
         "y": [
          29
         ],
         "yaxis": "y"
        }
       ],
       "layout": {
        "scene": {
         "domain": {
          "x": [
           0.55,
           1
          ],
          "y": [
           0,
           1
          ]
         }
        },
        "showlegend": true,
        "template": {
         "data": {
          "bar": [
           {
            "error_x": {
             "color": "#2a3f5f"
            },
            "error_y": {
             "color": "#2a3f5f"
            },
            "marker": {
             "line": {
              "color": "#E5ECF6",
              "width": 0.5
             }
            },
            "type": "bar"
           }
          ],
          "barpolar": [
           {
            "marker": {
             "line": {
              "color": "#E5ECF6",
              "width": 0.5
             }
            },
            "type": "barpolar"
           }
          ],
          "carpet": [
           {
            "aaxis": {
             "endlinecolor": "#2a3f5f",
             "gridcolor": "white",
             "linecolor": "white",
             "minorgridcolor": "white",
             "startlinecolor": "#2a3f5f"
            },
            "baxis": {
             "endlinecolor": "#2a3f5f",
             "gridcolor": "white",
             "linecolor": "white",
             "minorgridcolor": "white",
             "startlinecolor": "#2a3f5f"
            },
            "type": "carpet"
           }
          ],
          "choropleth": [
           {
            "colorbar": {
             "outlinewidth": 0,
             "ticks": ""
            },
            "type": "choropleth"
           }
          ],
          "contour": [
           {
            "colorbar": {
             "outlinewidth": 0,
             "ticks": ""
            },
            "colorscale": [
             [
              0,
              "#0d0887"
             ],
             [
              0.1111111111111111,
              "#46039f"
             ],
             [
              0.2222222222222222,
              "#7201a8"
             ],
             [
              0.3333333333333333,
              "#9c179e"
             ],
             [
              0.4444444444444444,
              "#bd3786"
             ],
             [
              0.5555555555555556,
              "#d8576b"
             ],
             [
              0.6666666666666666,
              "#ed7953"
             ],
             [
              0.7777777777777778,
              "#fb9f3a"
             ],
             [
              0.8888888888888888,
              "#fdca26"
             ],
             [
              1,
              "#f0f921"
             ]
            ],
            "type": "contour"
           }
          ],
          "contourcarpet": [
           {
            "colorbar": {
             "outlinewidth": 0,
             "ticks": ""
            },
            "type": "contourcarpet"
           }
          ],
          "heatmap": [
           {
            "colorbar": {
             "outlinewidth": 0,
             "ticks": ""
            },
            "colorscale": [
             [
              0,
              "#0d0887"
             ],
             [
              0.1111111111111111,
              "#46039f"
             ],
             [
              0.2222222222222222,
              "#7201a8"
             ],
             [
              0.3333333333333333,
              "#9c179e"
             ],
             [
              0.4444444444444444,
              "#bd3786"
             ],
             [
              0.5555555555555556,
              "#d8576b"
             ],
             [
              0.6666666666666666,
              "#ed7953"
             ],
             [
              0.7777777777777778,
              "#fb9f3a"
             ],
             [
              0.8888888888888888,
              "#fdca26"
             ],
             [
              1,
              "#f0f921"
             ]
            ],
            "type": "heatmap"
           }
          ],
          "heatmapgl": [
           {
            "colorbar": {
             "outlinewidth": 0,
             "ticks": ""
            },
            "colorscale": [
             [
              0,
              "#0d0887"
             ],
             [
              0.1111111111111111,
              "#46039f"
             ],
             [
              0.2222222222222222,
              "#7201a8"
             ],
             [
              0.3333333333333333,
              "#9c179e"
             ],
             [
              0.4444444444444444,
              "#bd3786"
             ],
             [
              0.5555555555555556,
              "#d8576b"
             ],
             [
              0.6666666666666666,
              "#ed7953"
             ],
             [
              0.7777777777777778,
              "#fb9f3a"
             ],
             [
              0.8888888888888888,
              "#fdca26"
             ],
             [
              1,
              "#f0f921"
             ]
            ],
            "type": "heatmapgl"
           }
          ],
          "histogram": [
           {
            "marker": {
             "colorbar": {
              "outlinewidth": 0,
              "ticks": ""
             }
            },
            "type": "histogram"
           }
          ],
          "histogram2d": [
           {
            "colorbar": {
             "outlinewidth": 0,
             "ticks": ""
            },
            "colorscale": [
             [
              0,
              "#0d0887"
             ],
             [
              0.1111111111111111,
              "#46039f"
             ],
             [
              0.2222222222222222,
              "#7201a8"
             ],
             [
              0.3333333333333333,
              "#9c179e"
             ],
             [
              0.4444444444444444,
              "#bd3786"
             ],
             [
              0.5555555555555556,
              "#d8576b"
             ],
             [
              0.6666666666666666,
              "#ed7953"
             ],
             [
              0.7777777777777778,
              "#fb9f3a"
             ],
             [
              0.8888888888888888,
              "#fdca26"
             ],
             [
              1,
              "#f0f921"
             ]
            ],
            "type": "histogram2d"
           }
          ],
          "histogram2dcontour": [
           {
            "colorbar": {
             "outlinewidth": 0,
             "ticks": ""
            },
            "colorscale": [
             [
              0,
              "#0d0887"
             ],
             [
              0.1111111111111111,
              "#46039f"
             ],
             [
              0.2222222222222222,
              "#7201a8"
             ],
             [
              0.3333333333333333,
              "#9c179e"
             ],
             [
              0.4444444444444444,
              "#bd3786"
             ],
             [
              0.5555555555555556,
              "#d8576b"
             ],
             [
              0.6666666666666666,
              "#ed7953"
             ],
             [
              0.7777777777777778,
              "#fb9f3a"
             ],
             [
              0.8888888888888888,
              "#fdca26"
             ],
             [
              1,
              "#f0f921"
             ]
            ],
            "type": "histogram2dcontour"
           }
          ],
          "mesh3d": [
           {
            "colorbar": {
             "outlinewidth": 0,
             "ticks": ""
            },
            "type": "mesh3d"
           }
          ],
          "parcoords": [
           {
            "line": {
             "colorbar": {
              "outlinewidth": 0,
              "ticks": ""
             }
            },
            "type": "parcoords"
           }
          ],
          "scatter": [
           {
            "marker": {
             "colorbar": {
              "outlinewidth": 0,
              "ticks": ""
             }
            },
            "type": "scatter"
           }
          ],
          "scatter3d": [
           {
            "line": {
             "colorbar": {
              "outlinewidth": 0,
              "ticks": ""
             }
            },
            "marker": {
             "colorbar": {
              "outlinewidth": 0,
              "ticks": ""
             }
            },
            "type": "scatter3d"
           }
          ],
          "scattercarpet": [
           {
            "marker": {
             "colorbar": {
              "outlinewidth": 0,
              "ticks": ""
             }
            },
            "type": "scattercarpet"
           }
          ],
          "scattergeo": [
           {
            "marker": {
             "colorbar": {
              "outlinewidth": 0,
              "ticks": ""
             }
            },
            "type": "scattergeo"
           }
          ],
          "scattergl": [
           {
            "marker": {
             "colorbar": {
              "outlinewidth": 0,
              "ticks": ""
             }
            },
            "type": "scattergl"
           }
          ],
          "scattermapbox": [
           {
            "marker": {
             "colorbar": {
              "outlinewidth": 0,
              "ticks": ""
             }
            },
            "type": "scattermapbox"
           }
          ],
          "scatterpolar": [
           {
            "marker": {
             "colorbar": {
              "outlinewidth": 0,
              "ticks": ""
             }
            },
            "type": "scatterpolar"
           }
          ],
          "scatterpolargl": [
           {
            "marker": {
             "colorbar": {
              "outlinewidth": 0,
              "ticks": ""
             }
            },
            "type": "scatterpolargl"
           }
          ],
          "scatterternary": [
           {
            "marker": {
             "colorbar": {
              "outlinewidth": 0,
              "ticks": ""
             }
            },
            "type": "scatterternary"
           }
          ],
          "surface": [
           {
            "colorbar": {
             "outlinewidth": 0,
             "ticks": ""
            },
            "colorscale": [
             [
              0,
              "#0d0887"
             ],
             [
              0.1111111111111111,
              "#46039f"
             ],
             [
              0.2222222222222222,
              "#7201a8"
             ],
             [
              0.3333333333333333,
              "#9c179e"
             ],
             [
              0.4444444444444444,
              "#bd3786"
             ],
             [
              0.5555555555555556,
              "#d8576b"
             ],
             [
              0.6666666666666666,
              "#ed7953"
             ],
             [
              0.7777777777777778,
              "#fb9f3a"
             ],
             [
              0.8888888888888888,
              "#fdca26"
             ],
             [
              1,
              "#f0f921"
             ]
            ],
            "type": "surface"
           }
          ],
          "table": [
           {
            "cells": {
             "fill": {
              "color": "#EBF0F8"
             },
             "line": {
              "color": "white"
             }
            },
            "header": {
             "fill": {
              "color": "#C8D4E3"
             },
             "line": {
              "color": "white"
             }
            },
            "type": "table"
           }
          ]
         },
         "layout": {
          "annotationdefaults": {
           "arrowcolor": "#2a3f5f",
           "arrowhead": 0,
           "arrowwidth": 1
          },
          "colorscale": {
           "diverging": [
            [
             0,
             "#8e0152"
            ],
            [
             0.1,
             "#c51b7d"
            ],
            [
             0.2,
             "#de77ae"
            ],
            [
             0.3,
             "#f1b6da"
            ],
            [
             0.4,
             "#fde0ef"
            ],
            [
             0.5,
             "#f7f7f7"
            ],
            [
             0.6,
             "#e6f5d0"
            ],
            [
             0.7,
             "#b8e186"
            ],
            [
             0.8,
             "#7fbc41"
            ],
            [
             0.9,
             "#4d9221"
            ],
            [
             1,
             "#276419"
            ]
           ],
           "sequential": [
            [
             0,
             "#0d0887"
            ],
            [
             0.1111111111111111,
             "#46039f"
            ],
            [
             0.2222222222222222,
             "#7201a8"
            ],
            [
             0.3333333333333333,
             "#9c179e"
            ],
            [
             0.4444444444444444,
             "#bd3786"
            ],
            [
             0.5555555555555556,
             "#d8576b"
            ],
            [
             0.6666666666666666,
             "#ed7953"
            ],
            [
             0.7777777777777778,
             "#fb9f3a"
            ],
            [
             0.8888888888888888,
             "#fdca26"
            ],
            [
             1,
             "#f0f921"
            ]
           ],
           "sequentialminus": [
            [
             0,
             "#0d0887"
            ],
            [
             0.1111111111111111,
             "#46039f"
            ],
            [
             0.2222222222222222,
             "#7201a8"
            ],
            [
             0.3333333333333333,
             "#9c179e"
            ],
            [
             0.4444444444444444,
             "#bd3786"
            ],
            [
             0.5555555555555556,
             "#d8576b"
            ],
            [
             0.6666666666666666,
             "#ed7953"
            ],
            [
             0.7777777777777778,
             "#fb9f3a"
            ],
            [
             0.8888888888888888,
             "#fdca26"
            ],
            [
             1,
             "#f0f921"
            ]
           ]
          },
          "colorway": [
           "#636efa",
           "#EF553B",
           "#00cc96",
           "#ab63fa",
           "#FFA15A",
           "#19d3f3",
           "#FF6692",
           "#B6E880",
           "#FF97FF",
           "#FECB52"
          ],
          "font": {
           "color": "#2a3f5f"
          },
          "geo": {
           "bgcolor": "white",
           "lakecolor": "white",
           "landcolor": "#E5ECF6",
           "showlakes": true,
           "showland": true,
           "subunitcolor": "white"
          },
          "hoverlabel": {
           "align": "left"
          },
          "hovermode": "closest",
          "mapbox": {
           "style": "light"
          },
          "paper_bgcolor": "white",
          "plot_bgcolor": "#E5ECF6",
          "polar": {
           "angularaxis": {
            "gridcolor": "white",
            "linecolor": "white",
            "ticks": ""
           },
           "bgcolor": "#E5ECF6",
           "radialaxis": {
            "gridcolor": "white",
            "linecolor": "white",
            "ticks": ""
           }
          },
          "scene": {
           "xaxis": {
            "backgroundcolor": "#E5ECF6",
            "gridcolor": "white",
            "gridwidth": 2,
            "linecolor": "white",
            "showbackground": true,
            "ticks": "",
            "zerolinecolor": "white"
           },
           "yaxis": {
            "backgroundcolor": "#E5ECF6",
            "gridcolor": "white",
            "gridwidth": 2,
            "linecolor": "white",
            "showbackground": true,
            "ticks": "",
            "zerolinecolor": "white"
           },
           "zaxis": {
            "backgroundcolor": "#E5ECF6",
            "gridcolor": "white",
            "gridwidth": 2,
            "linecolor": "white",
            "showbackground": true,
            "ticks": "",
            "zerolinecolor": "white"
           }
          },
          "shapedefaults": {
           "line": {
            "color": "#2a3f5f"
           }
          },
          "ternary": {
           "aaxis": {
            "gridcolor": "white",
            "linecolor": "white",
            "ticks": ""
           },
           "baxis": {
            "gridcolor": "white",
            "linecolor": "white",
            "ticks": ""
           },
           "bgcolor": "#E5ECF6",
           "caxis": {
            "gridcolor": "white",
            "linecolor": "white",
            "ticks": ""
           }
          },
          "title": {
           "x": 0.05
          },
          "xaxis": {
           "automargin": true,
           "gridcolor": "white",
           "linecolor": "white",
           "ticks": "",
           "zerolinecolor": "white",
           "zerolinewidth": 2
          },
          "yaxis": {
           "automargin": true,
           "gridcolor": "white",
           "linecolor": "white",
           "ticks": "",
           "zerolinecolor": "white",
           "zerolinewidth": 2
          }
         }
        },
        "xaxis": {
         "anchor": "y",
         "domain": [
          0,
          0.45
         ]
        },
        "yaxis": {
         "anchor": "x",
         "domain": [
          0,
          1
         ]
        }
       }
      },
      "text/html": [
       "<div>\n",
       "        \n",
       "        \n",
       "            <div id=\"32eb8259-9a25-4ba4-8b21-dd4b8fd3d36a\" class=\"plotly-graph-div\" style=\"height:525px; width:100%;\"></div>\n",
       "            <script type=\"text/javascript\">\n",
       "                require([\"plotly\"], function(Plotly) {\n",
       "                    window.PLOTLYENV=window.PLOTLYENV || {};\n",
       "                    \n",
       "                if (document.getElementById(\"32eb8259-9a25-4ba4-8b21-dd4b8fd3d36a\")) {\n",
       "                    Plotly.newPlot(\n",
       "                        '32eb8259-9a25-4ba4-8b21-dd4b8fd3d36a',\n",
       "                        [{\"name\": \"Irrelevantes\", \"type\": \"bar\", \"xaxis\": \"x\", \"y\": [186], \"yaxis\": \"y\"}, {\"name\": \"Relevantes\", \"type\": \"bar\", \"xaxis\": \"x\", \"y\": [85], \"yaxis\": \"y\"}, {\"name\": \"Neutros\", \"type\": \"bar\", \"xaxis\": \"x\", \"y\": [29], \"yaxis\": \"y\"}],\n",
       "                        {\"scene\": {\"domain\": {\"x\": [0.55, 1.0], \"y\": [0.0, 1.0]}}, \"showlegend\": true, \"template\": {\"data\": {\"bar\": [{\"error_x\": {\"color\": \"#2a3f5f\"}, \"error_y\": {\"color\": \"#2a3f5f\"}, \"marker\": {\"line\": {\"color\": \"#E5ECF6\", \"width\": 0.5}}, \"type\": \"bar\"}], \"barpolar\": [{\"marker\": {\"line\": {\"color\": \"#E5ECF6\", \"width\": 0.5}}, \"type\": \"barpolar\"}], \"carpet\": [{\"aaxis\": {\"endlinecolor\": \"#2a3f5f\", \"gridcolor\": \"white\", \"linecolor\": \"white\", \"minorgridcolor\": \"white\", \"startlinecolor\": \"#2a3f5f\"}, \"baxis\": {\"endlinecolor\": \"#2a3f5f\", \"gridcolor\": \"white\", \"linecolor\": \"white\", \"minorgridcolor\": \"white\", \"startlinecolor\": \"#2a3f5f\"}, \"type\": \"carpet\"}], \"choropleth\": [{\"colorbar\": {\"outlinewidth\": 0, \"ticks\": \"\"}, \"type\": \"choropleth\"}], \"contour\": [{\"colorbar\": {\"outlinewidth\": 0, \"ticks\": \"\"}, \"colorscale\": [[0.0, \"#0d0887\"], [0.1111111111111111, \"#46039f\"], [0.2222222222222222, \"#7201a8\"], [0.3333333333333333, \"#9c179e\"], [0.4444444444444444, \"#bd3786\"], [0.5555555555555556, \"#d8576b\"], [0.6666666666666666, \"#ed7953\"], [0.7777777777777778, \"#fb9f3a\"], [0.8888888888888888, \"#fdca26\"], [1.0, \"#f0f921\"]], \"type\": \"contour\"}], \"contourcarpet\": [{\"colorbar\": {\"outlinewidth\": 0, \"ticks\": \"\"}, \"type\": \"contourcarpet\"}], \"heatmap\": [{\"colorbar\": {\"outlinewidth\": 0, \"ticks\": \"\"}, \"colorscale\": [[0.0, \"#0d0887\"], [0.1111111111111111, \"#46039f\"], [0.2222222222222222, \"#7201a8\"], [0.3333333333333333, \"#9c179e\"], [0.4444444444444444, \"#bd3786\"], [0.5555555555555556, \"#d8576b\"], [0.6666666666666666, \"#ed7953\"], [0.7777777777777778, \"#fb9f3a\"], [0.8888888888888888, \"#fdca26\"], [1.0, \"#f0f921\"]], \"type\": \"heatmap\"}], \"heatmapgl\": [{\"colorbar\": {\"outlinewidth\": 0, \"ticks\": \"\"}, \"colorscale\": [[0.0, \"#0d0887\"], [0.1111111111111111, \"#46039f\"], [0.2222222222222222, \"#7201a8\"], [0.3333333333333333, \"#9c179e\"], [0.4444444444444444, \"#bd3786\"], [0.5555555555555556, \"#d8576b\"], [0.6666666666666666, \"#ed7953\"], [0.7777777777777778, \"#fb9f3a\"], [0.8888888888888888, \"#fdca26\"], [1.0, \"#f0f921\"]], \"type\": \"heatmapgl\"}], \"histogram\": [{\"marker\": {\"colorbar\": {\"outlinewidth\": 0, \"ticks\": \"\"}}, \"type\": \"histogram\"}], \"histogram2d\": [{\"colorbar\": {\"outlinewidth\": 0, \"ticks\": \"\"}, \"colorscale\": [[0.0, \"#0d0887\"], [0.1111111111111111, \"#46039f\"], [0.2222222222222222, \"#7201a8\"], [0.3333333333333333, \"#9c179e\"], [0.4444444444444444, \"#bd3786\"], [0.5555555555555556, \"#d8576b\"], [0.6666666666666666, \"#ed7953\"], [0.7777777777777778, \"#fb9f3a\"], [0.8888888888888888, \"#fdca26\"], [1.0, \"#f0f921\"]], \"type\": \"histogram2d\"}], \"histogram2dcontour\": [{\"colorbar\": {\"outlinewidth\": 0, \"ticks\": \"\"}, \"colorscale\": [[0.0, \"#0d0887\"], [0.1111111111111111, \"#46039f\"], [0.2222222222222222, \"#7201a8\"], [0.3333333333333333, \"#9c179e\"], [0.4444444444444444, \"#bd3786\"], [0.5555555555555556, \"#d8576b\"], [0.6666666666666666, \"#ed7953\"], [0.7777777777777778, \"#fb9f3a\"], [0.8888888888888888, \"#fdca26\"], [1.0, \"#f0f921\"]], \"type\": \"histogram2dcontour\"}], \"mesh3d\": [{\"colorbar\": {\"outlinewidth\": 0, \"ticks\": \"\"}, \"type\": \"mesh3d\"}], \"parcoords\": [{\"line\": {\"colorbar\": {\"outlinewidth\": 0, \"ticks\": \"\"}}, \"type\": \"parcoords\"}], \"scatter\": [{\"marker\": {\"colorbar\": {\"outlinewidth\": 0, \"ticks\": \"\"}}, \"type\": \"scatter\"}], \"scatter3d\": [{\"line\": {\"colorbar\": {\"outlinewidth\": 0, \"ticks\": \"\"}}, \"marker\": {\"colorbar\": {\"outlinewidth\": 0, \"ticks\": \"\"}}, \"type\": \"scatter3d\"}], \"scattercarpet\": [{\"marker\": {\"colorbar\": {\"outlinewidth\": 0, \"ticks\": \"\"}}, \"type\": \"scattercarpet\"}], \"scattergeo\": [{\"marker\": {\"colorbar\": {\"outlinewidth\": 0, \"ticks\": \"\"}}, \"type\": \"scattergeo\"}], \"scattergl\": [{\"marker\": {\"colorbar\": {\"outlinewidth\": 0, \"ticks\": \"\"}}, \"type\": \"scattergl\"}], \"scattermapbox\": [{\"marker\": {\"colorbar\": {\"outlinewidth\": 0, \"ticks\": \"\"}}, \"type\": \"scattermapbox\"}], \"scatterpolar\": [{\"marker\": {\"colorbar\": {\"outlinewidth\": 0, \"ticks\": \"\"}}, \"type\": \"scatterpolar\"}], \"scatterpolargl\": [{\"marker\": {\"colorbar\": {\"outlinewidth\": 0, \"ticks\": \"\"}}, \"type\": \"scatterpolargl\"}], \"scatterternary\": [{\"marker\": {\"colorbar\": {\"outlinewidth\": 0, \"ticks\": \"\"}}, \"type\": \"scatterternary\"}], \"surface\": [{\"colorbar\": {\"outlinewidth\": 0, \"ticks\": \"\"}, \"colorscale\": [[0.0, \"#0d0887\"], [0.1111111111111111, \"#46039f\"], [0.2222222222222222, \"#7201a8\"], [0.3333333333333333, \"#9c179e\"], [0.4444444444444444, \"#bd3786\"], [0.5555555555555556, \"#d8576b\"], [0.6666666666666666, \"#ed7953\"], [0.7777777777777778, \"#fb9f3a\"], [0.8888888888888888, \"#fdca26\"], [1.0, \"#f0f921\"]], \"type\": \"surface\"}], \"table\": [{\"cells\": {\"fill\": {\"color\": \"#EBF0F8\"}, \"line\": {\"color\": \"white\"}}, \"header\": {\"fill\": {\"color\": \"#C8D4E3\"}, \"line\": {\"color\": \"white\"}}, \"type\": \"table\"}]}, \"layout\": {\"annotationdefaults\": {\"arrowcolor\": \"#2a3f5f\", \"arrowhead\": 0, \"arrowwidth\": 1}, \"colorscale\": {\"diverging\": [[0, \"#8e0152\"], [0.1, \"#c51b7d\"], [0.2, \"#de77ae\"], [0.3, \"#f1b6da\"], [0.4, \"#fde0ef\"], [0.5, \"#f7f7f7\"], [0.6, \"#e6f5d0\"], [0.7, \"#b8e186\"], [0.8, \"#7fbc41\"], [0.9, \"#4d9221\"], [1, \"#276419\"]], \"sequential\": [[0.0, \"#0d0887\"], [0.1111111111111111, \"#46039f\"], [0.2222222222222222, \"#7201a8\"], [0.3333333333333333, \"#9c179e\"], [0.4444444444444444, \"#bd3786\"], [0.5555555555555556, \"#d8576b\"], [0.6666666666666666, \"#ed7953\"], [0.7777777777777778, \"#fb9f3a\"], [0.8888888888888888, \"#fdca26\"], [1.0, \"#f0f921\"]], \"sequentialminus\": [[0.0, \"#0d0887\"], [0.1111111111111111, \"#46039f\"], [0.2222222222222222, \"#7201a8\"], [0.3333333333333333, \"#9c179e\"], [0.4444444444444444, \"#bd3786\"], [0.5555555555555556, \"#d8576b\"], [0.6666666666666666, \"#ed7953\"], [0.7777777777777778, \"#fb9f3a\"], [0.8888888888888888, \"#fdca26\"], [1.0, \"#f0f921\"]]}, \"colorway\": [\"#636efa\", \"#EF553B\", \"#00cc96\", \"#ab63fa\", \"#FFA15A\", \"#19d3f3\", \"#FF6692\", \"#B6E880\", \"#FF97FF\", \"#FECB52\"], \"font\": {\"color\": \"#2a3f5f\"}, \"geo\": {\"bgcolor\": \"white\", \"lakecolor\": \"white\", \"landcolor\": \"#E5ECF6\", \"showlakes\": true, \"showland\": true, \"subunitcolor\": \"white\"}, \"hoverlabel\": {\"align\": \"left\"}, \"hovermode\": \"closest\", \"mapbox\": {\"style\": \"light\"}, \"paper_bgcolor\": \"white\", \"plot_bgcolor\": \"#E5ECF6\", \"polar\": {\"angularaxis\": {\"gridcolor\": \"white\", \"linecolor\": \"white\", \"ticks\": \"\"}, \"bgcolor\": \"#E5ECF6\", \"radialaxis\": {\"gridcolor\": \"white\", \"linecolor\": \"white\", \"ticks\": \"\"}}, \"scene\": {\"xaxis\": {\"backgroundcolor\": \"#E5ECF6\", \"gridcolor\": \"white\", \"gridwidth\": 2, \"linecolor\": \"white\", \"showbackground\": true, \"ticks\": \"\", \"zerolinecolor\": \"white\"}, \"yaxis\": {\"backgroundcolor\": \"#E5ECF6\", \"gridcolor\": \"white\", \"gridwidth\": 2, \"linecolor\": \"white\", \"showbackground\": true, \"ticks\": \"\", \"zerolinecolor\": \"white\"}, \"zaxis\": {\"backgroundcolor\": \"#E5ECF6\", \"gridcolor\": \"white\", \"gridwidth\": 2, \"linecolor\": \"white\", \"showbackground\": true, \"ticks\": \"\", \"zerolinecolor\": \"white\"}}, \"shapedefaults\": {\"line\": {\"color\": \"#2a3f5f\"}}, \"ternary\": {\"aaxis\": {\"gridcolor\": \"white\", \"linecolor\": \"white\", \"ticks\": \"\"}, \"baxis\": {\"gridcolor\": \"white\", \"linecolor\": \"white\", \"ticks\": \"\"}, \"bgcolor\": \"#E5ECF6\", \"caxis\": {\"gridcolor\": \"white\", \"linecolor\": \"white\", \"ticks\": \"\"}}, \"title\": {\"x\": 0.05}, \"xaxis\": {\"automargin\": true, \"gridcolor\": \"white\", \"linecolor\": \"white\", \"ticks\": \"\", \"zerolinecolor\": \"white\", \"zerolinewidth\": 2}, \"yaxis\": {\"automargin\": true, \"gridcolor\": \"white\", \"linecolor\": \"white\", \"ticks\": \"\", \"zerolinecolor\": \"white\", \"zerolinewidth\": 2}}}, \"xaxis\": {\"anchor\": \"y\", \"domain\": [0.0, 0.45]}, \"yaxis\": {\"anchor\": \"x\", \"domain\": [0.0, 1.0]}},\n",
       "                        {\"responsive\": true}\n",
       "                    ).then(function(){\n",
       "                            \n",
       "var gd = document.getElementById('32eb8259-9a25-4ba4-8b21-dd4b8fd3d36a');\n",
       "var x = new MutationObserver(function (mutations, observer) {{\n",
       "        var display = window.getComputedStyle(gd).display;\n",
       "        if (!display || display === 'none') {{\n",
       "            console.log([gd, 'removed!']);\n",
       "            Plotly.purge(gd);\n",
       "            observer.disconnect();\n",
       "        }}\n",
       "}});\n",
       "\n",
       "// Listen for the removal of the full notebook cells\n",
       "var notebookContainer = gd.closest('#notebook-container');\n",
       "if (notebookContainer) {{\n",
       "    x.observe(notebookContainer, {childList: true});\n",
       "}}\n",
       "\n",
       "// Listen for the clearing of the current output cell\n",
       "var outputEl = gd.closest('.output');\n",
       "if (outputEl) {{\n",
       "    x.observe(outputEl, {childList: true});\n",
       "}}\n",
       "\n",
       "                        })\n",
       "                };\n",
       "                });\n",
       "            </script>\n",
       "        </div>"
      ]
     },
     "metadata": {},
     "output_type": "display_data"
    }
   ],
   "source": [
    "import plotly.graph_objects as go\n",
    "from plotly.subplots import make_subplots\n",
    "import pandas as pd\n",
    "def plotar(lista_relevantes_testados,lista_irrelevantes_testados,lista_neutros_testados):\n",
    "    fig = make_subplots(rows=1, cols=2, specs=[[{\"type\": \"bar\"},\n",
    "                                            {\"type\": \"surface\"}]])\n",
    "    fig.add_trace(go.Bar(y=[lista_irrelevantes_testados],name=\"Irrelevantes\"), row=1, col=1)\n",
    "    fig.add_trace(go.Bar(y=[lista_relevantes_testados],name=\"Relevantes\"), row=1, col=1)\n",
    "    fig.add_trace(go.Bar(y=[lista_neutros_testados],name=\"Neutros\"), row=1, col=1)\n",
    "    fig.update_layout(showlegend=True)\n",
    "    fig.show()\n",
    "plotar(lista_relevantes_testados,lista_irrelevantes_testados,lista_neutros_testados)"
   ]
  },
  {
   "cell_type": "raw",
   "metadata": {},
   "source": [
    "#Loop\n",
    "import time\n",
    "def loop():\n",
    "    contador=0\n",
    "    timer=True\n",
    "    while timer:\n",
    "        with open('auth.pass') as fp:    \n",
    "            data = json.load(fp)\n",
    "        auth = tweepy.OAuthHandler(data['consumer_key'], data['consumer_secret'])\n",
    "        auth.set_access_token(data['access_token'], data['access_token_secret'])\n",
    "        produto = 'Netflix'\n",
    "        n = 350\n",
    "        t = 250\n",
    "        lang = 'pt'\n",
    "        api = tweepy.API(auth)\n",
    "        i = 1\n",
    "        msgs = []\n",
    "        for msg in tweepy.Cursor(api.search, q=produto, lang=lang, tweet_mode='extended').items():  \n",
    "            if (not msg.retweeted) and ('RT' not in msg.full_text): \n",
    "                msgs.append(msg.full_text.lower())\n",
    "                i += 1\n",
    "            if i > n:\n",
    "                break\n",
    "        shuffle(msgs)\n",
    "        if not os.path.isfile('./{0}.xlsx'.format(produto)):\n",
    "\n",
    "            #Abre o arquivo para escrita\n",
    "            arquivo='{0}'.format(produto)+str(contador)+'.xlsx'\n",
    "            writer = pd.ExcelWriter(arquivo)\n",
    "            #divide o conjunto de mensagens em duas planilhas\n",
    "            dft = pd.DataFrame({'Teste' : pd.Series(msgs[:t])})\n",
    "            dft.to_excel(excel_writer = writer, sheet_name = 'Treinamento', index = False)\n",
    "            #fecha o arquivo\n",
    "            writer.save()\n",
    "        pl=pd.read_excel(arquivo)\n",
    "        data_clean=[]\n",
    "        for i in data_indexado.index:\n",
    "            c= cleanup(i.lower())\n",
    "            data_clean.append(c)\n",
    "        lista_values=classificar(data_clean)\n",
    "        lista_neutros_testados=0\n",
    "        lista_relevantes_testados=0\n",
    "        lista_irrelevantes_testados=0\n",
    "        for j in lista_values.values():\n",
    "            if j==0:\n",
    "                lista_irrelevantes_testados+=1\n",
    "            elif j==1:\n",
    "                lista_relevantes_testados+=1\n",
    "            else:\n",
    "                lista_neutros_testados+=1\n",
    "        plotar(lista_relevantes_testados,lista_irrelevantes_testados,lista_neutros_testados)\n",
    "        contador+=1\n",
    "        time.sleep(300)\n",
    "        if contador>4:\n",
    "            timer=False\n",
    "\n",
    "loop()"
   ]
  },
  {
   "cell_type": "code",
   "execution_count": 249,
   "metadata": {},
   "outputs": [
    {
     "name": "stdout",
     "output_type": "stream",
     "text": [
      "Help on built-in function sleep in module time:\n",
      "\n",
      "sleep(...)\n",
      "    sleep(seconds)\n",
      "    \n",
      "    Delay execution for a given number of seconds.  The argument may be\n",
      "    a floating point number for subsecond precision.\n",
      "\n"
     ]
    }
   ],
   "source": [
    "import time\n",
    "\n",
    "help(time.sleep)"
   ]
  },
  {
   "cell_type": "markdown",
   "metadata": {},
   "source": [
    "___\n",
    "### Verificando a performance\n",
    "\n",
    "Agora você deve testar o seu classificador com a base de Testes."
   ]
  },
  {
   "cell_type": "code",
   "execution_count": null,
   "metadata": {},
   "outputs": [],
   "source": []
  },
  {
   "cell_type": "code",
   "execution_count": null,
   "metadata": {},
   "outputs": [],
   "source": []
  },
  {
   "cell_type": "code",
   "execution_count": null,
   "metadata": {},
   "outputs": [],
   "source": []
  },
  {
   "cell_type": "markdown",
   "metadata": {},
   "source": [
    "___\n",
    "### Concluindo"
   ]
  },
  {
   "cell_type": "code",
   "execution_count": null,
   "metadata": {},
   "outputs": [],
   "source": []
  },
  {
   "cell_type": "code",
   "execution_count": null,
   "metadata": {},
   "outputs": [],
   "source": []
  },
  {
   "cell_type": "markdown",
   "metadata": {},
   "source": [
    "## Aperfeiçoamento:\n",
    "\n",
    "Os trabalhos vão evoluir em conceito dependendo da quantidade de itens avançados:\n",
    "\n",
    "* Limpar: \\n, :, \", ', (, ), etc SEM remover emojis\n",
    "* Corrigir separação de espaços entre palavras e emojis ou emojis e emojis\n",
    "* Propor outras limpezas e transformações que não afetem a qualidade da informação ou classificação\n",
    "* Criar categorias intermediárias de relevância baseadas na probabilidade: ex.: muito relevante, relevante, neutro, irrelevante, muito irrelevante (3 categorias: C, mais categorias conta para B)\n",
    "* Explicar por que não posso usar o próprio classificador para gerar mais amostras de treinamento\n",
    "* Propor diferentes cenários para Naïve Bayes fora do contexto do projeto\n",
    "* Sugerir e explicar melhorias reais com indicações concretas de como implementar (indicar como fazer e indicar material de pesquisa)\n",
    "* Montar um dashboard que periodicamente realiza análise de sentimento e visualiza estes dados"
   ]
  },
  {
   "cell_type": "markdown",
   "metadata": {},
   "source": [
    "# Referências"
   ]
  },
  {
   "cell_type": "markdown",
   "metadata": {},
   "source": [
    "[Naive Bayes and Text Classification](https://arxiv.org/pdf/1410.5329.pdf)  **Mais completo**\n",
    "\n",
    "[A practical explanation of a Naive Bayes Classifier](https://monkeylearn.com/blog/practical-explanation-naive-bayes-classifier/) **Mais simples**"
   ]
  },
  {
   "cell_type": "code",
   "execution_count": null,
   "metadata": {},
   "outputs": [],
   "source": []
  }
 ],
 "metadata": {
  "kernelspec": {
   "display_name": "Python 3",
   "language": "python",
   "name": "python3"
  },
  "language_info": {
   "codemirror_mode": {
    "name": "ipython",
    "version": 3
   },
   "file_extension": ".py",
   "mimetype": "text/x-python",
   "name": "python",
   "nbconvert_exporter": "python",
   "pygments_lexer": "ipython3",
   "version": "3.7.1"
  }
 },
 "nbformat": 4,
 "nbformat_minor": 4
}
